{
 "cells": [
  {
   "cell_type": "markdown",
   "metadata": {},
   "source": [
    "This is a simple example for showing the usage of state vector, observable, and density matrix."
   ]
  },
  {
   "cell_type": "code",
   "execution_count": 1,
   "metadata": {},
   "outputs": [],
   "source": [
    "import numpy as np\n",
    "import matplotlib.pyplot as plt\n",
    "\n",
    "from qulacs import Observable, QuantumState, DensityMatrix\n",
    "#from qulacs.gate import H\n",
    "#from qulacsvis import circuit_drawer\n",
    "from qulacs.gate import DenseMatrix\n",
    "\n",
    "from utility import *"
   ]
  },
  {
   "cell_type": "code",
   "execution_count": 2,
   "metadata": {},
   "outputs": [
    {
     "name": "stdout",
     "output_type": "stream",
     "text": [
      "[0.5+0.j 0.5+0.j 0.5+0.j 0.5+0.j]\n"
     ]
    }
   ],
   "source": [
    "nqubits = 2\n",
    "state = QuantumState(nqubits)\n",
    "#state.set_computational_basis(0b110)\n",
    "#for i in range(nqubits):\n",
    "#    H(i).update_quantum_state(state)\n",
    "\n",
    "my_vector = [ 0.5 for i in range(2**nqubits)]\n",
    "state.load(my_vector)\n",
    "\n",
    "print(state.get_vector())"
   ]
  },
  {
   "cell_type": "code",
   "execution_count": 3,
   "metadata": {},
   "outputs": [
    {
     "data": {
      "image/png": "[encoded data removed]",
      "text/plain": [
       "<Figure size 640x480 with 1 Axes>"
      ]
     },
     "metadata": {},
     "output_type": "display_data"
    }
   ],
   "source": [
    "show_distribution(state)"
   ]
  },
  {
   "cell_type": "code",
   "execution_count": 4,
   "metadata": {},
   "outputs": [],
   "source": [
    "XX_matrix = np.array([[0, 0, 0, 1], \n",
    "                      [0, 0, 1, 0],\n",
    "                      [0, 1, 0, 0],\n",
    "                      [1, 0, 0, 0]])\n",
    "\n",
    "ZZ_matrix = np.array([[1, 0, 0, 0], \n",
    "                      [0, -1, 0, 0],\n",
    "                      [0, 0, 1, 0],\n",
    "                      [0, 0, 0, -1]])\n",
    "\n",
    "YY_matrix = np.array([[0, 0, 0, -1], \n",
    "                      [0, 0, 1, 0],\n",
    "                      [0, 1, 0, 0],\n",
    "                      [-1, 0, 0, 0]])"
   ]
  },
  {
   "cell_type": "code",
   "execution_count": 5,
   "metadata": {},
   "outputs": [
    {
     "name": "stdout",
     "output_type": "stream",
     "text": [
      "(1+0j)\n",
      "0j\n",
      "0j\n"
     ]
    }
   ],
   "source": [
    "my_vector = state.get_vector()\n",
    "exp = my_vector @ XX_matrix @ my_vector.T\n",
    "print(exp)\n",
    "exp_ZZ = my_vector @ ZZ_matrix @ my_vector.T\n",
    "print(exp_ZZ)\n",
    "exp_YY = my_vector @ YY_matrix @ my_vector.T\n",
    "print(exp_YY)"
   ]
  },
  {
   "cell_type": "code",
   "execution_count": 6,
   "metadata": {},
   "outputs": [
    {
     "name": "stdout",
     "output_type": "stream",
     "text": [
      "(1+0j) X0 X1\n"
     ]
    }
   ],
   "source": [
    "measurement = Observable(nqubits)\n",
    "measurement.add_operator(1.0,\"X 0 X 1\")\n",
    "show_observable(measurement)"
   ]
  },
  {
   "cell_type": "code",
   "execution_count": 7,
   "metadata": {},
   "outputs": [
    {
     "data": {
      "text/plain": [
       "1.0"
      ]
     },
     "execution_count": 7,
     "metadata": {},
     "output_type": "execute_result"
    }
   ],
   "source": [
    "measurement.get_expectation_value(state)"
   ]
  },
  {
   "cell_type": "code",
   "execution_count": 8,
   "metadata": {},
   "outputs": [
    {
     "name": "stdout",
     "output_type": "stream",
     "text": [
      "(1+0j) Z0 Z1\n"
     ]
    }
   ],
   "source": [
    "measurement_ZZ = Observable(nqubits)\n",
    "measurement_ZZ.add_operator(1.0,\"Z 0 Z 1\")\n",
    "show_observable(measurement_ZZ)"
   ]
  },
  {
   "cell_type": "code",
   "execution_count": 9,
   "metadata": {},
   "outputs": [
    {
     "data": {
      "text/plain": [
       "0.0"
      ]
     },
     "execution_count": 9,
     "metadata": {},
     "output_type": "execute_result"
    }
   ],
   "source": [
    "measurement_ZZ.get_expectation_value(state)"
   ]
  },
  {
   "cell_type": "code",
   "execution_count": 10,
   "metadata": {},
   "outputs": [
    {
     "name": "stdout",
     "output_type": "stream",
     "text": [
      "(1+0j) Y0 Y1\n"
     ]
    }
   ],
   "source": [
    "measurement_YY = Observable(nqubits)\n",
    "measurement_YY.add_operator(1.0,\"Y 0 Y 1\")\n",
    "show_observable(measurement_YY)"
   ]
  },
  {
   "cell_type": "code",
   "execution_count": 11,
   "metadata": {},
   "outputs": [
    {
     "data": {
      "text/plain": [
       "0.0"
      ]
     },
     "execution_count": 11,
     "metadata": {},
     "output_type": "execute_result"
    }
   ],
   "source": [
    "measurement_YY.get_expectation_value(state)"
   ]
  },
  {
   "cell_type": "code",
   "execution_count": 12,
   "metadata": {},
   "outputs": [
    {
     "name": "stdout",
     "output_type": "stream",
     "text": [
      " *** Density Matrix ***\n",
      " * Qubit Count : 2\n",
      " * Dimension   : 4\n",
      " * Density matrix : \n",
      "(1,0) (0,0) (0,0) (0,0)\n",
      "(0,0) (0,0) (0,0) (0,0)\n",
      "(0,0) (0,0) (0,0) (0,0)\n",
      "(0,0) (0,0) (0,0) (0,0)\n",
      "\n"
     ]
    }
   ],
   "source": [
    "density_matrix = DensityMatrix(nqubits)\n",
    "print(density_matrix)"
   ]
  },
  {
   "cell_type": "code",
   "execution_count": 13,
   "metadata": {},
   "outputs": [],
   "source": [
    "psi_matrix = 0.25*np.array([[1, 1, 1, 1], \n",
    "                            [1, 1, 1, 1],\n",
    "                            [1, 1, 1, 1],\n",
    "                            [1, 1, 1, 1]])"
   ]
  },
  {
   "cell_type": "code",
   "execution_count": 14,
   "metadata": {},
   "outputs": [
    {
     "name": "stdout",
     "output_type": "stream",
     "text": [
      " *** Density Matrix ***\n",
      " * Qubit Count : 2\n",
      " * Dimension   : 4\n",
      " * Density matrix : \n",
      "(0.25,0) (0.25,0) (0.25,0) (0.25,0)\n",
      "(0.25,0) (0.25,0) (0.25,0) (0.25,0)\n",
      "(0.25,0) (0.25,0) (0.25,0) (0.25,0)\n",
      "(0.25,0) (0.25,0) (0.25,0) (0.25,0)\n",
      "\n"
     ]
    }
   ],
   "source": [
    "density_matrix.load(psi_matrix)\n",
    "print(density_matrix)"
   ]
  },
  {
   "cell_type": "code",
   "execution_count": 15,
   "metadata": {},
   "outputs": [
    {
     "name": "stdout",
     "output_type": "stream",
     "text": [
      "1.0\n"
     ]
    }
   ],
   "source": [
    "exp_den = measurement.get_expectation_value(density_matrix)\n",
    "print(exp_den)"
   ]
  },
  {
   "cell_type": "code",
   "execution_count": 16,
   "metadata": {},
   "outputs": [
    {
     "name": "stdout",
     "output_type": "stream",
     "text": [
      "0.0\n"
     ]
    }
   ],
   "source": [
    "exp_den_ZZ = measurement_ZZ.get_expectation_value(density_matrix)\n",
    "print(exp_den_ZZ)"
   ]
  },
  {
   "cell_type": "code",
   "execution_count": 17,
   "metadata": {},
   "outputs": [
    {
     "name": "stdout",
     "output_type": "stream",
     "text": [
      "0.0\n"
     ]
    }
   ],
   "source": [
    "exp_den_YY = measurement_YY.get_expectation_value(density_matrix)\n",
    "print(exp_den_YY)"
   ]
  }
 ],
 "metadata": {
  "kernelspec": {
   "display_name": "Python 3.10.7 64-bit",
   "language": "python",
   "name": "python3"
  },
  "language_info": {
   "codemirror_mode": {
    "name": "ipython",
    "version": 3
   },
   "file_extension": ".py",
   "mimetype": "text/x-python",
   "name": "python",
   "nbconvert_exporter": "python",
   "pygments_lexer": "ipython3",
   "version": "3.10.7"
  },
  "orig_nbformat": 4,
  "vscode": {
   "interpreter": {
    "hash": "aee8b7b246df8f9039afb4144a1f6fd8d2ca17a180786b69acc140d282b71a49"
   }
  }
 },
 "nbformat": 4,
 "nbformat_minor": 2
}
