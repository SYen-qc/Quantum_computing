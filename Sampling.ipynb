{
 "cells": [
  {
   "cell_type": "markdown",
   "metadata": {},
   "source": [
    "ここでは1次元ハイゼンベルグ模型\n",
    "$$H = \\sum_{i} J_{i} (X_iX_{i+1} + Y_iY_{1+1} + Z_iZ_{i+1})$$\n",
    "を考える\n",
    "\n",
    "エネルギー期待値は \n",
    "$$\\langle H \\rangle = \\langle H_{XX} \\rangle + \\langle H_{YY} \\rangle + \\langle H_{ZZ} \\rangle $$\n",
    "で求められます。"
   ]
  },
  {
   "cell_type": "markdown",
   "metadata": {},
   "source": [
    "For simplicity, we consider only two sites and set $J_{1,2} = 0.5$. The Hamiltonian is now given by\n",
    "$$H = \\frac{1}{2} (X_1 X_2 + X_2 X_1 + Y_1 Y_2 + Y_2 Y_1 + Z_1 Z_2 + Z_2 Z_1)$$"
   ]
  },
  {
   "cell_type": "markdown",
   "metadata": {},
   "source": [
    "Since we do the sampling in the Z basis, we need to be careful in the case of $XX$ and $YY$.\n",
    "\n",
    "For example,\n",
    "$$\\bra{\\psi}X_1 X_2\\ket{\\psi} = \\bra{\\psi}H_1 Z_1 H_1 H_2 Z_2 H_2\\ket{\\psi} = \\bra{\\psi}H_1 H_2 Z_1 Z_2 H_1 H_2\\ket{\\psi} = \\bra{\\psi^{\\prime}}Z_1 Z_2\\ket{\\psi^{\\prime}}$$\n",
    "\n",
    "This means that for the sampling of $XX$, we need to first transform the state $\\ket{\\psi}$ into $\\Pi_{i} H_i \\ket{\\psi}$.\n",
    "\n",
    "We will use a uniformly distributed state\n",
    "$$\\ket{\\psi} = \\frac{1}{2} (\\ket{00}+ \\ket{01} + \\ket{10} + \\ket{11})$$\n",
    "\n",
    "After the transformation, it becomes\n",
    "$$\\ket{\\psi^{\\prime}} = \\ket{00}$$\n",
    "\n",
    "This corresponds to the $\\ket{++}$ state in the $X$ basis."
   ]
  },
  {
   "cell_type": "code",
   "execution_count": 2,
   "metadata": {},
   "outputs": [],
   "source": [
    "from qulacs import Observable, QuantumState, QuantumCircuit\n",
    "from qulacsvis import circuit_drawer\n",
    "import numpy as np\n",
    "import matplotlib.pyplot as plt\n",
    "from utility import *"
   ]
  },
  {
   "cell_type": "code",
   "execution_count": 3,
   "metadata": {},
   "outputs": [],
   "source": [
    "nqubits = 2"
   ]
  },
  {
   "cell_type": "code",
   "execution_count": 4,
   "metadata": {},
   "outputs": [
    {
     "name": "stdout",
     "output_type": "stream",
     "text": [
      "[0.5 0.5]\n"
     ]
    }
   ],
   "source": [
    "hamiltonian = Observable(nqubits)\n",
    "#np.random.seed(1)\n",
    "#J_list = 2*np.random.rand(nqubits)-1\n",
    "J_list = np.array([0.5,0.5])\n",
    "print(J_list)"
   ]
  },
  {
   "cell_type": "code",
   "execution_count": 5,
   "metadata": {},
   "outputs": [],
   "source": [
    "for i in range(nqubits):\n",
    "    hamiltonian.add_operator(J_list[i], f\"X {i} X {(i+1)%nqubits}\")\n",
    "    hamiltonian.add_operator(J_list[i], f\"Y {i} Y {(i+1)%nqubits}\")\n",
    "    hamiltonian.add_operator(J_list[i], f\"Z {i} Z {(i+1)%nqubits}\")"
   ]
  },
  {
   "cell_type": "code",
   "execution_count": 6,
   "metadata": {},
   "outputs": [],
   "source": [
    "from qulacs.gate import H, S, Sdag"
   ]
  },
  {
   "cell_type": "code",
   "execution_count": 7,
   "metadata": {},
   "outputs": [],
   "source": [
    "state = QuantumState(nqubits)\n",
    "circuit = QuantumCircuit(nqubits)\n",
    "\n",
    "for i in range(nqubits):\n",
    "    circuit.add_gate(H(i))\n",
    "\n",
    "circuit.update_quantum_state(state)"
   ]
  },
  {
   "cell_type": "code",
   "execution_count": 8,
   "metadata": {},
   "outputs": [
    {
     "data": {
      "image/png": "[encoded data removed]",
      "text/plain": [
       "<Figure size 640x480 with 1 Axes>"
      ]
     },
     "metadata": {},
     "output_type": "display_data"
    }
   ],
   "source": [
    "show_distribution(state)"
   ]
  },
  {
   "cell_type": "code",
   "execution_count": 9,
   "metadata": {},
   "outputs": [
    {
     "data": {
      "text/plain": [
       "0.9999999999999996"
      ]
     },
     "execution_count": 9,
     "metadata": {},
     "output_type": "execute_result"
    }
   ],
   "source": [
    "hamiltonian.get_expectation_value(state)"
   ]
  },
  {
   "cell_type": "code",
   "execution_count": 10,
   "metadata": {},
   "outputs": [],
   "source": [
    "hamiltonian_ZZ = Observable(nqubits)\n",
    "for i in range(nqubits):\n",
    "    hamiltonian_ZZ.add_operator(J_list[i], f\"Z {i} Z {(i+1)%nqubits}\")"
   ]
  },
  {
   "cell_type": "code",
   "execution_count": 11,
   "metadata": {},
   "outputs": [
    {
     "data": {
      "text/plain": [
       "0.0"
      ]
     },
     "execution_count": 11,
     "metadata": {},
     "output_type": "execute_result"
    }
   ],
   "source": [
    "hamiltonian_ZZ.get_expectation_value(state)"
   ]
  },
  {
   "cell_type": "code",
   "execution_count": 12,
   "metadata": {},
   "outputs": [],
   "source": [
    "hamiltonian_XX = Observable(nqubits)\n",
    "for i in range(nqubits):\n",
    "    hamiltonian_XX.add_operator(J_list[i], f\"X {i} X {(i+1)%nqubits}\")"
   ]
  },
  {
   "cell_type": "code",
   "execution_count": 13,
   "metadata": {},
   "outputs": [
    {
     "data": {
      "text/plain": [
       "0.9999999999999996"
      ]
     },
     "execution_count": 13,
     "metadata": {},
     "output_type": "execute_result"
    }
   ],
   "source": [
    "hamiltonian_XX.get_expectation_value(state)"
   ]
  },
  {
   "cell_type": "code",
   "execution_count": 14,
   "metadata": {},
   "outputs": [],
   "source": [
    "hamiltonian_YY = Observable(nqubits)\n",
    "for i in range(nqubits):\n",
    "    hamiltonian_YY.add_operator(J_list[i], f\"Y {i} Y {(i+1)%nqubits}\")"
   ]
  },
  {
   "cell_type": "code",
   "execution_count": 15,
   "metadata": {},
   "outputs": [
    {
     "data": {
      "text/plain": [
       "0.0"
      ]
     },
     "execution_count": 15,
     "metadata": {},
     "output_type": "execute_result"
    }
   ],
   "source": [
    "hamiltonian_YY.get_expectation_value(state)"
   ]
  },
  {
   "cell_type": "code",
   "execution_count": 16,
   "metadata": {},
   "outputs": [],
   "source": [
    "def sample_ZZ(_n_shots):\n",
    "    global J_list, state\n",
    "    samples = state.sampling(_n_shots)\n",
    "    #print(samples)\n",
    "    estimated_Z_energy = 0\n",
    "    mask_list = [0b11, 0b11]\n",
    "    for s in samples:\n",
    "        for J, mask in zip(J_list, mask_list):\n",
    "            bitcount = bin(s & mask).count(\"1\")\n",
    "            #print(f\"{s:04b}, {bitcount}, {mask:04b}\")\n",
    "            estimated_Z_energy += J*(-1)**bitcount/_n_shots\n",
    "    return estimated_Z_energy"
   ]
  },
  {
   "cell_type": "code",
   "execution_count": 17,
   "metadata": {},
   "outputs": [
    {
     "data": {
      "image/png": "[encoded data removed]",
      "text/plain": [
       "<Figure size 640x480 with 1 Axes>"
      ]
     },
     "metadata": {},
     "output_type": "display_data"
    }
   ],
   "source": [
    "n_test = 5000\n",
    "n_shots = 5000\n",
    "result_list_ZZ = np.zeros(n_test)\n",
    "for i in range(n_test):\n",
    "    result_list_ZZ[i] = sample_ZZ(n_shots)\n",
    "plt.hist(result_list_ZZ, alpha=0.2, bins=20)\n",
    "hamiltonian_ZZ = Observable(nqubits)\n",
    "for i in range(nqubits):\n",
    "    hamiltonian_ZZ.add_operator(J_list[i], f\"Z {i} Z {(i+1)%nqubits}\")\n",
    "plt.axvline(hamiltonian_ZZ.get_expectation_value(state), color=\"black\")\n",
    "plt.show()"
   ]
  },
  {
   "cell_type": "code",
   "execution_count": 18,
   "metadata": {},
   "outputs": [
    {
     "name": "stdout",
     "output_type": "stream",
     "text": [
      "[1.+0.j 0.+0.j 0.+0.j 0.+0.j]\n"
     ]
    }
   ],
   "source": [
    "state_X = state.copy()\n",
    "for i in range(nqubits):\n",
    "    H(i).update_quantum_state(state_X)\n",
    "\n",
    "print(state_X.get_vector())"
   ]
  },
  {
   "cell_type": "code",
   "execution_count": 19,
   "metadata": {},
   "outputs": [],
   "source": [
    "def sample_XX(_n_shots):\n",
    "    global J_list\n",
    "\n",
    "    samples = state_X.sampling(_n_shots)\n",
    "    #print(samples)\n",
    "    estimated_X_energy = 0\n",
    "    mask_list = [0b11, 0b11]\n",
    "    for s in samples:\n",
    "        for J, mask in zip(J_list, mask_list):\n",
    "            bitcount = bin(s & mask).count(\"1\")\n",
    "            #print(f\"{s:04b}, {bitcount}, {mask:04b}\")\n",
    "            estimated_X_energy += J*(-1)**bitcount/_n_shots\n",
    "    return estimated_X_energy"
   ]
  },
  {
   "cell_type": "code",
   "execution_count": 20,
   "metadata": {},
   "outputs": [
    {
     "data": {
      "image/png": "[encoded data removed]",
      "text/plain": [
       "<Figure size 640x480 with 1 Axes>"
      ]
     },
     "metadata": {},
     "output_type": "display_data"
    }
   ],
   "source": [
    "n_test = 5000\n",
    "n_shots = 5000\n",
    "result_list_XX = np.zeros(n_test)\n",
    "for i in range(n_test):\n",
    "    result_list_XX[i] = sample_XX(n_shots)\n",
    "plt.hist(result_list_XX, alpha=0.2, bins=20)\n",
    "hamiltonian_XX = Observable(nqubits)\n",
    "for i in range(nqubits):\n",
    "    hamiltonian_XX.add_operator(J_list[i], f\"X {i} X {(i+1)%nqubits}\")\n",
    "plt.axvline(hamiltonian_XX.get_expectation_value(state), color=\"black\")\n",
    "plt.show()"
   ]
  },
  {
   "cell_type": "code",
   "execution_count": 21,
   "metadata": {},
   "outputs": [
    {
     "name": "stdout",
     "output_type": "stream",
     "text": [
      "[0. -0.5j 0.5+0.j  0.5+0.j  0. +0.5j]\n"
     ]
    }
   ],
   "source": [
    "state_Y = state.copy()\n",
    "for i in range(nqubits):\n",
    "    Sdag(i).update_quantum_state(state_Y)\n",
    "    H(i).update_quantum_state(state_Y)\n",
    "\n",
    "print(state_Y.get_vector())"
   ]
  },
  {
   "cell_type": "code",
   "execution_count": 22,
   "metadata": {},
   "outputs": [],
   "source": [
    "def sample_YY(_n_shots):\n",
    "    global J_list, state\n",
    "    \n",
    "    samples = state_Y.sampling(_n_shots)\n",
    "    #print(samples)\n",
    "    estimated_Y_energy = 0\n",
    "    mask_list = [0b0011, 0b0110, 0b1100, 0b1001]\n",
    "    for s in samples:\n",
    "        for J, mask in zip(J_list, mask_list):\n",
    "            bitcount = bin(s & mask).count(\"1\")\n",
    "            #print(f\"{s:04b}, {bitcount}, {mask:04b}\")\n",
    "            estimated_Y_energy += J*(-1)**bitcount/_n_shots\n",
    "    return estimated_Y_energy"
   ]
  },
  {
   "cell_type": "code",
   "execution_count": 23,
   "metadata": {},
   "outputs": [
    {
     "data": {
      "image/png": "[encoded data removed]",
      "text/plain": [
       "<Figure size 640x480 with 1 Axes>"
      ]
     },
     "metadata": {},
     "output_type": "display_data"
    }
   ],
   "source": [
    "n_test = 5000\n",
    "n_shots = 5000\n",
    "result_list_YY = np.zeros(n_test)\n",
    "for i in range(n_test):\n",
    "    result_list_YY[i] = sample_YY(n_shots)\n",
    "plt.hist(result_list_YY, alpha=0.2, bins=20)\n",
    "hamiltonian_YY = Observable(nqubits)\n",
    "for i in range(nqubits):\n",
    "    hamiltonian_YY.add_operator(J_list[i], f\"Y {i} Y {(i+1)%nqubits}\")\n",
    "plt.axvline(hamiltonian_YY.get_expectation_value(state), color=\"black\")\n",
    "plt.show()"
   ]
  },
  {
   "cell_type": "code",
   "execution_count": 24,
   "metadata": {},
   "outputs": [
    {
     "name": "stdout",
     "output_type": "stream",
     "text": [
      "5000\n"
     ]
    },
    {
     "data": {
      "image/png": "[encoded data removed]",
      "text/plain": [
       "<Figure size 640x480 with 1 Axes>"
      ]
     },
     "metadata": {},
     "output_type": "display_data"
    }
   ],
   "source": [
    "result_list_total = result_list_XX + result_list_YY + result_list_ZZ\n",
    "print(len(result_list_total))\n",
    "plt.hist(result_list_total, alpha=0.2, bins=20)\n",
    "plt.axvline(hamiltonian.get_expectation_value(state), color=\"black\")\n",
    "plt.show()"
   ]
  },
  {
   "cell_type": "code",
   "execution_count": null,
   "metadata": {},
   "outputs": [],
   "source": []
  }
 ],
 "metadata": {
  "kernelspec": {
   "display_name": "Python 3.10.7 64-bit",
   "language": "python",
   "name": "python3"
  },
  "language_info": {
   "codemirror_mode": {
    "name": "ipython",
    "version": 3
   },
   "file_extension": ".py",
   "mimetype": "text/x-python",
   "name": "python",
   "nbconvert_exporter": "python",
   "pygments_lexer": "ipython3",
   "version": "3.10.7"
  },
  "orig_nbformat": 4,
  "vscode": {
   "interpreter": {
    "hash": "aee8b7b246df8f9039afb4144a1f6fd8d2ca17a180786b69acc140d282b71a49"
   }
  }
 },
 "nbformat": 4,
 "nbformat_minor": 2
}
