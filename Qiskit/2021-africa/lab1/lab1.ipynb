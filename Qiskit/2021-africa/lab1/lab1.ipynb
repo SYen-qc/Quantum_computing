{
 "cells": [
  {
   "cell_type": "markdown",
   "metadata": {},
   "source": [
    "<h1>IBM Quantum Challenge Africa 2021</h1>\n",
    "<p style=\"font-size:xx-large;\">Introduction and the Crop-Yield Problem</p>"
   ]
  },
  {
   "cell_type": "markdown",
   "metadata": {},
   "source": [
    "Quantum Computing has the potential to revolutionize computing, as it can solve problems that are not possible to solve on a classical computer. This extra ability that quantum computers have is called quantum advantage. To achieve this goal, the world needs passionate and competent end-users: those who know how to apply the technology to their field.\n",
    "\n",
    "In this challenge you will be exposed, at a high-level, to quantum computing through Qiskit. As current or future users of quantum computers, you need to know what problems are appropriate for quantum computation, how to structure the problem model/inputs so that they are compatible with your chosen algorithm, and how to execute a given algorithm and quantum solution to solve the problem.\n",
    "\n",
    "This is the first notebook for the IBM Quantum Challenge Africa. Before starting here, ensure you have completed the Week 0 content in preparation for the following exercises."
   ]
  },
  {
   "cell_type": "markdown",
   "metadata": {},
   "source": [
    "## Initialization"
   ]
  },
  {
   "cell_type": "markdown",
   "metadata": {},
   "source": [
    "To ensure the demonstrations and exercises have the required Python modules and libraries, run the following cell before continuing."
   ]
  },
  {
   "cell_type": "code",
   "execution_count": 1,
   "metadata": {},
   "outputs": [],
   "source": [
    "# Import auxiliary libraries\n",
    "import numpy as np\n",
    "\n",
    "# Import Qiskit\n",
    "from qiskit import IBMQ, Aer\n",
    "from qiskit.algorithms import QAOA, VQE, NumPyMinimumEigensolver\n",
    "from qiskit.algorithms.optimizers import COBYLA\n",
    "from qiskit.utils import QuantumInstance, algorithm_globals\n",
    "from qiskit.providers.aer.noise.noise_model import NoiseModel\n",
    "\n",
    "from qiskit_optimization import QuadraticProgram\n",
    "from qiskit_optimization.algorithms import MinimumEigenOptimizer\n",
    "from qiskit_optimization.converters import QuadraticProgramToQubo\n",
    "\n",
    "import qiskit.test.mock as Fake"
   ]
  },
  {
   "cell_type": "markdown",
   "metadata": {},
   "source": [
    "## Table of Contents"
   ]
  },
  {
   "cell_type": "markdown",
   "metadata": {},
   "source": [
    "The notebook is structured as follows:"
   ]
  },
  {
   "cell_type": "markdown",
   "metadata": {},
   "source": [
    "1. Initialization\n",
    "2. Table of Contents\n",
    "3. Qiskit and its parts\n",
    "4. Setting up the Qiskit Environment\n",
    "5. Quadratic Problems\n",
    "6. Crop-Yield Problem as a Quadratic Problem\n",
    "7. Solving the Crop-Yield Problem using Quantum Computing\n",
    "8. Simulating a Real Quantum Computer for the Crop-Yield Problem"
   ]
  },
  {
   "cell_type": "markdown",
   "metadata": {},
   "source": [
    "## Qiskit and its parts"
   ]
  },
  {
   "cell_type": "markdown",
   "metadata": {},
   "source": [
    "Qiskit is divided into multiple modules for different purposes, with Terra at the core of the Qiskit ecosystem. It helps to be familiar with what each module can do and whether you will need to utilize the software contained within them for your specific problem. There are four modules that deal with the application of quantum computing; with tools and algorithms built specifically for their fields.\n",
    "\n",
    "Have a quick look at the [Qiskit documentation](https://qiskit.org/overview) and this IBM Research [blog post](https://www.ibm.com/blogs/research/2021/04/qiskit-application-modules/) to see what these modules are called. Once you have done so, you can complete the first exercise of the challenge: replace the ficticious module names, in the python cell below, with the correct module names. Though it would be fun to have a Qiskit Gaming module, it has not yet been developed. If you are interested in contributing to the open-source Qiskit community, have a look at the [contribution guide](https://qiskit.org/documentation/contributing_to_qiskit.html)."
   ]
  },
  {
   "cell_type": "markdown",
   "metadata": {},
   "source": [
    "### Exercise 1a: Qiskit Applications Modules"
   ]
  },
  {
   "cell_type": "code",
   "execution_count": 2,
   "metadata": {},
   "outputs": [],
   "source": [
    "# Definitely real Qiskit module names\n",
    "qiskit_module_names = [\n",
    "    \"Qiskit Nature\",\n",
    "    \"Qiskit Finance\",\n",
    "    \"Qiskit Optimization\",\n",
    "    \"Qiskit Machine Learning\",\n",
    "]"
   ]
  },
  {
   "cell_type": "markdown",
   "metadata": {},
   "source": [
    "Run the following python cell to check if you have the correct module names."
   ]
  },
  {
   "cell_type": "code",
   "execution_count": 3,
   "metadata": {},
   "outputs": [
    {
     "name": "stderr",
     "output_type": "stream",
     "text": [
      "/opt/conda/lib/python3.8/site-packages/pyscf/lib/misc.py:47: H5pyDeprecationWarning: Using default_file_mode other than 'r' is deprecated. Pass the mode to h5py.File() instead.\n",
      "  h5py.get_config().default_file_mode = 'a'\n"
     ]
    },
    {
     "name": "stdout",
     "output_type": "stream",
     "text": [
      "Submitting your answer for ex1/partA. Please wait...\n",
      "Congratulations 🎉! Your answer is correct and has been submitted.\n"
     ]
    }
   ],
   "source": [
    "from qc_grader import grade_ex1a\n",
    "\n",
    "grade_ex1a(qiskit_module_names)"
   ]
  },
  {
   "cell_type": "markdown",
   "metadata": {},
   "source": [
    "### Qiskit Applications Modules"
   ]
  },
  {
   "cell_type": "markdown",
   "metadata": {},
   "source": [
    "In this notebook, we will use the `Qiskit Optimization` applications module for a specific problem to illustrate how\n",
    "\n",
    "1. classical and mathematical problem definitions are represented in Qiskit,\n",
    "2. some quantum algorithms are defined,\n",
    "3. to execute a quantum algorithm for a given problem definition,\n",
    "4. and algorithms and Qiskit problems are executed on real and simulated quantum computers.\n",
    "\n",
    "We will also be using Qiskit Terra and Aer as they provide the foundation of Qiskit and high-performance quantum simulators respectively."
   ]
  },
  {
   "cell_type": "markdown",
   "metadata": {},
   "source": [
    "## Quadratic Problems"
   ]
  },
  {
   "cell_type": "markdown",
   "metadata": {},
   "source": [
    "Some computational problems can be formulated into quadratic equations such that the minimum of the quadratic equations is the optimal solution, if any exist. These problems are encountered in finance, agriculture, operations and production management, and economics.\n",
    "\n",
    "Quadratic programming is also used to identify an optimal financial portfolio with minimum risk and optimizing the layout of production components in a factory to minimize the travel distance of resources. This notebook focuses on agriculture as it is a relevant application of quantum computing to problems facing the African continent. However, all of these applications share two common characteristics: the system can be modelled as a quadratic equation and the system variables may be constrained, with their values limited to within a given range.\n",
    "\n",
    "---\n",
    "\n",
    "Quadratic problems take on the following structure. Given a vector of $n$ variables $x\\in\\mathbb{R}^n$, the quadratic function to minimize is as follows.\n",
    "\n",
    "$$\n",
    "\\begin{align}\n",
    "\\text{minimize}\\quad & f\\left(x\\right)=\\frac{1}{2}x^\\top{}\\mathbf{Q}x + c^\\top{}x &\\\\\n",
    "\\text{subject to}\\quad & \\mathbf{A}x\\leq{}b&\\\\\n",
    "& x^\\top{}\\mathbf{Q}_ix + c_{i}^\\top{}x\\leq{}r_i,\\quad&\\forall{}i\\in[1,k_q]\\\\\n",
    "& l_i\\leq{}x_i\\leq{}u_i,\\quad&\\forall{}i\\in[1,k_l]\\\\\n",
    "\\end{align}\n",
    "$$\n",
    "\n",
    "$\\mathbf{Q}$, $\\mathbf{Q}_i$, and $\\mathbf{A}$ are $n\\times{}n$ symmetric matrices. $c$ and $c_i$ are $n\\times{}1$ column vectors. $\\mathbf{Q}_i$, $\\mathbf{A}$, $c_i$, $l_i$, and $u_i$ define constraints on the variables in $x$. The quadratic equation at the core of the quadratic problem is found by multiplying out the matrices in the minimization function. Though '$\\leq{}$' is used in the constraint equations above, any identity relationship may be used for any number of constraints: i.e. \"$<$\", \"$=$\", \"$>$\", \"$\\geq$\", or \"$\\leq$\".\n",
    "\n",
    "A valid solution to the quadratic must satisfy all conditions for the problem. Examples of some constraints are given below. The first two are linear constraints whereas the third example is a quadratic constraint.\n",
    "\n",
    "$$ x_1 + x_4 \\leq{} 10$$\n",
    "\n",
    "$$ x_2 - 3x_6 = 10$$\n",
    "\n",
    "$$x_1x_2 - 4x_3x_4 + x_5 \\leq{} 15 $$\n"
   ]
  },
  {
   "cell_type": "markdown",
   "metadata": {},
   "source": [
    "Qiskit has Python code that allows you to implement a quadratic problem as a `QuadraticProgram` instance. Though our definition above used matrices to define the coefficients, `QuadraticProgram` allows you to define the objective (function overwhich to minimize) directly. To illustrate how to use `QuadraticProgram`, we will use the following quadratic problem definition, with three integer variables.\n",
    "\n",
    "$$\\begin{align}\n",
    "\\text{minimize}\\quad{} & f(x)=(x_1)^2 + (x_2)^2 - x_1x_2 - 6x_3 \\\\\n",
    "\\text{subject to}\\quad{} & x_1 + x_2 = 2             \\\\\n",
    "                         & x_2x_3 \\geq{} 1           \\\\\n",
    "                         & -2 \\leq{} x_2 \\leq{} 2    \\\\\n",
    "                         & -2 \\leq{} x_3 \\leq{} 4    \\\\\n",
    "\\end{align}$$"
   ]
  },
  {
   "cell_type": "markdown",
   "metadata": {},
   "source": [
    "The figure below shows the constraints on $x_1$ and $x_3$, with some simplifcation. The shaded area denotes valid values for $x_1$ and $x_3$, within which $f(x)$ must be minimized."
   ]
  },
  {
   "cell_type": "markdown",
   "metadata": {},
   "source": [
    "<img src=\"quadratic_example.svg\" width=512px/>"
   ]
  },
  {
   "cell_type": "markdown",
   "metadata": {},
   "source": [
    "In the following code, the above quadratic problem is defined as a `QuadraticProgram` instance. Have a look at the [Qiskit documentation for `QuadraticProgram`](https://qiskit.org/documentation/stubs/qiskit.optimization.QuadraticProgram.html), as it can be very useful in helping your understanding of its interface.\n",
    "\n",
    "The quadratic to minimize, called an objective, is implemented using dictionaries. This allows you, the developer, to explicitly define coefficients for specific variables and terms. The keys in the dictionaries are the variable names identifying a term in $f(x)$. For example, `(\"x_1\",\"x_2\")` is for $x_1x_2$. The values for each item are the coefficients for said terms. Terms that are subtracted in $f(x)$ must have a negative coefficient."
   ]
  },
  {
   "cell_type": "code",
   "execution_count": 4,
   "metadata": {},
   "outputs": [
    {
     "data": {
      "text/plain": [
       "<qiskit_optimization.problems.quadratic_constraint.QuadraticConstraint at 0x7f1af8d883a0>"
      ]
     },
     "execution_count": 4,
     "metadata": {},
     "output_type": "execute_result"
    }
   ],
   "source": [
    "quadprog = QuadraticProgram(name=\"example 1\")\n",
    "quadprog.integer_var(name=\"x_1\", lowerbound=0, upperbound=4)\n",
    "quadprog.integer_var(name=\"x_2\", lowerbound=-2, upperbound=2)\n",
    "quadprog.integer_var(name=\"x_3\", lowerbound=-2, upperbound=4)\n",
    "quadprog.minimize(\n",
    "    linear={\"x_3\": -6},\n",
    "    quadratic={(\"x_1\", \"x_1\"): 1, (\"x_2\", \"x_2\"): 1, (\"x_1\", \"x_2\"): -1},\n",
    ")\n",
    "quadprog.linear_constraint(linear={\"x_1\": 1, \"x_2\": 1}, sense=\"=\", rhs=2)\n",
    "quadprog.quadratic_constraint(quadratic={(\"x_2\", \"x_3\"): 1}, sense=\">=\", rhs=1)"
   ]
  },
  {
   "cell_type": "markdown",
   "metadata": {},
   "source": [
    "A `QuadraticProgram` can have three types of variables: binary, integer, and continuous. The Qiskit implementation of the algorithms we are going to use currently only support binary and integer variables. There are other algorithms that allow for the simulation of continuous variables, but they are not covered in this notebook. If you want to know more about them though, have a look at this Qiskit tutorial on [algorithms to solve mixed-variable quadratic problems](https://qiskit.org/documentation/tutorials/optimization/5_admm_optimizer.html)."
   ]
  },
  {
   "cell_type": "markdown",
   "metadata": {},
   "source": [
    "We can visualize the `QuadraticProgram` as an LP string, a portable text-based format used representating the model as a **L**inear **P**rogramming problem."
   ]
  },
  {
   "cell_type": "code",
   "execution_count": 5,
   "metadata": {},
   "outputs": [
    {
     "name": "stdout",
     "output_type": "stream",
     "text": [
      "\\ This file has been generated by DOcplex\n",
      "\\ ENCODING=ISO-8859-1\n",
      "\\Problem name: example 1\n",
      "\n",
      "Minimize\n",
      " obj: - 6 x_3 + [ 2 x_1^2 - 2 x_1*x_2 + 2 x_2^2 ]/2\n",
      "Subject To\n",
      " c0: x_1 + x_2 = 2\n",
      " q0: [ x_2*x_3 ] >= 1\n",
      "\n",
      "Bounds\n",
      "       x_1 <= 4\n",
      " -2 <= x_2 <= 2\n",
      " -2 <= x_3 <= 4\n",
      "\n",
      "Generals\n",
      " x_1 x_2 x_3\n",
      "End\n",
      "\n"
     ]
    }
   ],
   "source": [
    "print(quadprog.export_as_lp_string())"
   ]
  },
  {
   "cell_type": "markdown",
   "metadata": {},
   "source": [
    "Any optimization problem that can be represented as a single second-order equation, in that the greatest exponent of any term is 2, can be transformed into a quadratic problem or program of the form given above. The above example is arbitrary and does not necessarily represent a given real-world problem. The main problem of this notebook focuses on optimizing the yield of a farm, though only the problem definition need be changed to apply this technique to other quadratic problem applications."
   ]
  },
  {
   "cell_type": "markdown",
   "metadata": {},
   "source": [
    "## Crop-Yield Problem as a Quadratic Problem"
   ]
  },
  {
   "cell_type": "markdown",
   "metadata": {},
   "source": [
    "To show how to solve your quadratic program using a quantum computer, we will use two algorithms to solve the crop-yield problem. It is a common need to optimize the crops and management of a farm to reduce risk while increasing profits. One of the big challenges facing Africa and the whole world is how to produce enough food for everyone. The problem here focuses not on profits but on the tonnage of crops harvested. Imagine you have a farm with three hectares of land suitable for farming. You need to choose which crops to plant from a selection of four. Furthermore, you also need to determine how many hectares of each you should plant. The four crops you can plant are wheat, soybeans, maize, and a push-pull crop. The fourth cannot be sold once harvested but it can help increase the yield of the other crops.\n",
    "\n",
    "<table>\n",
    "    <tr>\n",
    "        <th>\n",
    "            <img src=\"farm_template.svg\" width=\"384px\"/>\n",
    "        </th>\n",
    "    </tr>\n",
    "    <tr>\n",
    "        <th>\n",
    "            Our beautiful three hectare farm\n",
    "        </th>\n",
    "    </tr>\n",
    "</table>\n",
    "\n",
    "<table>\n",
    "    <tr>\n",
    "        <th>\n",
    "        <img src=\"crop_wheat.svg\" width=\"256px\"/>\n",
    "        </th>\n",
    "        <th>\n",
    "            <img src=\"crop_soybeans.svg\" width=\"256px\"/>\n",
    "        </th>\n",
    "        <th>\n",
    "            <img src=\"crop_maize.svg\" width=\"256px\"/>\n",
    "        </th>\n",
    "        <th>\n",
    "            <img src=\"crop_pushpull.svg\" width=\"256px\"/>\n",
    "        </th>\n",
    "    </tr>\n",
    "    <tr>\n",
    "        <th>\n",
    "            Wheat\n",
    "        </th>\n",
    "        <th>\n",
    "            Soybeans\n",
    "        </th>\n",
    "        <th>\n",
    "            Maize\n",
    "        </th>\n",
    "        <th>\n",
    "            Push-Pull\n",
    "        </th>\n",
    "<!--         <th>\n",
    "            <p align=\"right\" style=\"height:32px;padding-top:10px;\">Wheat<img src=\"wheat.svg\" width=\"32px\" style=\"float:left;margin-top:-10px;margin-right:8px;\"/></p>\n",
    "        </th>\n",
    "        <th>\n",
    "            <p style=\"height:32px;padding-top:10px;\">Soybeans<img src=\"soybeans.svg\" width=\"32px\" style=\"float:left;margin-top:-10px;margin-right:8px;\"/></p>\n",
    "        </th>\n",
    "        <th>\n",
    "            <p style=\"height:32px;padding-top:10px;\">Maize<img src=\"maize.svg\" width=\"32px\" style=\"float:left;margin-top:-10px;margin-right:8px;\"/></p>\n",
    "        </th>\n",
    "        <th>\n",
    "            <p style=\"height:32px;padding-top:10px;\">Push-Pull<img src=\"pushpull.svg\" width=\"32px\" style=\"float:left;margin-top:-10px;margin-right:8px;\"/></p>\n",
    "        </th> -->\n",
    "    </tr>\n",
    "</table>\n",
    "\n",
    "There are three types of farming methods we can use: monocropping, intercropping, and push-pull farming. These are shown below. Monocropping is where only one crop is farmed. This is can make the farm susceptible to disease and pests as the entire yield would be affected. In some instances, growing two different plants nearby each other will increase the yield of both, though sometimes it can decrease the yield. Intercropping is the process where different plants are chosen to _increase_ the yield. Push-Pull crops are pairs of plants that repel pests and attract pests respectively. Integrating them into a larger farm increases the yield of harvested food but with the cost of not necessarily being able to use the harvest of Push-Pull crops as part of the total yield. This is because the Push-Pull crop may not be usable or even edible.\n",
    "\n",
    "<table>\n",
    "    <tr>\n",
    "        <th>\n",
    "        <img src=\"farm_mono.svg\" width=\"256px\"/>\n",
    "        </th>\n",
    "        <th>\n",
    "            <img src=\"farm_intercrop.svg\" width=\"256px\"/>\n",
    "        </th>\n",
    "        <th>\n",
    "            <img src=\"farm_intercrop_pushpull.svg\" width=\"256px\"/>\n",
    "        </th>\n",
    "    </tr>\n",
    "    <tr>\n",
    "        <th>\n",
    "            Monocropping\n",
    "        </th>\n",
    "        <th>\n",
    "            Intercropping\n",
    "        </th>\n",
    "        <th>\n",
    "            Push-Pull farming\n",
    "        </th>\n",
    "    </tr>\n",
    "</table>"
   ]
  },
  {
   "cell_type": "markdown",
   "metadata": {},
   "source": [
    "---\n",
    "Only in certain cases can quadratic programming problems be solved easily using classical problems. In their general sense, they are NP-Hard; a class of problems that is difficult to solve using classical computational methods. In fact, the best classical method to solve these problems involves heuristics, a technique that finds an approximate solution. Quantum Computers have been shown to provide significant speed-up and better scaling for some heuristic problems. The crop-yield problem is a combinatorial problem, in that the solution is a specific combination of input parameters. Though the problem shown here is small enough to solve classically, larger problems become intractable on a classical computer owing to the number of combinations of which to optimize.\n",
    "\n",
    "\n",
    "Solving the above problem using quantum computing involves three components:\n",
    "\n",
    "1. Defining the problem\n",
    "2. Defining the algorithm\n",
    "3. Executing the algorithm on a backend\n",
    "\n",
    "Many problems in Qiskit follow this structure as the algorithm you use can typically be swapped for another without significantly redefining your problem. Execution on different backends is the easiest, as long as the device has sufficient resource. The first component is given below, with the second and third in sections 1.5 and 1.6."
   ]
  },
  {
   "cell_type": "markdown",
   "metadata": {},
   "source": [
    "### Define the Crop-Yield problem"
   ]
  },
  {
   "cell_type": "markdown",
   "metadata": {},
   "source": [
    "The following problem is defined for you but the `QuadraticProgram` is not implemented. Your task at the end of this section is to implement the `QuadraticProgram` for the given crop-yield model.\n",
    "\n",
    "Your farm has three hectares available, $3~ha$, with each crop taking up $0~ha$ or $1~ha$. We define the yield of the farm as a quadratic function where the influence of each crop on each other is represented by the quadratic coefficients. The variables in this quadratic are the number of hectares of the crop to be planted and the objective function to maximize is the yield of usable crops in tons. Here is the mathematical model for the problem. In this scenario, all crops increase the yield of other crops. However, the problem to solve is which crops to use to achieve the maximum yield."
   ]
  },
  {
   "cell_type": "markdown",
   "metadata": {},
   "source": [
    "<img src=\"qubo_problem_graphical_variables.svg\" width=\"534px\"/>\n",
    "\n",
    "The farm yield, in tons, is modelled as a quadratic equation, given below, with constraints on the hectares used by each crop and the total hectares available. Each crop is shown using a different symbol, as shown above, representing the number of hectares to be planted of said plant. Note that we can only plant up to 1 hectare of each crop and that our farm is constrained to 3 hectares.\n",
    "\n",
    "<img src=\"qubo_problem_graphical.svg\" width=\"400px\"/>"
   ]
  },
  {
   "cell_type": "markdown",
   "metadata": {},
   "source": [
    "----\n",
    "#### Non-graphical notation\n",
    "Here is a non-graphical representation of the above model, if you are struggling to interpret the above graphic.\n",
    "\n",
    "$$\n",
    "\\begin{align}\n",
    "    \\text{maximize} \\quad & 2(\\operatorname{Wheat}) + \\operatorname{Soybeans} + 4(\\operatorname{Maize}) \\\\\n",
    "    & + 2.4(\\operatorname{Wheat}\\times\\operatorname{Soybeans}) \\\\ & + 4(\\operatorname{Wheat}\\times\\operatorname{Maize})\\\\\n",
    "    &+ 4(\\operatorname{Wheat}\\times\\operatorname{PushPull}) \\\\ & + 2(\\operatorname{Soybeans}\\times\\operatorname{Maize}) \\\\\n",
    "                          & + (\\operatorname{Soybeans}\\times\\operatorname{PushPull}) \\\\ & + 5(\\operatorname{Maize}\\times\\operatorname{PushPull})\n",
    "\\end{align}\n",
    "$$\n",
    "\n",
    "$$\n",
    "\\begin{align}\n",
    "\\text{subject to} \\quad & \\operatorname{Wheat} + \\operatorname{Soybeans} + \\operatorname{Maize} + \\operatorname{PushPull} \\leq{} 3\\\\\n",
    "& 0\\leq{}\\operatorname{Wheat}\\leq{}1\\\\\n",
    "& 0\\leq{}\\operatorname{Soybeans}\\leq{}1\\\\\n",
    "& 0\\leq{}\\operatorname{Maize}\\leq{}1\\\\\n",
    "& 0\\leq{}\\operatorname{PushPull}\\leq{}1\n",
    "\\end{align}\n",
    "$$"
   ]
  },
  {
   "cell_type": "markdown",
   "metadata": {},
   "source": [
    "### Exercise 1b: Create Quadratic Program from crop-yield variables"
   ]
  },
  {
   "cell_type": "markdown",
   "metadata": {},
   "source": [
    "Your first exercise is to create a `QuadraticProgram` that represents the above model. Write your implementation in the `cropyield_quadratic_program` function below. Remember to use the example as a guide, and to look at the [QuadraticProgram documentation](https://qiskit.org/documentation/tutorials/optimization/1_quadratic_program.html?highlight=quadraticprogram) and [Qiskit reference](https://qiskit.org/documentation/stubs/qiskit.optimization.QuadraticProgram.html?highlight=quadraticprogram#qiskit.optimization.QuadraticProgram).\n",
    "\n",
    "**Note:** Ensure your variables are named `Wheat`, `Soybeans`, `Maize,` and `PushPull`. This is necessary for the grader to work."
   ]
  },
  {
   "cell_type": "code",
   "execution_count": 9,
   "metadata": {},
   "outputs": [],
   "source": [
    "def cropyield_quadratic_program():\n",
    "    cropyield = QuadraticProgram(name=\"Crop Yield\")\n",
    "    ##############################\n",
    "    # Put your implementation here\n",
    "    cropyield.integer_var(name=\"Wheat\", lowerbound=0, upperbound=1)\n",
    "    cropyield.integer_var(name=\"Soybeans\", lowerbound=0, upperbound=1)\n",
    "    cropyield.integer_var(name=\"Maize\", lowerbound=0, upperbound=1)\n",
    "    cropyield.integer_var(name=\"PushPull\", lowerbound=0, upperbound=1)\n",
    "    cropyield.maximize(\n",
    "        linear={\"Wheat\": 2, \"Soybeans\": 1, \"Maize\": 4},\n",
    "        quadratic={(\"Wheat\", \"Soybeans\"): 2.4, (\"Wheat\", \"Maize\"): 4, (\"Wheat\", \"PushPull\"): 4, (\"Soybeans\", \"Maize\"): 2, (\"Soybeans\", \"PushPull\"): 1, (\"Maize\", \"PushPull\"): 5},\n",
    "    )\n",
    "    cropyield.linear_constraint(linear={\"Wheat\": 1, \"Soybeans\": 1, \"Maize\": 1, \"PushPull\": 1}, sense=\"<=\", rhs=3)\n",
    "    #\n",
    "    ##############################\n",
    "    return cropyield"
   ]
  },
  {
   "cell_type": "markdown",
   "metadata": {},
   "source": [
    "Once you feel your implementation is correct, you can grade your solution in the following cell."
   ]
  },
  {
   "cell_type": "code",
   "execution_count": 10,
   "metadata": {},
   "outputs": [
    {
     "name": "stdout",
     "output_type": "stream",
     "text": [
      "Submitting your answer for ex1/partB. Please wait...\n",
      "Congratulations 🎉! Your answer is correct and has been submitted.\n"
     ]
    }
   ],
   "source": [
    "# Execute this cell to grade your solution\n",
    "from qc_grader import grade_ex1b\n",
    "\n",
    "cropyield = cropyield_quadratic_program()\n",
    "grade_ex1b(cropyield)"
   ]
  },
  {
   "cell_type": "markdown",
   "metadata": {},
   "source": [
    "### Converting QuadraticPrograms"
   ]
  },
  {
   "cell_type": "markdown",
   "metadata": {},
   "source": [
    "If we want to estimate how many qubits this quadratic program requires, we can convert it to an Ising Model and print the `num_qubits` parameter. An [ising model](https://qiskit.org/documentation/apidoc/qiskit.optimization.applications.ising.html?highlight=ising) is a special system model type that is well suited for quantum computing. Though we will not be using an ising model explicitly, the algorithms and Qiskit classes we are using do this conversion internally."
   ]
  },
  {
   "cell_type": "code",
   "execution_count": 11,
   "metadata": {},
   "outputs": [
    {
     "name": "stdout",
     "output_type": "stream",
     "text": [
      "Number of qubits required is 6\n"
     ]
    }
   ],
   "source": [
    "# Estimate the number of qubits required\n",
    "ising_operations, _ = (\n",
    "    QuadraticProgramToQubo()\n",
    "    .convert(\n",
    "        cropyield,\n",
    "    )\n",
    "    .to_ising()\n",
    ")\n",
    "print(f\"Number of qubits required is {ising_operations.num_qubits}\")"
   ]
  },
  {
   "cell_type": "markdown",
   "metadata": {},
   "source": [
    "Even though quadratic programs are widely used in Qiskit, the algorithms we are going to use require binary variables. Qiskit provides an automated method for converting our integer variables into binary variables. The binary-only form is called a _Quadratic Unconstrained Binary Optimization_ problem, or `QUBO`. The conversion is done using `QuadraticProgramToQUBO` from the Qiskit optimization module. Every integer variable, and their associated constraints, are transformed into binary variables.\n",
    "\n",
    "Run the following code to see how the QUBO version of the cropyield problem looks. Notice how the quadratic becomes longer and more variables are added. This is to account for the bits in each variable, including the constraints. When we run our quantum algorithm to solve this QuadraticProgram, it is converted to a QUBO instance within the Qiskit algorith implementation, implicitly."
   ]
  },
  {
   "cell_type": "code",
   "execution_count": 12,
   "metadata": {},
   "outputs": [
    {
     "data": {
      "text/plain": [
       "\\ This file has been generated by DOcplex\n",
       "\\ ENCODING=ISO-8859-1\n",
       "\\Problem name: Crop Yield\n",
       "\n",
       "Minimize\n",
       " obj: - 160.400000000000 Wheat@0 - 159.400000000000 Soybeans@0\n",
       "      - 162.400000000000 Maize@0 - 158.400000000000 PushPull@0\n",
       "      - 158.400000000000 c0@int_slack@0 - 316.800000000000 c0@int_slack@1 + [\n",
       "      52.800000000000 Wheat@0^2 + 100.800000000000 Wheat@0*Soybeans@0\n",
       "      + 97.600000000000 Wheat@0*Maize@0 + 97.600000000000 Wheat@0*PushPull@0\n",
       "      + 105.600000000000 Wheat@0*c0@int_slack@0\n",
       "      + 211.200000000000 Wheat@0*c0@int_slack@1 + 52.800000000000 Soybeans@0^2\n",
       "      + 101.600000000000 Soybeans@0*Maize@0\n",
       "      + 103.600000000000 Soybeans@0*PushPull@0\n",
       "      + 105.600000000000 Soybeans@0*c0@int_slack@0\n",
       "      + 211.200000000000 Soybeans@0*c0@int_slack@1 + 52.800000000000 Maize@0^2\n",
       "      + 95.600000000000 Maize@0*PushPull@0\n",
       "      + 105.600000000000 Maize@0*c0@int_slack@0\n",
       "      + 211.200000000000 Maize@0*c0@int_slack@1 + 52.800000000000 PushPull@0^2\n",
       "      + 105.600000000000 PushPull@0*c0@int_slack@0\n",
       "      + 211.200000000000 PushPull@0*c0@int_slack@1\n",
       "      + 52.800000000000 c0@int_slack@0^2\n",
       "      + 211.200000000000 c0@int_slack@0*c0@int_slack@1\n",
       "      + 211.200000000000 c0@int_slack@1^2 ]/2 + 237.600000000000\n",
       "Subject To\n",
       "\n",
       "Bounds\n",
       " 0 <= Wheat@0 <= 1\n",
       " 0 <= Soybeans@0 <= 1\n",
       " 0 <= Maize@0 <= 1\n",
       " 0 <= PushPull@0 <= 1\n",
       " 0 <= c0@int_slack@0 <= 1\n",
       " 0 <= c0@int_slack@1 <= 1\n",
       "\n",
       "Binaries\n",
       " Wheat@0 Soybeans@0 Maize@0 PushPull@0 c0@int_slack@0 c0@int_slack@1\n",
       "End"
      ]
     },
     "execution_count": 12,
     "metadata": {},
     "output_type": "execute_result"
    }
   ],
   "source": [
    "QuadraticProgramToQubo().convert(cropyield)"
   ]
  },
  {
   "cell_type": "markdown",
   "metadata": {},
   "source": [
    "## Solving the Crop-Yield Problem using a Quantum Computer"
   ]
  },
  {
   "cell_type": "markdown",
   "metadata": {},
   "source": [
    "There are three ways to _run_ a quantum algorithm using Qiskit:\n",
    "1. on a simulator locally on your own machine\n",
    "2. on a simulator hosted in the cloud by IBM\n",
    "3. on an actual quantum computer accessible through IBM Quantum.\n",
    "\n",
    "All of these are called backends. In all cases, the _backend_ can easily be swapped for another as long as the simulator or device has appropriate resources (number of qubits etc.). In the code below, we show how to access different backends. We demonstrate this using the local Aer QASM simulator from Qiskit. The Aer QASM simulator models the physical properties of a real quantum computer so you, researchers, and developers can test their quantum computing code and algorithms before running on real devices."
   ]
  },
  {
   "cell_type": "code",
   "execution_count": 13,
   "metadata": {},
   "outputs": [],
   "source": [
    "# We will use the Aer provided QASM simulator\n",
    "backend = Aer.get_backend(\"qasm_simulator\")\n",
    "\n",
    "# Given we are using a simulator, we will fix the algorithm seed to ensure our results are reproducible\n",
    "algorithm_globals.random_seed = 271828"
   ]
  },
  {
   "cell_type": "markdown",
   "metadata": {},
   "source": [
    "We would like to compare our quantum solution to that obtained classically. Secondly, we also want to try different algorithms. The following three subsections show how these different methods for solving the Crop-Yield problem are implemented in Qiskit. The two algorithms used are the [_Quantum Approximate Optimization Algorithm_](https://qiskit.org/documentation/stubs/qiskit.algorithms.QAOA.html?highlight=qaoa#qiskit.algorithms.QAOA) `QAOA` and the [_Variational Quantum Eigensolver_](https://qiskit.org/documentation/stubs/qiskit.algorithms.VQE.html?highlight=vqe#qiskit.algorithms.VQE) `VQE`.\n",
    "\n",
    "Both of these algorithms are hybrid, in that they use a classical _optimizer_ to alter parameters that affect the quantum computation. The VQE algorithm is used to find the lowest eigenvalue of a matrix, which can describe a system to optimize. The QAOA also finds the lowest eigenvalue, but achieves this is a different way to VQE. Both are very popular algorithms, with varying applications and strengths."
   ]
  },
  {
   "cell_type": "markdown",
   "metadata": {},
   "source": [
    "### Classical Solution"
   ]
  },
  {
   "cell_type": "markdown",
   "metadata": {},
   "source": [
    "The classical solution to the crop-yield problem can easily be found using Numpy and Qiskit. The QUBO problem can be solved by finding the minimum eigenvalue of its underlying matrix representation. Fortunately, we don't have to know what this matrix looks like. We only need to pass it to a `MinimumEigensolver` and `MinimumEigenOptimizer`.\n",
    "\n",
    "The optimizer translates the provided problem into a parameterised representation which is then passed to the solver. By optimizing the paramters, the solver will eventually give the minimum eigenvalue for the parameterized representation and thus the solution to the original problem. Here we use a classical solver from NumPy, the `NumPyMinimumEigensolver`."
   ]
  },
  {
   "cell_type": "code",
   "execution_count": 14,
   "metadata": {},
   "outputs": [],
   "source": [
    "def get_classical_solution_for(quadprog: QuadraticProgram):\n",
    "    # Create solver\n",
    "    solver = NumPyMinimumEigensolver()\n",
    "\n",
    "    # Create optimizer for solver\n",
    "    optimizer = MinimumEigenOptimizer(solver)\n",
    "\n",
    "    # Return result from optimizer\n",
    "    return optimizer.solve(quadprog)"
   ]
  },
  {
   "cell_type": "markdown",
   "metadata": {},
   "source": [
    "If we execute the classical method for our crop-yield problem, we get a valid solution that maximises the yield."
   ]
  },
  {
   "cell_type": "code",
   "execution_count": 15,
   "metadata": {},
   "outputs": [
    {
     "name": "stdout",
     "output_type": "stream",
     "text": [
      "Solution found using the classical method:\n",
      "\n",
      "Maximum crop-yield is 19.0 tons\n",
      "Crops used are: \n",
      "\t1.0 ha of Wheat\n",
      "\t0.0 ha of Soybeans\n",
      "\t1.0 ha of Maize\n",
      "\t1.0 ha of PushPull\n"
     ]
    }
   ],
   "source": [
    "# Get classical result\n",
    "classical_result = get_classical_solution_for(cropyield)\n",
    "\n",
    "# Format and print result\n",
    "print(\"Solution found using the classical method:\\n\")\n",
    "print(f\"Maximum crop-yield is {classical_result.fval} tons\")\n",
    "print(f\"Crops used are: \")\n",
    "\n",
    "_crops = [v.name for v in cropyield.variables]\n",
    "for cropIndex, cropHectares in enumerate(classical_result.x):\n",
    "    print(f\"\\t{cropHectares} ha of {_crops[cropIndex]}\")"
   ]
  },
  {
   "cell_type": "markdown",
   "metadata": {},
   "source": [
    "### QAOA Solution"
   ]
  },
  {
   "cell_type": "markdown",
   "metadata": {},
   "source": [
    "To solve our problem using QAOA, we need only replace the classical_solver with a `QAOA` class instance. Now that we are running a quantum algorithm, we need to tell the solver where to execute the quantum component. We use a `QuantumInstance` to store the backend information. The QAOA is an iterative algorithm, and thus is run multiple times with different internal parameters. The parameters are tuned classically during the optimization step of the computation by `optimizer`. If we leave `optimizer` as `None`, our algorithms will use the default optimization algorithm. To determine how many iterations there are, we define a callback function that runs for each iteration and stores the number of evaluations thus far. At the end of our algorithm execution, we return the result and the number of iterations."
   ]
  },
  {
   "cell_type": "code",
   "execution_count": 16,
   "metadata": {},
   "outputs": [],
   "source": [
    "def get_QAOA_solution_for(\n",
    "    quadprog: QuadraticProgram, quantumInstance: QuantumInstance, optimizer=None,\n",
    "):\n",
    "    _eval_count = 0\n",
    "\n",
    "    def callback(eval_count, parameters, mean, std):\n",
    "        nonlocal _eval_count\n",
    "        _eval_count = eval_count\n",
    "\n",
    "    # Create solver\n",
    "    solver = QAOA(\n",
    "        optimizer=optimizer, quantum_instance=quantumInstance, callback=callback,\n",
    "    )\n",
    "\n",
    "    # Create optimizer for solver\n",
    "    optimizer = MinimumEigenOptimizer(solver)\n",
    "\n",
    "    # Get result from optimizer\n",
    "    result = optimizer.solve(quadprog)\n",
    "    return result, _eval_count"
   ]
  },
  {
   "cell_type": "markdown",
   "metadata": {},
   "source": [
    "If we execute the QAOA method for our crop-yield problem, we get the same result as the classical method, showing that 1) the quantum solution is correct and 2) that you now know how to use a quantum algorithm! 🌟"
   ]
  },
  {
   "cell_type": "code",
   "execution_count": 17,
   "metadata": {},
   "outputs": [
    {
     "name": "stdout",
     "output_type": "stream",
     "text": [
      "Solution found using the QAOA method:\n",
      "\n",
      "Maximum crop-yield is 19.0 tons\n",
      "Crops used are: \n",
      "\t1.0 ha of Wheat\n",
      "\t0.0 ha of Soybeans\n",
      "\t1.0 ha of Maize\n",
      "\t1.0 ha of PushPull\n",
      "\n",
      "The solution was found within 3 evaluations of QAOA.\n"
     ]
    }
   ],
   "source": [
    "# Create a QuantumInstance\n",
    "simulator_instance = QuantumInstance(\n",
    "    backend=backend,\n",
    "    seed_simulator=algorithm_globals.random_seed,\n",
    "    seed_transpiler=algorithm_globals.random_seed,\n",
    ")\n",
    "\n",
    "# Get QAOA result\n",
    "qaoa_result, qaoa_eval_count = get_QAOA_solution_for(cropyield, simulator_instance)\n",
    "\n",
    "# Format and print result\n",
    "print(\"Solution found using the QAOA method:\\n\")\n",
    "print(f\"Maximum crop-yield is {qaoa_result.fval} tons\")\n",
    "print(f\"Crops used are: \")\n",
    "for cropHectares, cropName in zip(qaoa_result.x, qaoa_result.variable_names):\n",
    "    print(f\"\\t{cropHectares} ha of {cropName}\")\n",
    "\n",
    "print(f\"\\nThe solution was found within {qaoa_eval_count} evaluations of QAOA.\")"
   ]
  },
  {
   "cell_type": "markdown",
   "metadata": {},
   "source": [
    "### VQE Solution"
   ]
  },
  {
   "cell_type": "markdown",
   "metadata": {},
   "source": [
    "The `VQE` algorithm works in a very similar way to the `QAOA`. Not only in a mathematical modelling and algorithmic perspective, but also programmatically. There is a quantum solver and a classical optimizer. The `VQE` instance is also iterative, and so we can measure how many iterations are needed to find a solution to the Crop-Yield problem."
   ]
  },
  {
   "cell_type": "code",
   "execution_count": 18,
   "metadata": {},
   "outputs": [],
   "source": [
    "def get_VQE_solution_for(\n",
    "    quadprog: QuadraticProgram, quantumInstance: QuantumInstance, optimizer=None,\n",
    "):\n",
    "    _eval_count = 0\n",
    "\n",
    "    def callback(eval_count, parameters, mean, std):\n",
    "        nonlocal _eval_count\n",
    "        _eval_count = eval_count\n",
    "\n",
    "    # Create solver and optimizer\n",
    "    solver = VQE(\n",
    "        optimizer=optimizer, quantum_instance=quantumInstance, callback=callback\n",
    "    )\n",
    "\n",
    "    # Create optimizer for solver\n",
    "    optimizer = MinimumEigenOptimizer(solver)\n",
    "\n",
    "    # Get result from optimizer\n",
    "    result = optimizer.solve(quadprog)\n",
    "    return result, _eval_count"
   ]
  },
  {
   "cell_type": "markdown",
   "metadata": {},
   "source": [
    "And we should get the exact same answer as before."
   ]
  },
  {
   "cell_type": "code",
   "execution_count": 19,
   "metadata": {},
   "outputs": [
    {
     "name": "stdout",
     "output_type": "stream",
     "text": [
      "Solution found using the VQE method:\n",
      "\n",
      "Maximum crop-yield is 19.0 tons\n",
      "Crops used are: \n",
      "\t1.0 ha of Wheat\n",
      "\t0.0 ha of Soybeans\n",
      "\t1.0 ha of Maize\n",
      "\t1.0 ha of PushPull\n",
      "\n",
      "The solution was found within 25 evaluations of VQE\n"
     ]
    }
   ],
   "source": [
    "# Create a QuantumInstance\n",
    "simulator_instance = QuantumInstance(\n",
    "    backend=backend,\n",
    "    seed_simulator=algorithm_globals.random_seed,\n",
    "    seed_transpiler=algorithm_globals.random_seed,\n",
    ")\n",
    "\n",
    "# Get VQE result\n",
    "vqe_result, vqe_eval_count = get_VQE_solution_for(cropyield, simulator_instance)\n",
    "\n",
    "# Format and print result\n",
    "print(\"Solution found using the VQE method:\\n\")\n",
    "print(f\"Maximum crop-yield is {vqe_result.fval} tons\")\n",
    "print(f\"Crops used are: \")\n",
    "for cropHectares, cropName in zip(vqe_result.x, vqe_result.variable_names):\n",
    "    print(f\"\\t{cropHectares} ha of {cropName}\")\n",
    "\n",
    "print(f\"\\nThe solution was found within {vqe_eval_count} evaluations of VQE\")"
   ]
  },
  {
   "cell_type": "markdown",
   "metadata": {},
   "source": [
    "### Exercise 1c: Classical and Quantum Computational Results"
   ]
  },
  {
   "cell_type": "markdown",
   "metadata": {},
   "source": [
    "From the above computations you received six results, the maximum crop-yield and the number of evaluations for three different methods. The maximum yield values should be the same. If your yield values aren't all the same, rerun the algorithms. Sometimes the optimization process can miss the correct answer because of the randomness used to initialize the algorithm parameters.\n",
    "\n",
    "Run the code cell below to see if the maximum yields you computed are correct."
   ]
  },
  {
   "cell_type": "code",
   "execution_count": 20,
   "metadata": {},
   "outputs": [
    {
     "name": "stdout",
     "output_type": "stream",
     "text": [
      "Submitting your answer for ex1/partC. Please wait...\n",
      "Congratulations 🎉! Your answer is correct and has been submitted.\n"
     ]
    }
   ],
   "source": [
    "from qc_grader import grade_ex1c\n",
    "\n",
    "max_yield_qaoa = qaoa_result.fval\n",
    "max_yield_vqe = vqe_result.fval\n",
    "\n",
    "grade_ex1c(tonnage_qaoa=max_yield_qaoa, tonnage_vqe=max_yield_vqe)"
   ]
  },
  {
   "cell_type": "markdown",
   "metadata": {},
   "source": [
    "_You could always verify your result with the classical method, though this is only possible here given the size of the problem. Larger problems become more difficult to verify._"
   ]
  },
  {
   "cell_type": "markdown",
   "metadata": {},
   "source": [
    "## Simulating a Real Quantum Computer for the Crop-Yield Problem"
   ]
  },
  {
   "cell_type": "markdown",
   "metadata": {},
   "source": [
    "Sometimes one would want to _simulate_ a real quantum computer to see how the actual hardware may impact the performance of the algorithm. All quantum computers have an underlying architecture, different noise characeristics, and error rates. These three aspects impact how well the algorithm can perform on a given deivce. To test the impact a given quantum computer has on the QAOA instance, we can utilize a _fake_ instance of the device in Qiskit to tell our simulator what parameters to use. In this example we will be simulating `ibmq_johannesburg`, a device named after the city of Johannesburg in South Africa."
   ]
  },
  {
   "cell_type": "code",
   "execution_count": 21,
   "metadata": {},
   "outputs": [],
   "source": [
    "fake_device = Fake.FakeJohannesburg()"
   ]
  },
  {
   "cell_type": "markdown",
   "metadata": {},
   "source": [
    "We can inspect what this device _looks_ like using the Qiskit Jupyter tools, shown below. You do not need to know about this structure to execute quantum programs on a device, but it is useful to visualize the parameters."
   ]
  },
  {
   "cell_type": "code",
   "execution_count": 22,
   "metadata": {},
   "outputs": [
    {
     "name": "stderr",
     "output_type": "stream",
     "text": [
      "Matplotlib is building the font cache; this may take a moment.\n"
     ]
    },
    {
     "data": {
      "application/vnd.jupyter.widget-view+json": {
       "model_id": "cee7b3c4b87c4ddfa55ecb93ce1a4246",
       "version_major": 2,
       "version_minor": 0
      },
      "text/plain": [
       "VBox(children=(HTML(value=\"<h1 style='color:#ffffff;background-color:#000000;padding-top: 1%;padding-bottom: 1…"
      ]
     },
     "metadata": {},
     "output_type": "display_data"
    },
    {
     "data": {
      "text/plain": [
       "<FakeJohannesburg('fake_johannesburg')>"
      ]
     },
     "execution_count": 22,
     "metadata": {},
     "output_type": "execute_result"
    }
   ],
   "source": [
    "import qiskit.tools.jupyter\n",
    "\n",
    "fake_device"
   ]
  },
  {
   "cell_type": "markdown",
   "metadata": {},
   "source": [
    "The three aforementioned components of a quantum computer are represented as a noise model, coupling map, and the basis gate set. The noise model is a representation of how the noise and errors in the computer behave. The coupling map and basis gate set are core to the architecture of the device. The coupling map represents how the physical qubits can interact whereas the basis gate set is analogous to the set of fundamental computatonal instructions we can use. You can see the coupling map in the above widget as the lines connecting each qubit in the architecture diagram.\n",
    "\n",
    "To simulate `ibmq_johannesburg`, we must pass these three components to our Aer simulator."
   ]
  },
  {
   "cell_type": "code",
   "execution_count": 23,
   "metadata": {},
   "outputs": [],
   "source": [
    "# Create the noise model, which contains the basis gate set\n",
    "noise_model = NoiseModel.from_backend(fake_device)\n",
    "\n",
    "# Get the coupling map\n",
    "coupling_map = fake_device.configuration().coupling_map"
   ]
  },
  {
   "cell_type": "markdown",
   "metadata": {},
   "source": [
    "Next we create a new `QuantumInstance` with these parameters"
   ]
  },
  {
   "cell_type": "code",
   "execution_count": 24,
   "metadata": {},
   "outputs": [],
   "source": [
    "fake_instance = QuantumInstance(\n",
    "    backend=backend,\n",
    "    basis_gates=noise_model.basis_gates,\n",
    "    coupling_map=coupling_map,\n",
    "    noise_model=noise_model,\n",
    "    seed_simulator=algorithm_globals.random_seed,\n",
    "    seed_transpiler=algorithm_globals.random_seed,\n",
    ")"
   ]
  },
  {
   "cell_type": "markdown",
   "metadata": {},
   "source": [
    "We can then execute the `QAOA` from before on this new _fake_ quantum device."
   ]
  },
  {
   "cell_type": "code",
   "execution_count": 25,
   "metadata": {},
   "outputs": [
    {
     "name": "stdout",
     "output_type": "stream",
     "text": [
      "Solution found using the QAOA method:\n",
      "\n",
      "Maximum crop-yield is 19.0 tons\n",
      "Crops used are: \n",
      "\t1.0 ha of Wheat\n",
      "\t0.0 ha of Soybeans\n",
      "\t1.0 ha of Maize\n",
      "\t1.0 ha of PushPull\n",
      "\n",
      "The solution was found within 3 evaluations of QAOA.\n"
     ]
    }
   ],
   "source": [
    "# Get QAOA result\n",
    "qaoa_result, qaoa_eval_count = get_QAOA_solution_for(cropyield, fake_instance)\n",
    "\n",
    "# Format and print result\n",
    "print(\"Solution found using the QAOA method:\\n\")\n",
    "print(f\"Maximum crop-yield is {qaoa_result.fval} tons\")\n",
    "print(f\"Crops used are: \")\n",
    "for cropHectares, cropName in zip(qaoa_result.x, qaoa_result.variable_names):\n",
    "    print(f\"\\t{cropHectares} ha of {cropName}\")\n",
    "\n",
    "print(f\"\\nThe solution was found within {qaoa_eval_count} evaluations of QAOA.\")"
   ]
  },
  {
   "cell_type": "markdown",
   "metadata": {},
   "source": [
    "### Scaling of the Quantum Solution vs Classical"
   ]
  },
  {
   "cell_type": "markdown",
   "metadata": {},
   "source": [
    "When we created our quadratic program for the crop-yield problem, we saw that the Ising Model required 6 qubits. We had constrained our problem such that we could only plant up to 1 hectare per crop. However, we could change the model so that we can plot 3 hectares per crop, upto our maximum available farm area of 3 hectares.\n",
    "\n",
    "How many qubits would this ising model require?\n",
    "\n",
    "---\n",
    "\n",
    "Furthermore, what if we had more land to farm? We know that this problem is NP-Hard and thus classical solutions are mostly found using heuristics. This is the core reason why quantum computers are promising to solve these kinds of problems. But what are the resource requirements for the quantum solution, with a larger farm and crops that can be planted in more hectares?\n",
    "\n",
    "To illustrate this, we've provided a function that returns the number of qubits required by the underlying Ising Model for the Crop-Yield Problem. We then see the estimated number of qubits needed for different problem parameters. Feel free to modify the variables being used to see how the qubit resource requirements change."
   ]
  },
  {
   "cell_type": "code",
   "execution_count": 53,
   "metadata": {
    "scrolled": true
   },
   "outputs": [
    {
     "name": "stdout",
     "output_type": "stream",
     "text": [
      "1 1 5\n",
      "1 2 9\n",
      "1 3 9\n",
      "1 4 13\n",
      "2 1 6\n",
      "2 2 10\n",
      "2 3 10\n",
      "2 4 14\n",
      "3 1 6\n",
      "3 2 10\n",
      "3 3 10\n",
      "3 4 14\n",
      "4 1 7\n",
      "4 2 11\n",
      "4 3 11\n",
      "4 4 15\n"
     ]
    }
   ],
   "source": [
    "# Function to estimate the number of qubits required\n",
    "def estimate_number_of_qubits_required_for(max_hectares_per_crop, hectares_available):\n",
    "    return int(\n",
    "        4 * np.ceil(np.log2(max_hectares_per_crop + 1))\n",
    "        + np.ceil(np.log2(hectares_available + 1))\n",
    "    )\n",
    "\n",
    "# Our new problem parameters\n",
    "#hectares_available = 3\n",
    "#max_hectares_per_crop = 1\n",
    "\n",
    "# Retrieving the number of qubits required\n",
    "#number_of_qubits_required = estimate_number_of_qubits_required_for(\n",
    "#    max_hectares_per_crop=max_hectares_per_crop, hectares_available=hectares_available\n",
    "#)\n",
    "\n",
    "#print(\n",
    "#    f\"Optimizing a {hectares_available} ha farm with each crop taking up to {max_hectares_per_crop} ha each,\",\n",
    "#    f\"the computation is estimated to require {number_of_qubits_required} qubits.\",\n",
    "#)\n",
    "\n",
    "for hectares_available in range(1,5):\n",
    "    for max_hectares_per_crop in range(1,5):\n",
    "        number_of_qubits_required = estimate_number_of_qubits_required_for(max_hectares_per_crop=max_hectares_per_crop, hectares_available=hectares_available)\n",
    "        print(hectares_available, max_hectares_per_crop, number_of_qubits_required)"
   ]
  },
  {
   "cell_type": "markdown",
   "metadata": {},
   "source": [
    "The number of qubits required is related to the constraints in the quadratic program and how the integer variables are converted to binary variables. In fact, the scaling of the number of qubits, as a function of the hectares available, is logarithmic in nature; owing to this conversion."
   ]
  },
  {
   "cell_type": "markdown",
   "metadata": {},
   "source": [
    "## Running on real quantum hardware"
   ]
  },
  {
   "cell_type": "markdown",
   "metadata": {},
   "source": [
    "To use the IBM Quantum platform is easy. First you need to load the account you enabled in the week 0 content. If you didn't complete this, follow this [quick guide](https://quantum-computing.ibm.com/lab/docs/iql/manage/account/ibmq) on connecting your IBM Quantum account with Qiskit in python and Jupyter."
   ]
  },
  {
   "cell_type": "code",
   "execution_count": 54,
   "metadata": {},
   "outputs": [
    {
     "data": {
      "text/plain": [
       "<AccountProvider for IBMQ(hub='ibm-q', group='open', project='main')>"
      ]
     },
     "execution_count": 54,
     "metadata": {},
     "output_type": "execute_result"
    }
   ],
   "source": [
    "IBMQ.load_account()"
   ]
  },
  {
   "cell_type": "markdown",
   "metadata": {},
   "source": [
    "IBM Quantum backends are accessed through a provider, which manages the devices to which you have access. For this challenge, you have access to the new `ibm_perth` quantum computer! Typically, you would find your provider details under your [IBM Quantum account details](https://quantum-computing.ibm.com/account). Under your account you can see the different hubs, groups, and projects you are a part of. Qiskit allows us to retrieve a provider using just the hub, group, and project as follows:\n",
    "\n",
    "```python\n",
    "provider = IBMQ.get_provider(hub=\"ibm-q\", group=\"open\", project=\"main\")\n",
    "```\n",
    "\n",
    "However, because we have given you special access for this challenge, we are going to retrive the provider using a different method. Execute the code cell below to retrieve the correct provider."
   ]
  },
  {
   "cell_type": "code",
   "execution_count": 55,
   "metadata": {},
   "outputs": [
    {
     "name": "stdout",
     "output_type": "stream",
     "text": [
      "Yay! The expected provider was found!\n"
     ]
    }
   ],
   "source": [
    "provider = None\n",
    "for prov in IBMQ.providers():\n",
    "    if (\n",
    "        \"iqc-africa-21\" in prov.credentials.hub\n",
    "        and \"q-challenge\" in prov.credentials.group\n",
    "        and \"ex1\" in prov.credentials.project\n",
    "    ):\n",
    "        # Correct provider found\n",
    "        provider = prov\n",
    "        \n",
    "if provider == None:\n",
    "    print(\"ERROR: The expected provider was not found!\")\n",
    "else:\n",
    "    print(\"Yay! The expected provider was found!\")"
   ]
  },
  {
   "cell_type": "markdown",
   "metadata": {},
   "source": [
    "If the above code cell returned an error, you may not yet have access to the real quantum computer. The list of participants is updated daily, so you may have to wait some time before the correct provider appears. If you need assistance, send a message to the challenge Slack channel [#challenge-africa-2021](https://qiskit.slack.com/archives/C02C8MKP153) and make sure to tag the admin team with [@africa_admin](#)."
   ]
  },
  {
   "cell_type": "markdown",
   "metadata": {},
   "source": [
    "------\n",
    "\n",
    "To retrieve a backend from the provider, one needs only request it by name. For example, we can request `ibm_perth` as follows."
   ]
  },
  {
   "cell_type": "code",
   "execution_count": 56,
   "metadata": {},
   "outputs": [],
   "source": [
    "backend_real = provider.get_backend(\"ibm_perth\")"
   ]
  },
  {
   "cell_type": "markdown",
   "metadata": {},
   "source": [
    "We can also list all backends available through a given backend. In this example we use the _open_ provider as it has access to all open devices and simulators, instead of the limited few for the challenge."
   ]
  },
  {
   "cell_type": "code",
   "execution_count": 57,
   "metadata": {},
   "outputs": [
    {
     "name": "stdout",
     "output_type": "stream",
     "text": [
      "ibmq_qasm_simulator\n",
      "ibmq_armonk\n",
      "ibmq_santiago\n",
      "ibmq_bogota\n",
      "ibmq_lima\n",
      "ibmq_belem\n",
      "ibmq_quito\n",
      "simulator_statevector\n",
      "simulator_mps\n",
      "simulator_extended_stabilizer\n",
      "simulator_stabilizer\n",
      "ibmq_manila\n"
     ]
    }
   ],
   "source": [
    "for _backend in IBMQ.get_provider(hub='ibm-q', group='open', project='main').backends():\n",
    "    print(_backend.name())"
   ]
  },
  {
   "cell_type": "markdown",
   "metadata": {},
   "source": [
    "Qiskit provides visual tools to view backend information in a jupyter notebook. To accomplish this, one needs to import the `jupyter` submodule and call the appropriate _magic comment_. With `qiskit_backend_overview` you can view all devices accessible by the current IBMQ account. Notice how it does not include simulators. Furthermore, you should see that all devices available through the _open group_ have at most 5 qubits. This is a problem for solving the crop-yield problem we created earlier, as we showed it requires 6 qubits.\n",
    "\n",
    "To demonstrate how a real quantum device is used, a smaller `QuadraticProgram` is provided, requiring a maximum of 4 qubits."
   ]
  },
  {
   "cell_type": "code",
   "execution_count": 59,
   "metadata": {},
   "outputs": [
    {
     "data": {
      "application/vnd.jupyter.widget-view+json": {
       "model_id": "b25d17a6fe024f709d134d293a882b78",
       "version_major": 2,
       "version_minor": 0
      },
      "text/plain": [
       "VBox(children=(HTML(value=\"<h2 style ='color:#ffffff; background-color:#000000;padding-top: 1%; padding-bottom…"
      ]
     },
     "metadata": {},
     "output_type": "display_data"
    }
   ],
   "source": [
    "%qiskit_backend_overview"
   ]
  },
  {
   "cell_type": "markdown",
   "metadata": {},
   "source": [
    "<div class=\"alert alert-block alert-warning\">\n",
    "    \n",
    "If you want access to larger and more sophisticated quantum computers through IBM, see if your university or company is part of the [IBM Quantum Network](https://www.ibm.com/quantum-computing/network/members/). Researchers are institutions that are part of the [African Research Universities Alliance (ARUA)](https://arua.org.za/) can also apply for access through the University of the Witwatersrand, in South Africa; which is a member of the IBM Quantum Network. If you are a researcher, you can also apply for access through the [IBM Quantum Researchers Program](https://www.ibm.com/quantum-computing/researchers-program/). If you're a student at a highschool or university, you can ask your teachers or lecturers to apply for access through the [IBM Quantum Educators Program](https://www.ibm.com/quantum-computing/educators-program/).\n",
    "\n",
    "</div>"
   ]
  },
  {
   "cell_type": "markdown",
   "metadata": {},
   "source": [
    "Given that we have imported `qiskit.tools.jupyter`, Jupyter will now display a helpful widget when an IBMQ backend is displayed. We do not have to use a _magic comment_ here as the jupyter submodule defines how some variables are displayed in a jupyter notebook, without requiring a _magic comment_."
   ]
  },
  {
   "cell_type": "code",
   "execution_count": 60,
   "metadata": {},
   "outputs": [
    {
     "data": {
      "application/vnd.jupyter.widget-view+json": {
       "model_id": "95e790d277c348afad29f3f9aff2c804",
       "version_major": 2,
       "version_minor": 0
      },
      "text/plain": [
       "VBox(children=(HTML(value=\"<h1 style='color:#ffffff;background-color:#000000;padding-top: 1%;padding-bottom: 1…"
      ]
     },
     "metadata": {},
     "output_type": "display_data"
    },
    {
     "data": {
      "text/plain": [
       "<IBMQBackend('ibm_perth') from IBMQ(hub='iqc-africa-21-6', group='q-challenge-3', project='ex1-recyhJMyOHX1cH47o')>"
      ]
     },
     "execution_count": 60,
     "metadata": {},
     "output_type": "execute_result"
    }
   ],
   "source": [
    "backend_real"
   ]
  },
  {
   "cell_type": "markdown",
   "metadata": {},
   "source": [
    "We can create a new `QuantumInstance` object to contain our real quantum computer backend, similar to how we created one to manage our simulator. For real devices, there is an extra parameter we can set: `shots`. The output of a quantum computing algorithm is probabilistic. Therefore, we must execute the quantum computation multiple times, sampling the outputs to estimate their probabilities. The number of `shots` is the number of executions of the quantum computation. Here we set out `QuantumInstance` to use the least busy backend with 2048 shots."
   ]
  },
  {
   "cell_type": "code",
   "execution_count": 61,
   "metadata": {},
   "outputs": [],
   "source": [
    "quantum_instance_real = QuantumInstance(backend_real, shots=2048)"
   ]
  },
  {
   "cell_type": "markdown",
   "metadata": {},
   "source": [
    "The VQE algorithm and QAOA are iterative, meaning that they incorporate a classical-quantum loop which repeats certain computations, _hopefully_ converging to a valid solution. In each iteration, or evaluation, the quantum backend will execute the quantum operations 2048 times. Each shot is quite fast, so we do not have to worry about a significant increase in processing time by using more shots."
   ]
  },
  {
   "cell_type": "markdown",
   "metadata": {},
   "source": [
    "----\n",
    "We now define our small crop-yield problem, which only requires 4 qubits. In this example, only Wheat and Maize are used. The model is altered to illustrate the impact of growing too much of a single crop, with the yield decreasing as the number of hectares of a single crop is increased. However, utilizing both wheat and maize increases yield, showing the benefits of intercropping.\n",
    "\n",
    "**NB:** The maximum number of hectares available is 4, but given that the model would never exceed this limit, the linear constraint defining the maximum number of hectares is not included. This reduces the number of qubits required from 6 to 4."
   ]
  },
  {
   "cell_type": "code",
   "execution_count": 62,
   "metadata": {},
   "outputs": [
    {
     "name": "stdout",
     "output_type": "stream",
     "text": [
      "\\ This file has been generated by DOcplex\n",
      "\\ ENCODING=ISO-8859-1\n",
      "\\Problem name: Small Crop-Yield\n",
      "\n",
      "Maximize\n",
      " obj: 3 Wheat + 3 Maize + [ - 4 Wheat^2 + 2 Wheat*Maize - 4 Maize^2 ]/2\n",
      "Subject To\n",
      "\n",
      "Bounds\n",
      "       Wheat <= 2\n",
      "       Maize <= 2\n",
      "\n",
      "Generals\n",
      " Wheat Maize\n",
      "End\n",
      "\n"
     ]
    }
   ],
   "source": [
    "# Create a small crop-yield example quadratic program\n",
    "cropyield_small = QuadraticProgram(name=\"Small Crop-Yield\")\n",
    "\n",
    "# Add two variables, indicating whether we grow 0, 1, or 2 hectares for two different crops\n",
    "cropyield_small.integer_var(lowerbound=0, upperbound=2, name=\"Wheat\")\n",
    "cropyield_small.integer_var(lowerbound=0, upperbound=2, name=\"Maize\")\n",
    "\n",
    "# Add the objective function defining the yield in tonnes\n",
    "cropyield_small.maximize(\n",
    "    linear={\"Wheat\": 3, \"Maize\": 3},\n",
    "    quadratic={(\"Maize\", \"Wheat\"): 1, (\"Maize\", \"Maize\"): -2, (\"Wheat\", \"Wheat\"): -2},\n",
    ")\n",
    "\n",
    "# This linear constraint is not used as the model never reaches this. This is because the\n",
    "# sum of the upperbounds on both variables is 4 already. If this constraint is applied, the\n",
    "# model would require 6 qubits instead of 4.\n",
    "# cropyield_small.linear_constraint(linear={\"Wheat\": 1, \"Maize\": 1}, sense=\"<=\", rhs=4)\n",
    "\n",
    "print(cropyield_small)"
   ]
  },
  {
   "cell_type": "markdown",
   "metadata": {},
   "source": [
    "Here we verify that our small crop-yield problem requires only 4 qubits."
   ]
  },
  {
   "cell_type": "code",
   "execution_count": 63,
   "metadata": {},
   "outputs": [
    {
     "name": "stdout",
     "output_type": "stream",
     "text": [
      "Number of qubits required is 4\n"
     ]
    }
   ],
   "source": [
    "# Estimate the number of qubits required\n",
    "ising_operations_small, _ = (\n",
    "    QuadraticProgramToQubo()\n",
    "    .convert(\n",
    "        cropyield_small,\n",
    "    )\n",
    "    .to_ising()\n",
    ")\n",
    "print(f\"Number of qubits required is {ising_operations_small.num_qubits}\")"
   ]
  },
  {
   "cell_type": "markdown",
   "metadata": {},
   "source": [
    "### Exercise 1d: Submitting a job to a real quantum computer"
   ]
  },
  {
   "cell_type": "markdown",
   "metadata": {},
   "source": [
    "Now that we know the problem can be run on our chosen device, we can execute the VQE algorithm. In this case we will set the optimizer, with a maximum number of iterations of 1, so that we do not occupy the device for too long. Our answer will be incorrect, but we only want to see how to send a quantum program to a real quantum computer."
   ]
  },
  {
   "cell_type": "code",
   "execution_count": 64,
   "metadata": {},
   "outputs": [
    {
     "name": "stderr",
     "output_type": "stream",
     "text": [
      "/opt/conda/lib/python3.8/site-packages/qiskit/utils/run_circuits.py:695: UserWarning: max_credits is not a recognized runtime option and may be ignored by the backend.\n",
      "  return backend.run(circuits, **run_kwargs)\n"
     ]
    }
   ],
   "source": [
    "# Create our optimizer\n",
    "optimizer = COBYLA(maxiter=1)\n",
    "\n",
    "## Get result from real device with VQE\n",
    "vqe_result_real, vqe_eval_count_real = get_VQE_solution_for(\n",
    "    cropyield_small, quantum_instance_real, optimizer=optimizer\n",
    ")"
   ]
  },
  {
   "cell_type": "markdown",
   "metadata": {},
   "source": [
    "Qiskit uses `jobs` to track computations and their results on remote devices and simulators. We can query the backend object for the jobs it received, which would be those created by the VQE algorithm."
   ]
  },
  {
   "cell_type": "code",
   "execution_count": 65,
   "metadata": {},
   "outputs": [
    {
     "name": "stdout",
     "output_type": "stream",
     "text": [
      "VQE job created at 2021-09-14 18:02:50.625000+00:00 and has a job id of 6140e3ca744103755932c22d\n"
     ]
    }
   ],
   "source": [
    "# Retrieve the VQE job sent\n",
    "job_real = backend_real.jobs()[0]\n",
    "\n",
    "print(f\"VQE job created at {job_real.creation_date()} and has a job id of {job_real.job_id()}\")"
   ]
  },
  {
   "cell_type": "markdown",
   "metadata": {},
   "source": [
    "Put the job id for your the above job into the cell below and execute the code cell."
   ]
  },
  {
   "cell_type": "code",
   "execution_count": 66,
   "metadata": {},
   "outputs": [
    {
     "name": "stdout",
     "output_type": "stream",
     "text": [
      "Submitting your answer for ex1/partD. Please wait...\n",
      "Congratulations 🎉! Your answer is correct and has been submitted.\n"
     ]
    }
   ],
   "source": [
    "from qc_grader import grade_ex1d\n",
    "\n",
    "job_id = '6140e3ca744103755932c22d'\n",
    "\n",
    "grade_ex1d(job_id)"
   ]
  },
  {
   "cell_type": "markdown",
   "metadata": {},
   "source": [
    "You have now completed the first lab of the IBM Quantum Challenge Africa 2021! Make sure that you are on the [Qiskit Slack channel](https://ibm.co/Africa_Slack) so you can ask questions and talk to other participants. There are two more labs left in the challenge, which are more difficult than this introductory lab, covering quantum computing for finance and HIV."
   ]
  },
  {
   "cell_type": "markdown",
   "metadata": {},
   "source": [
    "## References"
   ]
  },
  {
   "cell_type": "markdown",
   "metadata": {},
   "source": [
    "[1] A. A. Nel, ‘Crop rotation in the summer rainfall area of South Africa’, South African Journal of Plant and Soil, vol. 22, no. 4, pp. 274–278, Jan. 2005, doi: 10.1080/02571862.2005.10634721.\n",
    "\n",
    "[2] H. Ritchie and M. Roser, ‘Crop yields’, Our World in Data, 2013, [Online]. Available: https://ourworldindata.org/crop-yields.\n",
    "\n",
    "[3] G. Brion, ‘Controlling Pests with Plants: The power of intercropping’, UVM Food Feed, Jan. 09, 2014. https://learn.uvm.edu/foodsystemsblog/2014/01/09/controlling-pests-with-plants-the-power-of-intercropping/ (accessed Feb. 15, 2021).\n",
    "\n",
    "[4] N. O. Ogot, J. O. Pittchar, C. A. O. Midega, and Z. R. Khan, ‘Attributes of push-pull technology in enhancing food and nutrition security’, African Journal of Agriculture and Food Security, vol. 6, pp. 229–242, Mar. 2018."
   ]
  },
  {
   "cell_type": "code",
   "execution_count": 67,
   "metadata": {},
   "outputs": [
    {
     "name": "stderr",
     "output_type": "stream",
     "text": [
      "/opt/conda/lib/python3.8/site-packages/qiskit/aqua/__init__.py:86: DeprecationWarning: The package qiskit.aqua is deprecated. It was moved/refactored to qiskit-terra For more information see <https://github.com/Qiskit/qiskit-aqua/blob/main/README.md#migration-guide>\n",
      "  warn_package('aqua', 'qiskit-terra')\n"
     ]
    },
    {
     "data": {
      "text/html": [
       "<h3>Version Information</h3><table><tr><th>Qiskit Software</th><th>Version</th></tr><tr><td><code>qiskit-terra</code></td><td>0.18.1</td></tr><tr><td><code>qiskit-aer</code></td><td>0.8.2</td></tr><tr><td><code>qiskit-ignis</code></td><td>0.6.0</td></tr><tr><td><code>qiskit-ibmq-provider</code></td><td>0.16.0</td></tr><tr><td><code>qiskit-aqua</code></td><td>0.9.4</td></tr><tr><td><code>qiskit</code></td><td>0.29.0</td></tr><tr><td><code>qiskit-nature</code></td><td>0.1.5</td></tr><tr><td><code>qiskit-finance</code></td><td>0.2.0</td></tr><tr><td><code>qiskit-optimization</code></td><td>0.2.1</td></tr><tr><td><code>qiskit-machine-learning</code></td><td>0.2.0</td></tr><tr><th>System information</th></tr><tr><td>Python</td><td>3.8.10 | packaged by conda-forge | (default, May 11 2021, 07:01:05) \n",
       "[GCC 9.3.0]</td></tr><tr><td>OS</td><td>Linux</td></tr><tr><td>CPUs</td><td>8</td></tr><tr><td>Memory (Gb)</td><td>31.400043487548828</td></tr><tr><td colspan='2'>Tue Sep 14 18:10:57 2021 UTC</td></tr></table>"
      ],
      "text/plain": [
       "<IPython.core.display.HTML object>"
      ]
     },
     "metadata": {},
     "output_type": "display_data"
    },
    {
     "data": {
      "text/html": [
       "<div style='width: 100%; background-color:#d5d9e0;padding-left: 10px; padding-bottom: 10px; padding-right: 10px; padding-top: 5px'><h3>This code is a part of Qiskit</h3><p>&copy; Copyright IBM 2017, 2021.</p><p>This code is licensed under the Apache License, Version 2.0. You may<br>obtain a copy of this license in the LICENSE.txt file in the root directory<br> of this source tree or at http://www.apache.org/licenses/LICENSE-2.0.<p>Any modifications or derivative works of this code must retain this<br>copyright notice, and modified files need to carry a notice indicating<br>that they have been altered from the originals.</p></div>"
      ],
      "text/plain": [
       "<IPython.core.display.HTML object>"
      ]
     },
     "metadata": {},
     "output_type": "display_data"
    }
   ],
   "source": [
    "import qiskit.tools.jupyter\n",
    "\n",
    "%qiskit_version_table\n",
    "%qiskit_copyright"
   ]
  },
  {
   "cell_type": "code",
   "execution_count": null,
   "metadata": {},
   "outputs": [],
   "source": []
  }
 ],
 "metadata": {
  "kernelspec": {
   "display_name": "Qiskit v0.29.0",
   "language": "python",
   "name": "python3"
  },
  "language_info": {
   "codemirror_mode": {
    "name": "ipython",
    "version": 3
   },
   "file_extension": ".py",
   "mimetype": "text/x-python",
   "name": "python",
   "nbconvert_exporter": "python",
   "pygments_lexer": "ipython3",
   "version": "3.8.10"
  },
  "toc": {
   "base_numbering": 1,
   "nav_menu": {},
   "number_sections": true,
   "sideBar": true,
   "skip_h1_title": false,
   "title_cell": "Table of Contents",
   "title_sidebar": "Contents",
   "toc_cell": false,
   "toc_position": {
    "height": "calc(100% - 180px)",
    "left": "10px",
    "top": "150px",
    "width": "195px"
   },
   "toc_section_display": true,
   "toc_window_display": true
  },
  "varInspector": {
   "cols": {
    "lenName": 16,
    "lenType": 16,
    "lenVar": 40
   },
   "kernels_config": {
    "python": {
     "delete_cmd_postfix": "",
     "delete_cmd_prefix": "del ",
     "library": "var_list.py",
     "varRefreshCmd": "print(var_dic_list())"
    },
    "r": {
     "delete_cmd_postfix": ") ",
     "delete_cmd_prefix": "rm(",
     "library": "var_list.r",
     "varRefreshCmd": "cat(var_dic_list()) "
    }
   },
   "oldHeight": 676.85,
   "position": {
    "height": "698.85px",
    "left": "2014px",
    "right": "20px",
    "top": "158px",
    "width": "477px"
   },
   "types_to_exclude": [
    "module",
    "function",
    "builtin_function_or_method",
    "instance",
    "_Feature"
   ],
   "varInspector_section_display": "block",
   "window_display": false
  },
  "widgets": {
   "application/vnd.jupyter.widget-state+json": {
    "state": {
     "00ce9cf2a03647adadd163a967199fda": {
      "model_module": "@jupyter-widgets/base",
      "model_module_version": "1.2.0",
      "model_name": "LayoutModel",
      "state": {
       "margin": "0px 5px 0px 0px",
       "width": "32px"
      }
     },
     "010cfb8b11244eeb84e5050fe8842e54": {
      "model_module": "@jupyter-widgets/controls",
      "model_module_version": "1.5.0",
      "model_name": "DescriptionStyleModel",
      "state": {
       "description_width": ""
      }
     },
     "011f73071cec4eedafc5fbed8034c5d6": {
      "model_module": "@jupyter-widgets/base",
      "model_module_version": "1.2.0",
      "model_name": "LayoutModel",
      "state": {}
     },
     "012e9fee1e6b489aa65b15a20f5e8871": {
      "model_module": "@jupyter-widgets/base",
      "model_module_version": "1.2.0",
      "model_name": "LayoutModel",
      "state": {
       "max_width": "180px"
      }
     },
     "0136955e5b184960b29e6aaab0386a93": {
      "model_module": "@jupyter-widgets/controls",
      "model_module_version": "1.5.0",
      "model_name": "DescriptionStyleModel",
      "state": {
       "description_width": ""
      }
     },
     "015365d64aba4b45a2d0e31b60f98c14": {
      "model_module": "@jupyter-widgets/base",
      "model_module_version": "1.2.0",
      "model_name": "LayoutModel",
      "state": {
       "justify_content": "center"
      }
     },
     "0197eeee054c4f5689a5f32596881fe9": {
      "model_module": "@jupyter-widgets/controls",
      "model_module_version": "1.5.0",
      "model_name": "HTMLModel",
      "state": {
       "layout": "IPY_MODEL_16a3389c6c5f4ce4a9a4a5bd2b1dfbbc",
       "style": "IPY_MODEL_d11e29940bf24bc884a9181b0a752bc7",
       "value": "<table><style>\ntable {\n    border-collapse: collapse;\n    width: auto;\n}\n\nth, td {\n    text-align: left;\n    padding: 8px;\n}\n\ntr:nth-child(even) {background-color: #f6f6f6;};\n</style><tr><th></th><th>Type</th><th>Gate error</th></tr><tr><td><font style='font-weight:bold'>cx3_5</font></td><td>cx</td><td>0.00697</td></tr><tr><td><font style='font-weight:bold'>cx5_3</font></td><td>cx</td><td>0.00697</td></tr><tr><td><font style='font-weight:bold'>cx3_1</font></td><td>cx</td><td>0.00759</td></tr><tr><td><font style='font-weight:bold'>cx1_3</font></td><td>cx</td><td>0.00759</td></tr></table>"
      }
     },
     "01dcffea516e4116a1424727155216d4": {
      "model_module": "@jupyter-widgets/controls",
      "model_module_version": "1.5.0",
      "model_name": "HTMLModel",
      "state": {
       "layout": "IPY_MODEL_a5a7adb053684e43a9cb21846eb49083",
       "style": "IPY_MODEL_440b376cae6b4b419edb03637a804db4",
       "value": "<h5>97.6 / 90.7 us</h5>"
      }
     },
     "020b63df67754b09b14b10503350c46b": {
      "model_module": "@jupyter-widgets/base",
      "model_module_version": "1.2.0",
      "model_name": "LayoutModel",
      "state": {
       "justify_content": "center"
      }
     },
     "02505a76ee8d4311be502ac115f0f42a": {
      "model_module": "@jupyter-widgets/controls",
      "model_module_version": "1.5.0",
      "model_name": "DescriptionStyleModel",
      "state": {
       "description_width": ""
      }
     },
     "02851be7b7084d5ea353f92a83402118": {
      "model_module": "@jupyter-widgets/controls",
      "model_module_version": "1.5.0",
      "model_name": "ProgressStyleModel",
      "state": {
       "bar_color": "#71cddd",
       "description_width": ""
      }
     },
     "02dfab5a97124535b0de4eb77a810377": {
      "model_module": "@jupyter-widgets/controls",
      "model_module_version": "1.5.0",
      "model_name": "GridBoxModel",
      "state": {
       "children": [
        "IPY_MODEL_88e16f00f5fe4763a59c28c781582e34",
        "IPY_MODEL_5cc4f99a42e047ce8b7cd2ba42cb8715",
        "IPY_MODEL_aac6be6042fd482aafb1563ed7f13df8",
        "IPY_MODEL_579bc61cac944234892e59146e71c007"
       ],
       "layout": "IPY_MODEL_c78d0658e1844a798e8094f9b2559fbb"
      }
     },
     "039bb17d8ace48bb907f735b43c4bff8": {
      "model_module": "@jupyter-widgets/base",
      "model_module_version": "1.2.0",
      "model_name": "LayoutModel",
      "state": {
       "align_items": "center",
       "display": "inline-flex",
       "flex_flow": "column"
      }
     },
     "0560453464ce41798d1757c52b998d3c": {
      "model_module": "@jupyter-widgets/base",
      "model_module_version": "1.2.0",
      "model_name": "LayoutModel",
      "state": {
       "justify_content": "center"
      }
     },
     "05dc34515d2044d0a69d29cf0c0fd39d": {
      "model_module": "@jupyter-widgets/base",
      "model_module_version": "1.2.0",
      "model_name": "LayoutModel",
      "state": {
       "justify_content": "center"
      }
     },
     "067254cf45114641b7be272bc5f42b17": {
      "model_module": "@jupyter-widgets/controls",
      "model_module_version": "1.5.0",
      "model_name": "LabelModel",
      "state": {
       "layout": "IPY_MODEL_959f75b03e0b4d5f9f63a554d8ff346b",
       "style": "IPY_MODEL_9c9b7fda11b04221ab39c72424cf57b4",
       "value": "Avg. Meas. Err."
      }
     },
     "06f6c680eac74c8ba6786a50b9f36b54": {
      "model_module": "@jupyter-widgets/controls",
      "model_module_version": "1.5.0",
      "model_name": "DescriptionStyleModel",
      "state": {
       "description_width": ""
      }
     },
     "071f39abe4644d58a3dafd8c91da903f": {
      "model_module": "@jupyter-widgets/base",
      "model_module_version": "1.2.0",
      "model_name": "LayoutModel",
      "state": {
       "margin": "5px 0px 0px 0px"
      }
     },
     "07595ff2f9fd4b368596106f24020bdb": {
      "model_module": "@jupyter-widgets/controls",
      "model_module_version": "1.5.0",
      "model_name": "DescriptionStyleModel",
      "state": {
       "description_width": ""
      }
     },
     "07607bb4c14f4ddfabb583d0e3fb8738": {
      "model_module": "@jupyter-widgets/controls",
      "model_module_version": "1.5.0",
      "model_name": "DescriptionStyleModel",
      "state": {
       "description_width": ""
      }
     },
     "076db467860a4db3aa3a2c7ddd606fb3": {
      "model_module": "@jupyter-widgets/base",
      "model_module_version": "1.2.0",
      "model_name": "LayoutModel",
      "state": {
       "width": "70px"
      }
     },
     "0822b1204e3345dc8c8e6fecb94ddf28": {
      "model_module": "@jupyter-widgets/controls",
      "model_module_version": "1.5.0",
      "model_name": "DescriptionStyleModel",
      "state": {
       "description_width": ""
      }
     },
     "086334e1b1544ec2b18768520f8a120a": {
      "model_module": "@jupyter-widgets/controls",
      "model_module_version": "1.5.0",
      "model_name": "HTMLModel",
      "state": {
       "layout": "IPY_MODEL_cc658fa277604d70b5e1d4b08908879f",
       "style": "IPY_MODEL_2b63d3b2c654421bba1bb1ad10832774",
       "value": "<div><font style='font-weight:bold'>last_update_date</font>: Tue 14 September 2021 at 15:30 UTC</div>"
      }
     },
     "087cc4040b5f47139fbaea1e46caea61": {
      "model_module": "@jupyter-widgets/base",
      "model_module_version": "1.2.0",
      "model_name": "LayoutModel",
      "state": {}
     },
     "09366f520ae34355af4d6ea4aa63de4d": {
      "model_module": "@jupyter-widgets/controls",
      "model_module_version": "1.5.0",
      "model_name": "DescriptionStyleModel",
      "state": {
       "description_width": ""
      }
     },
     "09767438b46a482f9de09da02446d218": {
      "model_module": "@jupyter-widgets/controls",
      "model_module_version": "1.5.0",
      "model_name": "HTMLModel",
      "state": {
       "layout": "IPY_MODEL_ef442ad5d3f44043bbf4efca29ec334c",
       "style": "IPY_MODEL_335cacc0773f4a78bb96026130dfae5d",
       "value": "<h5 style='color:#dc267f'>False</h5>"
      }
     },
     "099e1459fe3444018684b8307ba8380d": {
      "model_module": "@jupyter-widgets/controls",
      "model_module_version": "1.5.0",
      "model_name": "DescriptionStyleModel",
      "state": {
       "description_width": ""
      }
     },
     "0a408f4c73c648f6910c987328937778": {
      "model_module": "@jupyter-widgets/base",
      "model_module_version": "1.2.0",
      "model_name": "LayoutModel",
      "state": {
       "justify_content": "center"
      }
     },
     "0a57b786a5a040cd812830781b306430": {
      "model_module": "@jupyter-widgets/controls",
      "model_module_version": "1.5.0",
      "model_name": "HBoxModel",
      "state": {
       "children": [
        "IPY_MODEL_7669a5a2546440c4b68127ae2d812b6a",
        "IPY_MODEL_e845d65acee6444bbdaa7a2e4d86cd6d"
       ],
       "layout": "IPY_MODEL_0f4b0d2658c8466daf501c4ced3d6d8d"
      }
     },
     "0a926b6e55b04280a1ea4367d9ab5f08": {
      "model_module": "@jupyter-widgets/controls",
      "model_module_version": "1.5.0",
      "model_name": "DescriptionStyleModel",
      "state": {
       "description_width": ""
      }
     },
     "0ab2c5d207864a938d0fbf08013b3a78": {
      "model_module": "@jupyter-widgets/controls",
      "model_module_version": "1.5.0",
      "model_name": "DescriptionStyleModel",
      "state": {
       "description_width": ""
      }
     },
     "0b18fb8a06a241c28973140b21c96457": {
      "model_module": "@jupyter-widgets/controls",
      "model_module_version": "1.5.0",
      "model_name": "DescriptionStyleModel",
      "state": {
       "description_width": ""
      }
     },
     "0ba6dfd49a9b4171b1a493cebfa64ccb": {
      "model_module": "@jupyter-widgets/controls",
      "model_module_version": "1.5.0",
      "model_name": "DescriptionStyleModel",
      "state": {
       "description_width": ""
      }
     },
     "0c7a1e8f0d884edf874351c1753bd8ea": {
      "model_module": "@jupyter-widgets/controls",
      "model_module_version": "1.5.0",
      "model_name": "DescriptionStyleModel",
      "state": {
       "description_width": ""
      }
     },
     "0d3d075f862343fab81aa645c0eaf493": {
      "model_module": "@jupyter-widgets/base",
      "model_module_version": "1.2.0",
      "model_name": "LayoutModel",
      "state": {
       "width": "190px"
      }
     },
     "0da6f12f083e48198dee4d56caf30a99": {
      "model_module": "@jupyter-widgets/base",
      "model_module_version": "1.2.0",
      "model_name": "LayoutModel",
      "state": {
       "margin": "5px 0px 0px 0px"
      }
     },
     "0e0b1495d3c8466b87d22e48a41af578": {
      "model_module": "@jupyter-widgets/base",
      "model_module_version": "1.2.0",
      "model_name": "LayoutModel",
      "state": {
       "border": "4px solid #000000",
       "max_height": "650px",
       "min_height": "650px",
       "overflow_y": "hidden"
      }
     },
     "0e59a50117ff454796059eda07a162ad": {
      "model_module": "@jupyter-widgets/base",
      "model_module_version": "1.2.0",
      "model_name": "LayoutModel",
      "state": {}
     },
     "0e853a4ecb4d44b297f629920edd123e": {
      "model_module": "@jupyter-widgets/base",
      "model_module_version": "1.2.0",
      "model_name": "LayoutModel",
      "state": {
       "align_items": "center",
       "display": "inline-flex",
       "flex_flow": "column"
      }
     },
     "0ea04972acd340588dafb09b8d7b5838": {
      "model_module": "@jupyter-widgets/controls",
      "model_module_version": "1.5.0",
      "model_name": "DescriptionStyleModel",
      "state": {
       "description_width": ""
      }
     },
     "0f4b0d2658c8466daf501c4ced3d6d8d": {
      "model_module": "@jupyter-widgets/base",
      "model_module_version": "1.2.0",
      "model_name": "LayoutModel",
      "state": {}
     },
     "0f58ef2c0fe2423082c7cc731767e744": {
      "model_module": "@jupyter-widgets/controls",
      "model_module_version": "1.5.0",
      "model_name": "HTMLModel",
      "state": {
       "layout": "IPY_MODEL_b9b91e4ade3745a6b649f1a773be1178",
       "style": "IPY_MODEL_d820d02ca4064e03b65e02f2c385ccf8",
       "value": "<h5>0.0366</h5>"
      }
     },
     "0fdf8942aea546e7948549ef00e8358a": {
      "model_module": "@jupyter-widgets/controls",
      "model_module_version": "1.5.0",
      "model_name": "HTMLModel",
      "state": {
       "layout": "IPY_MODEL_8b9282dd7017484fb06526a4a2405298",
       "style": "IPY_MODEL_92d1009ee6b94a058d1b86f579eca25c",
       "value": "<h4>ibmq_belem</h4>"
      }
     },
     "0feff7b1a3ac4abbacc3078a51ecf7ca": {
      "model_module": "@jupyter-widgets/controls",
      "model_module_version": "1.5.0",
      "model_name": "DescriptionStyleModel",
      "state": {
       "description_width": ""
      }
     },
     "101f6a966a0148f98e67734e831bf878": {
      "model_module": "@jupyter-widgets/controls",
      "model_module_version": "1.5.0",
      "model_name": "DescriptionStyleModel",
      "state": {
       "description_width": ""
      }
     },
     "1118f91fce9742328a04b69cd7769a29": {
      "model_module": "@jupyter-widgets/controls",
      "model_module_version": "1.5.0",
      "model_name": "DescriptionStyleModel",
      "state": {
       "description_width": ""
      }
     },
     "1147885245d24da1bc6791bdd963dc34": {
      "model_module": "@jupyter-widgets/base",
      "model_module_version": "1.2.0",
      "model_name": "LayoutModel",
      "state": {
       "justify_content": "center"
      }
     },
     "1173d18741de4707b8927641735856aa": {
      "model_module": "@jupyter-widgets/controls",
      "model_module_version": "1.5.0",
      "model_name": "HTMLModel",
      "state": {
       "layout": "IPY_MODEL_087cc4040b5f47139fbaea1e46caea61",
       "style": "IPY_MODEL_7bc24c0eabf9464888a4cbc5d5c72085",
       "value": "<h4>ibmq_lima</h4>"
      }
     },
     "117e8640537949a588a3a42eb99f2b71": {
      "model_module": "@jupyter-widgets/controls",
      "model_module_version": "1.5.0",
      "model_name": "VBoxModel",
      "state": {
       "children": [
        "IPY_MODEL_9195014f0e3841479599b3fb7797737f",
        "IPY_MODEL_b5948a74fffd4794b5b652e02959d34e",
        "IPY_MODEL_d5fda20be2c54ee691fc3f21a8b63d41",
        "IPY_MODEL_7c60a7cd1aa34b4b891a083f15680ca1",
        "IPY_MODEL_35fb0db8b6d74fed8a5254e76f6fdcef",
        "IPY_MODEL_479f47da54d54b92ab43afbd16310b0a",
        "IPY_MODEL_9041049b44bb4b7bab0b3f6c8a7c43dc",
        "IPY_MODEL_eeb4f48fbeb34229b05888d02ca1bfc4",
        "IPY_MODEL_3552757d0fcf4bbd9b34be800dba17d3",
        "IPY_MODEL_2df27ef5f3074ea89033fcee163e0b2a"
       ],
       "layout": "IPY_MODEL_8357765be5c14d4c94c4402b43c1125c"
      }
     },
     "11fe8dc1f8654c0593a2b9ce76e0bf2d": {
      "model_module": "@jupyter-widgets/base",
      "model_module_version": "1.2.0",
      "model_name": "LayoutModel",
      "state": {}
     },
     "120ae7f24cf04af7809ec35f10c53c19": {
      "model_module": "@jupyter-widgets/base",
      "model_module_version": "1.2.0",
      "model_name": "LayoutModel",
      "state": {
       "width": "95px"
      }
     },
     "121bead4135f42748715498a994432d5": {
      "model_module": "@jupyter-widgets/base",
      "model_module_version": "1.2.0",
      "model_name": "LayoutModel",
      "state": {}
     },
     "127bd321af274b28aac6ee73b38ac769": {
      "model_module": "@jupyter-widgets/base",
      "model_module_version": "1.2.0",
      "model_name": "LayoutModel",
      "state": {
       "align_items": "center",
       "display": "inline-flex",
       "flex_flow": "column"
      }
     },
     "12b656415f574f85949bb19ab8e5248b": {
      "model_module": "@jupyter-widgets/base",
      "model_module_version": "1.2.0",
      "model_name": "LayoutModel",
      "state": {
       "justify_content": "center"
      }
     },
     "1319dc367d684e2d99865deb15ace840": {
      "model_module": "@jupyter-widgets/controls",
      "model_module_version": "1.5.0",
      "model_name": "DescriptionStyleModel",
      "state": {
       "description_width": ""
      }
     },
     "13ca801adca645ecb7723e73dd7582f9": {
      "model_module": "@jupyter-widgets/controls",
      "model_module_version": "1.5.0",
      "model_name": "DescriptionStyleModel",
      "state": {
       "description_width": ""
      }
     },
     "13e956eae5064b16883b0570e71a0753": {
      "model_module": "@jupyter-widgets/controls",
      "model_module_version": "1.5.0",
      "model_name": "DescriptionStyleModel",
      "state": {
       "description_width": ""
      }
     },
     "1484329051e14bf7b618b875e244bff3": {
      "model_module": "@jupyter-widgets/base",
      "model_module_version": "1.2.0",
      "model_name": "LayoutModel",
      "state": {
       "width": "70px"
      }
     },
     "158fa6feb8ac47e2b37a20e7ba36405d": {
      "model_module": "@jupyter-widgets/controls",
      "model_module_version": "1.5.0",
      "model_name": "DescriptionStyleModel",
      "state": {
       "description_width": ""
      }
     },
     "15a931d60e194df1b3841456f895692f": {
      "model_module": "@jupyter-widgets/base",
      "model_module_version": "1.2.0",
      "model_name": "LayoutModel",
      "state": {}
     },
     "15dd71691113447998d918d0d957f124": {
      "model_module": "@jupyter-widgets/controls",
      "model_module_version": "1.5.0",
      "model_name": "HTMLModel",
      "state": {
       "layout": "IPY_MODEL_b7f3bcb8158548fba9654f7904efcd56",
       "style": "IPY_MODEL_68c32a9d94924b83b1f6f337e5741f64",
       "value": "<h5>32</h5>"
      }
     },
     "16a3389c6c5f4ce4a9a4a5bd2b1dfbbc": {
      "model_module": "@jupyter-widgets/base",
      "model_module_version": "1.2.0",
      "model_name": "LayoutModel",
      "state": {
       "grid_area": "middle"
      }
     },
     "16e53e700b2a4275b52299682ebc8e3d": {
      "model_module": "@jupyter-widgets/base",
      "model_module_version": "1.2.0",
      "model_name": "LayoutModel",
      "state": {
       "justify_content": "center"
      }
     },
     "16ebb48478bd43888ddd054650313e6c": {
      "model_module": "@jupyter-widgets/base",
      "model_module_version": "1.2.0",
      "model_name": "LayoutModel",
      "state": {
       "max_width": "180px"
      }
     },
     "18132dfe58da4558b442af048aa384bd": {
      "model_module": "@jupyter-widgets/controls",
      "model_module_version": "1.5.0",
      "model_name": "HTMLModel",
      "state": {
       "layout": "IPY_MODEL_843e50665643429c863e4fbe0df5ecf6",
       "style": "IPY_MODEL_2ce274382c9e4a2fb243d2fb2aadfbfb",
       "value": "<h5>83.6 / 108.0 us</h5>"
      }
     },
     "18b013ea1b3e4b7a91aa0b6369a48092": {
      "model_module": "@jupyter-widgets/base",
      "model_module_version": "1.2.0",
      "model_name": "LayoutModel",
      "state": {
       "grid_area": "middle"
      }
     },
     "18e3bccbcdcc49d8b5ae9ce1188bbf21": {
      "model_module": "@jupyter-widgets/controls",
      "model_module_version": "1.5.0",
      "model_name": "DescriptionStyleModel",
      "state": {
       "description_width": ""
      }
     },
     "18ebbdaf703c4b42b156a5d49050c425": {
      "model_module": "@jupyter-widgets/controls",
      "model_module_version": "1.5.0",
      "model_name": "HTMLModel",
      "state": {
       "layout": "IPY_MODEL_55d5acdca3754dc193e53739bf4e6423",
       "style": "IPY_MODEL_4ec2e49d68fd482c965bde97c77ca66e",
       "value": "<h5 style='color:#34bc6e'>True</h5>"
      }
     },
     "198a7385f35c4a6c949640511ad49beb": {
      "model_module": "@jupyter-widgets/base",
      "model_module_version": "1.2.0",
      "model_name": "LayoutModel",
      "state": {}
     },
     "198f81da97644997be80dd50bd639747": {
      "model_module": "@jupyter-widgets/controls",
      "model_module_version": "1.5.0",
      "model_name": "HTMLModel",
      "state": {
       "layout": "IPY_MODEL_c01d5f701a3c4037bd347f896665cbaf",
       "style": "IPY_MODEL_fef816b30ca14c21be7df1a1afa2b6c5",
       "value": "<table><style>\ntable {\n    border-collapse: collapse;\n    width: auto;\n}\n\nth, td {\n    text-align: left;\n    padding: 8px;\n}\n\ntr:nth-child(even) {background-color: #f6f6f6;}\n</style><tr><th></th><th>Frequency</th><th>T1</th><th>T2</th><th>RZ</th><th>SX</th><th>X</th><th>Readout error</th></tr><tr><td><font style='font-weight:bold'>Q0</font></td><td>5.15738 GHz</td><td>100.20396 us</td><td>96.96385 us</td><td>0</td><td>0.00022</td><td>0.00022</td><td>0.012 </td><tr><td><font style='font-weight:bold'>Q1</font></td><td>5.03433 GHz</td><td>196.06437 us</td><td>114.84102 us</td><td>0</td><td>0.00049</td><td>0.00049</td><td>0.012 </td><tr><td><font style='font-weight:bold'>Q2</font></td><td>4.86185 GHz</td><td>178.61208 us</td><td>165.23752 us</td><td>0</td><td>0.00023</td><td>0.00023</td><td>0.0108 </td><tr><td><font style='font-weight:bold'>Q3</font></td><td>5.12442 GHz</td><td>207.54367 us</td><td>281.66359 us</td><td>0</td><td>0.00023</td><td>0.00023</td><td>0.0105 </td><tr><td><font style='font-weight:bold'>Q4</font></td><td>5.15941 GHz</td><td>124.41558 us</td><td>140.74635 us</td><td>0</td><td>0.00035</td><td>0.00035</td><td>0.0108 </td><tr><td><font style='font-weight:bold'>Q5</font></td><td>4.97886 GHz</td><td>130.96461 us</td><td>132.02037 us</td><td>0</td><td>0.00028</td><td>0.00028</td><td>0.0118 </td><tr><td><font style='font-weight:bold'>Q6</font></td><td>5.15667 GHz</td><td>168.56187 us</td><td>295.91442 us</td><td>0</td><td>0.00033</td><td>0.00033</td><td>0.0065 </td></table>"
      }
     },
     "19affc9f55a3427b92f127643d5c1416": {
      "model_module": "@jupyter-widgets/base",
      "model_module_version": "1.2.0",
      "model_name": "LayoutModel",
      "state": {}
     },
     "19c3d7cadedc47dab5675f17726b80af": {
      "model_module": "@jupyter-widgets/controls",
      "model_module_version": "1.5.0",
      "model_name": "HTMLModel",
      "state": {
       "layout": "IPY_MODEL_87f1d1b517c84f418a3310dbea83f33c",
       "style": "IPY_MODEL_20a190a9c9af40e8b318cd9d0f6200fc",
       "value": "<h4>ibmq_bogota</h4>"
      }
     },
     "1a3cec5f51644b5f92bccee93ea1b31b": {
      "model_module": "@jupyter-widgets/base",
      "model_module_version": "1.2.0",
      "model_name": "LayoutModel",
      "state": {
       "margin": "295px 0px 0px 0px",
       "min_width": "100px"
      }
     },
     "1a536fa150bc4999bf1eefed5b058f71": {
      "model_module": "@jupyter-widgets/base",
      "model_module_version": "1.2.0",
      "model_name": "LayoutModel",
      "state": {
       "min_width": "auto"
      }
     },
     "1a5c0d1106b04d1fad8f8f795a9d6653": {
      "model_module": "@jupyter-widgets/controls",
      "model_module_version": "1.5.0",
      "model_name": "HTMLModel",
      "state": {
       "layout": "IPY_MODEL_6f89d6784cc84ab5b00b48a332471bb0",
       "style": "IPY_MODEL_02505a76ee8d4311be502ac115f0f42a",
       "value": "<h5>0.0491</h5>"
      }
     },
     "1a5c81c05f6a4c2883f7bf78f7b407f3": {
      "model_module": "@jupyter-widgets/base",
      "model_module_version": "1.2.0",
      "model_name": "LayoutModel",
      "state": {
       "min_width": "auto"
      }
     },
     "1a6d474fa76e4bb491f00f0c97c893f5": {
      "model_module": "@jupyter-widgets/base",
      "model_module_version": "1.2.0",
      "model_name": "LayoutModel",
      "state": {}
     },
     "1b013321fd4a4c8391d18321402bbcc8": {
      "model_module": "@jupyter-widgets/controls",
      "model_module_version": "1.5.0",
      "model_name": "DescriptionStyleModel",
      "state": {
       "description_width": ""
      }
     },
     "1b43fe7c9c4d4f48b4b1190d15ca4833": {
      "model_module": "@jupyter-widgets/base",
      "model_module_version": "1.2.0",
      "model_name": "LayoutModel",
      "state": {
       "align_items": "center",
       "display": "inline-flex",
       "flex_flow": "column"
      }
     },
     "1b4b2fcd3c514cb991c0a900b9b039ec": {
      "model_module": "@jupyter-widgets/controls",
      "model_module_version": "1.5.0",
      "model_name": "ButtonStyleModel",
      "state": {}
     },
     "1c14fa3b972c4340bb0be5ed3dd4b4fd": {
      "model_module": "@jupyter-widgets/controls",
      "model_module_version": "1.5.0",
      "model_name": "HTMLModel",
      "state": {
       "layout": "IPY_MODEL_59659c41312740ca9dd0a733257f9af9",
       "style": "IPY_MODEL_e2b5081996e34bc2b4f41ede8d335cfb",
       "value": "<h5><b>1</b></h5>"
      }
     },
     "1c80461d099f4a83ab63cbb3375a1a39": {
      "model_module": "@jupyter-widgets/controls",
      "model_module_version": "1.5.0",
      "model_name": "HTMLModel",
      "state": {
       "layout": "IPY_MODEL_0d3d075f862343fab81aa645c0eaf493",
       "style": "IPY_MODEL_67f0c2a25b08422595563b5912c74d4d",
       "value": "<h5>Job ID</h5>"
      }
     },
     "1c881fd29a804e8e9cee788ae801bbb2": {
      "model_module": "@jupyter-widgets/controls",
      "model_module_version": "1.5.0",
      "model_name": "DescriptionStyleModel",
      "state": {
       "description_width": ""
      }
     },
     "1ca6cf9cc97142a591509f8ff726f943": {
      "model_module": "@jupyter-widgets/controls",
      "model_module_version": "1.5.0",
      "model_name": "HTMLModel",
      "state": {
       "layout": "IPY_MODEL_7feb92b37f7440a19bc727ba878d7262",
       "style": "IPY_MODEL_21ff8ec3b93d4d10bdfca494b196f1a1",
       "value": "<h5>32</h5>"
      }
     },
     "1ca89d59031c4bd9a03ac2ff30835dae": {
      "model_module": "@jupyter-widgets/controls",
      "model_module_version": "1.5.0",
      "model_name": "DescriptionStyleModel",
      "state": {
       "description_width": ""
      }
     },
     "1cfd609d4eec4b16b5e28a93d01472cc": {
      "model_module": "@jupyter-widgets/base",
      "model_module_version": "1.2.0",
      "model_name": "LayoutModel",
      "state": {}
     },
     "1d764487a9df4ddf9d3ebce38e1865ad": {
      "model_module": "@jupyter-widgets/output",
      "model_module_version": "1.0.0",
      "model_name": "OutputModel",
      "state": {
       "layout": "IPY_MODEL_dede705bd02e4ffb989e18d7a7f3f12d",
       "outputs": [
        {
         "data": {
          "image/png": "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\n",
          "text/plain": "<Figure size 360x360 with 1 Axes>"
         },
         "metadata": {},
         "output_type": "display_data"
        }
       ]
      }
     },
     "1d86f3b23ee641a187fae48eed9dcbdd": {
      "model_module": "@jupyter-widgets/controls",
      "model_module_version": "1.5.0",
      "model_name": "ProgressStyleModel",
      "state": {
       "bar_color": "#71cddd",
       "description_width": ""
      }
     },
     "1e13cbfc27334fa9ab9da8eb9f098658": {
      "model_module": "@jupyter-widgets/controls",
      "model_module_version": "1.5.0",
      "model_name": "HTMLModel",
      "state": {
       "layout": "IPY_MODEL_0a408f4c73c648f6910c987328937778",
       "style": "IPY_MODEL_252de249e6e74766aeae47293f694e5e",
       "value": "<h5 style='color:#dc267f'>False</h5>"
      }
     },
     "1e1ba870506f4dd0a54ccd32b49be790": {
      "model_module": "@jupyter-widgets/controls",
      "model_module_version": "1.5.0",
      "model_name": "LabelModel",
      "state": {
       "layout": "IPY_MODEL_b9f509a508b54de8a0f3d11c6241e849",
       "style": "IPY_MODEL_98ae4d6d06224e7a9deb3b59e4296a69",
       "value": "Least Busy"
      }
     },
     "1e3e69cdefed440384f2e18f31cb6a67": {
      "model_module": "@jupyter-widgets/base",
      "model_module_version": "1.2.0",
      "model_name": "LayoutModel",
      "state": {}
     },
     "1e95250a639e43dbb270926cc5c1b464": {
      "model_module": "@jupyter-widgets/controls",
      "model_module_version": "1.5.0",
      "model_name": "DescriptionStyleModel",
      "state": {
       "description_width": ""
      }
     },
     "1eb6cb8060864922b4c74522b309a6df": {
      "model_module": "@jupyter-widgets/controls",
      "model_module_version": "1.5.0",
      "model_name": "DescriptionStyleModel",
      "state": {
       "description_width": ""
      }
     },
     "1ef8f211528b421ab6a75768673c78cd": {
      "model_module": "@jupyter-widgets/controls",
      "model_module_version": "1.5.0",
      "model_name": "DescriptionStyleModel",
      "state": {
       "description_width": ""
      }
     },
     "1f28498bdba24f48a02acd078800cd30": {
      "model_module": "@jupyter-widgets/output",
      "model_module_version": "1.0.0",
      "model_name": "OutputModel",
      "state": {
       "layout": "IPY_MODEL_92d93c49a4284a14b4a6db425a6d6b7a",
       "outputs": [
        {
         "data": {
          "image/png": "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\n",
          "text/plain": "<Figure size 360x360 with 1 Axes>"
         },
         "metadata": {},
         "output_type": "display_data"
        }
       ]
      }
     },
     "1fd093d1540b47ba9a68aafb9f1b3bd4": {
      "model_module": "@jupyter-widgets/base",
      "model_module_version": "1.2.0",
      "model_name": "LayoutModel",
      "state": {
       "justify_content": "center"
      }
     },
     "20074c93a3764900801c85369d089431": {
      "model_module": "@jupyter-widgets/base",
      "model_module_version": "1.2.0",
      "model_name": "LayoutModel",
      "state": {}
     },
     "20121d5529f74e5c86cf75b1bc2ca521": {
      "model_module": "@jupyter-widgets/controls",
      "model_module_version": "1.5.0",
      "model_name": "HTMLModel",
      "state": {
       "layout": "IPY_MODEL_ed8f18dc635949a695849f5470799d6e",
       "style": "IPY_MODEL_36a1d5c9239b4139bf7ca36e5a73dcf8",
       "value": "<h5><b>5</b></h5>"
      }
     },
     "201dde0c3d3e431aac968ec7369fedb3": {
      "model_module": "@jupyter-widgets/controls",
      "model_module_version": "1.5.0",
      "model_name": "DescriptionStyleModel",
      "state": {
       "description_width": ""
      }
     },
     "2045ddf73dc14978b529ae3b79bef653": {
      "model_module": "@jupyter-widgets/controls",
      "model_module_version": "1.5.0",
      "model_name": "VBoxModel",
      "state": {
       "children": [
        "IPY_MODEL_1173d18741de4707b8927641735856aa",
        "IPY_MODEL_1d764487a9df4ddf9d3ebce38e1865ad",
        "IPY_MODEL_e3b3af2cfd014b058411ada9e32131e9",
        "IPY_MODEL_8cc3d5024fa8424f9f0b9f40d561f29e",
        "IPY_MODEL_a77d31e61bc149a190e30136830264ab",
        "IPY_MODEL_18ebbdaf703c4b42b156a5d49050c425",
        "IPY_MODEL_21068f9ca6384d0cbea0cd79747e15cb",
        "IPY_MODEL_18132dfe58da4558b442af048aa384bd",
        "IPY_MODEL_6507df09f5864da88c8ce55c11720f55",
        "IPY_MODEL_53e57b0935694564b3d864117c065f11"
       ],
       "layout": "IPY_MODEL_41f8b5fb5c3f4e149fdfce597e7ddc9a"
      }
     },
     "206ab51be48c427285922f2ce861f468": {
      "model_module": "@jupyter-widgets/controls",
      "model_module_version": "1.5.0",
      "model_name": "HTMLModel",
      "state": {
       "layout": "IPY_MODEL_16e53e700b2a4275b52299682ebc8e3d",
       "style": "IPY_MODEL_dcfdafff5a6a4fcfad97a82b72369d52",
       "value": "<h5><b>5</b></h5>"
      }
     },
     "20a190a9c9af40e8b318cd9d0f6200fc": {
      "model_module": "@jupyter-widgets/controls",
      "model_module_version": "1.5.0",
      "model_name": "DescriptionStyleModel",
      "state": {
       "description_width": ""
      }
     },
     "20eb5b5861fb4030b1a2f350699e3eb1": {
      "model_module": "@jupyter-widgets/base",
      "model_module_version": "1.2.0",
      "model_name": "LayoutModel",
      "state": {
       "justify_content": "center"
      }
     },
     "21068f9ca6384d0cbea0cd79747e15cb": {
      "model_module": "@jupyter-widgets/controls",
      "model_module_version": "1.5.0",
      "model_name": "HTMLModel",
      "state": {
       "layout": "IPY_MODEL_e683ff9c1a0940f2bf3b60eb18f5d78b",
       "style": "IPY_MODEL_773394ab2ff646989324c0fadca5d5ee",
       "value": "<h5 style='color:#dc267f'>False</h5>"
      }
     },
     "21110c07d41c4777b68c808dee1d0873": {
      "model_module": "@jupyter-widgets/base",
      "model_module_version": "1.2.0",
      "model_name": "LayoutModel",
      "state": {
       "justify_content": "center"
      }
     },
     "21d3197d5b7e4de2b8a0f1343413872a": {
      "model_module": "@jupyter-widgets/base",
      "model_module_version": "1.2.0",
      "model_name": "LayoutModel",
      "state": {}
     },
     "21e9069a5bea40ab931f33a8a1d8056a": {
      "model_module": "@jupyter-widgets/controls",
      "model_module_version": "1.5.0",
      "model_name": "HTMLModel",
      "state": {
       "layout": "IPY_MODEL_1a6d474fa76e4bb491f00f0c97c893f5",
       "style": "IPY_MODEL_1ef8f211528b421ab6a75768673c78cd",
       "value": "<h5>0.0089</h5>"
      }
     },
     "21ff8ec3b93d4d10bdfca494b196f1a1": {
      "model_module": "@jupyter-widgets/controls",
      "model_module_version": "1.5.0",
      "model_name": "DescriptionStyleModel",
      "state": {
       "description_width": ""
      }
     },
     "2207e6fc8da64099b78ac39e4e636d95": {
      "model_module": "@jupyter-widgets/controls",
      "model_module_version": "1.5.0",
      "model_name": "DescriptionStyleModel",
      "state": {
       "description_width": ""
      }
     },
     "223cda56221d40d4a1c62924dbfd15f2": {
      "model_module": "@jupyter-widgets/controls",
      "model_module_version": "1.5.0",
      "model_name": "HTMLModel",
      "state": {
       "layout": "IPY_MODEL_a5495e1c033c4623b40a42db3c09e506",
       "style": "IPY_MODEL_0ab2c5d207864a938d0fbf08013b3a78",
       "value": "<h1 style='color:#ffffff;background-color:#000000;padding-top: 1%;padding-bottom: 1%;padding-left: 1%; margin-top: 0px'>ibm_perth</h1>"
      }
     },
     "2240390b217041c597eba47942ed33e3": {
      "model_module": "@jupyter-widgets/base",
      "model_module_version": "1.2.0",
      "model_name": "LayoutModel",
      "state": {
       "align_items": "center",
       "display": "inline-flex",
       "flex_flow": "column"
      }
     },
     "2286861e10b24505b18f8a6735734731": {
      "model_module": "@jupyter-widgets/controls",
      "model_module_version": "1.5.0",
      "model_name": "ProgressStyleModel",
      "state": {
       "bar_color": "#71cddd",
       "description_width": ""
      }
     },
     "22d1f6adbd254536bcaa88ec7c7a9005": {
      "model_module": "@jupyter-widgets/base",
      "model_module_version": "1.2.0",
      "model_name": "LayoutModel",
      "state": {
       "width": "190px"
      }
     },
     "2390a50f58c3462ca2809fb85123f8d8": {
      "model_module": "@jupyter-widgets/controls",
      "model_module_version": "1.5.0",
      "model_name": "HTMLModel",
      "state": {
       "layout": "IPY_MODEL_2bd67443895843b08eded22ec23814f2",
       "style": "IPY_MODEL_c8021443ab644d4aa3b3afd2a3452eb1",
       "value": "<h5>16</h5>"
      }
     },
     "23a286b770bf499e91fd964db048a2f6": {
      "model_module": "@jupyter-widgets/base",
      "model_module_version": "1.2.0",
      "model_name": "LayoutModel",
      "state": {
       "margin": "10px 0px 0px 0px"
      }
     },
     "23bd6d7e3962405b834b8f1b5e2ab89f": {
      "model_module": "@jupyter-widgets/controls",
      "model_module_version": "1.5.0",
      "model_name": "LabelModel",
      "state": {
       "layout": "IPY_MODEL_2d7a7ab75eaf480983909749e303e386",
       "style": "IPY_MODEL_a71d77c6a05a4e06a47ec3325e571f5c",
       "value": "374"
      }
     },
     "23de7f2ece71429cbdd72469395ea535": {
      "model_module": "@jupyter-widgets/controls",
      "model_module_version": "1.5.0",
      "model_name": "DescriptionStyleModel",
      "state": {
       "description_width": ""
      }
     },
     "2412010c25864dcc8849eaa772dc8057": {
      "model_module": "@jupyter-widgets/controls",
      "model_module_version": "1.5.0",
      "model_name": "ButtonModel",
      "state": {
       "button_style": "primary",
       "description": "Clear",
       "layout": "IPY_MODEL_ea7378e0f44f434e895c73ebe91e1213",
       "style": "IPY_MODEL_1b4b2fcd3c514cb991c0a900b9b039ec"
      }
     },
     "245aabd94bc34689b73dd355bcc40875": {
      "model_module": "@jupyter-widgets/controls",
      "model_module_version": "1.5.0",
      "model_name": "LabelModel",
      "state": {
       "layout": "IPY_MODEL_51e55c788a2c4ac490f27ac1d98ed3bd",
       "style": "IPY_MODEL_427ac7a992d64d63979052de4d5589d8",
       "value": "290"
      }
     },
     "24876a53cae0477d93dd0961c5141333": {
      "model_module": "@jupyter-widgets/base",
      "model_module_version": "1.2.0",
      "model_name": "LayoutModel",
      "state": {
       "align_items": "center",
       "display": "inline-flex",
       "flex_flow": "column"
      }
     },
     "24a202ecd06a4f78a814f3b4358e7265": {
      "model_module": "@jupyter-widgets/base",
      "model_module_version": "1.2.0",
      "model_name": "LayoutModel",
      "state": {}
     },
     "24fa5bd83f044160bb4aba8fe9fa574c": {
      "model_module": "@jupyter-widgets/controls",
      "model_module_version": "1.5.0",
      "model_name": "HTMLModel",
      "state": {
       "layout": "IPY_MODEL_a93e957030cf44b58325398e25c4466b",
       "style": "IPY_MODEL_652fb5c9643140ffac903aaee5d8c177",
       "value": "<h5>144.0 / 250.8 us</h5>"
      }
     },
     "25194dadcc3d4bcd9eb7d4e6bf27b095": {
      "model_module": "@jupyter-widgets/controls",
      "model_module_version": "1.5.0",
      "model_name": "DescriptionStyleModel",
      "state": {
       "description_width": ""
      }
     },
     "252de249e6e74766aeae47293f694e5e": {
      "model_module": "@jupyter-widgets/controls",
      "model_module_version": "1.5.0",
      "model_name": "DescriptionStyleModel",
      "state": {
       "description_width": ""
      }
     },
     "25d5dd5a298546e28eb91ab1ea142e58": {
      "model_module": "@jupyter-widgets/base",
      "model_module_version": "1.2.0",
      "model_name": "LayoutModel",
      "state": {}
     },
     "25f962197acc4fc8962de62ed42c4570": {
      "model_module": "@jupyter-widgets/controls",
      "model_module_version": "1.5.0",
      "model_name": "HTMLModel",
      "state": {
       "layout": "IPY_MODEL_41635cc6f11c4a20aa3be0ca0bdb40fb",
       "style": "IPY_MODEL_7ed720a075ea42a0a77cde46d550bc2e",
       "value": "ibm_perth"
      }
     },
     "2616d20fbed64856bef7aa871fd65eef": {
      "model_module": "@jupyter-widgets/controls",
      "model_module_version": "1.5.0",
      "model_name": "HTMLModel",
      "state": {
       "layout": "IPY_MODEL_a0bab2838bc54846ae3dfb0d7d5e002a",
       "style": "IPY_MODEL_5e62ceee03db4bcea516999d72a77299",
       "value": "<h5>32</h5>"
      }
     },
     "262b47603af74b6ca1a39337c649f52a": {
      "model_module": "@jupyter-widgets/controls",
      "model_module_version": "1.5.0",
      "model_name": "HBoxModel",
      "state": {
       "children": [
        "IPY_MODEL_a86bc62f76944d7b8eb10208c8b18766",
        "IPY_MODEL_c023092b1cd147be90231ecbcd858ee5",
        "IPY_MODEL_4d10c8cd92a64f8583027002dc6eeb22"
       ],
       "layout": "IPY_MODEL_66850b7ddaad4712998db43b1f7c794f"
      }
     },
     "26fa25ac5bbc435b947734b3d8896f6f": {
      "model_module": "@jupyter-widgets/base",
      "model_module_version": "1.2.0",
      "model_name": "LayoutModel",
      "state": {
       "justify_content": "center"
      }
     },
     "272b8d31d9ea410e9a7f98202e638f2a": {
      "model_module": "@jupyter-widgets/controls",
      "model_module_version": "1.5.0",
      "model_name": "HTMLModel",
      "state": {
       "layout": "IPY_MODEL_506f3b3520c14fd594deedaf008cc7ca",
       "style": "IPY_MODEL_97cb8d1c597244db8aa00b984a64cefa",
       "value": "job has successfully run"
      }
     },
     "272b98b906a0441bafd1a49521a11f5f": {
      "model_module": "@jupyter-widgets/controls",
      "model_module_version": "1.5.0",
      "model_name": "HTMLModel",
      "state": {
       "layout": "IPY_MODEL_65e25f0f68da4b33bc6588c7de5b2f79",
       "style": "IPY_MODEL_ab15148f146e4a65af48ff3ab79328b9",
       "value": "<h5>0.0068</h5>"
      }
     },
     "272caa2b7abc43419c91775431b0652a": {
      "model_module": "@jupyter-widgets/controls",
      "model_module_version": "1.5.0",
      "model_name": "LabelModel",
      "state": {
       "layout": "IPY_MODEL_a39c1a91cda94aa6b4ca1ff992f765ac",
       "style": "IPY_MODEL_0822b1204e3345dc8c8e6fecb94ddf28",
       "value": "291"
      }
     },
     "275ec463c45d454798e2b81cfbe393df": {
      "model_module": "@jupyter-widgets/controls",
      "model_module_version": "1.5.0",
      "model_name": "DescriptionStyleModel",
      "state": {
       "description_width": ""
      }
     },
     "2776d964b09b4a769472418bed272977": {
      "model_module": "@jupyter-widgets/base",
      "model_module_version": "1.2.0",
      "model_name": "LayoutModel",
      "state": {
       "align_items": "center",
       "display": "inline-flex",
       "flex_flow": "column"
      }
     },
     "288751b19a3d486c915ff32082b3b524": {
      "model_module": "@jupyter-widgets/controls",
      "model_module_version": "1.5.0",
      "model_name": "HTMLModel",
      "state": {
       "layout": "IPY_MODEL_8db3329bac984240beab19d1c745fae4",
       "style": "IPY_MODEL_1e95250a639e43dbb270926cc5c1b464",
       "value": "<h5>141.2 / 60.7 us</h5>"
      }
     },
     "289fbe683d9e44cfad37becdb9e897ee": {
      "model_module": "@jupyter-widgets/controls",
      "model_module_version": "1.5.0",
      "model_name": "DescriptionStyleModel",
      "state": {
       "description_width": ""
      }
     },
     "28be4fcb929d43229b7b9e65eeaf7979": {
      "model_module": "@jupyter-widgets/output",
      "model_module_version": "1.0.0",
      "model_name": "OutputModel",
      "state": {
       "layout": "IPY_MODEL_f72f4b4d569647cf8adf3043dcdc2386",
       "outputs": [
        {
         "data": {
          "image/png": "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\n",
          "text/plain": "<Figure size 360x360 with 1 Axes>"
         },
         "metadata": {},
         "output_type": "display_data"
        }
       ]
      }
     },
     "2958b54f633b481e9ac059041701da3d": {
      "model_module": "@jupyter-widgets/controls",
      "model_module_version": "1.5.0",
      "model_name": "IntProgressModel",
      "state": {
       "layout": "IPY_MODEL_ea9b999097a2400f8ce71a1068d05816",
       "max": 376,
       "style": "IPY_MODEL_79f639c5c9494306b897447fa6e72039",
       "value": 157
      }
     },
     "29a513c88b8e4702abc1c91057262054": {
      "model_module": "@jupyter-widgets/base",
      "model_module_version": "1.2.0",
      "model_name": "LayoutModel",
      "state": {
       "align_items": "center",
       "justify_content": "center",
       "margin": "0px 0px 0px 0px",
       "max_height": "250px",
       "max_width": "250px",
       "min_height": "250px",
       "min_width": "250px"
      }
     },
     "29c3ef2c56074b30894acff3ba1344bc": {
      "model_module": "@jupyter-widgets/controls",
      "model_module_version": "1.5.0",
      "model_name": "HTMLModel",
      "state": {
       "layout": "IPY_MODEL_80d56724b89c4aa098e4ad3c59ee04c4",
       "style": "IPY_MODEL_e032d5e4ec424bc399464209547f442a",
       "value": "<h5><b>1</b></h5>"
      }
     },
     "2a1f974b0922444abb2c064f6f17641c": {
      "model_module": "@jupyter-widgets/controls",
      "model_module_version": "1.5.0",
      "model_name": "DescriptionStyleModel",
      "state": {
       "description_width": ""
      }
     },
     "2a6f0fdd4f8c4567be3520eaee1782b1": {
      "model_module": "@jupyter-widgets/base",
      "model_module_version": "1.2.0",
      "model_name": "LayoutModel",
      "state": {}
     },
     "2b2aa8fa54924e40976d64613cebdd6d": {
      "model_module": "@jupyter-widgets/output",
      "model_module_version": "1.0.0",
      "model_name": "OutputModel",
      "state": {
       "layout": "IPY_MODEL_b35775cc9fd14d4b96554a1485599c5c",
       "outputs": [
        {
         "data": {
          "image/png": "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\n",
          "text/plain": "<Figure size 360x360 with 1 Axes>"
         },
         "metadata": {},
         "output_type": "display_data"
        }
       ]
      }
     },
     "2b63d3b2c654421bba1bb1ad10832774": {
      "model_module": "@jupyter-widgets/controls",
      "model_module_version": "1.5.0",
      "model_name": "DescriptionStyleModel",
      "state": {
       "description_width": ""
      }
     },
     "2bd67443895843b08eded22ec23814f2": {
      "model_module": "@jupyter-widgets/base",
      "model_module_version": "1.2.0",
      "model_name": "LayoutModel",
      "state": {
       "justify_content": "center"
      }
     },
     "2c087768d2b048ebb620fdc1bb385902": {
      "model_module": "@jupyter-widgets/controls",
      "model_module_version": "1.5.0",
      "model_name": "HBoxModel",
      "state": {
       "children": [
        "IPY_MODEL_efd5ea9f20c14434af5c231999e03a3a",
        "IPY_MODEL_2958b54f633b481e9ac059041701da3d",
        "IPY_MODEL_30f1250e5ed547f7bccc9f5e513a4d08"
       ],
       "layout": "IPY_MODEL_727e86c990694df2bcdf12411c3f57c4"
      }
     },
     "2c08f5319b05455882340785c62026d7": {
      "model_module": "@jupyter-widgets/controls",
      "model_module_version": "1.5.0",
      "model_name": "LabelModel",
      "state": {
       "layout": "IPY_MODEL_ed679e3cf2f348deb966d9bfb5e33eb3",
       "style": "IPY_MODEL_0c7a1e8f0d884edf874351c1753bd8ea",
       "value": "29"
      }
     },
     "2c275ef1b0434647a3f5857aa3f2b8db": {
      "model_module": "@jupyter-widgets/controls",
      "model_module_version": "1.5.0",
      "model_name": "HTMLModel",
      "state": {
       "layout": "IPY_MODEL_9540c67f067145dbbde188966a47f710",
       "style": "IPY_MODEL_e443aba2d4f54f0a9f3aa9a1205721dc",
       "value": "<h5>1</h5>"
      }
     },
     "2c51051fe0db4587be4c8474a4134ff0": {
      "model_module": "@jupyter-widgets/output",
      "model_module_version": "1.0.0",
      "model_name": "OutputModel",
      "state": {
       "layout": "IPY_MODEL_eabbec53e7454d6a98177a7aab187037",
       "outputs": [
        {
         "data": {
          "image/png": "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\n",
          "text/plain": "<Figure size 792x648 with 5 Axes>"
         },
         "metadata": {},
         "output_type": "display_data"
        }
       ]
      }
     },
     "2c5a40bdfb2b426ebf1b442dcffac612": {
      "model_module": "@jupyter-widgets/base",
      "model_module_version": "1.2.0",
      "model_name": "LayoutModel",
      "state": {
       "min_width": "auto"
      }
     },
     "2c6cc2d1456549c9982035271cce542c": {
      "model_module": "@jupyter-widgets/controls",
      "model_module_version": "1.5.0",
      "model_name": "DescriptionStyleModel",
      "state": {
       "description_width": ""
      }
     },
     "2c7e93a981c44c328ebc36e377e5313d": {
      "model_module": "@jupyter-widgets/controls",
      "model_module_version": "1.5.0",
      "model_name": "DescriptionStyleModel",
      "state": {
       "description_width": ""
      }
     },
     "2ce274382c9e4a2fb243d2fb2aadfbfb": {
      "model_module": "@jupyter-widgets/controls",
      "model_module_version": "1.5.0",
      "model_name": "DescriptionStyleModel",
      "state": {
       "description_width": ""
      }
     },
     "2cfe1879b8754ea2888665293674d3bd": {
      "model_module": "@jupyter-widgets/base",
      "model_module_version": "1.2.0",
      "model_name": "LayoutModel",
      "state": {
       "justify_content": "center"
      }
     },
     "2d6c7f297afd468890bea20e7f17dac6": {
      "model_module": "@jupyter-widgets/base",
      "model_module_version": "1.2.0",
      "model_name": "LayoutModel",
      "state": {}
     },
     "2d7a7ab75eaf480983909749e303e386": {
      "model_module": "@jupyter-widgets/base",
      "model_module_version": "1.2.0",
      "model_name": "LayoutModel",
      "state": {
       "min_width": "auto"
      }
     },
     "2dc0e7f5018b493ca8bbc3395908c312": {
      "model_module": "@jupyter-widgets/controls",
      "model_module_version": "1.5.0",
      "model_name": "DescriptionStyleModel",
      "state": {
       "description_width": ""
      }
     },
     "2ded371460f2405f97970029229ca1ca": {
      "model_module": "@jupyter-widgets/base",
      "model_module_version": "1.2.0",
      "model_name": "LayoutModel",
      "state": {
       "justify_content": "center",
       "max_width": "250px",
       "min_width": "250px"
      }
     },
     "2df27ef5f3074ea89033fcee163e0b2a": {
      "model_module": "@jupyter-widgets/controls",
      "model_module_version": "1.5.0",
      "model_name": "HTMLModel",
      "state": {
       "layout": "IPY_MODEL_011f73071cec4eedafc5fbed8034c5d6",
       "style": "IPY_MODEL_b57b1a9e1bdc48e2bb6ba07fa7c146bf",
       "value": "<h5>0.0297</h5>"
      }
     },
     "2e29906626c542e7b2101c9a481c584f": {
      "model_module": "@jupyter-widgets/controls",
      "model_module_version": "1.5.0",
      "model_name": "HBoxModel",
      "state": {
       "children": [
        "IPY_MODEL_ffdaf18fe107414c8fd13e4bfed8e925",
        "IPY_MODEL_f0814579c6bc4fe5b1e5864af4d1b915",
        "IPY_MODEL_e67244e593754abb9df223311de524f6"
       ],
       "layout": "IPY_MODEL_78b70f26b3b249c89ed2529306c5f6d1"
      }
     },
     "2f1ea9c266324323a436c8f3d97a8d6f": {
      "model_module": "@jupyter-widgets/controls",
      "model_module_version": "1.5.0",
      "model_name": "VBoxModel",
      "state": {
       "children": [
        "IPY_MODEL_74c061fa34b14d248e740d3de461df5e",
        "IPY_MODEL_6c2cb0d46c6c4ed2adcd89356cb5fd32",
        "IPY_MODEL_cd3e3acd429b46e48a3dcb528993a8a2",
        "IPY_MODEL_15dd71691113447998d918d0d957f124",
        "IPY_MODEL_8225ec476bb0424aa2bd65a2596dd454",
        "IPY_MODEL_9c25986ca5a5423da8ab2d664f655c54",
        "IPY_MODEL_ca5fd3a809dd4adfb7ed1873057ca16d",
        "IPY_MODEL_bc5ba3a270e24c79941000b930eb2f80",
        "IPY_MODEL_272b98b906a0441bafd1a49521a11f5f",
        "IPY_MODEL_4558a92b094f4c339b2bbe3ccaad632d"
       ],
       "layout": "IPY_MODEL_2776d964b09b4a769472418bed272977"
      }
     },
     "2ff4a78775b74a4d8fedbd07cd68aaba": {
      "model_module": "@jupyter-widgets/controls",
      "model_module_version": "1.5.0",
      "model_name": "HBoxModel",
      "state": {
       "children": [
        "IPY_MODEL_ecf7fe8719964ebbb4536a4479bacf35",
        "IPY_MODEL_c79a45c3c801446196944f104e013034"
       ],
       "layout": "IPY_MODEL_f56aea65962a4796be4e7b75c5671570"
      }
     },
     "3020048d28ce4fd4b0d2e6dca836a120": {
      "model_module": "@jupyter-widgets/controls",
      "model_module_version": "1.5.0",
      "model_name": "DescriptionStyleModel",
      "state": {
       "description_width": ""
      }
     },
     "30bf7b0b36f343a28c73fcca9f1aacac": {
      "model_module": "@jupyter-widgets/base",
      "model_module_version": "1.2.0",
      "model_name": "LayoutModel",
      "state": {
       "justify_content": "center"
      }
     },
     "30e95e36a0084e1087b7372aade4d22b": {
      "model_module": "@jupyter-widgets/base",
      "model_module_version": "1.2.0",
      "model_name": "LayoutModel",
      "state": {
       "align_items": "center",
       "display": "flex-inline"
      }
     },
     "30f1250e5ed547f7bccc9f5e513a4d08": {
      "model_module": "@jupyter-widgets/controls",
      "model_module_version": "1.5.0",
      "model_name": "LabelModel",
      "state": {
       "layout": "IPY_MODEL_b55214ef9bfe47bd8cf5dd423140b685",
       "style": "IPY_MODEL_f333924493ce4463a994cdf3fd82c5b5",
       "value": "376"
      }
     },
     "311bb5e8c92f48f58dfedf47e6642425": {
      "model_module": "@jupyter-widgets/controls",
      "model_module_version": "1.5.0",
      "model_name": "HBoxModel",
      "state": {
       "children": [
        "IPY_MODEL_2c08f5319b05455882340785c62026d7",
        "IPY_MODEL_bb10c442fc7143d1b60e53a36f4ad0f4",
        "IPY_MODEL_9736c922f4d64afda4be3825b4077c9c"
       ],
       "layout": "IPY_MODEL_7d4815697cd4491fafc3c32fd09c508a"
      }
     },
     "31b64e316429471aab3f5fc3c1025b03": {
      "model_module": "@jupyter-widgets/base",
      "model_module_version": "1.2.0",
      "model_name": "LayoutModel",
      "state": {
       "margin": "8px 0px 0px 0px"
      }
     },
     "32b677b0d545459a8f0c7180b919f562": {
      "model_module": "@jupyter-widgets/base",
      "model_module_version": "1.2.0",
      "model_name": "LayoutModel",
      "state": {}
     },
     "32ed667fd6b84941a1d33ef85543ac60": {
      "model_module": "@jupyter-widgets/base",
      "model_module_version": "1.2.0",
      "model_name": "LayoutModel",
      "state": {
       "justify_content": "center"
      }
     },
     "32f2f284daba48cc8b389a46db51b1ec": {
      "model_module": "@jupyter-widgets/controls",
      "model_module_version": "1.5.0",
      "model_name": "HTMLModel",
      "state": {
       "layout": "IPY_MODEL_81df7b3b344c4670b0a881a4a8d946ba",
       "style": "IPY_MODEL_683b402c19404b099bb59070ebbebb83",
       "value": "<h5>32</h5>"
      }
     },
     "3352720c7fa64dd5a0c8f375f41b6a31": {
      "model_module": "@jupyter-widgets/controls",
      "model_module_version": "1.5.0",
      "model_name": "DescriptionStyleModel",
      "state": {
       "description_width": ""
      }
     },
     "335cacc0773f4a78bb96026130dfae5d": {
      "model_module": "@jupyter-widgets/controls",
      "model_module_version": "1.5.0",
      "model_name": "DescriptionStyleModel",
      "state": {
       "description_width": ""
      }
     },
     "3435d3947ceb47938cd684f9d702238b": {
      "model_module": "@jupyter-widgets/controls",
      "model_module_version": "1.5.0",
      "model_name": "HTMLModel",
      "state": {
       "layout": "IPY_MODEL_15a931d60e194df1b3841456f895692f",
       "style": "IPY_MODEL_7ca8939a47864e39bc9d3fc73628b213",
       "value": "<h5>83.1 / 75.9 us</h5>"
      }
     },
     "3445689047c649178a9da9a863862d14": {
      "model_module": "@jupyter-widgets/base",
      "model_module_version": "1.2.0",
      "model_name": "LayoutModel",
      "state": {
       "justify_content": "center",
       "max_width": "250px",
       "min_width": "250px"
      }
     },
     "34ad61f5a535478b92232542d3f79d10": {
      "model_module": "@jupyter-widgets/base",
      "model_module_version": "1.2.0",
      "model_name": "LayoutModel",
      "state": {}
     },
     "34d11322baa0462899c93aea34b3909d": {
      "model_module": "@jupyter-widgets/controls",
      "model_module_version": "1.5.0",
      "model_name": "HTMLModel",
      "state": {
       "layout": "IPY_MODEL_ada4872b7bbd4a5dba0c210120d64ec8",
       "style": "IPY_MODEL_793d71e0c44d4809854b95034afd55dd",
       "value": "<h5>158.1 / 175.3 us</h5>"
      }
     },
     "3552757d0fcf4bbd9b34be800dba17d3": {
      "model_module": "@jupyter-widgets/controls",
      "model_module_version": "1.5.0",
      "model_name": "HTMLModel",
      "state": {
       "layout": "IPY_MODEL_2a6f0fdd4f8c4567be3520eaee1782b1",
       "style": "IPY_MODEL_2dc0e7f5018b493ca8bbc3395908c312",
       "value": "<h5>0.0131</h5>"
      }
     },
     "355815f05cc44a7ab31a061afe82465c": {
      "model_module": "@jupyter-widgets/controls",
      "model_module_version": "1.5.0",
      "model_name": "LabelModel",
      "state": {
       "layout": "IPY_MODEL_2c5a40bdfb2b426ebf1b442dcffac612",
       "style": "IPY_MODEL_eb7ec231a11f474f8685142dc2f41ece",
       "value": "0"
      }
     },
     "35d3992687264427bbcfc8b99dc40afe": {
      "model_module": "@jupyter-widgets/controls",
      "model_module_version": "1.5.0",
      "model_name": "HTMLModel",
      "state": {
       "layout": "IPY_MODEL_3a21d573b9a942abae2bdb213139c0f6",
       "style": "IPY_MODEL_18e3bccbcdcc49d8b5ae9ce1188bbf21",
       "value": "<h5>32</h5>"
      }
     },
     "35de3241124a4aeba3266ab8b6763d49": {
      "model_module": "@jupyter-widgets/controls",
      "model_module_version": "1.5.0",
      "model_name": "HTMLModel",
      "state": {
       "layout": "IPY_MODEL_6f14a6aed7fe4e34b52ec982ccd837fe",
       "style": "IPY_MODEL_54fc7931cd0a4a5f83ead127c6328dc4",
       "value": "<h5>Queue</h5>"
      }
     },
     "35fb0db8b6d74fed8a5254e76f6fdcef": {
      "model_module": "@jupyter-widgets/controls",
      "model_module_version": "1.5.0",
      "model_name": "HBoxModel",
      "state": {
       "children": [
        "IPY_MODEL_a1f4bb92eaa3452d845deeac1d73e940",
        "IPY_MODEL_614db574896d43fdb94c7f82145dde6c",
        "IPY_MODEL_e236f3bf480e4d21a1f57ff2d7c2c6f0"
       ],
       "layout": "IPY_MODEL_5ef875aad395475f9ae13c117d6bf72a"
      }
     },
     "3602c19a831e45e39a3207b403bf8a09": {
      "model_module": "@jupyter-widgets/controls",
      "model_module_version": "1.5.0",
      "model_name": "DescriptionStyleModel",
      "state": {
       "description_width": ""
      }
     },
     "3633aec7be7745e09f70a821fb3b6781": {
      "model_module": "@jupyter-widgets/base",
      "model_module_version": "1.2.0",
      "model_name": "LayoutModel",
      "state": {
       "max_width": "180px"
      }
     },
     "363869d920f649ef8ede43b77d3158dd": {
      "model_module": "@jupyter-widgets/controls",
      "model_module_version": "1.5.0",
      "model_name": "DescriptionStyleModel",
      "state": {
       "description_width": ""
      }
     },
     "36a1d5c9239b4139bf7ca36e5a73dcf8": {
      "model_module": "@jupyter-widgets/controls",
      "model_module_version": "1.5.0",
      "model_name": "DescriptionStyleModel",
      "state": {
       "description_width": ""
      }
     },
     "37086b12f5714921bdb5e23610a6db9f": {
      "model_module": "@jupyter-widgets/controls",
      "model_module_version": "1.5.0",
      "model_name": "HTMLModel",
      "state": {
       "layout": "IPY_MODEL_76f208ee54b6434b8952b02c0563de26",
       "style": "IPY_MODEL_201dde0c3d3e431aac968ec7369fedb3",
       "value": "<h4>ibmq_santiago</h4>"
      }
     },
     "3718d8e7b30d4480a4dc6767dd089d60": {
      "model_module": "@jupyter-widgets/controls",
      "model_module_version": "1.5.0",
      "model_name": "HTMLModel",
      "state": {
       "layout": "IPY_MODEL_f438b658273046a28c8a9315b153f210",
       "style": "IPY_MODEL_8348b9c43b1b448cb220a7a7587605fc",
       "value": "<h5><b>5</b></h5>"
      }
     },
     "371af80f8bc645e6aa7539af66d5fadc": {
      "model_module": "@jupyter-widgets/controls",
      "model_module_version": "1.5.0",
      "model_name": "DescriptionStyleModel",
      "state": {
       "description_width": ""
      }
     },
     "375f21e374104fc88e31e0a0f880386f": {
      "model_module": "@jupyter-widgets/controls",
      "model_module_version": "1.5.0",
      "model_name": "DescriptionStyleModel",
      "state": {
       "description_width": ""
      }
     },
     "3767c0d0224446fa9f0d9e668308abda": {
      "model_module": "@jupyter-widgets/base",
      "model_module_version": "1.2.0",
      "model_name": "LayoutModel",
      "state": {}
     },
     "37b44024c8fe4e518e620fc7ef603b8e": {
      "model_module": "@jupyter-widgets/base",
      "model_module_version": "1.2.0",
      "model_name": "LayoutModel",
      "state": {
       "min_width": "auto"
      }
     },
     "3845350025854328af7e9a7c1ecc4489": {
      "model_module": "@jupyter-widgets/controls",
      "model_module_version": "1.5.0",
      "model_name": "ProgressStyleModel",
      "state": {
       "bar_color": "#71cddd",
       "description_width": ""
      }
     },
     "38b99a99fa3645ab88e99b3865b63548": {
      "model_module": "@jupyter-widgets/base",
      "model_module_version": "1.2.0",
      "model_name": "LayoutModel",
      "state": {}
     },
     "3947551d047245ffaf6f8e4fde62c405": {
      "model_module": "@jupyter-widgets/controls",
      "model_module_version": "1.5.0",
      "model_name": "HTMLModel",
      "state": {
       "layout": "IPY_MODEL_3e9a8ede5c234b4a96cd14f06fe775d6",
       "style": "IPY_MODEL_432b02bce7624cf29ee5937085ca8588",
       "value": "<h5>0.0217</h5>"
      }
     },
     "396bd19ede0d4d01b1364b53ea25b1c4": {
      "model_module": "@jupyter-widgets/controls",
      "model_module_version": "1.5.0",
      "model_name": "DescriptionStyleModel",
      "state": {
       "description_width": ""
      }
     },
     "3a21d573b9a942abae2bdb213139c0f6": {
      "model_module": "@jupyter-widgets/base",
      "model_module_version": "1.2.0",
      "model_name": "LayoutModel",
      "state": {
       "justify_content": "center"
      }
     },
     "3aa8a9eb78964305b2b212ca389b78b3": {
      "model_module": "@jupyter-widgets/base",
      "model_module_version": "1.2.0",
      "model_name": "LayoutModel",
      "state": {
       "grid_area": "bottom",
       "width": "auto"
      }
     },
     "3baf16acb31f45e49057ec68ee23f875": {
      "model_module": "@jupyter-widgets/base",
      "model_module_version": "1.2.0",
      "model_name": "LayoutModel",
      "state": {
       "justify_content": "center"
      }
     },
     "3c4dbe87aa4d4ab28527ea0870018b2e": {
      "model_module": "@jupyter-widgets/controls",
      "model_module_version": "1.5.0",
      "model_name": "HTMLMathModel",
      "state": {
       "layout": "IPY_MODEL_3aa8a9eb78964305b2b212ca389b78b3",
       "style": "IPY_MODEL_ffa3d80daa084f36aa9a8d091c02450f",
       "value": "<table><style>\ntable {\n    border-collapse: collapse;\n    width: auto;\n}\n\nth, td {\n    text-align: left;\n    padding: 8px;\n}\n\ntr:nth-child(even) {background-color: #f6f6f6;}\n</style><tr><th></th><th></th></tr><tr><td>dt</td><td>0.2222222222222222</td></tr><tr><td>url</td><td>None</td></tr><tr><td>sample_name</td><td>Hexbert</td></tr><tr><td>u_channel_lo</td><td>[[{'q': 1, 'scale': (1+0j)}], [{'q': 5, 'scale': (1+0j)}], [{'q': 0, 'scale': (1+0j)}], [{'q': 2, 'scale': (1+0j)}], [{'q': 1, 'scale': (1+0j)}], [{'q': 3, 'scale': (1+0j)}], [{'q': 2, 'scale': (1+0j)}], [{'q': 4, 'scale': (1+0j)}], [{'q': 3, 'scale': (1+0j)}], [{'q': 9, 'scale': (1+0j)}], [{'q': 0, 'scale': (1+0j)}], [{'q': 6, 'scale': (1+0j)}], [{'q': 10, 'scale': (1+0j)}], [{'q': 5, 'scale': (1+0j)}], [{'q': 7, 'scale': (1+0j)}], [{'q': 6, 'scale': (1+0j)}], [{'q': 8, 'scale': (1+0j)}], [{'q': 12, 'scale': (1+0j)}], [{'q': 7, 'scale': (1+0j)}], [{'q': 9, 'scale': (1+0j)}], [{'q': 4, 'scale': (1+0j)}], [{'q': 8, 'scale': (1+0j)}], [{'q': 14, 'scale': (1+0j)}], [{'q': 5, 'scale': (1+0j)}], [{'q': 11, 'scale': (1+0j)}], [{'q': 15, 'scale': (1+0j)}], [{'q': 10, 'scale': (1+0j)}], [{'q': 12, 'scale': (1+0j)}], [{'q': 7, 'scale': (1+0j)}], [{'q': 11, 'scale': (1+0j)}], [{'q': 13, 'scale': (1+0j)}], [{'q': 12, 'scale': (1+0j)}], [{'q': 14, 'scale': (1+0j)}], [{'q': 9, 'scale': (1+0j)}], [{'q': 13, 'scale': (1+0j)}], [{'q': 19, 'scale': (1+0j)}], [{'q': 10, 'scale': (1+0j)}], [{'q': 16, 'scale': (1+0j)}], [{'q': 15, 'scale': (1+0j)}], [{'q': 17, 'scale': (1+0j)}], [{'q': 16, 'scale': (1+0j)}], [{'q': 18, 'scale': (1+0j)}], [{'q': 17, 'scale': (1+0j)}], [{'q': 19, 'scale': (1+0j)}], [{'q': 14, 'scale': (1+0j)}], [{'q': 18, 'scale': (1+0j)}]]</td></tr><tr><td>qubit_lo_range</td><td>[[4.164921219025063, 5.164921219025063], [4.26767163657472, 5.267671636574722], [4.118034101840273, 5.118034101840273], [4.522627765569717, 5.522627765569717], [4.155787513438005, 5.155787513438007], [4.245781392793495, 5.245781392793495], [4.331680271816184, 5.331680271816184], [4.205694167284576, 5.205694167284576], [4.398401743238063, 5.398401743238063], [4.240604573181179, 5.240604573181179], [4.341305536370642, 5.341305536370642], [4.257092566528682, 5.257092566528682], [4.1198621405375295, 5.11986214053753], [4.353945886402921, 5.353945886402921], [3.901271095555993, 4.901271095555994], [4.193544830088672, 5.193544830088672], [4.012673616968253, 5.012673616968254], [4.224206493424603, 5.224206493424605], [3.8350998481550134, 4.8350998481550125], [4.0862258365306365, 5.086225836530638]]</td></tr><tr><td>meas_kernels</td><td>['boxcar']</td></tr><tr><td>local</td><td>False</td></tr><tr><td>memory</td><td>True</td></tr><tr><td>acquisition_latency</td><td>[]</td></tr><tr><td>parametric_pulses</td><td>[]</td></tr><tr><td>allow_object_storage</td><td>True</td></tr><tr><td>rep_times</td><td>[1000.0]</td></tr><tr><td>meas_levels</td><td>[1, 2]</td></tr><tr><td>uchannels_enabled</td><td>True</td></tr><tr><td>simulator</td><td>False</td></tr><tr><td>dynamic_reprate_enabled</td><td>False</td></tr><tr><td>n_uchannels</td><td>46</td></tr><tr><td>meas_lo_range</td><td>[[6.582440095000002, 7.582440095000002], [6.420965043000002, 7.420965043000002], [6.544025536, 7.544025536], [6.487596291, 7.487596291000002], [6.515162829, 7.515162829], [6.38843403, 7.388434030000002], [6.479164254000001, 7.479164254000001], [6.3875422130000015, 7.3875422130000015], [6.590439509, 7.590439509], [6.446428035, 7.446428035], [6.5559762710000005, 7.5559762710000005], [6.4055736460000015, 7.4055736460000015], [6.515604958000002, 7.515604958000002], [6.476179029000002, 7.476179029000002], [6.49972362, 7.49972362], [6.377593348, 7.377593348], [6.471263482, 7.471263482], [6.382423119, 7.382423119], [6.580569418000001, 7.580569418000001], [6.424848203000002, 7.424848203000002]]</td></tr><tr><td>discriminators</td><td>['linear_discriminator', 'quadratic_discriminator']</td></tr><tr><td>allow_q_object</td><td>True</td></tr><tr><td>description</td><td>20 qubit device Johannesburg</td></tr><tr><td>qubit_channel_mapping</td><td>[['u2', 'm0', 'u10', 'u1', 'u0', 'd0'], ['d1', 'u2', 'u4', 'm1', 'u0', 'u3'], ['u4', 'u5', 'd2', 'm2', 'u6', 'u3'], ['u5', 'u8', 'm3', 'u6', 'd3', 'u7'], ['u20', 'u8', 'u9', 'd4', 'm4', 'u7'], ['u10', 'u1', 'u12', 'u11', 'u23', 'u13', 'd5', 'm5'], ['d6', 'u11', 'u15', 'm6', 'u13', 'u14'], ['u28', 'd7', 'u15', 'u17', 'u16', 'u18', 'm7', 'u14'], ['u18', 'u16', 'd8', 'm8', 'u19', 'u21'], ['d9', 'u9', 'u22', 'u33', 'u19', 'u21', 'm9', 'u20'], ['u24', 'd10', 'u12', 'u25', 'u23', 'u26', 'u36', 'm10'], ['u24', 'u29', 'm11', 'u26', 'u27', 'd11'], ['d12', 'u28', 'u29', 'u31', 'u30', 'u17', 'u27', 'm12'], ['u31', 'm13', 'u32', 'd13', 'u30', 'u34'], ['u44', 'd14', 'u32', 'u35', 'u22', 'm14', 'u33', 'u34'], ['d15', 'u38', 'u25', 'm15', 'u37', 'u36'], ['u39', 'u38', 'u40', 'u37', 'm16', 'd16'], ['d17', 'u42', 'u39', 'u41', 'u40', 'm17'], ['u43', 'm18', 'u41', 'u45', 'd18', 'u42'], ['u44', 'u43', 'm19', 'u45', 'u35', 'd19']]</td></tr><tr><td>backend_name</td><td>fake_johannesburg</td></tr><tr><td>hamiltonian</td><td>$$\\begin{align} \\mathcal{H}/\\hbar = & \\sum_{i=0}^{19}\\left(\\frac{\\omega_{q,i}}{2}(\\mathbb{I}-\\sigma_i^{z})+\\frac{\\Delta_{i}}{2}(O_i^2-O_i)+\\Omega_{d,i}D_i(t)\\sigma_i^{X}\\right) \\\\ & + J_{10,11}(\\sigma_{10}^{+}\\sigma_{11}^{-}+\\sigma_{10}^{-}\\sigma_{11}^{+}) + J_{7,12}(\\sigma_{7}^{+}\\sigma_{12}^{-}+\\sigma_{7}^{-}\\sigma_{12}^{+}) + J_{5,6}(\\sigma_{5}^{+}\\sigma_{6}^{-}+\\sigma_{5}^{-}\\sigma_{6}^{+}) + J_{8,9}(\\sigma_{8}^{+}\\sigma_{9}^{-}+\\sigma_{8}^{-}\\sigma_{9}^{+}) \\\\ & + J_{10,15}(\\sigma_{10}^{+}\\sigma_{15}^{-}+\\sigma_{10}^{-}\\sigma_{15}^{+}) + J_{15,16}(\\sigma_{15}^{+}\\sigma_{16}^{-}+\\sigma_{15}^{-}\\sigma_{16}^{+}) + J_{18,19}(\\sigma_{18}^{+}\\sigma_{19}^{-}+\\sigma_{18}^{-}\\sigma_{19}^{+}) + J_{1,2}(\\sigma_{1}^{+}\\sigma_{2}^{-}+\\sigma_{1}^{-}\\sigma_{2}^{+}) \\\\ & + J_{16,17}(\\sigma_{16}^{+}\\sigma_{17}^{-}+\\sigma_{16}^{-}\\sigma_{17}^{+}) + J_{4,9}(\\sigma_{4}^{+}\\sigma_{9}^{-}+\\sigma_{4}^{-}\\sigma_{9}^{+}) + J_{6,7}(\\sigma_{6}^{+}\\sigma_{7}^{-}+\\sigma_{6}^{-}\\sigma_{7}^{+}) + J_{12,13}(\\sigma_{12}^{+}\\sigma_{13}^{-}+\\sigma_{12}^{-}\\sigma_{13}^{+}) \\\\ & + J_{3,4}(\\sigma_{3}^{+}\\sigma_{4}^{-}+\\sigma_{3}^{-}\\sigma_{4}^{+}) + J_{9,14}(\\sigma_{9}^{+}\\sigma_{14}^{-}+\\sigma_{9}^{-}\\sigma_{14}^{+}) + J_{14,19}(\\sigma_{14}^{+}\\sigma_{19}^{-}+\\sigma_{14}^{-}\\sigma_{19}^{+}) + J_{0,5}(\\sigma_{0}^{+}\\sigma_{5}^{-}+\\sigma_{0}^{-}\\sigma_{5}^{+}) \\\\ & + J_{2,3}(\\sigma_{2}^{+}\\sigma_{3}^{-}+\\sigma_{2}^{-}\\sigma_{3}^{+}) + J_{11,12}(\\sigma_{11}^{+}\\sigma_{12}^{-}+\\sigma_{11}^{-}\\sigma_{12}^{+}) + J_{17,18}(\\sigma_{17}^{+}\\sigma_{18}^{-}+\\sigma_{17}^{-}\\sigma_{18}^{+}) + J_{0,1}(\\sigma_{0}^{+}\\sigma_{1}^{-}+\\sigma_{0}^{-}\\sigma_{1}^{+}) \\\\ & + J_{5,10}(\\sigma_{5}^{+}\\sigma_{10}^{-}+\\sigma_{5}^{-}\\sigma_{10}^{+}) + J_{13,14}(\\sigma_{13}^{+}\\sigma_{14}^{-}+\\sigma_{13}^{-}\\sigma_{14}^{+}) + J_{7,8}(\\sigma_{7}^{+}\\sigma_{8}^{-}+\\sigma_{7}^{-}\\sigma_{8}^{+}) \\\\ & + \\Omega_{d,0}(U_{0}^{(0,1)}(t)+U_{1}^{(0,5)}(t))\\sigma_{0}^{X} + \\Omega_{d,1}(U_{2}^{(1,0)}(t)+U_{3}^{(1,2)}(t))\\sigma_{1}^{X} \\\\ & + \\Omega_{d,2}(U_{4}^{(2,1)}(t)+U_{5}^{(2,3)}(t))\\sigma_{2}^{X} + \\Omega_{d,3}(U_{7}^{(3,4)}(t)+U_{6}^{(3,2)}(t))\\sigma_{3}^{X} \\\\ & + \\Omega_{d,4}(U_{8}^{(4,3)}(t)+U_{9}^{(4,9)}(t))\\sigma_{4}^{X} + \\Omega_{d,5}(U_{10}^{(5,0)}(t)+U_{12}^{(5,10)}(t)+U_{11}^{(5,6)}(t))\\sigma_{5}^{X} \\\\ & + \\Omega_{d,6}(U_{14}^{(6,7)}(t)+U_{13}^{(6,5)}(t))\\sigma_{6}^{X} + \\Omega_{d,7}(U_{15}^{(7,6)}(t)+U_{16}^{(7,8)}(t)+U_{17}^{(7,12)}(t))\\sigma_{7}^{X} \\\\ & + \\Omega_{d,8}(U_{18}^{(8,7)}(t)+U_{19}^{(8,9)}(t))\\sigma_{8}^{X} + \\Omega_{d,9}(U_{20}^{(9,4)}(t)+U_{21}^{(9,8)}(t)+U_{22}^{(9,14)}(t))\\sigma_{9}^{X} \\\\ & + \\Omega_{d,10}(U_{24}^{(10,11)}(t)+U_{23}^{(10,5)}(t)+U_{25}^{(10,15)}(t))\\sigma_{10}^{X} + \\Omega_{d,11}(U_{27}^{(11,12)}(t)+U_{26}^{(11,10)}(t))\\sigma_{11}^{X} \\\\ & + \\Omega_{d,12}(U_{28}^{(12,7)}(t)+U_{30}^{(12,13)}(t)+U_{29}^{(12,11)}(t))\\sigma_{12}^{X} + \\Omega_{d,13}(U_{31}^{(13,12)}(t)+U_{32}^{(13,14)}(t))\\sigma_{13}^{X} \\\\ & + \\Omega_{d,14}(U_{35}^{(14,19)}(t)+U_{34}^{(14,13)}(t)+U_{33}^{(14,9)}(t))\\sigma_{14}^{X} + \\Omega_{d,15}(U_{36}^{(15,10)}(t)+U_{37}^{(15,16)}(t))\\sigma_{15}^{X} \\\\ & + \\Omega_{d,16}(U_{38}^{(16,15)}(t)+U_{39}^{(16,17)}(t))\\sigma_{16}^{X} + \\Omega_{d,17}(U_{41}^{(17,18)}(t)+U_{40}^{(17,16)}(t))\\sigma_{17}^{X} \\\\ & + \\Omega_{d,18}(U_{43}^{(18,19)}(t)+U_{42}^{(18,17)}(t))\\sigma_{18}^{X} + \\Omega_{d,19}(U_{45}^{(19,18)}(t)+U_{44}^{(19,14)}(t))\\sigma_{19}^{X} \\\\ \\end{align}$$</td></tr><tr><td>meas_map</td><td>[[0, 1, 2, 3, 4, 5, 6, 7, 8, 9, 10, 11, 12, 13, 14, 15, 16, 17, 18, 19]]</td></tr><tr><td>dtm</td><td>0.2222222222222222</td></tr><tr><td>credits_required</td><td>True</td></tr><tr><td>conditional_latency</td><td>[]</td></tr><tr><td>online_date</td><td>2019-09-13 04:00:00+00:00</td></tr><tr><td>coupling_map</td><td>[[0, 1], [0, 5], [1, 0], [1, 2], [2, 1], [2, 3], [3, 2], [3, 4], [4, 3], [4, 9], [5, 0], [5, 6], [5, 10], [6, 5], [6, 7], [7, 6], [7, 8], [7, 12], [8, 7], [8, 9], [9, 4], [9, 8], [9, 14], [10, 5], [10, 11], [10, 15], [11, 10], [11, 12], [12, 7], [12, 11], [12, 13], [13, 12], [13, 14], [14, 9], [14, 13], [14, 19], [15, 10], [15, 16], [16, 15], [16, 17], [17, 16], [17, 18], [18, 17], [18, 19], [19, 14], [19, 18]]</td></tr><tr><td>conditional</td><td>False</td></tr><tr><td>n_registers</td><td>1</td></tr><tr><td>open_pulse</td><td>True</td></tr></table>"
      }
     },
     "3ccab7d33d414bb895cbc2eb7f174c39": {
      "model_module": "@jupyter-widgets/base",
      "model_module_version": "1.2.0",
      "model_name": "LayoutModel",
      "state": {
       "justify_content": "center"
      }
     },
     "3cda6e2d5176478f85daa73b4e265338": {
      "model_module": "@jupyter-widgets/base",
      "model_module_version": "1.2.0",
      "model_name": "LayoutModel",
      "state": {
       "align_items": "center",
       "justify_content": "center",
       "margin": "0px 0px 0px 0px",
       "max_height": "250px",
       "max_width": "250px",
       "min_height": "250px",
       "min_width": "250px"
      }
     },
     "3ce6f9918c4e48dd8bddc94f2247a39d": {
      "model_module": "@jupyter-widgets/base",
      "model_module_version": "1.2.0",
      "model_name": "LayoutModel",
      "state": {
       "grid_area": "bottom",
       "width": "auto"
      }
     },
     "3d0060caafe14413a284a65a0aa6e64d": {
      "model_module": "@jupyter-widgets/controls",
      "model_module_version": "1.5.0",
      "model_name": "HTMLModel",
      "state": {
       "layout": "IPY_MODEL_1cfd609d4eec4b16b5e28a93d01472cc",
       "style": "IPY_MODEL_a84b20d9c4314694afb4b9185ffc2ece",
       "value": "<div><font style='font-weight:bold'>last_update_date</font>: Sun 09 August 2020 at 14:09 </div>"
      }
     },
     "3d0145aa111b439ba1c1a94999d224dc": {
      "model_module": "@jupyter-widgets/base",
      "model_module_version": "1.2.0",
      "model_name": "LayoutModel",
      "state": {
       "justify_content": "center"
      }
     },
     "3d300a23974d4d7db91e11212854dde1": {
      "model_module": "@jupyter-widgets/base",
      "model_module_version": "1.2.0",
      "model_name": "LayoutModel",
      "state": {
       "min_width": "auto"
      }
     },
     "3dee5a95d6824904bca0b1517d2eefda": {
      "model_module": "@jupyter-widgets/controls",
      "model_module_version": "1.5.0",
      "model_name": "HTMLModel",
      "state": {
       "layout": "IPY_MODEL_b3c0b83c518d4ee19b37c7aabc41e4cb",
       "style": "IPY_MODEL_2a1f974b0922444abb2c064f6f17641c",
       "value": "<h5>0.0364</h5>"
      }
     },
     "3e1381831fec465587f43910882dbed9": {
      "model_module": "@jupyter-widgets/controls",
      "model_module_version": "1.5.0",
      "model_name": "IntProgressModel",
      "state": {
       "layout": "IPY_MODEL_16ebb48478bd43888ddd054650313e6c",
       "max": 290,
       "style": "IPY_MODEL_2286861e10b24505b18f8a6735734731",
       "value": 3
      }
     },
     "3e39963e48c04493b08e63fdfe62970f": {
      "model_module": "@jupyter-widgets/base",
      "model_module_version": "1.2.0",
      "model_name": "LayoutModel",
      "state": {}
     },
     "3e9a8ede5c234b4a96cd14f06fe775d6": {
      "model_module": "@jupyter-widgets/base",
      "model_module_version": "1.2.0",
      "model_name": "LayoutModel",
      "state": {}
     },
     "3f00b0f6453c4d2f9d52cb5aed3b6d80": {
      "model_module": "@jupyter-widgets/base",
      "model_module_version": "1.2.0",
      "model_name": "LayoutModel",
      "state": {}
     },
     "3fb1cf1a94d14a0fb6bb6fb5bf88b62d": {
      "model_module": "@jupyter-widgets/base",
      "model_module_version": "1.2.0",
      "model_name": "LayoutModel",
      "state": {
       "align_items": "center",
       "display": "flex-inline",
       "min_height": "400px"
      }
     },
     "3fbc37628556490d98cd1814d6ed77d7": {
      "model_module": "@jupyter-widgets/controls",
      "model_module_version": "1.5.0",
      "model_name": "LabelModel",
      "state": {
       "layout": "IPY_MODEL_0da6f12f083e48198dee4d56caf30a99",
       "style": "IPY_MODEL_2c7e93a981c44c328ebc36e377e5313d",
       "value": "Operational"
      }
     },
     "3fbe9d94cf4243b3960caacab0b93754": {
      "model_module": "@jupyter-widgets/controls",
      "model_module_version": "1.5.0",
      "model_name": "DescriptionStyleModel",
      "state": {
       "description_width": ""
      }
     },
     "405c19edc9da4bd7a457140d71c07808": {
      "model_module": "@jupyter-widgets/controls",
      "model_module_version": "1.5.0",
      "model_name": "DescriptionStyleModel",
      "state": {
       "description_width": ""
      }
     },
     "40730605b7a441ad86df50d12b5b7813": {
      "model_module": "@jupyter-widgets/controls",
      "model_module_version": "1.5.0",
      "model_name": "DescriptionStyleModel",
      "state": {
       "description_width": ""
      }
     },
     "41635cc6f11c4a20aa3be0ca0bdb40fb": {
      "model_module": "@jupyter-widgets/base",
      "model_module_version": "1.2.0",
      "model_name": "LayoutModel",
      "state": {
       "width": "145px"
      }
     },
     "4194e477630e40daad53f79f1e27587c": {
      "model_module": "@jupyter-widgets/base",
      "model_module_version": "1.2.0",
      "model_name": "LayoutModel",
      "state": {
       "max_width": "180px"
      }
     },
     "41decfcee5c04dcdb0f5550af18c61e5": {
      "model_module": "@jupyter-widgets/output",
      "model_module_version": "1.0.0",
      "model_name": "OutputModel",
      "state": {
       "layout": "IPY_MODEL_d144894bfdbd45a3b4cc6ce465399567",
       "outputs": [
        {
         "data": {
          "image/png": "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\n",
          "text/plain": "<Figure size 360x360 with 1 Axes>"
         },
         "metadata": {},
         "output_type": "display_data"
        }
       ]
      }
     },
     "41f8b5fb5c3f4e149fdfce597e7ddc9a": {
      "model_module": "@jupyter-widgets/base",
      "model_module_version": "1.2.0",
      "model_name": "LayoutModel",
      "state": {
       "align_items": "center",
       "display": "inline-flex",
       "flex_flow": "column"
      }
     },
     "420fbfa4555343319352e29fc1d59c5e": {
      "model_module": "@jupyter-widgets/output",
      "model_module_version": "1.0.0",
      "model_name": "OutputModel",
      "state": {
       "layout": "IPY_MODEL_83ccbdacfa0447128eaed7db3b44dc50",
       "outputs": [
        {
         "name": "stderr",
         "output_type": "stream",
         "text": "/opt/conda/lib/python3.8/site-packages/qiskit/tools/jupyter/backend_monitor.py:578: MatplotlibDeprecationWarning: normalize=None does not normalize if the sum is less than 1 but this behavior is deprecated since 3.3 until two minor releases later. After the deprecation period the default value will be normalize=True. To prevent normalization pass normalize=False \n  ax.pie(\n"
        },
        {
         "data": {
          "image/png": "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\n",
          "text/plain": "<Figure size 396x396 with 1 Axes>"
         },
         "metadata": {},
         "output_type": "display_data"
        }
       ]
      }
     },
     "4225641f198345ecbfe06316f91881fa": {
      "model_module": "@jupyter-widgets/controls",
      "model_module_version": "1.5.0",
      "model_name": "DescriptionStyleModel",
      "state": {
       "description_width": ""
      }
     },
     "427ac7a992d64d63979052de4d5589d8": {
      "model_module": "@jupyter-widgets/controls",
      "model_module_version": "1.5.0",
      "model_name": "DescriptionStyleModel",
      "state": {
       "description_width": ""
      }
     },
     "432b02bce7624cf29ee5937085ca8588": {
      "model_module": "@jupyter-widgets/controls",
      "model_module_version": "1.5.0",
      "model_name": "DescriptionStyleModel",
      "state": {
       "description_width": ""
      }
     },
     "440b376cae6b4b419edb03637a804db4": {
      "model_module": "@jupyter-widgets/controls",
      "model_module_version": "1.5.0",
      "model_name": "DescriptionStyleModel",
      "state": {
       "description_width": ""
      }
     },
     "44f28d7f8cc94c2eae5de07b0957d8d0": {
      "model_module": "@jupyter-widgets/base",
      "model_module_version": "1.2.0",
      "model_name": "LayoutModel",
      "state": {
       "min_width": "auto"
      }
     },
     "44fbe6075ce9461aa9df293ee6e01156": {
      "model_module": "@jupyter-widgets/controls",
      "model_module_version": "1.5.0",
      "model_name": "DescriptionStyleModel",
      "state": {
       "description_width": ""
      }
     },
     "450640a8c5ed4fa9a26e88b6fc7d0410": {
      "model_module": "@jupyter-widgets/base",
      "model_module_version": "1.2.0",
      "model_name": "LayoutModel",
      "state": {}
     },
     "4558a92b094f4c339b2bbe3ccaad632d": {
      "model_module": "@jupyter-widgets/controls",
      "model_module_version": "1.5.0",
      "model_name": "HTMLModel",
      "state": {
       "layout": "IPY_MODEL_121bead4135f42748715498a994432d5",
       "style": "IPY_MODEL_40730605b7a441ad86df50d12b5b7813",
       "value": "<h5>0.0117</h5>"
      }
     },
     "4637af55e439433a83d97583ff425b9a": {
      "model_module": "@jupyter-widgets/controls",
      "model_module_version": "1.5.0",
      "model_name": "DescriptionStyleModel",
      "state": {
       "description_width": ""
      }
     },
     "46471d54a88e4af9b25693fa724c4b0d": {
      "model_module": "@jupyter-widgets/base",
      "model_module_version": "1.2.0",
      "model_name": "LayoutModel",
      "state": {
       "overflow_x": "scroll"
      }
     },
     "467a4a2a9587450ea08df63a6af9ceed": {
      "model_module": "@jupyter-widgets/base",
      "model_module_version": "1.2.0",
      "model_name": "LayoutModel",
      "state": {}
     },
     "46d8967245664edea79c37585d80e503": {
      "model_module": "@jupyter-widgets/controls",
      "model_module_version": "1.5.0",
      "model_name": "DescriptionStyleModel",
      "state": {
       "description_width": ""
      }
     },
     "479f47da54d54b92ab43afbd16310b0a": {
      "model_module": "@jupyter-widgets/controls",
      "model_module_version": "1.5.0",
      "model_name": "HTMLModel",
      "state": {
       "layout": "IPY_MODEL_20eb5b5861fb4030b1a2f350699e3eb1",
       "style": "IPY_MODEL_dc8ee73eb81442b9a55870d56b0ba216",
       "value": "<h5 style='color:#34bc6e'>True</h5>"
      }
     },
     "480cd1219fde4c6d88a4e855a4edd3d2": {
      "model_module": "@jupyter-widgets/controls",
      "model_module_version": "1.5.0",
      "model_name": "DescriptionStyleModel",
      "state": {
       "description_width": ""
      }
     },
     "482a26114a8342718d5f498da517f91c": {
      "model_module": "@jupyter-widgets/controls",
      "model_module_version": "1.5.0",
      "model_name": "DescriptionStyleModel",
      "state": {
       "description_width": ""
      }
     },
     "4918dd325fdd4b05824426e83a902473": {
      "model_module": "@jupyter-widgets/base",
      "model_module_version": "1.2.0",
      "model_name": "LayoutModel",
      "state": {
       "justify_content": "center"
      }
     },
     "493ba530c72b456c90aaccafd606dd76": {
      "model_module": "@jupyter-widgets/controls",
      "model_module_version": "1.5.0",
      "model_name": "DescriptionStyleModel",
      "state": {
       "description_width": ""
      }
     },
     "498639995ab14d6494c6411c89cfbe7c": {
      "model_module": "@jupyter-widgets/controls",
      "model_module_version": "1.5.0",
      "model_name": "HTMLModel",
      "state": {
       "layout": "IPY_MODEL_9348c57c116141149481e025636cb125",
       "style": "IPY_MODEL_805d651a7a6a4e86b69b91ef7f42ee7f",
       "value": "<h1 style='color:#ffffff;background-color:#000000;padding-top: 1%;padding-bottom: 1%;padding-left: 1%; margin-top: 0px'>fake_johannesburg</h1>"
      }
     },
     "4ab354d60fd14d089863cb2373eae5df": {
      "model_module": "@jupyter-widgets/controls",
      "model_module_version": "1.5.0",
      "model_name": "ProgressStyleModel",
      "state": {
       "bar_color": "#71cddd",
       "description_width": ""
      }
     },
     "4afeab278fc9452db518e7080922a666": {
      "model_module": "@jupyter-widgets/controls",
      "model_module_version": "1.5.0",
      "model_name": "LabelModel",
      "state": {
       "layout": "IPY_MODEL_84486dcd2ddc4ebcb28f5e027e9a813e",
       "style": "IPY_MODEL_d3e1307b155147e69dadb5c759b6eb55",
       "value": "Operational"
      }
     },
     "4b372fef87aa4ad29302c577a86b3abc": {
      "model_module": "@jupyter-widgets/controls",
      "model_module_version": "1.5.0",
      "model_name": "DescriptionStyleModel",
      "state": {
       "description_width": ""
      }
     },
     "4b4549e1cff242399591805b6bdd74d0": {
      "model_module": "@jupyter-widgets/base",
      "model_module_version": "1.2.0",
      "model_name": "LayoutModel",
      "state": {
       "grid_area": "left"
      }
     },
     "4c92ba40f0fb4f66a0a599533fad6f94": {
      "model_module": "@jupyter-widgets/base",
      "model_module_version": "1.2.0",
      "model_name": "LayoutModel",
      "state": {}
     },
     "4ca432063e0c4ed5880b356b8ea813b0": {
      "model_module": "@jupyter-widgets/controls",
      "model_module_version": "1.5.0",
      "model_name": "LabelModel",
      "state": {
       "layout": "IPY_MODEL_778638da992949518747746f36596f7e",
       "style": "IPY_MODEL_101f6a966a0148f98e67734e831bf878",
       "value": "100"
      }
     },
     "4d10c8cd92a64f8583027002dc6eeb22": {
      "model_module": "@jupyter-widgets/controls",
      "model_module_version": "1.5.0",
      "model_name": "LabelModel",
      "state": {
       "layout": "IPY_MODEL_bf68fba26707467db8b14beb1d15ea04",
       "style": "IPY_MODEL_84f99fd62b224bf88cce39c21e5570ce",
       "value": "50"
      }
     },
     "4e20d978cf7a4aaa93c2dc913d44c8ca": {
      "model_module": "@jupyter-widgets/controls",
      "model_module_version": "1.5.0",
      "model_name": "VBoxModel",
      "state": {
       "children": [
        "IPY_MODEL_37086b12f5714921bdb5e23610a6db9f",
        "IPY_MODEL_d117c0d5723e4c2684c1de0c590f4e36",
        "IPY_MODEL_95f5c3eaf2b14054a6c9b7446b224e3d",
        "IPY_MODEL_a03738cb766442c3b64a9dd3e9d7d0ba",
        "IPY_MODEL_886d9a8da0f44c5ca6d776a3dcfb4398",
        "IPY_MODEL_e74036839501481691f9e77c6de601d9",
        "IPY_MODEL_d1c8f7927aaa4e298b3eb0018d241fa7",
        "IPY_MODEL_87b051aa884145cd923f7d6126509749",
        "IPY_MODEL_a840a5025b0947329acbfdb16a511db4",
        "IPY_MODEL_ba4ac7cd807c4d869f5d205e66282bdb"
       ],
       "layout": "IPY_MODEL_2240390b217041c597eba47942ed33e3"
      }
     },
     "4e3e33e75f0941f3ae6ee9377ba1cda6": {
      "model_module": "@jupyter-widgets/output",
      "model_module_version": "1.0.0",
      "model_name": "OutputModel",
      "state": {
       "layout": "IPY_MODEL_72f1706bebc045c7b9f202edba7733f5",
       "outputs": [
        {
         "data": {
          "image/png": "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\n",
          "text/plain": "<Figure size 360x360 with 1 Axes>"
         },
         "metadata": {},
         "output_type": "display_data"
        }
       ]
      }
     },
     "4e736d98921649b4bcb0fbe47c9d05b5": {
      "model_module": "@jupyter-widgets/output",
      "model_module_version": "1.0.0",
      "model_name": "OutputModel",
      "state": {
       "layout": "IPY_MODEL_a50f3744ffcf445e9d00a0d49addbb02",
       "outputs": [
        {
         "data": {
          "image/png": "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\n",
          "text/plain": "<Figure size 360x360 with 1 Axes>"
         },
         "metadata": {},
         "output_type": "display_data"
        }
       ]
      }
     },
     "4e74e3c9415f49b8a33fb95b8445b716": {
      "model_module": "@jupyter-widgets/controls",
      "model_module_version": "1.5.0",
      "model_name": "DescriptionStyleModel",
      "state": {
       "description_width": ""
      }
     },
     "4e92ea64833b4dfaa3052da97e266379": {
      "model_module": "@jupyter-widgets/controls",
      "model_module_version": "1.5.0",
      "model_name": "DescriptionStyleModel",
      "state": {
       "description_width": ""
      }
     },
     "4eb5d52f4411413e84a1233338a3a4c5": {
      "model_module": "@jupyter-widgets/output",
      "model_module_version": "1.0.0",
      "model_name": "OutputModel",
      "state": {
       "layout": "IPY_MODEL_9491c7b445944f12a1a3d63ea39fbcc7",
       "outputs": [
        {
         "data": {
          "image/png": "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\n",
          "text/plain": "<Figure size 360x360 with 1 Axes>"
         },
         "metadata": {},
         "output_type": "display_data"
        }
       ]
      }
     },
     "4ec2e49d68fd482c965bde97c77ca66e": {
      "model_module": "@jupyter-widgets/controls",
      "model_module_version": "1.5.0",
      "model_name": "DescriptionStyleModel",
      "state": {
       "description_width": ""
      }
     },
     "4efc62523d5149f1beaa64637cf0f988": {
      "model_module": "@jupyter-widgets/controls",
      "model_module_version": "1.5.0",
      "model_name": "HTMLModel",
      "state": {
       "layout": "IPY_MODEL_4c92ba40f0fb4f66a0a599533fad6f94",
       "style": "IPY_MODEL_f59a093a690c43c7ad3cd67ca1003303",
       "value": "<h5>NA</h5>"
      }
     },
     "4f23f14c2caa47ea9ce66f1b87397529": {
      "model_module": "@jupyter-widgets/controls",
      "model_module_version": "1.5.0",
      "model_name": "VBoxModel",
      "state": {
       "children": [
        "IPY_MODEL_eaddc629a69b4f249c23c8569b102935",
        "IPY_MODEL_6d903c342c0c4309a2b632d1a809c71a",
        "IPY_MODEL_1c14fa3b972c4340bb0be5ed3dd4b4fd",
        "IPY_MODEL_2c275ef1b0434647a3f5857aa3f2b8db",
        "IPY_MODEL_fbeacc5a1a0d497aa0b1cf2b43a3e1dc",
        "IPY_MODEL_97bd371a63b8457f8aaee3254313680f",
        "IPY_MODEL_da98a5a5561c4a60b65c5dba05584b58",
        "IPY_MODEL_24fa5bd83f044160bb4aba8fe9fa574c",
        "IPY_MODEL_4efc62523d5149f1beaa64637cf0f988",
        "IPY_MODEL_765e66da8be8478ebfcd7a3263dccec5"
       ],
       "layout": "IPY_MODEL_0e853a4ecb4d44b297f629920edd123e"
      }
     },
     "4f790dddf410469bbafcbc7bbe58e74a": {
      "model_module": "@jupyter-widgets/controls",
      "model_module_version": "1.5.0",
      "model_name": "HTMLModel",
      "state": {
       "layout": "IPY_MODEL_f2f2d304bd2c4e65a94163a7cb3734cc",
       "style": "IPY_MODEL_3602c19a831e45e39a3207b403bf8a09",
       "value": "<h5>158.1 / 175.3 us</h5>"
      }
     },
     "506f3b3520c14fd594deedaf008cc7ca": {
      "model_module": "@jupyter-widgets/base",
      "model_module_version": "1.2.0",
      "model_name": "LayoutModel",
      "state": {
       "overflow_x": "scroll"
      }
     },
     "5148c6ec03fa4faa8113da8664137cf2": {
      "model_module": "@jupyter-widgets/base",
      "model_module_version": "1.2.0",
      "model_name": "LayoutModel",
      "state": {
       "grid_area": "left",
       "width": "100%"
      }
     },
     "51caa5ace8b44a2a8560cde2eddba8b3": {
      "model_module": "@jupyter-widgets/controls",
      "model_module_version": "1.5.0",
      "model_name": "DescriptionStyleModel",
      "state": {
       "description_width": ""
      }
     },
     "51e55c788a2c4ac490f27ac1d98ed3bd": {
      "model_module": "@jupyter-widgets/base",
      "model_module_version": "1.2.0",
      "model_name": "LayoutModel",
      "state": {
       "min_width": "auto"
      }
     },
     "520e442777114e1e9b5a9ace288e2602": {
      "model_module": "@jupyter-widgets/base",
      "model_module_version": "1.2.0",
      "model_name": "LayoutModel",
      "state": {
       "max_width": "180px"
      }
     },
     "52cc1fbafe194f95856451a5fb5503d4": {
      "model_module": "@jupyter-widgets/base",
      "model_module_version": "1.2.0",
      "model_name": "LayoutModel",
      "state": {
       "justify_content": "center"
      }
     },
     "536e186a99a742dca9fdbfe6697a03b8": {
      "model_module": "@jupyter-widgets/base",
      "model_module_version": "1.2.0",
      "model_name": "LayoutModel",
      "state": {}
     },
     "5399a5f637b649418653962525d5d160": {
      "model_module": "@jupyter-widgets/base",
      "model_module_version": "1.2.0",
      "model_name": "LayoutModel",
      "state": {
       "align_items": "center",
       "display": "inline-flex",
       "flex_flow": "column"
      }
     },
     "53e57b0935694564b3d864117c065f11": {
      "model_module": "@jupyter-widgets/controls",
      "model_module_version": "1.5.0",
      "model_name": "HTMLModel",
      "state": {
       "layout": "IPY_MODEL_7cf1841b347d4e6f94a2d9ca109b940c",
       "style": "IPY_MODEL_010cfb8b11244eeb84e5050fe8842e54",
       "value": "<h5>0.0306</h5>"
      }
     },
     "5438c171c0ef41c183fc2b59f68b3435": {
      "model_module": "@jupyter-widgets/controls",
      "model_module_version": "1.5.0",
      "model_name": "HTMLModel",
      "state": {
       "layout": "IPY_MODEL_b566f14c06fe44b2a1259b9b8f702d30",
       "style": "IPY_MODEL_59f3a7b09c4547c3839be8134bbc5ebb",
       "value": "<h5>16</h5>"
      }
     },
     "54fc7931cd0a4a5f83ead127c6328dc4": {
      "model_module": "@jupyter-widgets/controls",
      "model_module_version": "1.5.0",
      "model_name": "DescriptionStyleModel",
      "state": {
       "description_width": ""
      }
     },
     "554a0ca64f7a4132a42ac21f483fece6": {
      "model_module": "@jupyter-widgets/controls",
      "model_module_version": "1.5.0",
      "model_name": "DescriptionStyleModel",
      "state": {
       "description_width": ""
      }
     },
     "55d5acdca3754dc193e53739bf4e6423": {
      "model_module": "@jupyter-widgets/base",
      "model_module_version": "1.2.0",
      "model_name": "LayoutModel",
      "state": {
       "justify_content": "center"
      }
     },
     "5629d52d376e4740881ccca537926a5d": {
      "model_module": "@jupyter-widgets/controls",
      "model_module_version": "1.5.0",
      "model_name": "HTMLModel",
      "state": {
       "layout": "IPY_MODEL_a50c0f1fdc9d42689bc7066c2d438cb5",
       "style": "IPY_MODEL_9b507320a9474539b2d97f27496eea45",
       "value": "<h4>ibmq_armonk</h4>"
      }
     },
     "5678e06c35884667a08505bac03a5eb9": {
      "model_module": "@jupyter-widgets/controls",
      "model_module_version": "1.5.0",
      "model_name": "VBoxModel",
      "state": {
       "children": [
        "IPY_MODEL_0fdf8942aea546e7948549ef00e8358a",
        "IPY_MODEL_4e3e33e75f0941f3ae6ee9377ba1cda6",
        "IPY_MODEL_b84dedc92cd24e3b845d79b5c7e4b51c",
        "IPY_MODEL_7191d420ef854c6bb9d7ba64f35b0562",
        "IPY_MODEL_58ae761778d1416d898b4708ff7aa37d",
        "IPY_MODEL_b26dfd5d379549f5ae947e50cbacce0f",
        "IPY_MODEL_b979bd286a2d48c2b3a93a8c3d507e30",
        "IPY_MODEL_3435d3947ceb47938cd684f9d702238b",
        "IPY_MODEL_a4f05b83cb944e1ca3b9f3d5c72991d9",
        "IPY_MODEL_d4ee2b5be2264bde9b62f6fa5e969539"
       ],
       "layout": "IPY_MODEL_f36980b360f340cfb6bbc982e5df0993"
      }
     },
     "568f11a227f64ec1bdf368fd6d53ff2c": {
      "model_module": "@jupyter-widgets/controls",
      "model_module_version": "1.5.0",
      "model_name": "DescriptionStyleModel",
      "state": {
       "description_width": ""
      }
     },
     "56fc3c4e63854859a8034195833a134c": {
      "model_module": "@jupyter-widgets/controls",
      "model_module_version": "1.5.0",
      "model_name": "HTMLModel",
      "state": {
       "layout": "IPY_MODEL_34ad61f5a535478b92232542d3f79d10",
       "style": "IPY_MODEL_e5895fc4109945a19e4b13efef554a01",
       "value": "<h5>83.6 / 108.0 us</h5>"
      }
     },
     "5712a42ccf0841daa51871daf6370758": {
      "model_module": "@jupyter-widgets/controls",
      "model_module_version": "1.5.0",
      "model_name": "HTMLModel",
      "state": {
       "layout": "IPY_MODEL_e0335576e9a6472ebff1a44a83f94298",
       "style": "IPY_MODEL_db1f78bc6e9b4619ab4f165a5523c433",
       "value": "<h5>0.0306</h5>"
      }
     },
     "5728110ebe0d48888cbd00c1b5c9620b": {
      "model_module": "@jupyter-widgets/base",
      "model_module_version": "1.2.0",
      "model_name": "LayoutModel",
      "state": {
       "min_width": "auto"
      }
     },
     "5775732519e34ca39a4da3608f096ba9": {
      "model_module": "@jupyter-widgets/base",
      "model_module_version": "1.2.0",
      "model_name": "LayoutModel",
      "state": {
       "align_items": "center",
       "justify_content": "center",
       "margin": "0px 0px 0px 0px",
       "max_height": "250px",
       "max_width": "250px",
       "min_height": "250px",
       "min_width": "250px"
      }
     },
     "579bc61cac944234892e59146e71c007": {
      "model_module": "@jupyter-widgets/controls",
      "model_module_version": "1.5.0",
      "model_name": "HTMLModel",
      "state": {
       "layout": "IPY_MODEL_68c4fa74e9684ae2b7f3c255a23326cc",
       "style": "IPY_MODEL_9fe74b9192034f8da167d46e4f876895",
       "value": "<table><style>\ntable {\n    border-collapse: collapse;\n    width: auto;\n}\n\nth, td {\n    text-align: left;\n    padding: 8px;\n}\n\ntr:nth-child(even) {background-color: #f6f6f6;};\n</style><tr><th></th><th>Type</th><th>Gate error</th></tr><tr><td><font style='font-weight:bold'>cx13_12</font></td><td>cx</td><td>0.01666</td></tr><tr><td><font style='font-weight:bold'>cx13_14</font></td><td>cx</td><td>0.05884</td></tr><tr><td><font style='font-weight:bold'>cx14_9</font></td><td>cx</td><td>0.03955</td></tr><tr><td><font style='font-weight:bold'>cx14_13</font></td><td>cx</td><td>0.05884</td></tr><tr><td><font style='font-weight:bold'>cx14_19</font></td><td>cx</td><td>0.02031</td></tr><tr><td><font style='font-weight:bold'>cx15_10</font></td><td>cx</td><td>0.02979</td></tr><tr><td><font style='font-weight:bold'>cx15_16</font></td><td>cx</td><td>0.02217</td></tr><tr><td><font style='font-weight:bold'>cx16_15</font></td><td>cx</td><td>0.02217</td></tr><tr><td><font style='font-weight:bold'>cx16_17</font></td><td>cx</td><td>0.02326</td></tr><tr><td><font style='font-weight:bold'>cx17_16</font></td><td>cx</td><td>0.02326</td></tr><tr><td><font style='font-weight:bold'>cx17_18</font></td><td>cx</td><td>0.04465</td></tr><tr><td><font style='font-weight:bold'>cx18_17</font></td><td>cx</td><td>0.04465</td></tr><tr><td><font style='font-weight:bold'>cx18_19</font></td><td>cx</td><td>0.02858</td></tr><tr><td><font style='font-weight:bold'>cx19_14</font></td><td>cx</td><td>0.02031</td></tr><tr><td><font style='font-weight:bold'>cx19_18</font></td><td>cx</td><td>0.02858</td></tr></table>"
      }
     },
     "58ae761778d1416d898b4708ff7aa37d": {
      "model_module": "@jupyter-widgets/controls",
      "model_module_version": "1.5.0",
      "model_name": "HBoxModel",
      "state": {
       "children": [
        "IPY_MODEL_86f05082480940539bab834677e61e50",
        "IPY_MODEL_ca750aa440394049aa3966cb94af8e85",
        "IPY_MODEL_be9d28302cfe41dd971e95eaf8fc1e55"
       ],
       "layout": "IPY_MODEL_bc389e3a9afa4289b0ec181f76e96836"
      }
     },
     "58de1b9f8c114d919a98730ef8824d86": {
      "model_module": "@jupyter-widgets/controls",
      "model_module_version": "1.5.0",
      "model_name": "DescriptionStyleModel",
      "state": {
       "description_width": ""
      }
     },
     "5954796622e7456181786853aa32903d": {
      "model_module": "@jupyter-widgets/base",
      "model_module_version": "1.2.0",
      "model_name": "LayoutModel",
      "state": {}
     },
     "59659c41312740ca9dd0a733257f9af9": {
      "model_module": "@jupyter-widgets/base",
      "model_module_version": "1.2.0",
      "model_name": "LayoutModel",
      "state": {
       "justify_content": "center"
      }
     },
     "599bb5aab2d7401d95e26ae9835921cd": {
      "model_module": "@jupyter-widgets/controls",
      "model_module_version": "1.5.0",
      "model_name": "DescriptionStyleModel",
      "state": {
       "description_width": ""
      }
     },
     "59d97d2336fc48338405ac054e4d54a1": {
      "model_module": "@jupyter-widgets/controls",
      "model_module_version": "1.5.0",
      "model_name": "HTMLModel",
      "state": {
       "layout": "IPY_MODEL_cfc9cfc033c24d2cba02e034caa67fae",
       "style": "IPY_MODEL_62854eb679e7417d8005dd30859cc9a9",
       "value": "<h5>NA</h5>"
      }
     },
     "59dabca8c02e47c2803485070ec97005": {
      "model_module": "@jupyter-widgets/controls",
      "model_module_version": "1.5.0",
      "model_name": "HTMLModel",
      "state": {
       "layout": "IPY_MODEL_7bba32601e324074a03a80309ccea192",
       "style": "IPY_MODEL_493ba530c72b456c90aaccafd606dd76",
       "value": "<h5><b>5</b></h5>"
      }
     },
     "59f3a7b09c4547c3839be8134bbc5ebb": {
      "model_module": "@jupyter-widgets/controls",
      "model_module_version": "1.5.0",
      "model_name": "DescriptionStyleModel",
      "state": {
       "description_width": ""
      }
     },
     "5a159cc411c144ee94d74c25a4388199": {
      "model_module": "@jupyter-widgets/controls",
      "model_module_version": "1.5.0",
      "model_name": "DescriptionStyleModel",
      "state": {
       "description_width": ""
      }
     },
     "5ad2f030e36a4b9eba33ebfed4dedc6b": {
      "model_module": "@jupyter-widgets/base",
      "model_module_version": "1.2.0",
      "model_name": "LayoutModel",
      "state": {
       "width": "190px"
      }
     },
     "5b0c08fd4110476491eee91dd87a7df8": {
      "model_module": "@jupyter-widgets/controls",
      "model_module_version": "1.5.0",
      "model_name": "DescriptionStyleModel",
      "state": {
       "description_width": ""
      }
     },
     "5b9b4ec6aeb349f88a453c9ae3ef71e1": {
      "model_module": "@jupyter-widgets/controls",
      "model_module_version": "1.5.0",
      "model_name": "HTMLModel",
      "state": {
       "layout": "IPY_MODEL_be13dfb6a0d240c1b7aa4942c30a4b96",
       "style": "IPY_MODEL_de18c0f8da3449a8b9121366ba3c5ca4",
       "value": "<h5>141.2 / 60.7 us</h5>"
      }
     },
     "5b9d3e12e5f54eeb89dba127b79ecaa8": {
      "model_module": "@jupyter-widgets/controls",
      "model_module_version": "1.5.0",
      "model_name": "LabelModel",
      "state": {
       "layout": "IPY_MODEL_dc0b343a81f04d4db619dfb5c24ebf5b",
       "style": "IPY_MODEL_aba6d75719ba4d28b3fa7004f94aff08",
       "value": "112"
      }
     },
     "5c19302acce54419921853ddbd42f454": {
      "model_module": "@jupyter-widgets/controls",
      "model_module_version": "1.5.0",
      "model_name": "DescriptionStyleModel",
      "state": {
       "description_width": ""
      }
     },
     "5c64cbf2f577410a97dbde87451324d5": {
      "model_module": "@jupyter-widgets/controls",
      "model_module_version": "1.5.0",
      "model_name": "GridBoxModel",
      "state": {
       "children": [
        "IPY_MODEL_8f06dd465ea34273915dbd2160b19784",
        "IPY_MODEL_d133e45bb5114cf0bb3fd2f1d667352a",
        "IPY_MODEL_3c4dbe87aa4d4ab28527ea0870018b2e"
       ],
       "layout": "IPY_MODEL_6ec3089577094a60894622aaa44c522f"
      }
     },
     "5c9fdcbf671b4959a6412fb6ffdf2f21": {
      "model_module": "@jupyter-widgets/controls",
      "model_module_version": "1.5.0",
      "model_name": "HTMLModel",
      "state": {
       "layout": "IPY_MODEL_0560453464ce41798d1757c52b998d3c",
       "style": "IPY_MODEL_5b0c08fd4110476491eee91dd87a7df8",
       "value": "<h5 style='color:#dc267f'>False</h5>"
      }
     },
     "5cc4f99a42e047ce8b7cd2ba42cb8715": {
      "model_module": "@jupyter-widgets/controls",
      "model_module_version": "1.5.0",
      "model_name": "HTMLModel",
      "state": {
       "layout": "IPY_MODEL_e15e3c2d3948429f83b48089ffa156f7",
       "style": "IPY_MODEL_b6b40826bb9441268bf438a406ed6a3b",
       "value": "<table><style>\ntable {\n    border-collapse: collapse;\n    width: auto;\n}\n\nth, td {\n    text-align: left;\n    padding: 8px;\n}\n\ntr:nth-child(even) {background-color: #f6f6f6;};\n</style><tr><th></th><th>Type</th><th>Gate error</th></tr><tr><td><font style='font-weight:bold'>cx0_1</font></td><td>cx</td><td>0.01345</td></tr><tr><td><font style='font-weight:bold'>cx0_5</font></td><td>cx</td><td>0.01872</td></tr><tr><td><font style='font-weight:bold'>cx1_0</font></td><td>cx</td><td>0.01345</td></tr><tr><td><font style='font-weight:bold'>cx1_2</font></td><td>cx</td><td>0.02611</td></tr><tr><td><font style='font-weight:bold'>cx2_1</font></td><td>cx</td><td>0.02611</td></tr><tr><td><font style='font-weight:bold'>cx2_3</font></td><td>cx</td><td>0.03695</td></tr><tr><td><font style='font-weight:bold'>cx3_2</font></td><td>cx</td><td>0.03695</td></tr><tr><td><font style='font-weight:bold'>cx3_4</font></td><td>cx</td><td>0.02886</td></tr><tr><td><font style='font-weight:bold'>cx4_3</font></td><td>cx</td><td>0.02886</td></tr><tr><td><font style='font-weight:bold'>cx4_9</font></td><td>cx</td><td>0.02049</td></tr><tr><td><font style='font-weight:bold'>cx5_0</font></td><td>cx</td><td>0.01872</td></tr><tr><td><font style='font-weight:bold'>cx5_6</font></td><td>cx</td><td>0.02532</td></tr><tr><td><font style='font-weight:bold'>cx5_10</font></td><td>cx</td><td>0.03206</td></tr><tr><td><font style='font-weight:bold'>cx6_5</font></td><td>cx</td><td>0.02532</td></tr><tr><td><font style='font-weight:bold'>cx6_7</font></td><td>cx</td><td>0.04163</td></tr><tr><td><font style='font-weight:bold'>cx7_6</font></td><td>cx</td><td>0.04163</td></tr></table>"
      }
     },
     "5cf1fbebbc0a4610ae4ebf3fafcdfde5": {
      "model_module": "@jupyter-widgets/output",
      "model_module_version": "1.0.0",
      "model_name": "OutputModel",
      "state": {
       "layout": "IPY_MODEL_ec90c18bb76b4cb8929cbf0cbe328425",
       "outputs": [
        {
         "data": {
          "image/png": "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\n",
          "text/plain": "<Figure size 360x360 with 1 Axes>"
         },
         "metadata": {},
         "output_type": "display_data"
        }
       ]
      }
     },
     "5db050bf76d24c8c87504acb579319af": {
      "model_module": "@jupyter-widgets/controls",
      "model_module_version": "1.5.0",
      "model_name": "DescriptionStyleModel",
      "state": {
       "description_width": ""
      }
     },
     "5e318a6bab174066a176a6159301d7db": {
      "model_module": "@jupyter-widgets/controls",
      "model_module_version": "1.5.0",
      "model_name": "HTMLModel",
      "state": {
       "layout": "IPY_MODEL_7960f28e305149ce8cc3e577f6a08560",
       "style": "IPY_MODEL_6c4d09d218c8462b9b0dd62c0a662e5c",
       "value": "<h5>0.0109</h5>"
      }
     },
     "5e565d70634246d9a16fa2686ca0f31a": {
      "model_module": "@jupyter-widgets/base",
      "model_module_version": "1.2.0",
      "model_name": "LayoutModel",
      "state": {
       "max_width": "180px"
      }
     },
     "5e62ceee03db4bcea516999d72a77299": {
      "model_module": "@jupyter-widgets/controls",
      "model_module_version": "1.5.0",
      "model_name": "DescriptionStyleModel",
      "state": {
       "description_width": ""
      }
     },
     "5e7c5c7412cc4422ad8aba306b00a7b9": {
      "model_module": "@jupyter-widgets/base",
      "model_module_version": "1.2.0",
      "model_name": "LayoutModel",
      "state": {}
     },
     "5ef875aad395475f9ae13c117d6bf72a": {
      "model_module": "@jupyter-widgets/base",
      "model_module_version": "1.2.0",
      "model_name": "LayoutModel",
      "state": {
       "justify_content": "center",
       "max_width": "250px",
       "min_width": "250px"
      }
     },
     "5f606d9591a3471a9fa7f760fff28faa": {
      "model_module": "@jupyter-widgets/controls",
      "model_module_version": "1.5.0",
      "model_name": "HTMLModel",
      "state": {
       "layout": "IPY_MODEL_1147885245d24da1bc6791bdd963dc34",
       "style": "IPY_MODEL_b8b2d8cb5a2848589596fc99cdd2e0bf",
       "value": "<h5 style='color:#34bc6e'>True</h5>"
      }
     },
     "6040f0ce149e440aa3d27a90b6d9ed90": {
      "model_module": "@jupyter-widgets/controls",
      "model_module_version": "1.5.0",
      "model_name": "HTMLModel",
      "state": {
       "layout": "IPY_MODEL_86e577e9358b416e8421fb42dc4320aa",
       "style": "IPY_MODEL_13ca801adca645ecb7723e73dd7582f9",
       "value": "<h5><b>5</b></h5>"
      }
     },
     "614db574896d43fdb94c7f82145dde6c": {
      "model_module": "@jupyter-widgets/controls",
      "model_module_version": "1.5.0",
      "model_name": "IntProgressModel",
      "state": {
       "layout": "IPY_MODEL_61d2116a6d434275b9efd19465fc6711",
       "max": 284,
       "style": "IPY_MODEL_6875b6c478c948d1afd054dec9ba2c26",
       "value": 5
      }
     },
     "61d2116a6d434275b9efd19465fc6711": {
      "model_module": "@jupyter-widgets/base",
      "model_module_version": "1.2.0",
      "model_name": "LayoutModel",
      "state": {
       "max_width": "180px"
      }
     },
     "62436a91c6144879a2c502bf216b1f7f": {
      "model_module": "@jupyter-widgets/base",
      "model_module_version": "1.2.0",
      "model_name": "LayoutModel",
      "state": {
       "grid_area": "left",
       "width": "100%"
      }
     },
     "6263227d27b84138b040a88b0f2cf51d": {
      "model_module": "@jupyter-widgets/controls",
      "model_module_version": "1.5.0",
      "model_name": "HTMLModel",
      "state": {
       "layout": "IPY_MODEL_fa6e8788af634f27a1a7c9b9e00fe9f8",
       "style": "IPY_MODEL_69528f06791c4c25ac1c8994a664c6b4",
       "value": "<h5 style='color:#dc267f'>False</h5>"
      }
     },
     "62653b8144a34c8b88f967c07d63474e": {
      "model_module": "@jupyter-widgets/base",
      "model_module_version": "1.2.0",
      "model_name": "LayoutModel",
      "state": {
       "justify_content": "center"
      }
     },
     "627d4e6a5aad453faf804aa3334c61e6": {
      "model_module": "@jupyter-widgets/controls",
      "model_module_version": "1.5.0",
      "model_name": "HTMLModel",
      "state": {
       "layout": "IPY_MODEL_ae530f20db474fb2b7169339de120419",
       "style": "IPY_MODEL_0a926b6e55b04280a1ea4367d9ab5f08",
       "value": "<h5>144.0 / 250.8 us</h5>"
      }
     },
     "62854eb679e7417d8005dd30859cc9a9": {
      "model_module": "@jupyter-widgets/controls",
      "model_module_version": "1.5.0",
      "model_name": "DescriptionStyleModel",
      "state": {
       "description_width": ""
      }
     },
     "62c8164281424f54946ed6838b2d0794": {
      "model_module": "@jupyter-widgets/base",
      "model_module_version": "1.2.0",
      "model_name": "LayoutModel",
      "state": {
       "grid_area": "top"
      }
     },
     "62ed3e779a6b488b8914fc108a35ef6a": {
      "model_module": "@jupyter-widgets/base",
      "model_module_version": "1.2.0",
      "model_name": "LayoutModel",
      "state": {
       "justify_content": "center"
      }
     },
     "6309703f840c418287741e06677d47f4": {
      "model_module": "@jupyter-widgets/controls",
      "model_module_version": "1.5.0",
      "model_name": "HTMLModel",
      "state": {
       "layout": "IPY_MODEL_076db467860a4db3aa3a2c7ddd606fb3",
       "style": "IPY_MODEL_bf577bca601043279e62c87ce6504805",
       "value": "-"
      }
     },
     "63a088c04fa140c3b20f395eb8071cbb": {
      "model_module": "@jupyter-widgets/controls",
      "model_module_version": "1.5.0",
      "model_name": "IntProgressModel",
      "state": {
       "layout": "IPY_MODEL_98158a053a8c45c68c2d579b4aeb0302",
       "max": 112,
       "style": "IPY_MODEL_8b4833d104fe4146a086b7a47fd6ef24",
       "value": 20
      }
     },
     "6507df09f5864da88c8ce55c11720f55": {
      "model_module": "@jupyter-widgets/controls",
      "model_module_version": "1.5.0",
      "model_name": "HTMLModel",
      "state": {
       "layout": "IPY_MODEL_bf64a2f143644c398e848675b3f6d0b6",
       "style": "IPY_MODEL_c0524d0562254a32b11d2aa54f93098c",
       "value": "<h5>0.0109</h5>"
      }
     },
     "652fb5c9643140ffac903aaee5d8c177": {
      "model_module": "@jupyter-widgets/controls",
      "model_module_version": "1.5.0",
      "model_name": "DescriptionStyleModel",
      "state": {
       "description_width": ""
      }
     },
     "65e25f0f68da4b33bc6588c7de5b2f79": {
      "model_module": "@jupyter-widgets/base",
      "model_module_version": "1.2.0",
      "model_name": "LayoutModel",
      "state": {}
     },
     "66780aabedc0477ca8cb4bf0e252a8e2": {
      "model_module": "@jupyter-widgets/controls",
      "model_module_version": "1.5.0",
      "model_name": "HTMLMathModel",
      "state": {
       "layout": "IPY_MODEL_3ce6f9918c4e48dd8bddc94f2247a39d",
       "style": "IPY_MODEL_0b18fb8a06a241c28973140b21c96457",
       "value": "<table><style>\ntable {\n    border-collapse: collapse;\n    width: auto;\n}\n\nth, td {\n    text-align: left;\n    padding: 8px;\n}\n\ntr:nth-child(even) {background-color: #f6f6f6;}\n</style><tr><th></th><th></th></tr><tr><td>dt</td><td>0.2222222222222222</td></tr><tr><td>url</td><td>None</td></tr><tr><td>sample_name</td><td>family: Falcon, revision: 5.11, segment: H</td></tr><tr><td>u_channel_lo</td><td>[[{'q': 1, 'scale': (1+0j)}], [{'q': 0, 'scale': (1+0j)}], [{'q': 2, 'scale': (1+0j)}], [{'q': 3, 'scale': (1+0j)}], [{'q': 1, 'scale': (1+0j)}], [{'q': 1, 'scale': (1+0j)}], [{'q': 5, 'scale': (1+0j)}], [{'q': 5, 'scale': (1+0j)}], [{'q': 3, 'scale': (1+0j)}], [{'q': 4, 'scale': (1+0j)}], [{'q': 6, 'scale': (1+0j)}], [{'q': 5, 'scale': (1+0j)}]]</td></tr><tr><td>qubit_lo_range</td><td>[[4.65737836064143, 5.65737836064143], [4.534331377204849, 5.534331377204849], [4.361846961730626, 5.361846961730626], [4.624423115511112, 5.624423115511112], [4.659406218722238, 5.659406218722238], [4.478856371590342, 5.478856371590342], [4.656665284670106, 5.656665284670106]]</td></tr><tr><td>meas_kernels</td><td>['hw_qmfk']</td></tr><tr><td>local</td><td>False</td></tr><tr><td>memory</td><td>True</td></tr><tr><td>processor_type</td><td>{'family': 'Falcon', 'revision': '5.11', 'segment': 'H'}</td></tr><tr><td>acquisition_latency</td><td>[]</td></tr><tr><td>default_rep_delay</td><td>250.0</td></tr><tr><td>parametric_pulses</td><td>['gaussian', 'gaussian_square', 'drag', 'constant']</td></tr><tr><td>allow_object_storage</td><td>True</td></tr><tr><td>rep_times</td><td>[1000.0]</td></tr><tr><td>measure_esp_enabled</td><td>True</td></tr><tr><td>multi_meas_enabled</td><td>True</td></tr><tr><td>meas_levels</td><td>[1, 2]</td></tr><tr><td>uchannels_enabled</td><td>True</td></tr><tr><td>simulator</td><td>False</td></tr><tr><td>dynamic_reprate_enabled</td><td>True</td></tr><tr><td>rep_delay_range</td><td>[0.0, 500.0]</td></tr><tr><td>timing_constraints</td><td>{'acquire_alignment': 16, 'granularity': 16, 'min_length': 64, 'pulse_alignment': 1}</td></tr><tr><td>n_uchannels</td><td>12</td></tr><tr><td>meas_lo_range</td><td>[[6.663115502, 7.663115502], [6.6164476510000005, 7.6164476510000005], [6.84928468, 7.84928468], [6.719581694, 7.719581694], [6.637153809000001, 7.637153809000001], [6.78180398, 7.78180398], [6.6522457170000004, 7.6522457170000004]]</td></tr><tr><td>discriminators</td><td>['linear_discriminator', 'hw_qmfk', 'quadratic_discriminator']</td></tr><tr><td>allow_q_object</td><td>True</td></tr><tr><td>description</td><td>7 qubit device</td></tr><tr><td>pulse_num_channels</td><td>9</td></tr><tr><td>input_allowed</td><td>['job']</td></tr><tr><td>channels</td><td>{'acquire0': {'operates': {'qubits': [0]}, 'purpose': 'acquire', 'type': 'acquire'}, 'acquire1': {'operates': {'qubits': [1]}, 'purpose': 'acquire', 'type': 'acquire'}, 'acquire2': {'operates': {'qubits': [2]}, 'purpose': 'acquire', 'type': 'acquire'}, 'acquire3': {'operates': {'qubits': [3]}, 'purpose': 'acquire', 'type': 'acquire'}, 'acquire4': {'operates': {'qubits': [4]}, 'purpose': 'acquire', 'type': 'acquire'}, 'acquire5': {'operates': {'qubits': [5]}, 'purpose': 'acquire', 'type': 'acquire'}, 'acquire6': {'operates': {'qubits': [6]}, 'purpose': 'acquire', 'type': 'acquire'}, 'd0': {'operates': {'qubits': [0]}, 'purpose': 'drive', 'type': 'drive'}, 'd1': {'operates': {'qubits': [1]}, 'purpose': 'drive', 'type': 'drive'}, 'd2': {'operates': {'qubits': [2]}, 'purpose': 'drive', 'type': 'drive'}, 'd3': {'operates': {'qubits': [3]}, 'purpose': 'drive', 'type': 'drive'}, 'd4': {'operates': {'qubits': [4]}, 'purpose': 'drive', 'type': 'drive'}, 'd5': {'operates': {'qubits': [5]}, 'purpose': 'drive', 'type': 'drive'}, 'd6': {'operates': {'qubits': [6]}, 'purpose': 'drive', 'type': 'drive'}, 'm0': {'operates': {'qubits': [0]}, 'purpose': 'measure', 'type': 'measure'}, 'm1': {'operates': {'qubits': [1]}, 'purpose': 'measure', 'type': 'measure'}, 'm2': {'operates': {'qubits': [2]}, 'purpose': 'measure', 'type': 'measure'}, 'm3': {'operates': {'qubits': [3]}, 'purpose': 'measure', 'type': 'measure'}, 'm4': {'operates': {'qubits': [4]}, 'purpose': 'measure', 'type': 'measure'}, 'm5': {'operates': {'qubits': [5]}, 'purpose': 'measure', 'type': 'measure'}, 'm6': {'operates': {'qubits': [6]}, 'purpose': 'measure', 'type': 'measure'}, 'u0': {'operates': {'qubits': [0, 1]}, 'purpose': 'cross-resonance', 'type': 'control'}, 'u1': {'operates': {'qubits': [1, 0]}, 'purpose': 'cross-resonance', 'type': 'control'}, 'u10': {'operates': {'qubits': [5, 6]}, 'purpose': 'cross-resonance', 'type': 'control'}, 'u11': {'operates': {'qubits': [6, 5]}, 'purpose': 'cross-resonance', 'type': 'control'}, 'u2': {'operates': {'qubits': [1, 2]}, 'purpose': 'cross-resonance', 'type': 'control'}, 'u3': {'operates': {'qubits': [1, 3]}, 'purpose': 'cross-resonance', 'type': 'control'}, 'u4': {'operates': {'qubits': [2, 1]}, 'purpose': 'cross-resonance', 'type': 'control'}, 'u5': {'operates': {'qubits': [3, 1]}, 'purpose': 'cross-resonance', 'type': 'control'}, 'u6': {'operates': {'qubits': [3, 5]}, 'purpose': 'cross-resonance', 'type': 'control'}, 'u7': {'operates': {'qubits': [4, 5]}, 'purpose': 'cross-resonance', 'type': 'control'}, 'u8': {'operates': {'qubits': [5, 3]}, 'purpose': 'cross-resonance', 'type': 'control'}, 'u9': {'operates': {'qubits': [5, 4]}, 'purpose': 'cross-resonance', 'type': 'control'}}</td></tr><tr><td>pulse_num_qubits</td><td>3</td></tr><tr><td>qubit_channel_mapping</td><td>[['u0', 'm0', 'd0', 'u1'], ['u2', 'u1', 'u5', 'u0', 'd1', 'u4', 'm1', 'u3'], ['u2', 'm2', 'u4', 'd2'], ['u6', 'u5', 'd3', 'm3', 'u8', 'u3'], ['u9', 'd4', 'u7', 'm4'], ['u6', 'm5', 'u10', 'd5', 'u9', 'u8', 'u11', 'u7'], ['u11', 'u10', 'm6', 'd6']]</td></tr><tr><td>backend_name</td><td>ibm_perth</td></tr><tr><td>hamiltonian</td><td>$$\\begin{align} \\mathcal{H}/\\hbar = & \\sum_{i=0}^{6}\\left(\\frac{\\omega_{q,i}}{2}(\\mathbb{I}-\\sigma_i^{z})+\\frac{\\Delta_{i}}{2}(O_i^2-O_i)+\\Omega_{d,i}D_i(t)\\sigma_i^{X}\\right) \\\\ & + J_{0,1}(\\sigma_{0}^{+}\\sigma_{1}^{-}+\\sigma_{0}^{-}\\sigma_{1}^{+}) + J_{1,2}(\\sigma_{1}^{+}\\sigma_{2}^{-}+\\sigma_{1}^{-}\\sigma_{2}^{+}) + J_{4,5}(\\sigma_{4}^{+}\\sigma_{5}^{-}+\\sigma_{4}^{-}\\sigma_{5}^{+}) + J_{5,6}(\\sigma_{5}^{+}\\sigma_{6}^{-}+\\sigma_{5}^{-}\\sigma_{6}^{+}) \\\\ & + J_{1,3}(\\sigma_{1}^{+}\\sigma_{3}^{-}+\\sigma_{1}^{-}\\sigma_{3}^{+}) + J_{3,5}(\\sigma_{3}^{+}\\sigma_{5}^{-}+\\sigma_{3}^{-}\\sigma_{5}^{+}) \\\\ & + \\Omega_{d,0}(U_{0}^{(0,1)}(t))\\sigma_{0}^{X} + \\Omega_{d,1}(U_{1}^{(1,0)}(t)+U_{3}^{(1,3)}(t)+U_{2}^{(1,2)}(t))\\sigma_{1}^{X} \\\\ & + \\Omega_{d,2}(U_{4}^{(2,1)}(t))\\sigma_{2}^{X} + \\Omega_{d,3}(U_{5}^{(3,1)}(t)+U_{6}^{(3,5)}(t))\\sigma_{3}^{X} \\\\ & + \\Omega_{d,4}(U_{7}^{(4,5)}(t))\\sigma_{4}^{X} + \\Omega_{d,5}(U_{8}^{(5,3)}(t)+U_{10}^{(5,6)}(t)+U_{9}^{(5,4)}(t))\\sigma_{5}^{X} \\\\ & + \\Omega_{d,6}(U_{11}^{(6,5)}(t))\\sigma_{6}^{X} \\\\ \\end{align}$$</td></tr><tr><td>meas_map</td><td>[[0, 1, 2, 3, 4, 5, 6]]</td></tr><tr><td>dtm</td><td>0.2222222222222222</td></tr><tr><td>coupling_map</td><td>[[0, 1], [1, 0], [1, 2], [1, 3], [2, 1], [3, 1], [3, 5], [4, 5], [5, 3], [5, 4], [5, 6], [6, 5]]</td></tr><tr><td>credits_required</td><td>True</td></tr><tr><td>conditional_latency</td><td>[]</td></tr><tr><td>online_date</td><td>2021-07-22 04:00:00+00:00</td></tr><tr><td>supported_instructions</td><td>['u2', 'delay', 'measure', 'u3', 'shiftf', 'u1', 'x', 'setf', 'id', 'cx', 'sx', 'acquire', 'rz', 'play', 'reset']</td></tr><tr><td>conditional</td><td>False</td></tr><tr><td>n_registers</td><td>1</td></tr><tr><td>open_pulse</td><td>False</td></tr></table>"
      }
     },
     "66850b7ddaad4712998db43b1f7c794f": {
      "model_module": "@jupyter-widgets/base",
      "model_module_version": "1.2.0",
      "model_name": "LayoutModel",
      "state": {
       "justify_content": "center",
       "max_width": "250px",
       "min_width": "250px"
      }
     },
     "66c8fa3bfb3646b9a61931733d02c4d0": {
      "model_module": "@jupyter-widgets/controls",
      "model_module_version": "1.5.0",
      "model_name": "LabelModel",
      "state": {
       "layout": "IPY_MODEL_922cb08b84d044b9bbcc528ccf06f337",
       "style": "IPY_MODEL_ffa75ad5c9514205bc06a7bd0c8496fa",
       "value": "Least Busy"
      }
     },
     "67bb5aacab9c42e892b7bde4465936c7": {
      "model_module": "@jupyter-widgets/controls",
      "model_module_version": "1.5.0",
      "model_name": "GridBoxModel",
      "state": {
       "children": [
        "IPY_MODEL_2412010c25864dcc8849eaa772dc8057"
       ],
       "layout": "IPY_MODEL_d4d3b7fc9a10474eaec9fe8204bbdadd"
      }
     },
     "67df9cd526c24f20968ca6aba4d56404": {
      "model_module": "@jupyter-widgets/base",
      "model_module_version": "1.2.0",
      "model_name": "LayoutModel",
      "state": {
       "justify_content": "center"
      }
     },
     "67f0c2a25b08422595563b5912c74d4d": {
      "model_module": "@jupyter-widgets/controls",
      "model_module_version": "1.5.0",
      "model_name": "DescriptionStyleModel",
      "state": {
       "description_width": ""
      }
     },
     "680ae5e646904cc9b0953c8418aefdb7": {
      "model_module": "@jupyter-widgets/controls",
      "model_module_version": "1.5.0",
      "model_name": "VBoxModel",
      "state": {
       "children": [
        "IPY_MODEL_19c3d7cadedc47dab5675f17726b80af",
        "IPY_MODEL_28be4fcb929d43229b7b9e65eeaf7979",
        "IPY_MODEL_6040f0ce149e440aa3d27a90b6d9ed90",
        "IPY_MODEL_35d3992687264427bbcfc8b99dc40afe",
        "IPY_MODEL_d010098f0db944798122b63e63626a53",
        "IPY_MODEL_1e13cbfc27334fa9ab9da8eb9f098658",
        "IPY_MODEL_5c9fdcbf671b4959a6412fb6ffdf2f21",
        "IPY_MODEL_ae3d2462f3e14596bf6e1ae41a358903",
        "IPY_MODEL_b56246453f0b4f32b01f259bb3d0b8d0",
        "IPY_MODEL_bc3832fca455449996c2414acbe9b922"
       ],
       "layout": "IPY_MODEL_9cae6e39f8664113870f18a6c74dec8f"
      }
     },
     "6827d68b010c408fb3e01f03edf780f1": {
      "model_module": "@jupyter-widgets/controls",
      "model_module_version": "1.5.0",
      "model_name": "LabelModel",
      "state": {
       "layout": "IPY_MODEL_f8f47a72943f4665abfd85b7f6864d8e",
       "style": "IPY_MODEL_d8d94e7cfb084e03b6a86d83110b4303",
       "value": "Avg. T1 / T2"
      }
     },
     "683b402c19404b099bb59070ebbebb83": {
      "model_module": "@jupyter-widgets/controls",
      "model_module_version": "1.5.0",
      "model_name": "DescriptionStyleModel",
      "state": {
       "description_width": ""
      }
     },
     "6875b6c478c948d1afd054dec9ba2c26": {
      "model_module": "@jupyter-widgets/controls",
      "model_module_version": "1.5.0",
      "model_name": "ProgressStyleModel",
      "state": {
       "bar_color": "#71cddd",
       "description_width": ""
      }
     },
     "68c32a9d94924b83b1f6f337e5741f64": {
      "model_module": "@jupyter-widgets/controls",
      "model_module_version": "1.5.0",
      "model_name": "DescriptionStyleModel",
      "state": {
       "description_width": ""
      }
     },
     "68c4fa74e9684ae2b7f3c255a23326cc": {
      "model_module": "@jupyter-widgets/base",
      "model_module_version": "1.2.0",
      "model_name": "LayoutModel",
      "state": {
       "grid_area": "right"
      }
     },
     "69191319c67546b1afd73af07bdd6d98": {
      "model_module": "@jupyter-widgets/base",
      "model_module_version": "1.2.0",
      "model_name": "LayoutModel",
      "state": {
       "margin": "0px 0px 0px 37px",
       "width": "600px"
      }
     },
     "691b6e3b1ada4661939403634aff26ea": {
      "model_module": "@jupyter-widgets/controls",
      "model_module_version": "1.5.0",
      "model_name": "VBoxModel",
      "state": {
       "children": [
        "IPY_MODEL_adb6ece1d8864bf1aad91ecc914dc188",
        "IPY_MODEL_4eb5d52f4411413e84a1233338a3a4c5",
        "IPY_MODEL_20121d5529f74e5c86cf75b1bc2ca521",
        "IPY_MODEL_1ca6cf9cc97142a591509f8ff726f943",
        "IPY_MODEL_311bb5e8c92f48f58dfedf47e6642425",
        "IPY_MODEL_ece59f5e937d480dbe5c80266c8b3e16",
        "IPY_MODEL_ac5f2181c69d4f9a97a8e5736696c9c3",
        "IPY_MODEL_5b9b4ec6aeb349f88a453c9ae3ef71e1",
        "IPY_MODEL_d13d895ea54f41eb9553d4f34188080a",
        "IPY_MODEL_0f58ef2c0fe2423082c7cc731767e744"
       ],
       "layout": "IPY_MODEL_1b43fe7c9c4d4f48b4b1190d15ca4833"
      }
     },
     "69488eb3d9344ee8a15d3f5b48467270": {
      "model_module": "@jupyter-widgets/controls",
      "model_module_version": "1.5.0",
      "model_name": "HTMLModel",
      "state": {
       "layout": "IPY_MODEL_120ae7f24cf04af7809ec35f10c53c19",
       "style": "IPY_MODEL_8144ed96676d4641a7605909cc8aa9ac",
       "value": "<h5>Status</h5>"
      }
     },
     "69528f06791c4c25ac1c8994a664c6b4": {
      "model_module": "@jupyter-widgets/controls",
      "model_module_version": "1.5.0",
      "model_name": "DescriptionStyleModel",
      "state": {
       "description_width": ""
      }
     },
     "6a1f5c7da6aa4570a0190112a0e9ec74": {
      "model_module": "@jupyter-widgets/controls",
      "model_module_version": "1.5.0",
      "model_name": "HTMLModel",
      "state": {
       "layout": "IPY_MODEL_ceb747b3382547989e577d7dfe8e4f1c",
       "style": "IPY_MODEL_7511794cd2ab43d9b0ac6283f773d95f",
       "value": "<h4>ibmq_manila</h4>"
      }
     },
     "6a38d437f3ce498d9c69392e3f5c5c58": {
      "model_module": "@jupyter-widgets/controls",
      "model_module_version": "1.5.0",
      "model_name": "DescriptionStyleModel",
      "state": {
       "description_width": ""
      }
     },
     "6ae36d3ca0e241beb61c376f27f72e85": {
      "model_module": "@jupyter-widgets/controls",
      "model_module_version": "1.5.0",
      "model_name": "LabelModel",
      "state": {
       "layout": "IPY_MODEL_c1ef3f27f2604ea0aba9a4721fd1a5a7",
       "style": "IPY_MODEL_dbe89dd1343d4708952f23441780ce35",
       "value": "Num. Qubits"
      }
     },
     "6c2cb0d46c6c4ed2adcd89356cb5fd32": {
      "model_module": "@jupyter-widgets/output",
      "model_module_version": "1.0.0",
      "model_name": "OutputModel",
      "state": {
       "layout": "IPY_MODEL_f647817f29514a769d319c9d0d022548",
       "outputs": [
        {
         "data": {
          "image/png": "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\n",
          "text/plain": "<Figure size 360x360 with 1 Axes>"
         },
         "metadata": {},
         "output_type": "display_data"
        }
       ]
      }
     },
     "6c4d09d218c8462b9b0dd62c0a662e5c": {
      "model_module": "@jupyter-widgets/controls",
      "model_module_version": "1.5.0",
      "model_name": "DescriptionStyleModel",
      "state": {
       "description_width": ""
      }
     },
     "6d886339615f4262b2d33a7d94ab8c0f": {
      "model_module": "@jupyter-widgets/controls",
      "model_module_version": "1.5.0",
      "model_name": "DescriptionStyleModel",
      "state": {
       "description_width": ""
      }
     },
     "6d903c342c0c4309a2b632d1a809c71a": {
      "model_module": "@jupyter-widgets/output",
      "model_module_version": "1.0.0",
      "model_name": "OutputModel",
      "state": {
       "layout": "IPY_MODEL_29a513c88b8e4702abc1c91057262054",
       "outputs": [
        {
         "data": {
          "image/png": "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\n",
          "text/plain": "<Figure size 360x360 with 1 Axes>"
         },
         "metadata": {},
         "output_type": "display_data"
        }
       ]
      }
     },
     "6dad5bf48f2443b6b721038a1c80a119": {
      "model_module": "@jupyter-widgets/base",
      "model_module_version": "1.2.0",
      "model_name": "LayoutModel",
      "state": {
       "justify_content": "center"
      }
     },
     "6dbb3e1f362344658213728e44638150": {
      "model_module": "@jupyter-widgets/controls",
      "model_module_version": "1.5.0",
      "model_name": "DescriptionStyleModel",
      "state": {
       "description_width": ""
      }
     },
     "6dc684f427fd400d89251845c893caf2": {
      "model_module": "@jupyter-widgets/base",
      "model_module_version": "1.2.0",
      "model_name": "LayoutModel",
      "state": {}
     },
     "6ddb9a85bc924ab0b31caafd96af828e": {
      "model_module": "@jupyter-widgets/base",
      "model_module_version": "1.2.0",
      "model_name": "LayoutModel",
      "state": {
       "justify_content": "center"
      }
     },
     "6df2252431284890a147527b97425c8c": {
      "model_module": "@jupyter-widgets/base",
      "model_module_version": "1.2.0",
      "model_name": "LayoutModel",
      "state": {
       "justify_content": "center",
       "max_width": "250px",
       "min_width": "250px"
      }
     },
     "6e41322bcf1e4395a9c05254920bb197": {
      "model_module": "@jupyter-widgets/base",
      "model_module_version": "1.2.0",
      "model_name": "LayoutModel",
      "state": {
       "justify_content": "center"
      }
     },
     "6eb34658980b4d8f970383a616e7d476": {
      "model_module": "@jupyter-widgets/controls",
      "model_module_version": "1.5.0",
      "model_name": "LabelModel",
      "state": {
       "layout": "IPY_MODEL_23a286b770bf499e91fd964db048a2f6",
       "style": "IPY_MODEL_b79c068a43024774a9dec8720fcea593",
       "value": "Avg. T1 / T2"
      }
     },
     "6ec3089577094a60894622aaa44c522f": {
      "model_module": "@jupyter-widgets/base",
      "model_module_version": "1.2.0",
      "model_name": "LayoutModel",
      "state": {
       "grid_gap": "0px 0px",
       "grid_template_areas": "\n                               \"left right right right\"\n                               \"bottom bottom bottom bottom\"\n                               ",
       "grid_template_columns": "31% 23% 23% 23%",
       "grid_template_rows": "auto auto"
      }
     },
     "6f05195b6051446797fdb3381cc35dc5": {
      "model_module": "@jupyter-widgets/controls",
      "model_module_version": "1.5.0",
      "model_name": "TabModel",
      "state": {
       "_titles": {
        "0": "Year",
        "1": "Month",
        "2": "Week"
       },
       "children": [
        "IPY_MODEL_420fbfa4555343319352e29fc1d59c5e",
        "IPY_MODEL_acead85c068d463688b491d82c0be0e0",
        "IPY_MODEL_cf4e72ccda7e49459e4169bdaba36773"
       ],
       "layout": "IPY_MODEL_fa628264277b4c9a881178cd4b6ca20d",
       "selected_index": 1
      }
     },
     "6f14a6aed7fe4e34b52ec982ccd837fe": {
      "model_module": "@jupyter-widgets/base",
      "model_module_version": "1.2.0",
      "model_name": "LayoutModel",
      "state": {
       "width": "70px"
      }
     },
     "6f2a608e24074fa294d7148a4d8f8b3b": {
      "model_module": "@jupyter-widgets/base",
      "model_module_version": "1.2.0",
      "model_name": "LayoutModel",
      "state": {
       "align_items": "center",
       "display": "flex-inline",
       "grid_area": "right",
       "max_height": "325px",
       "padding": "10px 10px 10px 10px",
       "width": "auto"
      }
     },
     "6f89d6784cc84ab5b00b48a332471bb0": {
      "model_module": "@jupyter-widgets/base",
      "model_module_version": "1.2.0",
      "model_name": "LayoutModel",
      "state": {}
     },
     "6fa0fb0901f64e17a1f0fc02e5ad51ba": {
      "model_module": "@jupyter-widgets/base",
      "model_module_version": "1.2.0",
      "model_name": "LayoutModel",
      "state": {
       "align_items": "center",
       "display": "inline-flex",
       "flex_flow": "column"
      }
     },
     "6fadf89fff80438cae04a6658bda4104": {
      "model_module": "@jupyter-widgets/base",
      "model_module_version": "1.2.0",
      "model_name": "LayoutModel",
      "state": {
       "margin": "5px 0px 0px 0px"
      }
     },
     "700e3ba5c2424484ab93b6a754871552": {
      "model_module": "@jupyter-widgets/controls",
      "model_module_version": "1.5.0",
      "model_name": "VBoxModel",
      "state": {
       "children": [
        "IPY_MODEL_977a65c692a94e89b2fcfdc36c211bf7",
        "IPY_MODEL_f639f7a224c7426c9ec1175d26f93a35",
        "IPY_MODEL_3718d8e7b30d4480a4dc6767dd089d60",
        "IPY_MODEL_f8261b94e11040ea9f03832ba0bbdd5b",
        "IPY_MODEL_2c087768d2b048ebb620fdc1bb385902",
        "IPY_MODEL_954ffd2a909f4c3396754d83bee2794b",
        "IPY_MODEL_adfccc002384484e8bdd4f8965e3f13e",
        "IPY_MODEL_56fc3c4e63854859a8034195833a134c",
        "IPY_MODEL_5e318a6bab174066a176a6159301d7db",
        "IPY_MODEL_5712a42ccf0841daa51871daf6370758"
       ],
       "layout": "IPY_MODEL_24876a53cae0477d93dd0961c5141333"
      }
     },
     "7049390ede874aa8a24067d15376235a": {
      "model_module": "@jupyter-widgets/base",
      "model_module_version": "1.2.0",
      "model_name": "LayoutModel",
      "state": {
       "align_items": "center",
       "display": "flex-inline",
       "min_height": "400px"
      }
     },
     "70648098edd04086a99d8e2a2f8f7b29": {
      "model_module": "@jupyter-widgets/base",
      "model_module_version": "1.2.0",
      "model_name": "LayoutModel",
      "state": {
       "grid_area": "top"
      }
     },
     "7191d420ef854c6bb9d7ba64f35b0562": {
      "model_module": "@jupyter-widgets/controls",
      "model_module_version": "1.5.0",
      "model_name": "HTMLModel",
      "state": {
       "layout": "IPY_MODEL_e06e9b35525d42419c5de0f9a365c7e9",
       "style": "IPY_MODEL_07607bb4c14f4ddfabb583d0e3fb8738",
       "value": "<h5>16</h5>"
      }
     },
     "72790d25c61e447e841359334fa85110": {
      "model_module": "@jupyter-widgets/controls",
      "model_module_version": "1.5.0",
      "model_name": "HTMLModel",
      "state": {
       "layout": "IPY_MODEL_5954796622e7456181786853aa32903d",
       "style": "IPY_MODEL_07595ff2f9fd4b368596106f24020bdb",
       "value": "<h4>ibmq_quito</h4>"
      }
     },
     "727e86c990694df2bcdf12411c3f57c4": {
      "model_module": "@jupyter-widgets/base",
      "model_module_version": "1.2.0",
      "model_name": "LayoutModel",
      "state": {
       "justify_content": "center",
       "max_width": "250px",
       "min_width": "250px"
      }
     },
     "72958ac595eb45bb83125f661cbe3bcf": {
      "model_module": "@jupyter-widgets/base",
      "model_module_version": "1.2.0",
      "model_name": "LayoutModel",
      "state": {}
     },
     "72f1706bebc045c7b9f202edba7733f5": {
      "model_module": "@jupyter-widgets/base",
      "model_module_version": "1.2.0",
      "model_name": "LayoutModel",
      "state": {
       "align_items": "center",
       "justify_content": "center",
       "margin": "0px 0px 0px 0px",
       "max_height": "250px",
       "max_width": "250px",
       "min_height": "250px",
       "min_width": "250px"
      }
     },
     "72f1895864e44c3eacd4e2352c6f5a05": {
      "model_module": "@jupyter-widgets/controls",
      "model_module_version": "1.5.0",
      "model_name": "HTMLModel",
      "state": {
       "layout": "IPY_MODEL_c647b69fb7b149feb01a786cc2b0e0b0",
       "style": "IPY_MODEL_482a26114a8342718d5f498da517f91c",
       "value": "<h5>0.0168</h5>"
      }
     },
     "730d7f238b5942bea63d9c40cb3c0680": {
      "model_module": "@jupyter-widgets/controls",
      "model_module_version": "1.5.0",
      "model_name": "ProgressStyleModel",
      "state": {
       "bar_color": "#71cddd",
       "description_width": ""
      }
     },
     "737853abeaf9442ca08ef830db73efd6": {
      "model_module": "@jupyter-widgets/controls",
      "model_module_version": "1.5.0",
      "model_name": "HTMLModel",
      "state": {
       "layout": "IPY_MODEL_801754c4086e44d7baba3cbbe4b06000",
       "style": "IPY_MODEL_db41e0308ae14b6c8227f4a6b4c3ced6",
       "value": "<h5><b>5</b></h5>"
      }
     },
     "73d2da7147ba414d894a037d46842643": {
      "model_module": "@jupyter-widgets/controls",
      "model_module_version": "1.5.0",
      "model_name": "VBoxModel",
      "state": {
       "children": [
        "IPY_MODEL_ac99de01138e48bfb6ae7b8021bf2135",
        "IPY_MODEL_e2c444bf92024820b21dbc348e1ca5a1",
        "IPY_MODEL_d31d43fb291e4302abcc0bf65eaad1a7",
        "IPY_MODEL_7d0ce5f3a11744acb72ffb991c1b3110",
        "IPY_MODEL_262b47603af74b6ca1a39337c649f52a",
        "IPY_MODEL_5f606d9591a3471a9fa7f760fff28faa",
        "IPY_MODEL_ce9a685adb4f4765bfe0b3fb1954275f",
        "IPY_MODEL_34d11322baa0462899c93aea34b3909d",
        "IPY_MODEL_21e9069a5bea40ab931f33a8a1d8056a",
        "IPY_MODEL_e40ec54d84894068ba4e5293a4a24453"
       ],
       "layout": "IPY_MODEL_b07c592948d047fdb9336dbd297462ff"
      }
     },
     "742b18c7a34e4e3f87b5952364adc249": {
      "model_module": "@jupyter-widgets/controls",
      "model_module_version": "1.5.0",
      "model_name": "DescriptionStyleModel",
      "state": {
       "description_width": ""
      }
     },
     "74c061fa34b14d248e740d3de461df5e": {
      "model_module": "@jupyter-widgets/controls",
      "model_module_version": "1.5.0",
      "model_name": "HTMLModel",
      "state": {
       "layout": "IPY_MODEL_b5b52e1a9ad2432b987fb82ae9067e33",
       "style": "IPY_MODEL_79cf95da1817489db514b1ab89750774",
       "value": "<h4>ibmq_santiago</h4>"
      }
     },
     "7511794cd2ab43d9b0ac6283f773d95f": {
      "model_module": "@jupyter-widgets/controls",
      "model_module_version": "1.5.0",
      "model_name": "DescriptionStyleModel",
      "state": {
       "description_width": ""
      }
     },
     "755b2103aa604c28bac94371e7aa6d0e": {
      "model_module": "@jupyter-widgets/controls",
      "model_module_version": "1.5.0",
      "model_name": "ProgressStyleModel",
      "state": {
       "bar_color": "#71cddd",
       "description_width": ""
      }
     },
     "75855e09f1ae4094ab0bcebedfc7f3ab": {
      "model_module": "@jupyter-widgets/base",
      "model_module_version": "1.2.0",
      "model_name": "LayoutModel",
      "state": {
       "justify_content": "center"
      }
     },
     "76261aae6aea4779835852b81f9cbeb1": {
      "model_module": "@jupyter-widgets/controls",
      "model_module_version": "1.5.0",
      "model_name": "DescriptionStyleModel",
      "state": {
       "description_width": ""
      }
     },
     "7627e03af0354834a468461aeb6404e0": {
      "model_module": "@jupyter-widgets/controls",
      "model_module_version": "1.5.0",
      "model_name": "LabelModel",
      "state": {
       "layout": "IPY_MODEL_7af32f7022cb490ab1ea069832c6cc6d",
       "style": "IPY_MODEL_d34d9bed4cdb4a1d930f96fba6cbe577",
       "value": "Num. Qubits"
      }
     },
     "762dc6cfe62e4c4799d1a7995f0c70dc": {
      "model_module": "@jupyter-widgets/base",
      "model_module_version": "1.2.0",
      "model_name": "LayoutModel",
      "state": {
       "justify_content": "center"
      }
     },
     "764207967b20435d8122c0200ca0343a": {
      "model_module": "@jupyter-widgets/controls",
      "model_module_version": "1.5.0",
      "model_name": "HTMLModel",
      "state": {
       "layout": "IPY_MODEL_fe6367a38915479c83ff39049935579e",
       "style": "IPY_MODEL_7c08016b63fb4fd1a151f4f9d0f5447d",
       "value": "<h5 style='color:#34bc6e'>True</h5>"
      }
     },
     "765e66da8be8478ebfcd7a3263dccec5": {
      "model_module": "@jupyter-widgets/controls",
      "model_module_version": "1.5.0",
      "model_name": "HTMLModel",
      "state": {
       "layout": "IPY_MODEL_904c7a2f626c42eca0bfd2dfe219ae1a",
       "style": "IPY_MODEL_8a842184e949420c9d9ffff83862e458",
       "value": "<h5>0.0364</h5>"
      }
     },
     "7669a5a2546440c4b68127ae2d812b6a": {
      "model_module": "@jupyter-widgets/controls",
      "model_module_version": "1.5.0",
      "model_name": "VBoxModel",
      "state": {
       "children": [
        "IPY_MODEL_6ae36d3ca0e241beb61c376f27f72e85",
        "IPY_MODEL_d5d930a9c0d6473b823a5cfc3af06c8d",
        "IPY_MODEL_d564ed0189db434f92daa5627ba75765",
        "IPY_MODEL_3fbc37628556490d98cd1814d6ed77d7",
        "IPY_MODEL_1e1ba870506f4dd0a54ccd32b49be790",
        "IPY_MODEL_6eb34658980b4d8f970383a616e7d476",
        "IPY_MODEL_97a51723a53e495b931d4e5a73b22b36",
        "IPY_MODEL_067254cf45114641b7be272bc5f42b17"
       ],
       "layout": "IPY_MODEL_1a3cec5f51644b5f92bccee93ea1b31b"
      }
     },
     "76caf07a7342461ba31033d9ecfffffc": {
      "model_module": "@jupyter-widgets/base",
      "model_module_version": "1.2.0",
      "model_name": "LayoutModel",
      "state": {}
     },
     "76f208ee54b6434b8952b02c0563de26": {
      "model_module": "@jupyter-widgets/base",
      "model_module_version": "1.2.0",
      "model_name": "LayoutModel",
      "state": {}
     },
     "773394ab2ff646989324c0fadca5d5ee": {
      "model_module": "@jupyter-widgets/controls",
      "model_module_version": "1.5.0",
      "model_name": "DescriptionStyleModel",
      "state": {
       "description_width": ""
      }
     },
     "778638da992949518747746f36596f7e": {
      "model_module": "@jupyter-widgets/base",
      "model_module_version": "1.2.0",
      "model_name": "LayoutModel",
      "state": {
       "min_width": "auto"
      }
     },
     "77870cf48d3b44999d9d1ca8a670bf66": {
      "model_module": "@jupyter-widgets/base",
      "model_module_version": "1.2.0",
      "model_name": "LayoutModel",
      "state": {
       "max_width": "180px"
      }
     },
     "77ed84f395d64e518030a39ea5f58c5d": {
      "model_module": "@jupyter-widgets/controls",
      "model_module_version": "1.5.0",
      "model_name": "DescriptionStyleModel",
      "state": {
       "description_width": ""
      }
     },
     "78b70f26b3b249c89ed2529306c5f6d1": {
      "model_module": "@jupyter-widgets/base",
      "model_module_version": "1.2.0",
      "model_name": "LayoutModel",
      "state": {
       "justify_content": "center",
       "max_width": "250px",
       "min_width": "250px"
      }
     },
     "78e68c7789434cb39c96dc79f56cf34e": {
      "model_module": "@jupyter-widgets/controls",
      "model_module_version": "1.5.0",
      "model_name": "VBoxModel",
      "state": {
       "children": [
        "IPY_MODEL_72790d25c61e447e841359334fa85110",
        "IPY_MODEL_2b2aa8fa54924e40976d64613cebdd6d",
        "IPY_MODEL_206ab51be48c427285922f2ce861f468",
        "IPY_MODEL_5438c171c0ef41c183fc2b59f68b3435",
        "IPY_MODEL_baad910b48764fc1b71a19075f0c2ae3",
        "IPY_MODEL_b0f361b141234618afbd9412926c163e",
        "IPY_MODEL_f84ffae452fb4c78b775b97808ee6e66",
        "IPY_MODEL_9f13b1cbbb4643e484ba70b4217c64fe",
        "IPY_MODEL_b4a671d645ad4c5bb71fc3ee16920948",
        "IPY_MODEL_94558518399e4d969502e39df1e8566c"
       ],
       "layout": "IPY_MODEL_039bb17d8ace48bb907f735b43c4bff8"
      }
     },
     "793d71e0c44d4809854b95034afd55dd": {
      "model_module": "@jupyter-widgets/controls",
      "model_module_version": "1.5.0",
      "model_name": "DescriptionStyleModel",
      "state": {
       "description_width": ""
      }
     },
     "7960f28e305149ce8cc3e577f6a08560": {
      "model_module": "@jupyter-widgets/base",
      "model_module_version": "1.2.0",
      "model_name": "LayoutModel",
      "state": {}
     },
     "79c297fcfb1c417f99566ff05425a88a": {
      "model_module": "@jupyter-widgets/base",
      "model_module_version": "1.2.0",
      "model_name": "LayoutModel",
      "state": {
       "align_items": "center",
       "display": "flex-inline",
       "min_height": "400px"
      }
     },
     "79cf95da1817489db514b1ab89750774": {
      "model_module": "@jupyter-widgets/controls",
      "model_module_version": "1.5.0",
      "model_name": "DescriptionStyleModel",
      "state": {
       "description_width": ""
      }
     },
     "79f639c5c9494306b897447fa6e72039": {
      "model_module": "@jupyter-widgets/controls",
      "model_module_version": "1.5.0",
      "model_name": "ProgressStyleModel",
      "state": {
       "bar_color": "#71cddd",
       "description_width": ""
      }
     },
     "7a7b5e76965340e0a4f32d13c08d74fd": {
      "model_module": "@jupyter-widgets/base",
      "model_module_version": "1.2.0",
      "model_name": "LayoutModel",
      "state": {
       "min_width": "auto"
      }
     },
     "7af32f7022cb490ab1ea069832c6cc6d": {
      "model_module": "@jupyter-widgets/base",
      "model_module_version": "1.2.0",
      "model_name": "LayoutModel",
      "state": {}
     },
     "7b72a1289a75446f827dda606204f7e1": {
      "model_module": "@jupyter-widgets/controls",
      "model_module_version": "1.5.0",
      "model_name": "DescriptionStyleModel",
      "state": {
       "description_width": ""
      }
     },
     "7bba32601e324074a03a80309ccea192": {
      "model_module": "@jupyter-widgets/base",
      "model_module_version": "1.2.0",
      "model_name": "LayoutModel",
      "state": {
       "justify_content": "center"
      }
     },
     "7bc24c0eabf9464888a4cbc5d5c72085": {
      "model_module": "@jupyter-widgets/controls",
      "model_module_version": "1.5.0",
      "model_name": "DescriptionStyleModel",
      "state": {
       "description_width": ""
      }
     },
     "7c08016b63fb4fd1a151f4f9d0f5447d": {
      "model_module": "@jupyter-widgets/controls",
      "model_module_version": "1.5.0",
      "model_name": "DescriptionStyleModel",
      "state": {
       "description_width": ""
      }
     },
     "7c60a7cd1aa34b4b891a083f15680ca1": {
      "model_module": "@jupyter-widgets/controls",
      "model_module_version": "1.5.0",
      "model_name": "HTMLModel",
      "state": {
       "layout": "IPY_MODEL_b0e103fcd2434209976d91c66391df0f",
       "style": "IPY_MODEL_f50a4b95ab9e4232bc8beeb0097ab02b",
       "value": "<h5>16</h5>"
      }
     },
     "7ca8939a47864e39bc9d3fc73628b213": {
      "model_module": "@jupyter-widgets/controls",
      "model_module_version": "1.5.0",
      "model_name": "DescriptionStyleModel",
      "state": {
       "description_width": ""
      }
     },
     "7cf1841b347d4e6f94a2d9ca109b940c": {
      "model_module": "@jupyter-widgets/base",
      "model_module_version": "1.2.0",
      "model_name": "LayoutModel",
      "state": {}
     },
     "7d0ce5f3a11744acb72ffb991c1b3110": {
      "model_module": "@jupyter-widgets/controls",
      "model_module_version": "1.5.0",
      "model_name": "HTMLModel",
      "state": {
       "layout": "IPY_MODEL_75855e09f1ae4094ab0bcebedfc7f3ab",
       "style": "IPY_MODEL_5db050bf76d24c8c87504acb579319af",
       "value": "<h5>32</h5>"
      }
     },
     "7d2ef2a88309466bb714fe484ca23a8f": {
      "model_module": "@jupyter-widgets/controls",
      "model_module_version": "1.5.0",
      "model_name": "HTMLModel",
      "state": {
       "layout": "IPY_MODEL_3f00b0f6453c4d2f9d52cb5aed3b6d80",
       "style": "IPY_MODEL_09366f520ae34355af4d6ea4aa63de4d",
       "value": "<h4>ibm_perth</h4>"
      }
     },
     "7d4815697cd4491fafc3c32fd09c508a": {
      "model_module": "@jupyter-widgets/base",
      "model_module_version": "1.2.0",
      "model_name": "LayoutModel",
      "state": {
       "justify_content": "center",
       "max_width": "250px",
       "min_width": "250px"
      }
     },
     "7d671cbde5f54e99b80f580c1d368ba5": {
      "model_module": "@jupyter-widgets/controls",
      "model_module_version": "1.5.0",
      "model_name": "DescriptionStyleModel",
      "state": {
       "description_width": ""
      }
     },
     "7dab3bd377c44ec781b4f185efd01897": {
      "model_module": "@jupyter-widgets/base",
      "model_module_version": "1.2.0",
      "model_name": "LayoutModel",
      "state": {
       "max_width": "180px"
      }
     },
     "7dce11bd2f15427084d021c98760f7de": {
      "model_module": "@jupyter-widgets/controls",
      "model_module_version": "1.5.0",
      "model_name": "DescriptionStyleModel",
      "state": {
       "description_width": ""
      }
     },
     "7e361b4d33ee45228ee0c8ae0870b309": {
      "model_module": "@jupyter-widgets/controls",
      "model_module_version": "1.5.0",
      "model_name": "HTMLModel",
      "state": {
       "layout": "IPY_MODEL_26fa25ac5bbc435b947734b3d8896f6f",
       "style": "IPY_MODEL_7b72a1289a75446f827dda606204f7e1",
       "value": "<h5 style='color:#dc267f'>False</h5>"
      }
     },
     "7ed720a075ea42a0a77cde46d550bc2e": {
      "model_module": "@jupyter-widgets/controls",
      "model_module_version": "1.5.0",
      "model_name": "DescriptionStyleModel",
      "state": {
       "description_width": ""
      }
     },
     "7eda8b76ddb54cecbb750bee1a11a942": {
      "model_module": "@jupyter-widgets/controls",
      "model_module_version": "1.5.0",
      "model_name": "HTMLModel",
      "state": {
       "layout": "IPY_MODEL_5ad2f030e36a4b9eba33ebfed4dedc6b",
       "style": "IPY_MODEL_1319dc367d684e2d99865deb15ace840",
       "value": "6140e3ca744103755932c22d"
      }
     },
     "7ef14a3f40e244a18e7553a972cd6705": {
      "model_module": "@jupyter-widgets/controls",
      "model_module_version": "1.5.0",
      "model_name": "VBoxModel",
      "state": {
       "children": [
        "IPY_MODEL_3d0060caafe14413a284a65a0aa6e64d",
        "IPY_MODEL_d7d2e6156d194a11887d3cbb95153417"
       ],
       "layout": "IPY_MODEL_76caf07a7342461ba31033d9ecfffffc"
      }
     },
     "7f15dc0503bb403bb965861df2781573": {
      "model_module": "@jupyter-widgets/output",
      "model_module_version": "1.0.0",
      "model_name": "OutputModel",
      "state": {
       "layout": "IPY_MODEL_79c297fcfb1c417f99566ff05425a88a"
      }
     },
     "7f2cd80f7a33422784170037202ba880": {
      "model_module": "@jupyter-widgets/controls",
      "model_module_version": "1.5.0",
      "model_name": "DescriptionStyleModel",
      "state": {
       "description_width": ""
      }
     },
     "7f41e538857f42669de3fea7f9a5d0d3": {
      "model_module": "@jupyter-widgets/controls",
      "model_module_version": "1.5.0",
      "model_name": "DescriptionStyleModel",
      "state": {
       "description_width": ""
      }
     },
     "7feb92b37f7440a19bc727ba878d7262": {
      "model_module": "@jupyter-widgets/base",
      "model_module_version": "1.2.0",
      "model_name": "LayoutModel",
      "state": {
       "justify_content": "center"
      }
     },
     "801754c4086e44d7baba3cbbe4b06000": {
      "model_module": "@jupyter-widgets/base",
      "model_module_version": "1.2.0",
      "model_name": "LayoutModel",
      "state": {
       "justify_content": "center"
      }
     },
     "805d651a7a6a4e86b69b91ef7f42ee7f": {
      "model_module": "@jupyter-widgets/controls",
      "model_module_version": "1.5.0",
      "model_name": "DescriptionStyleModel",
      "state": {
       "description_width": ""
      }
     },
     "80d56724b89c4aa098e4ad3c59ee04c4": {
      "model_module": "@jupyter-widgets/base",
      "model_module_version": "1.2.0",
      "model_name": "LayoutModel",
      "state": {
       "justify_content": "center"
      }
     },
     "811109d6a9214e55be6cecdd0fefce84": {
      "model_module": "@jupyter-widgets/controls",
      "model_module_version": "1.5.0",
      "model_name": "DescriptionStyleModel",
      "state": {
       "description_width": ""
      }
     },
     "8132c6a7e8c04a48b714ca8ab990f675": {
      "model_module": "@jupyter-widgets/controls",
      "model_module_version": "1.5.0",
      "model_name": "LabelModel",
      "state": {
       "layout": "IPY_MODEL_a119de3cc3754f4eae299e09170b3e3a",
       "style": "IPY_MODEL_a2f412d761c74471b1d32558f9c423f0",
       "value": "4"
      }
     },
     "81436e8a674b4c17a8378933b1e53c3d": {
      "model_module": "@jupyter-widgets/controls",
      "model_module_version": "1.5.0",
      "model_name": "DescriptionStyleModel",
      "state": {
       "description_width": ""
      }
     },
     "8144ed96676d4641a7605909cc8aa9ac": {
      "model_module": "@jupyter-widgets/controls",
      "model_module_version": "1.5.0",
      "model_name": "DescriptionStyleModel",
      "state": {
       "description_width": ""
      }
     },
     "817a7fe5a9f24137a5355f8909646dcc": {
      "model_module": "@jupyter-widgets/base",
      "model_module_version": "1.2.0",
      "model_name": "LayoutModel",
      "state": {
       "align_items": "center",
       "justify_content": "center",
       "margin": "0px 0px 0px 0px",
       "max_height": "250px",
       "max_width": "250px",
       "min_height": "250px",
       "min_width": "250px"
      }
     },
     "81df7b3b344c4670b0a881a4a8d946ba": {
      "model_module": "@jupyter-widgets/base",
      "model_module_version": "1.2.0",
      "model_name": "LayoutModel",
      "state": {
       "justify_content": "center"
      }
     },
     "8225ec476bb0424aa2bd65a2596dd454": {
      "model_module": "@jupyter-widgets/controls",
      "model_module_version": "1.5.0",
      "model_name": "HBoxModel",
      "state": {
       "children": [
        "IPY_MODEL_4ca432063e0c4ed5880b356b8ea813b0",
        "IPY_MODEL_e6c4ee551f18447a8a872eac0d95a8ac",
        "IPY_MODEL_8ec370e25e3946a7a1e8692430cd2c60"
       ],
       "layout": "IPY_MODEL_f2bebeeb38e44bd18d75a732153aaaaf"
      }
     },
     "82490e44fd0d4deab68e5b03518f60f9": {
      "model_module": "@jupyter-widgets/output",
      "model_module_version": "1.0.0",
      "model_name": "OutputModel",
      "state": {
       "layout": "IPY_MODEL_9d4f3f13d6f5483b8aeabec9e6504676",
       "outputs": [
        {
         "data": {
          "image/png": "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\n",
          "text/plain": "<Figure size 360x360 with 1 Axes>"
         },
         "metadata": {},
         "output_type": "display_data"
        }
       ]
      }
     },
     "830814ac38864d38bcf53090fea26783": {
      "model_module": "@jupyter-widgets/base",
      "model_module_version": "1.2.0",
      "model_name": "LayoutModel",
      "state": {}
     },
     "8348b9c43b1b448cb220a7a7587605fc": {
      "model_module": "@jupyter-widgets/controls",
      "model_module_version": "1.5.0",
      "model_name": "DescriptionStyleModel",
      "state": {
       "description_width": ""
      }
     },
     "8357765be5c14d4c94c4402b43c1125c": {
      "model_module": "@jupyter-widgets/base",
      "model_module_version": "1.2.0",
      "model_name": "LayoutModel",
      "state": {
       "align_items": "center",
       "display": "inline-flex",
       "flex_flow": "column"
      }
     },
     "839183ee70f140e8bde1ef4daef62f78": {
      "model_module": "@jupyter-widgets/base",
      "model_module_version": "1.2.0",
      "model_name": "LayoutModel",
      "state": {
       "overflow_y": "scroll"
      }
     },
     "83ccbdacfa0447128eaed7db3b44dc50": {
      "model_module": "@jupyter-widgets/base",
      "model_module_version": "1.2.0",
      "model_name": "LayoutModel",
      "state": {
       "align_items": "center",
       "display": "flex-inline",
       "min_height": "400px"
      }
     },
     "841d0f7b4fea44458254375bc24c410e": {
      "model_module": "@jupyter-widgets/controls",
      "model_module_version": "1.5.0",
      "model_name": "DescriptionStyleModel",
      "state": {
       "description_width": ""
      }
     },
     "843e50665643429c863e4fbe0df5ecf6": {
      "model_module": "@jupyter-widgets/base",
      "model_module_version": "1.2.0",
      "model_name": "LayoutModel",
      "state": {}
     },
     "84486dcd2ddc4ebcb28f5e027e9a813e": {
      "model_module": "@jupyter-widgets/base",
      "model_module_version": "1.2.0",
      "model_name": "LayoutModel",
      "state": {
       "margin": "5px 0px 0px 0px"
      }
     },
     "84638079c76846ac9e5cd9cf7177c970": {
      "model_module": "@jupyter-widgets/base",
      "model_module_version": "1.2.0",
      "model_name": "LayoutModel",
      "state": {
       "margin": "8px 0px 0px 0px"
      }
     },
     "847d936357e74c14b696ff4abbaabed2": {
      "model_module": "@jupyter-widgets/controls",
      "model_module_version": "1.5.0",
      "model_name": "HTMLModel",
      "state": {
       "layout": "IPY_MODEL_3767c0d0224446fa9f0d9e668308abda",
       "style": "IPY_MODEL_1b013321fd4a4c8391d18321402bbcc8",
       "value": "<h5>92.7 / 135.3 us</h5>"
      }
     },
     "84ceebc9ae024fadae4b5b5e0d9b77ad": {
      "model_module": "@jupyter-widgets/controls",
      "model_module_version": "1.5.0",
      "model_name": "LabelModel",
      "state": {
       "layout": "IPY_MODEL_31b64e316429471aab3f5fc3c1025b03",
       "style": "IPY_MODEL_1118f91fce9742328a04b69cd7769a29",
       "value": "Avg. CX Err."
      }
     },
     "84d0e1f233dd426eb5ebb03277e7ee54": {
      "model_module": "@jupyter-widgets/controls",
      "model_module_version": "1.5.0",
      "model_name": "DescriptionStyleModel",
      "state": {
       "description_width": ""
      }
     },
     "84f99fd62b224bf88cce39c21e5570ce": {
      "model_module": "@jupyter-widgets/controls",
      "model_module_version": "1.5.0",
      "model_name": "DescriptionStyleModel",
      "state": {
       "description_width": ""
      }
     },
     "85ffb86cd59040559fc309184cecd42f": {
      "model_module": "@jupyter-widgets/controls",
      "model_module_version": "1.5.0",
      "model_name": "HTMLModel",
      "state": {
       "layout": "IPY_MODEL_72958ac595eb45bb83125f661cbe3bcf",
       "style": "IPY_MODEL_a58a890be56948f69211632532aa118a",
       "value": "<h4>ibmq_bogota</h4>"
      }
     },
     "86177074bbc440a58555974097cf2d16": {
      "model_module": "@jupyter-widgets/controls",
      "model_module_version": "1.5.0",
      "model_name": "DescriptionStyleModel",
      "state": {
       "description_width": ""
      }
     },
     "86cc3a22d27e4ce79279be16582b155c": {
      "model_module": "@jupyter-widgets/controls",
      "model_module_version": "1.5.0",
      "model_name": "DescriptionStyleModel",
      "state": {
       "description_width": ""
      }
     },
     "86e577e9358b416e8421fb42dc4320aa": {
      "model_module": "@jupyter-widgets/base",
      "model_module_version": "1.2.0",
      "model_name": "LayoutModel",
      "state": {
       "justify_content": "center"
      }
     },
     "86f05082480940539bab834677e61e50": {
      "model_module": "@jupyter-widgets/controls",
      "model_module_version": "1.5.0",
      "model_name": "LabelModel",
      "state": {
       "layout": "IPY_MODEL_37b44024c8fe4e518e620fc7ef603b8e",
       "style": "IPY_MODEL_c8ca7af4213a42e7b5e779d2e874c0ac",
       "value": "5"
      }
     },
     "871ffb16fbea414096820c1e77d356f9": {
      "model_module": "@jupyter-widgets/controls",
      "model_module_version": "1.5.0",
      "model_name": "HTMLModel",
      "state": {
       "layout": "IPY_MODEL_020b63df67754b09b14b10503350c46b",
       "style": "IPY_MODEL_e3e8ae3aed4e4bf5ad3a6785b2c355bc",
       "value": "<h5 style='color:#34bc6e'>True</h5>"
      }
     },
     "877763410e184cd49252988a1e33e5dc": {
      "model_module": "@jupyter-widgets/base",
      "model_module_version": "1.2.0",
      "model_name": "LayoutModel",
      "state": {
       "overflow_y": "scroll"
      }
     },
     "8779e41a35ca41c7a0fbb64eb75fb118": {
      "model_module": "@jupyter-widgets/controls",
      "model_module_version": "1.5.0",
      "model_name": "HTMLModel",
      "state": {
       "layout": "IPY_MODEL_762dc6cfe62e4c4799d1a7995f0c70dc",
       "style": "IPY_MODEL_c2b40e5eb143415c90f3362fb4dda0a4",
       "value": "<h5><b>7</b></h5>"
      }
     },
     "87a100f017314d1d8f83733f1bba0f1e": {
      "model_module": "@jupyter-widgets/controls",
      "model_module_version": "1.5.0",
      "model_name": "VBoxModel",
      "state": {
       "children": [
        "IPY_MODEL_6a1f5c7da6aa4570a0190112a0e9ec74",
        "IPY_MODEL_1f28498bdba24f48a02acd078800cd30",
        "IPY_MODEL_737853abeaf9442ca08ef830db73efd6",
        "IPY_MODEL_32f2f284daba48cc8b389a46db51b1ec",
        "IPY_MODEL_b884b25a955f4986a6aeea025a9396ae",
        "IPY_MODEL_764207967b20435d8122c0200ca0343a",
        "IPY_MODEL_6263227d27b84138b040a88b0f2cf51d",
        "IPY_MODEL_288751b19a3d486c915ff32082b3b524",
        "IPY_MODEL_c3c1ba15ddac477f90283b286b794a2b",
        "IPY_MODEL_b098948b12c345ecbb374c491ac785fc"
       ],
       "layout": "IPY_MODEL_b20d0499c5394e89a5579095f2277d1f"
      }
     },
     "87a1a70ecd66447c8028c2f9373d4c73": {
      "model_module": "@jupyter-widgets/base",
      "model_module_version": "1.2.0",
      "model_name": "LayoutModel",
      "state": {
       "min_width": "auto"
      }
     },
     "87b051aa884145cd923f7d6126509749": {
      "model_module": "@jupyter-widgets/controls",
      "model_module_version": "1.5.0",
      "model_name": "HTMLModel",
      "state": {
       "layout": "IPY_MODEL_c54825250aba42e3b0da44b1800a0558",
       "style": "IPY_MODEL_0ba6dfd49a9b4171b1a493cebfa64ccb",
       "value": "<h5>85.9 / 123.9 us</h5>"
      }
     },
     "87b7b6dd30984db1ad1043ca36d0b376": {
      "model_module": "@jupyter-widgets/base",
      "model_module_version": "1.2.0",
      "model_name": "LayoutModel",
      "state": {
       "justify_content": "center"
      }
     },
     "87f1d1b517c84f418a3310dbea83f33c": {
      "model_module": "@jupyter-widgets/base",
      "model_module_version": "1.2.0",
      "model_name": "LayoutModel",
      "state": {}
     },
     "884c2c340601492c97fdb5c6febef1ed": {
      "model_module": "@jupyter-widgets/controls",
      "model_module_version": "1.5.0",
      "model_name": "DescriptionStyleModel",
      "state": {
       "description_width": ""
      }
     },
     "886d9a8da0f44c5ca6d776a3dcfb4398": {
      "model_module": "@jupyter-widgets/controls",
      "model_module_version": "1.5.0",
      "model_name": "HBoxModel",
      "state": {
       "children": [
        "IPY_MODEL_f879d67dc54645228817450042679f34",
        "IPY_MODEL_aeb406e4c24149b0a3e0e0ac30031758",
        "IPY_MODEL_c555499b0bd5476597f5258e2e12c550"
       ],
       "layout": "IPY_MODEL_3445689047c649178a9da9a863862d14"
      }
     },
     "88e16f00f5fe4763a59c28c781582e34": {
      "model_module": "@jupyter-widgets/controls",
      "model_module_version": "1.5.0",
      "model_name": "HTMLModel",
      "state": {
       "layout": "IPY_MODEL_70648098edd04086a99d8e2a2f8f7b29",
       "style": "IPY_MODEL_3020048d28ce4fd4b0d2e6dca836a120",
       "value": "<div><font style='font-weight:bold'>last_update_date</font>: 2020-08-09 14:09:32-04:00</div>"
      }
     },
     "89aedf86c42946b8b9d62aea19fccba1": {
      "model_module": "@jupyter-widgets/base",
      "model_module_version": "1.2.0",
      "model_name": "LayoutModel",
      "state": {
       "grid_gap": "0px 0px",
       "grid_template_areas": "\n                               \"left right right right\"\n                               \"bottom bottom bottom bottom\"\n                               ",
       "grid_template_columns": "31% 23% 23% 23%",
       "grid_template_rows": "auto auto"
      }
     },
     "8a0747d5008c4e3d9bd2463c21b49072": {
      "model_module": "@jupyter-widgets/base",
      "model_module_version": "1.2.0",
      "model_name": "LayoutModel",
      "state": {
       "justify_content": "center",
       "max_width": "250px",
       "min_width": "250px"
      }
     },
     "8a842184e949420c9d9ffff83862e458": {
      "model_module": "@jupyter-widgets/controls",
      "model_module_version": "1.5.0",
      "model_name": "DescriptionStyleModel",
      "state": {
       "description_width": ""
      }
     },
     "8b23b98a147643a39da38e62a6ece92c": {
      "model_module": "@jupyter-widgets/controls",
      "model_module_version": "1.5.0",
      "model_name": "DescriptionStyleModel",
      "state": {
       "description_width": ""
      }
     },
     "8b4833d104fe4146a086b7a47fd6ef24": {
      "model_module": "@jupyter-widgets/controls",
      "model_module_version": "1.5.0",
      "model_name": "ProgressStyleModel",
      "state": {
       "bar_color": "#71cddd",
       "description_width": ""
      }
     },
     "8b9282dd7017484fb06526a4a2405298": {
      "model_module": "@jupyter-widgets/base",
      "model_module_version": "1.2.0",
      "model_name": "LayoutModel",
      "state": {}
     },
     "8c1b3972c19a4c86904e0cdb3105f6ca": {
      "model_module": "@jupyter-widgets/base",
      "model_module_version": "1.2.0",
      "model_name": "LayoutModel",
      "state": {
       "border": "4px solid #000000",
       "max_height": "650px",
       "min_height": "650px",
       "overflow_y": "hidden"
      }
     },
     "8c3c828e82ab45038a2fe9f8887ae204": {
      "model_module": "@jupyter-widgets/controls",
      "model_module_version": "1.5.0",
      "model_name": "HBoxModel",
      "state": {
       "children": [
        "IPY_MODEL_ddbde792a0b64cf58a0f45c2bccc5840",
        "IPY_MODEL_9f057d015b564bb49c526c24f298f3c1",
        "IPY_MODEL_c1d934e93e9f4aa3b29d3268e04ee69b",
        "IPY_MODEL_f2d5e30c841e41d19bb754b0fe9f6c14",
        "IPY_MODEL_6309703f840c418287741e06677d47f4",
        "IPY_MODEL_bf6de18ce157455f98040f0d3903cf8f"
       ],
       "layout": "IPY_MODEL_ac6c1b7c20194e5ea9b0a3ac1ec4ab39"
      }
     },
     "8cc3d5024fa8424f9f0b9f40d561f29e": {
      "model_module": "@jupyter-widgets/controls",
      "model_module_version": "1.5.0",
      "model_name": "HTMLModel",
      "state": {
       "layout": "IPY_MODEL_b961275774364534b3970e7e9f9a1ae5",
       "style": "IPY_MODEL_c1b4c9d37a5f40688836196bb3c69d7d",
       "value": "<h5>8</h5>"
      }
     },
     "8db3329bac984240beab19d1c745fae4": {
      "model_module": "@jupyter-widgets/base",
      "model_module_version": "1.2.0",
      "model_name": "LayoutModel",
      "state": {}
     },
     "8dbc778e3c9b49a4bf5f985c624e4b21": {
      "model_module": "@jupyter-widgets/controls",
      "model_module_version": "1.5.0",
      "model_name": "DescriptionStyleModel",
      "state": {
       "description_width": ""
      }
     },
     "8e524074dc2b437e9c9715d3bc680d2b": {
      "model_module": "@jupyter-widgets/base",
      "model_module_version": "1.2.0",
      "model_name": "LayoutModel",
      "state": {
       "justify_content": "center"
      }
     },
     "8e562acbd9004115b264312ab831cd83": {
      "model_module": "@jupyter-widgets/controls",
      "model_module_version": "1.5.0",
      "model_name": "DescriptionStyleModel",
      "state": {
       "description_width": ""
      }
     },
     "8ebc89e0aa2d4a44b8a0b73ca9c45ce5": {
      "model_module": "@jupyter-widgets/base",
      "model_module_version": "1.2.0",
      "model_name": "LayoutModel",
      "state": {
       "justify_content": "center"
      }
     },
     "8ec370e25e3946a7a1e8692430cd2c60": {
      "model_module": "@jupyter-widgets/controls",
      "model_module_version": "1.5.0",
      "model_name": "LabelModel",
      "state": {
       "layout": "IPY_MODEL_bb773a2b337e470d82b98c34f85120d5",
       "style": "IPY_MODEL_b51d9547911d46898eaf625860327805",
       "value": "247"
      }
     },
     "8ef09ea2c4fc417c9faa41f73555d2a1": {
      "model_module": "@jupyter-widgets/base",
      "model_module_version": "1.2.0",
      "model_name": "LayoutModel",
      "state": {
       "width": "95px"
      }
     },
     "8f06dd465ea34273915dbd2160b19784": {
      "model_module": "@jupyter-widgets/controls",
      "model_module_version": "1.5.0",
      "model_name": "HTMLMathModel",
      "state": {
       "layout": "IPY_MODEL_62436a91c6144879a2c502bf216b1f7f",
       "style": "IPY_MODEL_6d886339615f4262b2d33a7d94ab8c0f",
       "value": "<table><style>\ntable {\n    border-collapse: collapse;\n    width: auto;\n}\n\nth, td {\n    text-align: left;\n    padding: 8px;\n}\n\ntr:nth-child(even) {background-color: #f6f6f6;}\n</style><tr><th>Property</th><th>Value</th></tr><tr><td><font style='font-weight:bold'>n_qubits</font></td><td>20</td></tr><tr><td><font style='font-weight:bold'>quantum_volume</font></td><td>32</td></tr><tr><td><font style='font-weight:bold'>operational</font></td><td>True</td></tr><tr><td><font style='font-weight:bold'>status_msg</font></td><td></td></tr><tr><td><font style='font-weight:bold'>pending_jobs</font></td><td>0</td></tr><tr><td><font style='font-weight:bold'>backend_version</font></td><td>1.2.2</td></tr><tr><td><font style='font-weight:bold'>basis_gates</font></td><td>['id', 'u1', 'u2', 'u3', 'cx']</td></tr><tr><td><font style='font-weight:bold'>max_shots</font></td><td>8192</td></tr><tr><td><font style='font-weight:bold'>max_experiments</font></td><td>900</td></tr></table>"
      }
     },
     "8fecd45eb4f041c4866c7ca42527c57b": {
      "model_module": "@jupyter-widgets/controls",
      "model_module_version": "1.5.0",
      "model_name": "IntProgressModel",
      "state": {
       "layout": "IPY_MODEL_520e442777114e1e9b5a9ace288e2602",
       "max": 50,
       "style": "IPY_MODEL_1d86f3b23ee641a187fae48eed9dcbdd"
      }
     },
     "9041049b44bb4b7bab0b3f6c8a7c43dc": {
      "model_module": "@jupyter-widgets/controls",
      "model_module_version": "1.5.0",
      "model_name": "HTMLModel",
      "state": {
       "layout": "IPY_MODEL_c2a4b43d11b54fbfbb3e464b7fd5d137",
       "style": "IPY_MODEL_1c881fd29a804e8e9cee788ae801bbb2",
       "value": "<h5 style='color:#dc267f'>False</h5>"
      }
     },
     "904c7a2f626c42eca0bfd2dfe219ae1a": {
      "model_module": "@jupyter-widgets/base",
      "model_module_version": "1.2.0",
      "model_name": "LayoutModel",
      "state": {}
     },
     "909447f488104b2ab1c9b5340b725182": {
      "model_module": "@jupyter-widgets/controls",
      "model_module_version": "1.5.0",
      "model_name": "HTMLModel",
      "state": {
       "layout": "IPY_MODEL_52cc1fbafe194f95856451a5fb5503d4",
       "style": "IPY_MODEL_c767a2ba7ceb4f108c81205680e6ae3b",
       "value": "<h5 style='color:#dc267f'>False</h5>"
      }
     },
     "90cb082106964f04b174a9a06d00436d": {
      "model_module": "@jupyter-widgets/controls",
      "model_module_version": "1.5.0",
      "model_name": "DescriptionStyleModel",
      "state": {
       "description_width": ""
      }
     },
     "9101b10a0f184e0da9b0ec7b8e0acf2e": {
      "model_module": "@jupyter-widgets/controls",
      "model_module_version": "1.5.0",
      "model_name": "HTMLModel",
      "state": {
       "layout": "IPY_MODEL_aa88df42fbee45e683aad38b9c449892",
       "style": "IPY_MODEL_158fa6feb8ac47e2b37a20e7ba36405d",
       "value": "<p style='font-family: IBM Plex Sans, Arial, Helvetica, sans-serif; font-size: 20px; font-weight: medium;'>Circuit Properties</p>"
      }
     },
     "910bbc1fdb8941349baa8d6f6ab2effd": {
      "model_module": "@jupyter-widgets/controls",
      "model_module_version": "1.5.0",
      "model_name": "DescriptionStyleModel",
      "state": {
       "description_width": ""
      }
     },
     "9195014f0e3841479599b3fb7797737f": {
      "model_module": "@jupyter-widgets/controls",
      "model_module_version": "1.5.0",
      "model_name": "HTMLModel",
      "state": {
       "layout": "IPY_MODEL_d6c12dbd9f824f8b919acf646d590e32",
       "style": "IPY_MODEL_910bbc1fdb8941349baa8d6f6ab2effd",
       "value": "<h4>ibmq_belem</h4>"
      }
     },
     "92004b54ea88470cab53db32a9511b67": {
      "model_module": "@jupyter-widgets/controls",
      "model_module_version": "1.5.0",
      "model_name": "DescriptionStyleModel",
      "state": {
       "description_width": ""
      }
     },
     "922cb08b84d044b9bbcc528ccf06f337": {
      "model_module": "@jupyter-widgets/base",
      "model_module_version": "1.2.0",
      "model_name": "LayoutModel",
      "state": {
       "margin": "10px 0px 0px 0px"
      }
     },
     "92d1009ee6b94a058d1b86f579eca25c": {
      "model_module": "@jupyter-widgets/controls",
      "model_module_version": "1.5.0",
      "model_name": "DescriptionStyleModel",
      "state": {
       "description_width": ""
      }
     },
     "92d93c49a4284a14b4a6db425a6d6b7a": {
      "model_module": "@jupyter-widgets/base",
      "model_module_version": "1.2.0",
      "model_name": "LayoutModel",
      "state": {
       "align_items": "center",
       "justify_content": "center",
       "margin": "0px 0px 0px 0px",
       "max_height": "250px",
       "max_width": "250px",
       "min_height": "250px",
       "min_width": "250px"
      }
     },
     "9348c57c116141149481e025636cb125": {
      "model_module": "@jupyter-widgets/base",
      "model_module_version": "1.2.0",
      "model_name": "LayoutModel",
      "state": {
       "margin": "0px 0px 0px 0px"
      }
     },
     "93d22c6e42de4c0b965a3f827b2432f7": {
      "model_module": "@jupyter-widgets/controls",
      "model_module_version": "1.5.0",
      "model_name": "DescriptionStyleModel",
      "state": {
       "description_width": ""
      }
     },
     "94558518399e4d969502e39df1e8566c": {
      "model_module": "@jupyter-widgets/controls",
      "model_module_version": "1.5.0",
      "model_name": "HTMLModel",
      "state": {
       "layout": "IPY_MODEL_a8d6a37a435347a6ad399c1226b76bf5",
       "style": "IPY_MODEL_d506460de097438da042966b7e2139b6",
       "value": "<h5>0.0491</h5>"
      }
     },
     "94901fdc552f4fbf8240e6017ac3d42c": {
      "model_module": "@jupyter-widgets/base",
      "model_module_version": "1.2.0",
      "model_name": "LayoutModel",
      "state": {
       "margin": "0px 5px 0px 0px",
       "width": "32px"
      }
     },
     "9491c7b445944f12a1a3d63ea39fbcc7": {
      "model_module": "@jupyter-widgets/base",
      "model_module_version": "1.2.0",
      "model_name": "LayoutModel",
      "state": {
       "align_items": "center",
       "justify_content": "center",
       "margin": "0px 0px 0px 0px",
       "max_height": "250px",
       "max_width": "250px",
       "min_height": "250px",
       "min_width": "250px"
      }
     },
     "94f44b0abef34cd980f7160abc25ba50": {
      "model_module": "@jupyter-widgets/base",
      "model_module_version": "1.2.0",
      "model_name": "LayoutModel",
      "state": {
       "max_width": "180px"
      }
     },
     "9540c67f067145dbbde188966a47f710": {
      "model_module": "@jupyter-widgets/base",
      "model_module_version": "1.2.0",
      "model_name": "LayoutModel",
      "state": {
       "justify_content": "center"
      }
     },
     "954ffd2a909f4c3396754d83bee2794b": {
      "model_module": "@jupyter-widgets/controls",
      "model_module_version": "1.5.0",
      "model_name": "HTMLModel",
      "state": {
       "layout": "IPY_MODEL_21110c07d41c4777b68c808dee1d0873",
       "style": "IPY_MODEL_13e956eae5064b16883b0570e71a0753",
       "value": "<h5 style='color:#34bc6e'>True</h5>"
      }
     },
     "959f75b03e0b4d5f9f63a554d8ff346b": {
      "model_module": "@jupyter-widgets/base",
      "model_module_version": "1.2.0",
      "model_name": "LayoutModel",
      "state": {
       "margin": "8px 0px 0px 0px"
      }
     },
     "95a6900b68024ac1ab84d45887f113c7": {
      "model_module": "@jupyter-widgets/controls",
      "model_module_version": "1.5.0",
      "model_name": "DescriptionStyleModel",
      "state": {
       "description_width": ""
      }
     },
     "95e790d277c348afad29f3f9aff2c804": {
      "model_module": "@jupyter-widgets/controls",
      "model_module_version": "1.5.0",
      "model_name": "VBoxModel",
      "state": {
       "children": [
        "IPY_MODEL_223cda56221d40d4a1c62924dbfd15f2",
        "IPY_MODEL_98108e0074774e489ac6f41dcba7cb6e"
       ],
       "layout": "IPY_MODEL_0e0b1495d3c8466b87d22e48a41af578"
      }
     },
     "95f5c3eaf2b14054a6c9b7446b224e3d": {
      "model_module": "@jupyter-widgets/controls",
      "model_module_version": "1.5.0",
      "model_name": "HTMLModel",
      "state": {
       "layout": "IPY_MODEL_fe277ac878584a7c8094c5b6cdfd06cd",
       "style": "IPY_MODEL_44fbe6075ce9461aa9df293ee6e01156",
       "value": "<h5><b>5</b></h5>"
      }
     },
     "966cbec09ea74f2aa7a67e59b3e6b49b": {
      "model_module": "@jupyter-widgets/base",
      "model_module_version": "1.2.0",
      "model_name": "LayoutModel",
      "state": {}
     },
     "97366b6e2e694982aeffa1013552e38f": {
      "model_module": "@jupyter-widgets/base",
      "model_module_version": "1.2.0",
      "model_name": "LayoutModel",
      "state": {}
     },
     "9736c922f4d64afda4be3825b4077c9c": {
      "model_module": "@jupyter-widgets/controls",
      "model_module_version": "1.5.0",
      "model_name": "LabelModel",
      "state": {
       "layout": "IPY_MODEL_99a881528f62405ea2d8215adaab718c",
       "style": "IPY_MODEL_099e1459fe3444018684b8307ba8380d",
       "value": "112"
      }
     },
     "977a65c692a94e89b2fcfdc36c211bf7": {
      "model_module": "@jupyter-widgets/controls",
      "model_module_version": "1.5.0",
      "model_name": "HTMLModel",
      "state": {
       "layout": "IPY_MODEL_c4f8bef7042c4493b08c96e2a958864c",
       "style": "IPY_MODEL_e2c146a9805b42ca8840f5c60d39f008",
       "value": "<h4>ibmq_lima</h4>"
      }
     },
     "97a51723a53e495b931d4e5a73b22b36": {
      "model_module": "@jupyter-widgets/controls",
      "model_module_version": "1.5.0",
      "model_name": "LabelModel",
      "state": {
       "layout": "IPY_MODEL_a10e14704e4c44d5b829090856e8fdb0",
       "style": "IPY_MODEL_58de1b9f8c114d919a98730ef8824d86",
       "value": "Avg. CX Err."
      }
     },
     "97bd371a63b8457f8aaee3254313680f": {
      "model_module": "@jupyter-widgets/controls",
      "model_module_version": "1.5.0",
      "model_name": "HTMLModel",
      "state": {
       "layout": "IPY_MODEL_8ebc89e0aa2d4a44b8a0b73ca9c45ce5",
       "style": "IPY_MODEL_e3d66d25059d4abc8c9d6496191ab351",
       "value": "<h5 style='color:#34bc6e'>True</h5>"
      }
     },
     "97cb8d1c597244db8aa00b984a64cefa": {
      "model_module": "@jupyter-widgets/controls",
      "model_module_version": "1.5.0",
      "model_name": "DescriptionStyleModel",
      "state": {
       "description_width": ""
      }
     },
     "98108e0074774e489ac6f41dcba7cb6e": {
      "model_module": "@jupyter-widgets/controls",
      "model_module_version": "1.5.0",
      "model_name": "TabModel",
      "state": {
       "_titles": {
        "0": "Configuration",
        "1": "Qubit Properties",
        "2": "Multi-Qubit Gates",
        "3": "Error Map",
        "4": "Job History"
       },
       "children": [
        "IPY_MODEL_9c948e7347534ffb9d0aba18b5643fd9",
        "IPY_MODEL_de66adf984254579942f8cf1e1295cab",
        "IPY_MODEL_ca11f26f8b3a4a6a9148db79d21f23a8",
        "IPY_MODEL_c21c6e999064421c954e1ec05bf00696",
        "IPY_MODEL_6f05195b6051446797fdb3381cc35dc5"
       ],
       "layout": "IPY_MODEL_839183ee70f140e8bde1ef4daef62f78"
      }
     },
     "98158a053a8c45c68c2d579b4aeb0302": {
      "model_module": "@jupyter-widgets/base",
      "model_module_version": "1.2.0",
      "model_name": "LayoutModel",
      "state": {
       "max_width": "180px"
      }
     },
     "983ed127a03a495fbabcfe1edfb92d54": {
      "model_module": "@jupyter-widgets/base",
      "model_module_version": "1.2.0",
      "model_name": "LayoutModel",
      "state": {
       "grid_gap": "0px 0px",
       "grid_template_areas": "\n                                                   \"top top top\"\n                                                   \"left middle right\"\n                                                   ",
       "grid_template_columns": "33% 33% 33%",
       "grid_template_rows": "auto auto"
      }
     },
     "98ae4d6d06224e7a9deb3b59e4296a69": {
      "model_module": "@jupyter-widgets/controls",
      "model_module_version": "1.5.0",
      "model_name": "DescriptionStyleModel",
      "state": {
       "description_width": ""
      }
     },
     "98cd3c05558b4746ac630a5ee7368e8c": {
      "model_module": "@jupyter-widgets/controls",
      "model_module_version": "1.5.0",
      "model_name": "DescriptionStyleModel",
      "state": {
       "description_width": ""
      }
     },
     "98ff513679f0410da2bbf1b68da81d60": {
      "model_module": "@jupyter-widgets/controls",
      "model_module_version": "1.5.0",
      "model_name": "TabModel",
      "state": {
       "_titles": {
        "0": "Year",
        "1": "Month",
        "2": "Week"
       },
       "children": [
        "IPY_MODEL_e0bf15225fda4bd0937ef5dc3c2c6428",
        "IPY_MODEL_ab2c4a990a2340ad94103284b19ebb06",
        "IPY_MODEL_7f15dc0503bb403bb965861df2781573"
       ],
       "layout": "IPY_MODEL_c1f04828509940abb5edf069451c330c"
      }
     },
     "99463f114c75476ebef3d3aa86c0ace9": {
      "model_module": "@jupyter-widgets/base",
      "model_module_version": "1.2.0",
      "model_name": "LayoutModel",
      "state": {
       "justify_content": "center",
       "max_width": "250px",
       "min_width": "250px"
      }
     },
     "99a881528f62405ea2d8215adaab718c": {
      "model_module": "@jupyter-widgets/base",
      "model_module_version": "1.2.0",
      "model_name": "LayoutModel",
      "state": {
       "min_width": "auto"
      }
     },
     "9a84001f640a49daa771c6c590f8b0ec": {
      "model_module": "@jupyter-widgets/controls",
      "model_module_version": "1.5.0",
      "model_name": "LabelModel",
      "state": {
       "layout": "IPY_MODEL_c718294bef4e453199c25718334459c3",
       "style": "IPY_MODEL_d053308930ee4a69bc4bb737ab1d50ce",
       "value": "112"
      }
     },
     "9abf72854f644a3ba72aaa6edd7033dd": {
      "model_module": "@jupyter-widgets/base",
      "model_module_version": "1.2.0",
      "model_name": "LayoutModel",
      "state": {
       "margin": "0px 0px 0px 0px"
      }
     },
     "9adcb0b0460f4222aa6e2f8570be8bca": {
      "model_module": "@jupyter-widgets/controls",
      "model_module_version": "1.5.0",
      "model_name": "VBoxModel",
      "state": {
       "children": [
        "IPY_MODEL_5629d52d376e4740881ccca537926a5d",
        "IPY_MODEL_41decfcee5c04dcdb0f5550af18c61e5",
        "IPY_MODEL_29c3ef2c56074b30894acff3ba1344bc",
        "IPY_MODEL_ec1e7532a4ad47069686fa250667d29a",
        "IPY_MODEL_2e29906626c542e7b2101c9a481c584f",
        "IPY_MODEL_d5daa0bd7d2f477e91b7ff959dd11f3a",
        "IPY_MODEL_bcd6a1fbad594e16acabae155bfef3f0",
        "IPY_MODEL_627d4e6a5aad453faf804aa3334c61e6",
        "IPY_MODEL_59d97d2336fc48338405ac054e4d54a1",
        "IPY_MODEL_3dee5a95d6824904bca0b1517d2eefda"
       ],
       "layout": "IPY_MODEL_cbc881b4af5c47eba81251081a934a01"
      }
     },
     "9b507320a9474539b2d97f27496eea45": {
      "model_module": "@jupyter-widgets/controls",
      "model_module_version": "1.5.0",
      "model_name": "DescriptionStyleModel",
      "state": {
       "description_width": ""
      }
     },
     "9b9d0e9082434aad94894336a2639d02": {
      "model_module": "@jupyter-widgets/base",
      "model_module_version": "1.2.0",
      "model_name": "LayoutModel",
      "state": {
       "justify_content": "center",
       "max_width": "250px",
       "min_width": "250px"
      }
     },
     "9bba981a744e456fb14983f8d6e5a147": {
      "model_module": "@jupyter-widgets/base",
      "model_module_version": "1.2.0",
      "model_name": "LayoutModel",
      "state": {
       "max_width": "180px"
      }
     },
     "9bffd38faf024c0ca32d4408caaeb239": {
      "model_module": "@jupyter-widgets/controls",
      "model_module_version": "1.5.0",
      "model_name": "LabelModel",
      "state": {
       "layout": "IPY_MODEL_cac068d0016d417190875ea3696e5e6a",
       "style": "IPY_MODEL_8b23b98a147643a39da38e62a6ece92c",
       "value": "29"
      }
     },
     "9c25986ca5a5423da8ab2d664f655c54": {
      "model_module": "@jupyter-widgets/controls",
      "model_module_version": "1.5.0",
      "model_name": "HTMLModel",
      "state": {
       "layout": "IPY_MODEL_32ed667fd6b84941a1d33ef85543ac60",
       "style": "IPY_MODEL_e68804d3bdd245c7b3d11af662f54e64",
       "value": "<h5 style='color:#34bc6e'>True</h5>"
      }
     },
     "9c948e7347534ffb9d0aba18b5643fd9": {
      "model_module": "@jupyter-widgets/controls",
      "model_module_version": "1.5.0",
      "model_name": "GridBoxModel",
      "state": {
       "children": [
        "IPY_MODEL_c3ceede5b30144f2a6f42937f8a716e5",
        "IPY_MODEL_5cf1fbebbc0a4610ae4ebf3fafcdfde5",
        "IPY_MODEL_66780aabedc0477ca8cb4bf0e252a8e2"
       ],
       "layout": "IPY_MODEL_89aedf86c42946b8b9d62aea19fccba1"
      }
     },
     "9c9b7fda11b04221ab39c72424cf57b4": {
      "model_module": "@jupyter-widgets/controls",
      "model_module_version": "1.5.0",
      "model_name": "DescriptionStyleModel",
      "state": {
       "description_width": ""
      }
     },
     "9cae6e39f8664113870f18a6c74dec8f": {
      "model_module": "@jupyter-widgets/base",
      "model_module_version": "1.2.0",
      "model_name": "LayoutModel",
      "state": {
       "align_items": "center",
       "display": "inline-flex",
       "flex_flow": "column"
      }
     },
     "9ce02f0d3ea84d49a880a90bee552719": {
      "model_module": "@jupyter-widgets/controls",
      "model_module_version": "1.5.0",
      "model_name": "ProgressStyleModel",
      "state": {
       "bar_color": "#71cddd",
       "description_width": ""
      }
     },
     "9d445c4a934d496cb4821a376e603b42": {
      "model_module": "@jupyter-widgets/controls",
      "model_module_version": "1.5.0",
      "model_name": "HTMLModel",
      "state": {
       "layout": "IPY_MODEL_1e3e69cdefed440384f2e18f31cb6a67",
       "style": "IPY_MODEL_554a0ca64f7a4132a42ac21f483fece6",
       "value": "<h5>Message</h5>"
      }
     },
     "9d4f3f13d6f5483b8aeabec9e6504676": {
      "model_module": "@jupyter-widgets/base",
      "model_module_version": "1.2.0",
      "model_name": "LayoutModel",
      "state": {
       "align_items": "center",
       "justify_content": "center",
       "margin": "0px 0px 0px 0px",
       "max_height": "250px",
       "max_width": "250px",
       "min_height": "250px",
       "min_width": "250px"
      }
     },
     "9e1422e0e35c478498aa65159cce6863": {
      "model_module": "@jupyter-widgets/controls",
      "model_module_version": "1.5.0",
      "model_name": "HTMLModel",
      "state": {
       "layout": "IPY_MODEL_4b4549e1cff242399591805b6bdd74d0",
       "style": "IPY_MODEL_7f41e538857f42669de3fea7f9a5d0d3",
       "value": "<table><style>\ntable {\n    border-collapse: collapse;\n    width: auto;\n}\n\nth, td {\n    text-align: left;\n    padding: 8px;\n}\n\ntr:nth-child(even) {background-color: #f6f6f6;};\n</style><tr><th></th><th>Type</th><th>Gate error</th></tr><tr><td><font style='font-weight:bold'>cx5_6</font></td><td>cx</td><td>0.01155</td></tr><tr><td><font style='font-weight:bold'>cx6_5</font></td><td>cx</td><td>0.01155</td></tr><tr><td><font style='font-weight:bold'>cx4_5</font></td><td>cx</td><td>0.01126</td></tr><tr><td><font style='font-weight:bold'>cx5_4</font></td><td>cx</td><td>0.01126</td></tr></table>"
      }
     },
     "9ee389b08a804832aa0c80417391ba25": {
      "model_module": "@jupyter-widgets/controls",
      "model_module_version": "1.5.0",
      "model_name": "HTMLModel",
      "state": {
       "layout": "IPY_MODEL_a3ef6484bbd34026ad2eaa340d853b35",
       "style": "IPY_MODEL_e7fcb3a580914084bd6b27e448345c83",
       "value": "<font style='color:#34BC6E'>DONE</font>"
      }
     },
     "9f057d015b564bb49c526c24f298f3c1": {
      "model_module": "@jupyter-widgets/controls",
      "model_module_version": "1.5.0",
      "model_name": "HTMLModel",
      "state": {
       "layout": "IPY_MODEL_22d1f6adbd254536bcaa88ec7c7a9005",
       "style": "IPY_MODEL_8dbc778e3c9b49a4bf5f985c624e4b21",
       "value": "6140e3b6f020e8795c6bac04"
      }
     },
     "9f124bac478d4b018e1fb3af4dfb7063": {
      "model_module": "@jupyter-widgets/controls",
      "model_module_version": "1.5.0",
      "model_name": "LabelModel",
      "state": {
       "layout": "IPY_MODEL_f950eabe183644b4b482e3bf9a6743f8",
       "style": "IPY_MODEL_fbc0bfe4ff7544efaec69955b19ef02e",
       "value": "20"
      }
     },
     "9f13b1cbbb4643e484ba70b4217c64fe": {
      "model_module": "@jupyter-widgets/controls",
      "model_module_version": "1.5.0",
      "model_name": "HTMLModel",
      "state": {
       "layout": "IPY_MODEL_830814ac38864d38bcf53090fea26783",
       "style": "IPY_MODEL_405c19edc9da4bd7a457140d71c07808",
       "value": "<h5>97.6 / 90.7 us</h5>"
      }
     },
     "9fdc3ad8dd9540fd865d07042cf7eef8": {
      "model_module": "@jupyter-widgets/controls",
      "model_module_version": "1.5.0",
      "model_name": "IntProgressModel",
      "state": {
       "layout": "IPY_MODEL_ecb7792bc8ec45beb19b454f470b2ea2",
       "max": 112,
       "style": "IPY_MODEL_a04d8d0c61e44d14837bd043df409d27",
       "value": 20
      }
     },
     "9fe74b9192034f8da167d46e4f876895": {
      "model_module": "@jupyter-widgets/controls",
      "model_module_version": "1.5.0",
      "model_name": "DescriptionStyleModel",
      "state": {
       "description_width": ""
      }
     },
     "a03738cb766442c3b64a9dd3e9d7d0ba": {
      "model_module": "@jupyter-widgets/controls",
      "model_module_version": "1.5.0",
      "model_name": "HTMLModel",
      "state": {
       "layout": "IPY_MODEL_6dad5bf48f2443b6b721038a1c80a119",
       "style": "IPY_MODEL_b22d48ec8ce74cefaec04956e684271b",
       "value": "<h5>32</h5>"
      }
     },
     "a04d8d0c61e44d14837bd043df409d27": {
      "model_module": "@jupyter-widgets/controls",
      "model_module_version": "1.5.0",
      "model_name": "ProgressStyleModel",
      "state": {
       "bar_color": "#71cddd",
       "description_width": ""
      }
     },
     "a066df9cda2549ee9a1a3685d5613615": {
      "model_module": "@jupyter-widgets/controls",
      "model_module_version": "1.5.0",
      "model_name": "DescriptionStyleModel",
      "state": {
       "description_width": ""
      }
     },
     "a0bab2838bc54846ae3dfb0d7d5e002a": {
      "model_module": "@jupyter-widgets/base",
      "model_module_version": "1.2.0",
      "model_name": "LayoutModel",
      "state": {
       "justify_content": "center"
      }
     },
     "a0ec4ed0826d4262a284e0a8d34bcb3f": {
      "model_module": "@jupyter-widgets/base",
      "model_module_version": "1.2.0",
      "model_name": "LayoutModel",
      "state": {
       "justify_content": "center"
      }
     },
     "a10e14704e4c44d5b829090856e8fdb0": {
      "model_module": "@jupyter-widgets/base",
      "model_module_version": "1.2.0",
      "model_name": "LayoutModel",
      "state": {
       "margin": "8px 0px 0px 0px"
      }
     },
     "a119de3cc3754f4eae299e09170b3e3a": {
      "model_module": "@jupyter-widgets/base",
      "model_module_version": "1.2.0",
      "model_name": "LayoutModel",
      "state": {
       "min_width": "auto"
      }
     },
     "a1f4bb92eaa3452d845deeac1d73e940": {
      "model_module": "@jupyter-widgets/controls",
      "model_module_version": "1.5.0",
      "model_name": "LabelModel",
      "state": {
       "layout": "IPY_MODEL_c9b5c0fcbc9e40c0b7c6ff85ba06e092",
       "style": "IPY_MODEL_e5e3827a47e441ae92edd8ccb7ec898f",
       "value": "5"
      }
     },
     "a2f412d761c74471b1d32558f9c423f0": {
      "model_module": "@jupyter-widgets/controls",
      "model_module_version": "1.5.0",
      "model_name": "DescriptionStyleModel",
      "state": {
       "description_width": ""
      }
     },
     "a3014ec688444849b7eee50144b7b856": {
      "model_module": "@jupyter-widgets/base",
      "model_module_version": "1.2.0",
      "model_name": "LayoutModel",
      "state": {
       "max_width": "700px",
       "min_width": "700px"
      }
     },
     "a328801fcd2947d6a77ae21140028530": {
      "model_module": "@jupyter-widgets/base",
      "model_module_version": "1.2.0",
      "model_name": "LayoutModel",
      "state": {}
     },
     "a36b572089164928b8697bdafd5ca369": {
      "model_module": "@jupyter-widgets/controls",
      "model_module_version": "1.5.0",
      "model_name": "DescriptionStyleModel",
      "state": {
       "description_width": ""
      }
     },
     "a385f0a78e424a5aa783f08bd0f9640b": {
      "model_module": "@jupyter-widgets/controls",
      "model_module_version": "1.5.0",
      "model_name": "HTMLModel",
      "state": {
       "layout": "IPY_MODEL_11fe8dc1f8654c0593a2b9ce76e0bf2d",
       "style": "IPY_MODEL_0feff7b1a3ac4abbacc3078a51ecf7ca",
       "value": "<h4>ibmq_quito</h4>"
      }
     },
     "a39c1a91cda94aa6b4ca1ff992f765ac": {
      "model_module": "@jupyter-widgets/base",
      "model_module_version": "1.2.0",
      "model_name": "LayoutModel",
      "state": {
       "min_width": "auto"
      }
     },
     "a3c3a5fd62914c64ba823fde032bc7da": {
      "model_module": "@jupyter-widgets/base",
      "model_module_version": "1.2.0",
      "model_name": "LayoutModel",
      "state": {
       "justify_content": "center",
       "max_width": "250px",
       "min_width": "250px"
      }
     },
     "a3ef6484bbd34026ad2eaa340d853b35": {
      "model_module": "@jupyter-widgets/base",
      "model_module_version": "1.2.0",
      "model_name": "LayoutModel",
      "state": {
       "width": "95px"
      }
     },
     "a40c8a102d00470293c9a15c38baacb0": {
      "model_module": "@jupyter-widgets/controls",
      "model_module_version": "1.5.0",
      "model_name": "VBoxModel",
      "state": {
       "children": [
        "IPY_MODEL_85ffb86cd59040559fc309184cecd42f",
        "IPY_MODEL_4e736d98921649b4bcb0fbe47c9d05b5",
        "IPY_MODEL_59dabca8c02e47c2803485070ec97005",
        "IPY_MODEL_2616d20fbed64856bef7aa871fd65eef",
        "IPY_MODEL_c6e6a3882c4a497e976d908ef7aad07b",
        "IPY_MODEL_909447f488104b2ab1c9b5340b725182",
        "IPY_MODEL_b53397b600264249aec108c8f05d9601",
        "IPY_MODEL_847d936357e74c14b696ff4abbaabed2",
        "IPY_MODEL_e01a69fb650b4d4f984d96d4b63d5299",
        "IPY_MODEL_72f1895864e44c3eacd4e2352c6f5a05"
       ],
       "layout": "IPY_MODEL_6fa0fb0901f64e17a1f0fc02e5ad51ba"
      }
     },
     "a439cf4367df4ccaada0f66309814f07": {
      "model_module": "@jupyter-widgets/controls",
      "model_module_version": "1.5.0",
      "model_name": "LabelModel",
      "state": {
       "layout": "IPY_MODEL_fe5480cf468d4f828d22fb99fbfead61",
       "style": "IPY_MODEL_c836cbffaaaa4cba983a106cf0500d3a",
       "value": "50"
      }
     },
     "a4c8aeede2674f709c04a01e66170cad": {
      "model_module": "@jupyter-widgets/base",
      "model_module_version": "1.2.0",
      "model_name": "LayoutModel",
      "state": {
       "align_items": "center",
       "justify_content": "center",
       "margin": "0px 0px 0px 0px",
       "max_height": "250px",
       "max_width": "250px",
       "min_height": "250px",
       "min_width": "250px"
      }
     },
     "a4f05b83cb944e1ca3b9f3d5c72991d9": {
      "model_module": "@jupyter-widgets/controls",
      "model_module_version": "1.5.0",
      "model_name": "HTMLModel",
      "state": {
       "layout": "IPY_MODEL_6dc684f427fd400d89251845c893caf2",
       "style": "IPY_MODEL_f002b5eee5af453abfe116d821fffcbd",
       "value": "<h5>0.0131</h5>"
      }
     },
     "a50c0f1fdc9d42689bc7066c2d438cb5": {
      "model_module": "@jupyter-widgets/base",
      "model_module_version": "1.2.0",
      "model_name": "LayoutModel",
      "state": {}
     },
     "a50f3744ffcf445e9d00a0d49addbb02": {
      "model_module": "@jupyter-widgets/base",
      "model_module_version": "1.2.0",
      "model_name": "LayoutModel",
      "state": {
       "align_items": "center",
       "justify_content": "center",
       "margin": "0px 0px 0px 0px",
       "max_height": "250px",
       "max_width": "250px",
       "min_height": "250px",
       "min_width": "250px"
      }
     },
     "a5495e1c033c4623b40a42db3c09e506": {
      "model_module": "@jupyter-widgets/base",
      "model_module_version": "1.2.0",
      "model_name": "LayoutModel",
      "state": {
       "margin": "0px 0px 0px 0px"
      }
     },
     "a58a890be56948f69211632532aa118a": {
      "model_module": "@jupyter-widgets/controls",
      "model_module_version": "1.5.0",
      "model_name": "DescriptionStyleModel",
      "state": {
       "description_width": ""
      }
     },
     "a5a7adb053684e43a9cb21846eb49083": {
      "model_module": "@jupyter-widgets/base",
      "model_module_version": "1.2.0",
      "model_name": "LayoutModel",
      "state": {}
     },
     "a61e9ebf641d484aa592b1087bd8dba5": {
      "model_module": "@jupyter-widgets/controls",
      "model_module_version": "1.5.0",
      "model_name": "LabelModel",
      "state": {
       "layout": "IPY_MODEL_1a5c81c05f6a4c2883f7bf78f7b407f3",
       "style": "IPY_MODEL_46d8967245664edea79c37585d80e503",
       "value": "157"
      }
     },
     "a6a55c110ded4180aac259b65267d8d5": {
      "model_module": "@jupyter-widgets/base",
      "model_module_version": "1.2.0",
      "model_name": "LayoutModel",
      "state": {
       "max_width": "180px"
      }
     },
     "a71d77c6a05a4e06a47ec3325e571f5c": {
      "model_module": "@jupyter-widgets/controls",
      "model_module_version": "1.5.0",
      "model_name": "DescriptionStyleModel",
      "state": {
       "description_width": ""
      }
     },
     "a77d31e61bc149a190e30136830264ab": {
      "model_module": "@jupyter-widgets/controls",
      "model_module_version": "1.5.0",
      "model_name": "HBoxModel",
      "state": {
       "children": [
        "IPY_MODEL_a61e9ebf641d484aa592b1087bd8dba5",
        "IPY_MODEL_ebf47f22869b4f2280329ae9fd2b1138",
        "IPY_MODEL_23bd6d7e3962405b834b8f1b5e2ab89f"
       ],
       "layout": "IPY_MODEL_6df2252431284890a147527b97425c8c"
      }
     },
     "a840a5025b0947329acbfdb16a511db4": {
      "model_module": "@jupyter-widgets/controls",
      "model_module_version": "1.5.0",
      "model_name": "HTMLModel",
      "state": {
       "layout": "IPY_MODEL_a328801fcd2947d6a77ae21140028530",
       "style": "IPY_MODEL_dfe69206d9114928b0c248c39c128130",
       "value": "<h5>0.0068</h5>"
      }
     },
     "a84b20d9c4314694afb4b9185ffc2ece": {
      "model_module": "@jupyter-widgets/controls",
      "model_module_version": "1.5.0",
      "model_name": "DescriptionStyleModel",
      "state": {
       "description_width": ""
      }
     },
     "a86bc62f76944d7b8eb10208c8b18766": {
      "model_module": "@jupyter-widgets/controls",
      "model_module_version": "1.5.0",
      "model_name": "LabelModel",
      "state": {
       "layout": "IPY_MODEL_cd37206707cc435cbc240bd16a1f2789",
       "style": "IPY_MODEL_4b372fef87aa4ad29302c577a86b3abc",
       "value": "0"
      }
     },
     "a8d6a37a435347a6ad399c1226b76bf5": {
      "model_module": "@jupyter-widgets/base",
      "model_module_version": "1.2.0",
      "model_name": "LayoutModel",
      "state": {}
     },
     "a93e957030cf44b58325398e25c4466b": {
      "model_module": "@jupyter-widgets/base",
      "model_module_version": "1.2.0",
      "model_name": "LayoutModel",
      "state": {}
     },
     "aa88df42fbee45e683aad38b9c449892": {
      "model_module": "@jupyter-widgets/base",
      "model_module_version": "1.2.0",
      "model_name": "LayoutModel",
      "state": {
       "margin": "0px 0px 10px 0px"
      }
     },
     "aab3f72902f940e6a72735213341188a": {
      "model_module": "@jupyter-widgets/controls",
      "model_module_version": "1.5.0",
      "model_name": "DescriptionStyleModel",
      "state": {
       "description_width": ""
      }
     },
     "aac6be6042fd482aafb1563ed7f13df8": {
      "model_module": "@jupyter-widgets/controls",
      "model_module_version": "1.5.0",
      "model_name": "HTMLModel",
      "state": {
       "layout": "IPY_MODEL_18b013ea1b3e4b7a91aa0b6369a48092",
       "style": "IPY_MODEL_5c19302acce54419921853ddbd42f454",
       "value": "<table><style>\ntable {\n    border-collapse: collapse;\n    width: auto;\n}\n\nth, td {\n    text-align: left;\n    padding: 8px;\n}\n\ntr:nth-child(even) {background-color: #f6f6f6;};\n</style><tr><th></th><th>Type</th><th>Gate error</th></tr><tr><td><font style='font-weight:bold'>cx7_8</font></td><td>cx</td><td>0.01868</td></tr><tr><td><font style='font-weight:bold'>cx7_12</font></td><td>cx</td><td>0.02643</td></tr><tr><td><font style='font-weight:bold'>cx8_7</font></td><td>cx</td><td>0.01868</td></tr><tr><td><font style='font-weight:bold'>cx8_9</font></td><td>cx</td><td>0.02868</td></tr><tr><td><font style='font-weight:bold'>cx9_4</font></td><td>cx</td><td>0.02049</td></tr><tr><td><font style='font-weight:bold'>cx9_8</font></td><td>cx</td><td>0.02868</td></tr><tr><td><font style='font-weight:bold'>cx9_14</font></td><td>cx</td><td>0.03955</td></tr><tr><td><font style='font-weight:bold'>cx10_5</font></td><td>cx</td><td>0.03206</td></tr><tr><td><font style='font-weight:bold'>cx10_11</font></td><td>cx</td><td>0.01839</td></tr><tr><td><font style='font-weight:bold'>cx10_15</font></td><td>cx</td><td>0.02979</td></tr><tr><td><font style='font-weight:bold'>cx11_10</font></td><td>cx</td><td>0.01839</td></tr><tr><td><font style='font-weight:bold'>cx11_12</font></td><td>cx</td><td>0.02652</td></tr><tr><td><font style='font-weight:bold'>cx12_7</font></td><td>cx</td><td>0.02643</td></tr><tr><td><font style='font-weight:bold'>cx12_11</font></td><td>cx</td><td>0.02652</td></tr><tr><td><font style='font-weight:bold'>cx12_13</font></td><td>cx</td><td>0.01666</td></tr></table>"
      }
     },
     "ab15148f146e4a65af48ff3ab79328b9": {
      "model_module": "@jupyter-widgets/controls",
      "model_module_version": "1.5.0",
      "model_name": "DescriptionStyleModel",
      "state": {
       "description_width": ""
      }
     },
     "ab2c4a990a2340ad94103284b19ebb06": {
      "model_module": "@jupyter-widgets/output",
      "model_module_version": "1.0.0",
      "model_name": "OutputModel",
      "state": {
       "layout": "IPY_MODEL_3fb1cf1a94d14a0fb6bb6fb5bf88b62d"
      }
     },
     "aba6d75719ba4d28b3fa7004f94aff08": {
      "model_module": "@jupyter-widgets/controls",
      "model_module_version": "1.5.0",
      "model_name": "DescriptionStyleModel",
      "state": {
       "description_width": ""
      }
     },
     "ac394b93b64c47cea56bc1c0b43bb830": {
      "model_module": "@jupyter-widgets/controls",
      "model_module_version": "1.5.0",
      "model_name": "HBoxModel",
      "state": {
       "children": [
        "IPY_MODEL_d7f8ba48e1ac438f898d0a47a3ba100e",
        "IPY_MODEL_7eda8b76ddb54cecbb750bee1a11a942",
        "IPY_MODEL_25f962197acc4fc8962de62ed42c4570",
        "IPY_MODEL_9ee389b08a804832aa0c80417391ba25",
        "IPY_MODEL_fe58203381734eb5a1e0b662af900b56",
        "IPY_MODEL_272b8d31d9ea410e9a7f98202e638f2a"
       ],
       "layout": "IPY_MODEL_a3014ec688444849b7eee50144b7b856"
      }
     },
     "ac5f2181c69d4f9a97a8e5736696c9c3": {
      "model_module": "@jupyter-widgets/controls",
      "model_module_version": "1.5.0",
      "model_name": "HTMLModel",
      "state": {
       "layout": "IPY_MODEL_3ccab7d33d414bb895cbc2eb7f174c39",
       "style": "IPY_MODEL_811109d6a9214e55be6cecdd0fefce84",
       "value": "<h5 style='color:#dc267f'>False</h5>"
      }
     },
     "ac6c1b7c20194e5ea9b0a3ac1ec4ab39": {
      "model_module": "@jupyter-widgets/base",
      "model_module_version": "1.2.0",
      "model_name": "LayoutModel",
      "state": {
       "max_width": "700px",
       "min_width": "700px"
      }
     },
     "ac92779afdbf428db915ec2bc36b9226": {
      "model_module": "@jupyter-widgets/base",
      "model_module_version": "1.2.0",
      "model_name": "LayoutModel",
      "state": {
       "justify_content": "center",
       "max_width": "250px",
       "min_width": "250px"
      }
     },
     "ac99de01138e48bfb6ae7b8021bf2135": {
      "model_module": "@jupyter-widgets/controls",
      "model_module_version": "1.5.0",
      "model_name": "HTMLModel",
      "state": {
       "layout": "IPY_MODEL_536e186a99a742dca9fdbfe6697a03b8",
       "style": "IPY_MODEL_4637af55e439433a83d97583ff425b9a",
       "value": "<h4>ibm_perth</h4>"
      }
     },
     "acead85c068d463688b491d82c0be0e0": {
      "model_module": "@jupyter-widgets/output",
      "model_module_version": "1.0.0",
      "model_name": "OutputModel",
      "state": {
       "layout": "IPY_MODEL_7049390ede874aa8a24067d15376235a",
       "outputs": [
        {
         "data": {
          "image/png": "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\n",
          "text/plain": "<Figure size 396x396 with 1 Axes>"
         },
         "metadata": {},
         "output_type": "display_data"
        }
       ]
      }
     },
     "ad9d229fd7b64210810b5d1a3ebaefee": {
      "model_module": "@jupyter-widgets/base",
      "model_module_version": "1.2.0",
      "model_name": "LayoutModel",
      "state": {
       "margin": "295px 0px 0px 0px",
       "min_width": "100px"
      }
     },
     "ada4872b7bbd4a5dba0c210120d64ec8": {
      "model_module": "@jupyter-widgets/base",
      "model_module_version": "1.2.0",
      "model_name": "LayoutModel",
      "state": {}
     },
     "adb6ece1d8864bf1aad91ecc914dc188": {
      "model_module": "@jupyter-widgets/controls",
      "model_module_version": "1.5.0",
      "model_name": "HTMLModel",
      "state": {
       "layout": "IPY_MODEL_0e59a50117ff454796059eda07a162ad",
       "style": "IPY_MODEL_4225641f198345ecbfe06316f91881fa",
       "value": "<h4>ibmq_manila</h4>"
      }
     },
     "adfccc002384484e8bdd4f8965e3f13e": {
      "model_module": "@jupyter-widgets/controls",
      "model_module_version": "1.5.0",
      "model_name": "HTMLModel",
      "state": {
       "layout": "IPY_MODEL_12b656415f574f85949bb19ab8e5248b",
       "style": "IPY_MODEL_90cb082106964f04b174a9a06d00436d",
       "value": "<h5 style='color:#dc267f'>False</h5>"
      }
     },
     "ae2085312a164bfebf5f17d3861e4ec9": {
      "model_module": "@jupyter-widgets/controls",
      "model_module_version": "1.5.0",
      "model_name": "DescriptionStyleModel",
      "state": {
       "description_width": ""
      }
     },
     "ae3d2462f3e14596bf6e1ae41a358903": {
      "model_module": "@jupyter-widgets/controls",
      "model_module_version": "1.5.0",
      "model_name": "HTMLModel",
      "state": {
       "layout": "IPY_MODEL_c8e5012cf3424d879e36ba8cfe0b290f",
       "style": "IPY_MODEL_86cc3a22d27e4ce79279be16582b155c",
       "value": "<h5>92.7 / 135.3 us</h5>"
      }
     },
     "ae530f20db474fb2b7169339de120419": {
      "model_module": "@jupyter-widgets/base",
      "model_module_version": "1.2.0",
      "model_name": "LayoutModel",
      "state": {}
     },
     "aeb406e4c24149b0a3e0e0ac30031758": {
      "model_module": "@jupyter-widgets/controls",
      "model_module_version": "1.5.0",
      "model_name": "IntProgressModel",
      "state": {
       "layout": "IPY_MODEL_3633aec7be7745e09f70a821fb3b6781",
       "max": 249,
       "style": "IPY_MODEL_4ab354d60fd14d089863cb2373eae5df",
       "value": 100
      }
     },
     "af39e8cd1cce4f7dba4980075a16f985": {
      "model_module": "@jupyter-widgets/base",
      "model_module_version": "1.2.0",
      "model_name": "LayoutModel",
      "state": {
       "align_items": "center",
       "display": "flex-inline",
       "min_height": "400px"
      }
     },
     "b07c592948d047fdb9336dbd297462ff": {
      "model_module": "@jupyter-widgets/base",
      "model_module_version": "1.2.0",
      "model_name": "LayoutModel",
      "state": {
       "align_items": "center",
       "display": "inline-flex",
       "flex_flow": "column"
      }
     },
     "b098948b12c345ecbb374c491ac785fc": {
      "model_module": "@jupyter-widgets/controls",
      "model_module_version": "1.5.0",
      "model_name": "HTMLModel",
      "state": {
       "layout": "IPY_MODEL_25d5dd5a298546e28eb91ab1ea142e58",
       "style": "IPY_MODEL_841d0f7b4fea44458254375bc24c410e",
       "value": "<h5>0.0366</h5>"
      }
     },
     "b0c1d5005de5402cacc50cefbade0426": {
      "model_module": "@jupyter-widgets/base",
      "model_module_version": "1.2.0",
      "model_name": "LayoutModel",
      "state": {
       "min_width": "auto"
      }
     },
     "b0e103fcd2434209976d91c66391df0f": {
      "model_module": "@jupyter-widgets/base",
      "model_module_version": "1.2.0",
      "model_name": "LayoutModel",
      "state": {
       "justify_content": "center"
      }
     },
     "b0f361b141234618afbd9412926c163e": {
      "model_module": "@jupyter-widgets/controls",
      "model_module_version": "1.5.0",
      "model_name": "HTMLModel",
      "state": {
       "layout": "IPY_MODEL_6e41322bcf1e4395a9c05254920bb197",
       "style": "IPY_MODEL_2207e6fc8da64099b78ac39e4e636d95",
       "value": "<h5 style='color:#dc267f'>False</h5>"
      }
     },
     "b20d0499c5394e89a5579095f2277d1f": {
      "model_module": "@jupyter-widgets/base",
      "model_module_version": "1.2.0",
      "model_name": "LayoutModel",
      "state": {
       "align_items": "center",
       "display": "inline-flex",
       "flex_flow": "column"
      }
     },
     "b22d48ec8ce74cefaec04956e684271b": {
      "model_module": "@jupyter-widgets/controls",
      "model_module_version": "1.5.0",
      "model_name": "DescriptionStyleModel",
      "state": {
       "description_width": ""
      }
     },
     "b254bb2efcca47d995f472e82bf61213": {
      "model_module": "@jupyter-widgets/controls",
      "model_module_version": "1.5.0",
      "model_name": "DescriptionStyleModel",
      "state": {
       "description_width": ""
      }
     },
     "b25d17a6fe024f709d134d293a882b78": {
      "model_module": "@jupyter-widgets/controls",
      "model_module_version": "1.5.0",
      "model_name": "VBoxModel",
      "state": {
       "children": [
        "IPY_MODEL_da547344a23f488b824fb67248208fd1",
        "IPY_MODEL_2ff4a78775b74a4d8fedbd07cd68aaba"
       ],
       "layout": "IPY_MODEL_32b677b0d545459a8f0c7180b919f562"
      }
     },
     "b26dfd5d379549f5ae947e50cbacce0f": {
      "model_module": "@jupyter-widgets/controls",
      "model_module_version": "1.5.0",
      "model_name": "HTMLModel",
      "state": {
       "layout": "IPY_MODEL_05dc34515d2044d0a69d29cf0c0fd39d",
       "style": "IPY_MODEL_742b18c7a34e4e3f87b5952364adc249",
       "value": "<h5 style='color:#34bc6e'>True</h5>"
      }
     },
     "b35775cc9fd14d4b96554a1485599c5c": {
      "model_module": "@jupyter-widgets/base",
      "model_module_version": "1.2.0",
      "model_name": "LayoutModel",
      "state": {
       "align_items": "center",
       "justify_content": "center",
       "margin": "0px 0px 0px 0px",
       "max_height": "250px",
       "max_width": "250px",
       "min_height": "250px",
       "min_width": "250px"
      }
     },
     "b3c0b83c518d4ee19b37c7aabc41e4cb": {
      "model_module": "@jupyter-widgets/base",
      "model_module_version": "1.2.0",
      "model_name": "LayoutModel",
      "state": {}
     },
     "b3cb5b78943d481999f3ff4b3da43fac": {
      "model_module": "@jupyter-widgets/controls",
      "model_module_version": "1.5.0",
      "model_name": "LabelModel",
      "state": {
       "layout": "IPY_MODEL_97366b6e2e694982aeffa1013552e38f",
       "style": "IPY_MODEL_6a38d437f3ce498d9c69392e3f5c5c58",
       "value": "Quantum Vol."
      }
     },
     "b40ac29505b64fbe94a7d8588273f2d1": {
      "model_module": "@jupyter-widgets/controls",
      "model_module_version": "1.5.0",
      "model_name": "HBoxModel",
      "state": {
       "children": [
        "IPY_MODEL_1c80461d099f4a83ab63cbb3375a1a39",
        "IPY_MODEL_e6e4387279d042398ca455cda97eb8c7",
        "IPY_MODEL_69488eb3d9344ee8a15d3f5b48467270",
        "IPY_MODEL_35de3241124a4aeba3266ab8b6763d49",
        "IPY_MODEL_9d445c4a934d496cb4821a376e603b42"
       ],
       "layout": "IPY_MODEL_69191319c67546b1afd73af07bdd6d98"
      }
     },
     "b4a671d645ad4c5bb71fc3ee16920948": {
      "model_module": "@jupyter-widgets/controls",
      "model_module_version": "1.5.0",
      "model_name": "HTMLModel",
      "state": {
       "layout": "IPY_MODEL_24a202ecd06a4f78a814f3b4358e7265",
       "style": "IPY_MODEL_7f2cd80f7a33422784170037202ba880",
       "value": "<h5>0.0217</h5>"
      }
     },
     "b51d9547911d46898eaf625860327805": {
      "model_module": "@jupyter-widgets/controls",
      "model_module_version": "1.5.0",
      "model_name": "DescriptionStyleModel",
      "state": {
       "description_width": ""
      }
     },
     "b53397b600264249aec108c8f05d9601": {
      "model_module": "@jupyter-widgets/controls",
      "model_module_version": "1.5.0",
      "model_name": "HTMLModel",
      "state": {
       "layout": "IPY_MODEL_cbabf197af6948dc9acecb2a53a57ad2",
       "style": "IPY_MODEL_92004b54ea88470cab53db32a9511b67",
       "value": "<h5 style='color:#dc267f'>False</h5>"
      }
     },
     "b55214ef9bfe47bd8cf5dd423140b685": {
      "model_module": "@jupyter-widgets/base",
      "model_module_version": "1.2.0",
      "model_name": "LayoutModel",
      "state": {
       "min_width": "auto"
      }
     },
     "b56246453f0b4f32b01f259bb3d0b8d0": {
      "model_module": "@jupyter-widgets/controls",
      "model_module_version": "1.5.0",
      "model_name": "HTMLModel",
      "state": {
       "layout": "IPY_MODEL_20074c93a3764900801c85369d089431",
       "style": "IPY_MODEL_98cd3c05558b4746ac630a5ee7368e8c",
       "value": "<h5>0.016</h5>"
      }
     },
     "b566f14c06fe44b2a1259b9b8f702d30": {
      "model_module": "@jupyter-widgets/base",
      "model_module_version": "1.2.0",
      "model_name": "LayoutModel",
      "state": {
       "justify_content": "center"
      }
     },
     "b57b1a9e1bdc48e2bb6ba07fa7c146bf": {
      "model_module": "@jupyter-widgets/controls",
      "model_module_version": "1.5.0",
      "model_name": "DescriptionStyleModel",
      "state": {
       "description_width": ""
      }
     },
     "b5948a74fffd4794b5b652e02959d34e": {
      "model_module": "@jupyter-widgets/output",
      "model_module_version": "1.0.0",
      "model_name": "OutputModel",
      "state": {
       "layout": "IPY_MODEL_817a7fe5a9f24137a5355f8909646dcc",
       "outputs": [
        {
         "data": {
          "image/png": "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\n",
          "text/plain": "<Figure size 360x360 with 1 Axes>"
         },
         "metadata": {},
         "output_type": "display_data"
        }
       ]
      }
     },
     "b5b52e1a9ad2432b987fb82ae9067e33": {
      "model_module": "@jupyter-widgets/base",
      "model_module_version": "1.2.0",
      "model_name": "LayoutModel",
      "state": {}
     },
     "b6a8a7955ebf4aff92b07d649c57d0ec": {
      "model_module": "@jupyter-widgets/base",
      "model_module_version": "1.2.0",
      "model_name": "LayoutModel",
      "state": {
       "margin": "0px 0px 0px 0px"
      }
     },
     "b6b40826bb9441268bf438a406ed6a3b": {
      "model_module": "@jupyter-widgets/controls",
      "model_module_version": "1.5.0",
      "model_name": "DescriptionStyleModel",
      "state": {
       "description_width": ""
      }
     },
     "b7833e98c4fd4b3ba2a931c9d21c1ac4": {
      "model_module": "@jupyter-widgets/controls",
      "model_module_version": "1.5.0",
      "model_name": "DescriptionStyleModel",
      "state": {
       "description_width": ""
      }
     },
     "b79c068a43024774a9dec8720fcea593": {
      "model_module": "@jupyter-widgets/controls",
      "model_module_version": "1.5.0",
      "model_name": "DescriptionStyleModel",
      "state": {
       "description_width": ""
      }
     },
     "b7b2deeb8a9a47e3a0f575cedcbcf35f": {
      "model_module": "@jupyter-widgets/base",
      "model_module_version": "1.2.0",
      "model_name": "LayoutModel",
      "state": {}
     },
     "b7f3bcb8158548fba9654f7904efcd56": {
      "model_module": "@jupyter-widgets/base",
      "model_module_version": "1.2.0",
      "model_name": "LayoutModel",
      "state": {
       "justify_content": "center"
      }
     },
     "b84dedc92cd24e3b845d79b5c7e4b51c": {
      "model_module": "@jupyter-widgets/controls",
      "model_module_version": "1.5.0",
      "model_name": "HTMLModel",
      "state": {
       "layout": "IPY_MODEL_f89a642879ac42e3a6c66ade4747f3df",
       "style": "IPY_MODEL_e7a468dbb3924d2daa4a28b315caf5e4",
       "value": "<h5><b>5</b></h5>"
      }
     },
     "b884b25a955f4986a6aeea025a9396ae": {
      "model_module": "@jupyter-widgets/controls",
      "model_module_version": "1.5.0",
      "model_name": "HBoxModel",
      "state": {
       "children": [
        "IPY_MODEL_9bffd38faf024c0ca32d4408caaeb239",
        "IPY_MODEL_e2c82523db3649498a10d74e33990adc",
        "IPY_MODEL_5b9d3e12e5f54eeb89dba127b79ecaa8"
       ],
       "layout": "IPY_MODEL_d190e2cd39b2425e84b951b52cca317e"
      }
     },
     "b8b2d8cb5a2848589596fc99cdd2e0bf": {
      "model_module": "@jupyter-widgets/controls",
      "model_module_version": "1.5.0",
      "model_name": "DescriptionStyleModel",
      "state": {
       "description_width": ""
      }
     },
     "b961275774364534b3970e7e9f9a1ae5": {
      "model_module": "@jupyter-widgets/base",
      "model_module_version": "1.2.0",
      "model_name": "LayoutModel",
      "state": {
       "justify_content": "center"
      }
     },
     "b96e1b263ff54d258b29715e8889fc05": {
      "model_module": "@jupyter-widgets/base",
      "model_module_version": "1.2.0",
      "model_name": "LayoutModel",
      "state": {
       "width": "145px"
      }
     },
     "b979bd286a2d48c2b3a93a8c3d507e30": {
      "model_module": "@jupyter-widgets/controls",
      "model_module_version": "1.5.0",
      "model_name": "HTMLModel",
      "state": {
       "layout": "IPY_MODEL_3d0145aa111b439ba1c1a94999d224dc",
       "style": "IPY_MODEL_884c2c340601492c97fdb5c6febef1ed",
       "value": "<h5 style='color:#dc267f'>False</h5>"
      }
     },
     "b9b91e4ade3745a6b649f1a773be1178": {
      "model_module": "@jupyter-widgets/base",
      "model_module_version": "1.2.0",
      "model_name": "LayoutModel",
      "state": {}
     },
     "b9f509a508b54de8a0f3d11c6241e849": {
      "model_module": "@jupyter-widgets/base",
      "model_module_version": "1.2.0",
      "model_name": "LayoutModel",
      "state": {
       "margin": "10px 0px 0px 0px"
      }
     },
     "ba322ad837a549c9b906189812bfbcef": {
      "model_module": "@jupyter-widgets/controls",
      "model_module_version": "1.5.0",
      "model_name": "LabelModel",
      "state": {
       "layout": "IPY_MODEL_ba73bc1a0f004b58927de746dfabfbdb",
       "style": "IPY_MODEL_b7833e98c4fd4b3ba2a931c9d21c1ac4",
       "value": "20"
      }
     },
     "ba4ac7cd807c4d869f5d205e66282bdb": {
      "model_module": "@jupyter-widgets/controls",
      "model_module_version": "1.5.0",
      "model_name": "HTMLModel",
      "state": {
       "layout": "IPY_MODEL_467a4a2a9587450ea08df63a6af9ceed",
       "style": "IPY_MODEL_4e74e3c9415f49b8a33fb95b8445b716",
       "value": "<h5>0.0117</h5>"
      }
     },
     "ba73bc1a0f004b58927de746dfabfbdb": {
      "model_module": "@jupyter-widgets/base",
      "model_module_version": "1.2.0",
      "model_name": "LayoutModel",
      "state": {
       "min_width": "auto"
      }
     },
     "baad910b48764fc1b71a19075f0c2ae3": {
      "model_module": "@jupyter-widgets/controls",
      "model_module_version": "1.5.0",
      "model_name": "HBoxModel",
      "state": {
       "children": [
        "IPY_MODEL_ec98e841ee1842a582a2d9705d4651bb",
        "IPY_MODEL_3e1381831fec465587f43910882dbed9",
        "IPY_MODEL_245aabd94bc34689b73dd355bcc40875"
       ],
       "layout": "IPY_MODEL_9b9d0e9082434aad94894336a2639d02"
      }
     },
     "bb10c442fc7143d1b60e53a36f4ad0f4": {
      "model_module": "@jupyter-widgets/controls",
      "model_module_version": "1.5.0",
      "model_name": "IntProgressModel",
      "state": {
       "layout": "IPY_MODEL_012e9fee1e6b489aa65b15a20f5e8871",
       "max": 112,
       "style": "IPY_MODEL_02851be7b7084d5ea353f92a83402118",
       "value": 29
      }
     },
     "bb773a2b337e470d82b98c34f85120d5": {
      "model_module": "@jupyter-widgets/base",
      "model_module_version": "1.2.0",
      "model_name": "LayoutModel",
      "state": {
       "min_width": "auto"
      }
     },
     "bc3832fca455449996c2414acbe9b922": {
      "model_module": "@jupyter-widgets/controls",
      "model_module_version": "1.5.0",
      "model_name": "HTMLModel",
      "state": {
       "layout": "IPY_MODEL_2d6c7f297afd468890bea20e7f17dac6",
       "style": "IPY_MODEL_81436e8a674b4c17a8378933b1e53c3d",
       "value": "<h5>0.0168</h5>"
      }
     },
     "bc389e3a9afa4289b0ec181f76e96836": {
      "model_module": "@jupyter-widgets/base",
      "model_module_version": "1.2.0",
      "model_name": "LayoutModel",
      "state": {
       "justify_content": "center",
       "max_width": "250px",
       "min_width": "250px"
      }
     },
     "bc425f30bac14d84a9e83ed5b9e89c7e": {
      "model_module": "@jupyter-widgets/controls",
      "model_module_version": "1.5.0",
      "model_name": "HTMLModel",
      "state": {
       "layout": "IPY_MODEL_d7153d56f35548fa87a0fbf0fa146286",
       "style": "IPY_MODEL_95a6900b68024ac1ab84d45887f113c7",
       "value": "<h5 style='color:#34bc6e'>True</h5>"
      }
     },
     "bc5ba3a270e24c79941000b930eb2f80": {
      "model_module": "@jupyter-widgets/controls",
      "model_module_version": "1.5.0",
      "model_name": "HTMLModel",
      "state": {
       "layout": "IPY_MODEL_b7b2deeb8a9a47e3a0f575cedcbcf35f",
       "style": "IPY_MODEL_3fbe9d94cf4243b3960caacab0b93754",
       "value": "<h5>85.9 / 123.9 us</h5>"
      }
     },
     "bc70ab6c23ac426abc77091bf7ad4365": {
      "model_module": "@jupyter-widgets/controls",
      "model_module_version": "1.5.0",
      "model_name": "DescriptionStyleModel",
      "state": {
       "description_width": ""
      }
     },
     "bcd6a1fbad594e16acabae155bfef3f0": {
      "model_module": "@jupyter-widgets/controls",
      "model_module_version": "1.5.0",
      "model_name": "HTMLModel",
      "state": {
       "layout": "IPY_MODEL_1fd093d1540b47ba9a68aafb9f1b3bd4",
       "style": "IPY_MODEL_7dce11bd2f15427084d021c98760f7de",
       "value": "<h5 style='color:#dc267f'>False</h5>"
      }
     },
     "bcdb648e56704980aec625ca5e9dfef6": {
      "model_module": "@jupyter-widgets/controls",
      "model_module_version": "1.5.0",
      "model_name": "HTMLModel",
      "state": {
       "layout": "IPY_MODEL_2cfe1879b8754ea2888665293674d3bd",
       "style": "IPY_MODEL_23de7f2ece71429cbdd72469395ea535",
       "value": "<h5>32</h5>"
      }
     },
     "bd56e04c363b400685e29805ab874b80": {
      "model_module": "@jupyter-widgets/controls",
      "model_module_version": "1.5.0",
      "model_name": "LabelModel",
      "state": {
       "layout": "IPY_MODEL_b0c1d5005de5402cacc50cefbade0426",
       "style": "IPY_MODEL_0136955e5b184960b29e6aaab0386a93",
       "value": "112"
      }
     },
     "be13dfb6a0d240c1b7aa4942c30a4b96": {
      "model_module": "@jupyter-widgets/base",
      "model_module_version": "1.2.0",
      "model_name": "LayoutModel",
      "state": {}
     },
     "be45e0149e9247bdad18760c87fe8f00": {
      "model_module": "@jupyter-widgets/controls",
      "model_module_version": "1.5.0",
      "model_name": "ProgressStyleModel",
      "state": {
       "bar_color": "#71cddd",
       "description_width": ""
      }
     },
     "be9d28302cfe41dd971e95eaf8fc1e55": {
      "model_module": "@jupyter-widgets/controls",
      "model_module_version": "1.5.0",
      "model_name": "LabelModel",
      "state": {
       "layout": "IPY_MODEL_7a7b5e76965340e0a4f32d13c08d74fd",
       "style": "IPY_MODEL_86177074bbc440a58555974097cf2d16",
       "value": "285"
      }
     },
     "bf577bca601043279e62c87ce6504805": {
      "model_module": "@jupyter-widgets/controls",
      "model_module_version": "1.5.0",
      "model_name": "DescriptionStyleModel",
      "state": {
       "description_width": ""
      }
     },
     "bf64a2f143644c398e848675b3f6d0b6": {
      "model_module": "@jupyter-widgets/base",
      "model_module_version": "1.2.0",
      "model_name": "LayoutModel",
      "state": {}
     },
     "bf68fba26707467db8b14beb1d15ea04": {
      "model_module": "@jupyter-widgets/base",
      "model_module_version": "1.2.0",
      "model_name": "LayoutModel",
      "state": {
       "min_width": "auto"
      }
     },
     "bf6de18ce157455f98040f0d3903cf8f": {
      "model_module": "@jupyter-widgets/controls",
      "model_module_version": "1.5.0",
      "model_name": "HTMLModel",
      "state": {
       "layout": "IPY_MODEL_46471d54a88e4af9b25693fa724c4b0d",
       "style": "IPY_MODEL_1eb6cb8060864922b4c74522b309a6df",
       "value": "job has successfully run"
      }
     },
     "bfae50b70cd14e51a734f294004ccfc6": {
      "model_module": "@jupyter-widgets/controls",
      "model_module_version": "1.5.0",
      "model_name": "ButtonStyleModel",
      "state": {
       "button_color": "white"
      }
     },
     "c01d5f701a3c4037bd347f896665cbaf": {
      "model_module": "@jupyter-widgets/base",
      "model_module_version": "1.2.0",
      "model_name": "LayoutModel",
      "state": {}
     },
     "c023092b1cd147be90231ecbcd858ee5": {
      "model_module": "@jupyter-widgets/controls",
      "model_module_version": "1.5.0",
      "model_name": "IntProgressModel",
      "state": {
       "layout": "IPY_MODEL_5e565d70634246d9a16fa2686ca0f31a",
       "max": 50,
       "style": "IPY_MODEL_3845350025854328af7e9a7c1ecc4489"
      }
     },
     "c0524d0562254a32b11d2aa54f93098c": {
      "model_module": "@jupyter-widgets/controls",
      "model_module_version": "1.5.0",
      "model_name": "DescriptionStyleModel",
      "state": {
       "description_width": ""
      }
     },
     "c0b6cb9c6bd34b968b1887e78df71a49": {
      "model_module": "@jupyter-widgets/controls",
      "model_module_version": "1.5.0",
      "model_name": "DescriptionStyleModel",
      "state": {
       "description_width": ""
      }
     },
     "c0e777b8bf1c4f50b5c02c10740875a5": {
      "model_module": "@jupyter-widgets/controls",
      "model_module_version": "1.5.0",
      "model_name": "DescriptionStyleModel",
      "state": {
       "description_width": ""
      }
     },
     "c1b4c9d37a5f40688836196bb3c69d7d": {
      "model_module": "@jupyter-widgets/controls",
      "model_module_version": "1.5.0",
      "model_name": "DescriptionStyleModel",
      "state": {
       "description_width": ""
      }
     },
     "c1d934e93e9f4aa3b29d3268e04ee69b": {
      "model_module": "@jupyter-widgets/controls",
      "model_module_version": "1.5.0",
      "model_name": "HTMLModel",
      "state": {
       "layout": "IPY_MODEL_ef10a4e74e6a4373ae7c8bef9d938b2b",
       "style": "IPY_MODEL_d09279d748024f0fbd1f07e6801bcfc1",
       "value": "ibm_perth"
      }
     },
     "c1ef3f27f2604ea0aba9a4721fd1a5a7": {
      "model_module": "@jupyter-widgets/base",
      "model_module_version": "1.2.0",
      "model_name": "LayoutModel",
      "state": {}
     },
     "c1f04828509940abb5edf069451c330c": {
      "model_module": "@jupyter-widgets/base",
      "model_module_version": "1.2.0",
      "model_name": "LayoutModel",
      "state": {
       "max_height": "620px"
      }
     },
     "c21c6e999064421c954e1ec05bf00696": {
      "model_module": "@jupyter-widgets/output",
      "model_module_version": "1.0.0",
      "model_name": "OutputModel",
      "state": {
       "layout": "IPY_MODEL_30e95e36a0084e1087b7372aade4d22b",
       "outputs": [
        {
         "data": {
          "image/png": "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\n",
          "text/plain": "<Figure size 792x648 with 5 Axes>"
         },
         "metadata": {},
         "output_type": "display_data"
        }
       ]
      }
     },
     "c2a4b43d11b54fbfbb3e464b7fd5d137": {
      "model_module": "@jupyter-widgets/base",
      "model_module_version": "1.2.0",
      "model_name": "LayoutModel",
      "state": {
       "justify_content": "center"
      }
     },
     "c2b40e5eb143415c90f3362fb4dda0a4": {
      "model_module": "@jupyter-widgets/controls",
      "model_module_version": "1.5.0",
      "model_name": "DescriptionStyleModel",
      "state": {
       "description_width": ""
      }
     },
     "c3c1ba15ddac477f90283b286b794a2b": {
      "model_module": "@jupyter-widgets/controls",
      "model_module_version": "1.5.0",
      "model_name": "HTMLModel",
      "state": {
       "layout": "IPY_MODEL_450640a8c5ed4fa9a26e88b6fc7d0410",
       "style": "IPY_MODEL_bc70ab6c23ac426abc77091bf7ad4365",
       "value": "<h5>0.0095</h5>"
      }
     },
     "c3ceede5b30144f2a6f42937f8a716e5": {
      "model_module": "@jupyter-widgets/controls",
      "model_module_version": "1.5.0",
      "model_name": "HTMLMathModel",
      "state": {
       "layout": "IPY_MODEL_5148c6ec03fa4faa8113da8664137cf2",
       "style": "IPY_MODEL_f28e584f6b954211a2d2ed297171d5b1",
       "value": "<table><style>\ntable {\n    border-collapse: collapse;\n    width: auto;\n}\n\nth, td {\n    text-align: left;\n    padding: 8px;\n}\n\ntr:nth-child(even) {background-color: #f6f6f6;}\n</style><tr><th>Property</th><th>Value</th></tr><tr><td><font style='font-weight:bold'>n_qubits</font></td><td>7</td></tr><tr><td><font style='font-weight:bold'>quantum_volume</font></td><td>32</td></tr><tr><td><font style='font-weight:bold'>operational</font></td><td>True</td></tr><tr><td><font style='font-weight:bold'>status_msg</font></td><td>active</td></tr><tr><td><font style='font-weight:bold'>pending_jobs</font></td><td>0</td></tr><tr><td><font style='font-weight:bold'>backend_version</font></td><td>1.0.1</td></tr><tr><td><font style='font-weight:bold'>basis_gates</font></td><td>['id', 'rz', 'sx', 'x', 'cx', 'reset']</td></tr><tr><td><font style='font-weight:bold'>max_shots</font></td><td>2048</td></tr><tr><td><font style='font-weight:bold'>max_experiments</font></td><td>4</td></tr></table>"
      }
     },
     "c3e80cea26dc4fafa5320076839ad4ec": {
      "model_module": "@jupyter-widgets/controls",
      "model_module_version": "1.5.0",
      "model_name": "DescriptionStyleModel",
      "state": {
       "description_width": ""
      }
     },
     "c43e0a982b0443208faf0481da956728": {
      "model_module": "@jupyter-widgets/controls",
      "model_module_version": "1.5.0",
      "model_name": "DescriptionStyleModel",
      "state": {
       "description_width": ""
      }
     },
     "c49138ee1bfd461c9b46ddc6dcc0143f": {
      "model_module": "@jupyter-widgets/base",
      "model_module_version": "1.2.0",
      "model_name": "LayoutModel",
      "state": {
       "grid_gap": "0px 25px",
       "grid_template_columns": "250px 250px 250px 250px 250px 250px 250px 250px ",
       "grid_template_rows": "auto"
      }
     },
     "c4f8bef7042c4493b08c96e2a958864c": {
      "model_module": "@jupyter-widgets/base",
      "model_module_version": "1.2.0",
      "model_name": "LayoutModel",
      "state": {}
     },
     "c54825250aba42e3b0da44b1800a0558": {
      "model_module": "@jupyter-widgets/base",
      "model_module_version": "1.2.0",
      "model_name": "LayoutModel",
      "state": {}
     },
     "c555499b0bd5476597f5258e2e12c550": {
      "model_module": "@jupyter-widgets/controls",
      "model_module_version": "1.5.0",
      "model_name": "LabelModel",
      "state": {
       "layout": "IPY_MODEL_f5f97b9f4f94452596005be8e35c230a",
       "style": "IPY_MODEL_c0b6cb9c6bd34b968b1887e78df71a49",
       "value": "249"
      }
     },
     "c647b69fb7b149feb01a786cc2b0e0b0": {
      "model_module": "@jupyter-widgets/base",
      "model_module_version": "1.2.0",
      "model_name": "LayoutModel",
      "state": {}
     },
     "c6e6a3882c4a497e976d908ef7aad07b": {
      "model_module": "@jupyter-widgets/controls",
      "model_module_version": "1.5.0",
      "model_name": "HBoxModel",
      "state": {
       "children": [
        "IPY_MODEL_ba322ad837a549c9b906189812bfbcef",
        "IPY_MODEL_63a088c04fa140c3b20f395eb8071cbb",
        "IPY_MODEL_bd56e04c363b400685e29805ab874b80"
       ],
       "layout": "IPY_MODEL_2ded371460f2405f97970029229ca1ca"
      }
     },
     "c718294bef4e453199c25718334459c3": {
      "model_module": "@jupyter-widgets/base",
      "model_module_version": "1.2.0",
      "model_name": "LayoutModel",
      "state": {
       "min_width": "auto"
      }
     },
     "c767a2ba7ceb4f108c81205680e6ae3b": {
      "model_module": "@jupyter-widgets/controls",
      "model_module_version": "1.5.0",
      "model_name": "DescriptionStyleModel",
      "state": {
       "description_width": ""
      }
     },
     "c78d0658e1844a798e8094f9b2559fbb": {
      "model_module": "@jupyter-widgets/base",
      "model_module_version": "1.2.0",
      "model_name": "LayoutModel",
      "state": {
       "grid_gap": "0px 0px",
       "grid_template_areas": "\n                                                   \"top top top\"\n                                                   \"left middle right\"\n                                                   ",
       "grid_template_columns": "33% 33% 33%",
       "grid_template_rows": "auto auto"
      }
     },
     "c79a45c3c801446196944f104e013034": {
      "model_module": "@jupyter-widgets/controls",
      "model_module_version": "1.5.0",
      "model_name": "GridBoxModel",
      "state": {
       "children": [
        "IPY_MODEL_fff9b3500cd940e1a9d5de46ecde2c84",
        "IPY_MODEL_87a100f017314d1d8f83733f1bba0f1e",
        "IPY_MODEL_78e68c7789434cb39c96dc79f56cf34e",
        "IPY_MODEL_117e8640537949a588a3a42eb99f2b71",
        "IPY_MODEL_2045ddf73dc14978b529ae3b79bef653",
        "IPY_MODEL_680ae5e646904cc9b0953c8418aefdb7",
        "IPY_MODEL_4e20d978cf7a4aaa93c2dc913d44c8ca",
        "IPY_MODEL_4f23f14c2caa47ea9ce66f1b87397529"
       ],
       "layout": "IPY_MODEL_c49138ee1bfd461c9b46ddc6dcc0143f"
      }
     },
     "c8021443ab644d4aa3b3afd2a3452eb1": {
      "model_module": "@jupyter-widgets/controls",
      "model_module_version": "1.5.0",
      "model_name": "DescriptionStyleModel",
      "state": {
       "description_width": ""
      }
     },
     "c836cbffaaaa4cba983a106cf0500d3a": {
      "model_module": "@jupyter-widgets/controls",
      "model_module_version": "1.5.0",
      "model_name": "DescriptionStyleModel",
      "state": {
       "description_width": ""
      }
     },
     "c8ab5374d0c04cb397f2a35a07843da5": {
      "model_module": "@jupyter-widgets/controls",
      "model_module_version": "1.5.0",
      "model_name": "IntProgressModel",
      "state": {
       "layout": "IPY_MODEL_77870cf48d3b44999d9d1ca8a670bf66",
       "max": 50,
       "style": "IPY_MODEL_ed20173d7711433f92494300f508b246",
       "value": 4
      }
     },
     "c8ca7af4213a42e7b5e779d2e874c0ac": {
      "model_module": "@jupyter-widgets/controls",
      "model_module_version": "1.5.0",
      "model_name": "DescriptionStyleModel",
      "state": {
       "description_width": ""
      }
     },
     "c8e5012cf3424d879e36ba8cfe0b290f": {
      "model_module": "@jupyter-widgets/base",
      "model_module_version": "1.2.0",
      "model_name": "LayoutModel",
      "state": {}
     },
     "c94edc4d1485455c91760a0d7597c188": {
      "model_module": "@jupyter-widgets/controls",
      "model_module_version": "1.5.0",
      "model_name": "DescriptionStyleModel",
      "state": {
       "description_width": ""
      }
     },
     "c958260ec86347ac9d8c68e35a655a3e": {
      "model_module": "@jupyter-widgets/controls",
      "model_module_version": "1.5.0",
      "model_name": "VBoxModel",
      "state": {
       "children": [
        "IPY_MODEL_a385f0a78e424a5aa783f08bd0f9640b",
        "IPY_MODEL_e5481e7651274cbc815b772e0b8b6819",
        "IPY_MODEL_dd65a24a0487406b8dd80470ec4fd23f",
        "IPY_MODEL_2390a50f58c3462ca2809fb85123f8d8",
        "IPY_MODEL_f31c35e72d944d56a0cb6e0dd57a2562",
        "IPY_MODEL_09767438b46a482f9de09da02446d218",
        "IPY_MODEL_7e361b4d33ee45228ee0c8ae0870b309",
        "IPY_MODEL_01dcffea516e4116a1424727155216d4",
        "IPY_MODEL_3947551d047245ffaf6f8e4fde62c405",
        "IPY_MODEL_1a5c0d1106b04d1fad8f8f795a9d6653"
       ],
       "layout": "IPY_MODEL_5399a5f637b649418653962525d5d160"
      }
     },
     "c99c739f5c184ade99a2885e39c27d2b": {
      "model_module": "@jupyter-widgets/base",
      "model_module_version": "1.2.0",
      "model_name": "LayoutModel",
      "state": {
       "min_width": "auto"
      }
     },
     "c9b5c0fcbc9e40c0b7c6ff85ba06e092": {
      "model_module": "@jupyter-widgets/base",
      "model_module_version": "1.2.0",
      "model_name": "LayoutModel",
      "state": {
       "min_width": "auto"
      }
     },
     "ca11f26f8b3a4a6a9148db79d21f23a8": {
      "model_module": "@jupyter-widgets/controls",
      "model_module_version": "1.5.0",
      "model_name": "GridBoxModel",
      "state": {
       "children": [
        "IPY_MODEL_da462557a67e48f4b894f90fa44abae1",
        "IPY_MODEL_9e1422e0e35c478498aa65159cce6863",
        "IPY_MODEL_0197eeee054c4f5689a5f32596881fe9",
        "IPY_MODEL_e1c078b100c541e985ec19f07f6ce3b6"
       ],
       "layout": "IPY_MODEL_983ed127a03a495fbabcfe1edfb92d54"
      }
     },
     "ca5fd3a809dd4adfb7ed1873057ca16d": {
      "model_module": "@jupyter-widgets/controls",
      "model_module_version": "1.5.0",
      "model_name": "HTMLModel",
      "state": {
       "layout": "IPY_MODEL_67df9cd526c24f20968ca6aba4d56404",
       "style": "IPY_MODEL_568f11a227f64ec1bdf368fd6d53ff2c",
       "value": "<h5 style='color:#dc267f'>False</h5>"
      }
     },
     "ca750aa440394049aa3966cb94af8e85": {
      "model_module": "@jupyter-widgets/controls",
      "model_module_version": "1.5.0",
      "model_name": "IntProgressModel",
      "state": {
       "layout": "IPY_MODEL_a6a55c110ded4180aac259b65267d8d5",
       "max": 285,
       "style": "IPY_MODEL_ee07ff004b374a61b7d16b4f0f63f4fc",
       "value": 5
      }
     },
     "cac068d0016d417190875ea3696e5e6a": {
      "model_module": "@jupyter-widgets/base",
      "model_module_version": "1.2.0",
      "model_name": "LayoutModel",
      "state": {
       "min_width": "auto"
      }
     },
     "cbabf197af6948dc9acecb2a53a57ad2": {
      "model_module": "@jupyter-widgets/base",
      "model_module_version": "1.2.0",
      "model_name": "LayoutModel",
      "state": {
       "justify_content": "center"
      }
     },
     "cbc881b4af5c47eba81251081a934a01": {
      "model_module": "@jupyter-widgets/base",
      "model_module_version": "1.2.0",
      "model_name": "LayoutModel",
      "state": {
       "align_items": "center",
       "display": "inline-flex",
       "flex_flow": "column"
      }
     },
     "cbf50f7dd0db4cd89d9a1b277e3ba96c": {
      "model_module": "@jupyter-widgets/controls",
      "model_module_version": "1.5.0",
      "model_name": "ButtonStyleModel",
      "state": {
       "button_color": "white"
      }
     },
     "cc658fa277604d70b5e1d4b08908879f": {
      "model_module": "@jupyter-widgets/base",
      "model_module_version": "1.2.0",
      "model_name": "LayoutModel",
      "state": {}
     },
     "ccfd056598664946ac386c712d64cfcf": {
      "model_module": "@jupyter-widgets/base",
      "model_module_version": "1.2.0",
      "model_name": "LayoutModel",
      "state": {
       "grid_gap": "0px 25px",
       "grid_template_columns": "250px 250px 250px 250px 250px 250px 250px 250px ",
       "grid_template_rows": "auto"
      }
     },
     "cd37206707cc435cbc240bd16a1f2789": {
      "model_module": "@jupyter-widgets/base",
      "model_module_version": "1.2.0",
      "model_name": "LayoutModel",
      "state": {
       "min_width": "auto"
      }
     },
     "cd3e3acd429b46e48a3dcb528993a8a2": {
      "model_module": "@jupyter-widgets/controls",
      "model_module_version": "1.5.0",
      "model_name": "HTMLModel",
      "state": {
       "layout": "IPY_MODEL_6ddb9a85bc924ab0b31caafd96af828e",
       "style": "IPY_MODEL_e61c5014c87c46f1987279d3f00b601b",
       "value": "<h5><b>5</b></h5>"
      }
     },
     "cd64409c215242428febbdccb5edbbd6": {
      "model_module": "@jupyter-widgets/controls",
      "model_module_version": "1.5.0",
      "model_name": "HTMLModel",
      "state": {
       "layout": "IPY_MODEL_fd1cec4f85e845b79d51c97c0f34a2f7",
       "style": "IPY_MODEL_371af80f8bc645e6aa7539af66d5fadc",
       "value": "<h5>0.0106</h5>"
      }
     },
     "cd90edc5204245c2bf276f4c685d15db": {
      "model_module": "@jupyter-widgets/controls",
      "model_module_version": "1.5.0",
      "model_name": "DescriptionStyleModel",
      "state": {
       "description_width": ""
      }
     },
     "ce9a685adb4f4765bfe0b3fb1954275f": {
      "model_module": "@jupyter-widgets/controls",
      "model_module_version": "1.5.0",
      "model_name": "HTMLModel",
      "state": {
       "layout": "IPY_MODEL_f00dace3a6d743fa8736427882992d44",
       "style": "IPY_MODEL_480cd1219fde4c6d88a4e855a4edd3d2",
       "value": "<h5 style='color:#34bc6e'>True</h5>"
      }
     },
     "ceb747b3382547989e577d7dfe8e4f1c": {
      "model_module": "@jupyter-widgets/base",
      "model_module_version": "1.2.0",
      "model_name": "LayoutModel",
      "state": {}
     },
     "cee7b3c4b87c4ddfa55ecb93ce1a4246": {
      "model_module": "@jupyter-widgets/controls",
      "model_module_version": "1.5.0",
      "model_name": "VBoxModel",
      "state": {
       "children": [
        "IPY_MODEL_498639995ab14d6494c6411c89cfbe7c",
        "IPY_MODEL_f22607de8f6a4806a1c78e405c8fa56b"
       ],
       "layout": "IPY_MODEL_8c1b3972c19a4c86904e0cdb3105f6ca"
      }
     },
     "cf4e72ccda7e49459e4169bdaba36773": {
      "model_module": "@jupyter-widgets/output",
      "model_module_version": "1.0.0",
      "model_name": "OutputModel",
      "state": {
       "layout": "IPY_MODEL_ef12ecdf175e4652b594027497cbd372",
       "outputs": [
        {
         "data": {
          "image/png": "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\n",
          "text/plain": "<Figure size 396x396 with 1 Axes>"
         },
         "metadata": {},
         "output_type": "display_data"
        }
       ]
      }
     },
     "cfc9cfc033c24d2cba02e034caa67fae": {
      "model_module": "@jupyter-widgets/base",
      "model_module_version": "1.2.0",
      "model_name": "LayoutModel",
      "state": {}
     },
     "d010098f0db944798122b63e63626a53": {
      "model_module": "@jupyter-widgets/controls",
      "model_module_version": "1.5.0",
      "model_name": "HBoxModel",
      "state": {
       "children": [
        "IPY_MODEL_9f124bac478d4b018e1fb3af4dfb7063",
        "IPY_MODEL_9fdc3ad8dd9540fd865d07042cf7eef8",
        "IPY_MODEL_9a84001f640a49daa771c6c590f8b0ec"
       ],
       "layout": "IPY_MODEL_8a0747d5008c4e3d9bd2463c21b49072"
      }
     },
     "d053308930ee4a69bc4bb737ab1d50ce": {
      "model_module": "@jupyter-widgets/controls",
      "model_module_version": "1.5.0",
      "model_name": "DescriptionStyleModel",
      "state": {
       "description_width": ""
      }
     },
     "d09279d748024f0fbd1f07e6801bcfc1": {
      "model_module": "@jupyter-widgets/controls",
      "model_module_version": "1.5.0",
      "model_name": "DescriptionStyleModel",
      "state": {
       "description_width": ""
      }
     },
     "d117c0d5723e4c2684c1de0c590f4e36": {
      "model_module": "@jupyter-widgets/output",
      "model_module_version": "1.0.0",
      "model_name": "OutputModel",
      "state": {
       "layout": "IPY_MODEL_3cda6e2d5176478f85daa73b4e265338",
       "outputs": [
        {
         "data": {
          "image/png": "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\n",
          "text/plain": "<Figure size 360x360 with 1 Axes>"
         },
         "metadata": {},
         "output_type": "display_data"
        }
       ]
      }
     },
     "d11e29940bf24bc884a9181b0a752bc7": {
      "model_module": "@jupyter-widgets/controls",
      "model_module_version": "1.5.0",
      "model_name": "DescriptionStyleModel",
      "state": {
       "description_width": ""
      }
     },
     "d133e45bb5114cf0bb3fd2f1d667352a": {
      "model_module": "@jupyter-widgets/output",
      "model_module_version": "1.0.0",
      "model_name": "OutputModel",
      "state": {
       "layout": "IPY_MODEL_6f2a608e24074fa294d7148a4d8f8b3b",
       "outputs": [
        {
         "data": {
          "image/png": "iVBORw0KGgoAAAANSUhEUgAAASUAAAD2CAYAAACQupFCAAAAOXRFWHRTb2Z0d2FyZQBNYXRwbG90bGliIHZlcnNpb24zLjQuMywgaHR0cHM6Ly9tYXRwbG90bGliLm9yZy/MnkTPAAAACXBIWXMAAAsTAAALEwEAmpwYAAAhcklEQVR4nO3deZQV5Z3/8Xd3083STSOb7IsgIqCSdsEFDC5ojAkmGoP5qTHGY/10zNFUjJkkYyYzmTgxyThJjckZzVR+mhMTo0Zjoo5GRAUVg4iCJCAaUUEUAdnpppum4ffH9zZN991v1733Kc7ndU6f20vdhy/fW/V9nnpqq9i/fz8iIq6oLHcAIiIHU1ESEaeoKImIU1SURMQpKkoi4hQVJRFxioqSiDhFRUlEnKKiJCJOUVESEaeoKImIU1SURMQpKkoi4hQVJRFxioqSiDhFRUlEnKKiJCJOUVESEaeoKImIU1SURMQpKkoi4hQVJRFxioqSiDhFRUlEnKKiJCJOUVESEaeoKImIU1SURMQpKkoi4hQVJRFxioqSiDhFRUlEnKKiJCJOUVESEaeoKImIU1SURMQpKkoi4hQVJRFxioqSiDilR7kDiJIXMBQ4FugLtALvAKtCn71lDSwLL6AGmAKMAqqAbcDy0GdzOePKhXJeenHNea4q9u/fX+4YusULOBK4Abgc6AM0AxXAfmwk2BNYBPwH8ETo01amUDtJbBQXAjcBU7G499ERe29gK/BL4M7QZ12ZQk2inJdeXHNeiNgWJS+gHvgZMAf7UGqyvGUnsAWYE/osLnJ4GXkBs4DfYhtB3yyLNyde7wD+KfQP/FxyynnpxTnnhYplUfICGoAnsZWrV55v3w38GPhe6FPS/7wXUAX8HLgC6+3y0QRsBGaFPqujji0b5Vw5L5XYTXR7AccDC4BB5P9BgfWUNwG3RRlXNl5AJdZTF7JxkHjPaOAlL2B8lLFlo5wr56UUq6LkBfQHnsJ6jopuNFULXOMFXB5JYLn5JjCbwjaOdpVAf2CeFxS0ouZNOVfOSy1WRQn4HyzRUagF7vAChkXUXlpewGTgn+nextGuEjgcuCWCtnKhnCvnJRWbopTYvz4fO8oQlZ7ADyJsL53biTbuPsBXvIAREbaZRDnvRDkvkTidp3QjWT6oHlXw+dPhxKOgVw2s3QgPPAfvfJj2LdXAJV7AV0OfHRHHC4AXMAaYToYO4OwGmDEZhg+Eykp4ZBE8uihr0xXAPwDfiSzYZFlzfsUsOHI49K+DvW2W6wdfgA/Sn+3jRM4BvnwuTBoNdb2guRXWbIA/LIT3NqV9ixM5bzdtIniftO/nLYX7F6RdtOg5j1IsRkpeQA/g89hJbml9YSac9THY0QTLVsO4YfC1C22ly2AvcEFkwaYIiyzzAmMOh8YW2LIrr3Z7Ald3I66Mcs356cdAUwssfgOa98CxR4D/WesgMih7zgEG1sOb62DhSmjcDceMha/MzvgWJ3IO1glceqZ1BDkqds4jE4uiBBwN7Mm0QN/eMH0K7NsHP3kIwifgpVXQuyec+bGMbddhvWqxnEWWnu+uJ+G2BzP20On09wIGFBpYFllzDvD9e+GH98M9T8NtDyWC6gvDM0dV9pyD5fyXf4bfPmPrC9jGXpV5qyh7zsFGedsb4dW3cm672DmPTFx236ZmW2D4QOudP9oOO3fb79ZsgFMnwajBGd9aAVzrBVwbRaAlVgNs9oLyBbB2Y8f3PRIbc9s+22AycCbnZ06FYQNg0ij7ee6rFn8GZc/5rAbbZb71fvs+RxXAqcWLKjpxKUqHkSXW+sQxlubWjt+1JL7vF8XxF8moZzVcea59/9SrsL2pvPHk6oQJMHGkfb9lJ7z1QXnjyWb4QLhous07FjCy7leEkCIXl6KUdc95R2Ij6FXd8bueiRPy47KBxFVdb/jqZ2DsUHjur/DQC+WOKHe3PWgj7Clj4LpPw7Wfgpt/ZQXKRSccCVVVcNQImDAcRib2AqaOgz174eGFGd8ei+vh4lKU3sP2tXunW+CDLTbpN6Av9O0DO5vgiCH2t3X59yiSowF97WDC0AHw+GJ4+MVyR5Sb6irYuw/277f1ZsUaG2X36QmD+7lblKiAygo7oHCwwf1gfPYzkdYUKapIxaUovUKWU+13NsGLK+Hjx8LXL4L3N9upAc174JnXMrbdCtwS+vxbhPEe4AXcDVyZaZkZU2DCCBid6PUaxsOgeli62o4iZtAK1IY+rRmXKkDi9hjvkmXC+FuX2OTw5h1QUw2XzLTfv7QK3t2Q9m1lz/kRw8A7D958344eThhuBWlHU+d5shTKmvNHu5wu8uVz4bTJWU8JAIs78xKOiMXRt9DnQ+CjbMvdNx+efc3mlxrGw9vr4acPw67dGd/WAsyPJNDUnsSu3E5rwghbsQbW28+jBtvPWSboAV4rxsYBuee8f529Dqy3Sdf2r+EDM76t7Dnfvgs2bIPJo61T6NMLlrwJ//kQ7M58/KvsOS9QsXMembiMlAB+AnyfDJcNtLbBvc/aVx62As93L7SMHsYuG0jr7rn2laed2L1ziilrzgs8ClX2nG/YZvNJeXIi5wfLY90pds4jE4uRUsLd2A25otSI7UYU7dYOoU8LdslD1NPtu4E/RtxmV8p5Z8p5CcSmKIU+W4HrsARHoQ1Yhd1lsNhuAaKcbm8CLg393E60K5Ry3olyXiKxKUoJvwGewXqs7moELgn9yHulJIk7F15MND13I/Dr0OfpCNrKhXKunJdUrIpSYvg5B7sXcaEr2z5sbuDsUt5NMPRZgt0fugkKHkY3Ao8BX4kqrmyUc+W81GJVlOBAD3gecCfWk+SzsjUCK4GTEitsSYU+c4GZwFryW9n2Yf/Xf8d2IUra6ynnynkpxfIe3e28gGnYhOZx2JHE6hSL7Qd2YSdf3gr8V7kfRZO4g+F3gOuxa5LS3ci+BYt/IXB96PN6aSJMTzkvvbjmvFCxLkrtvICJ2HD3zMTXwe4EngAed+1D8gJ6Ap8FPgGcBgzFbluxC1iGnVfyu9BnbXkiTK9Lzo/BzrZvw86+fwHlPHJxXc/zdUgUpYN5Qedhbuh36x7HIk46lNfz2M0picihTUVJRJyioiQiTlFREhGnqCiJiFNUlETEKSpKIuIUFSURcYqKkog4RUVJRJyioiQiTlFREhGnqCiJiFNUlETEKSpKIuIUFSURcYqKkog4RUVJRJyioiQiTlFREhGnqCiJiFMOiaeZeAGDsMfmzAC+1OXPNwNPAUsSTx51hhdQAZyOPS5nJjAG6yi2Y09HXQj8KfTZUbYg0+iS8xOBOqAVeBtYgHIeubiu5/mKdVHyAsYDPwQ+jT1zrDbFYq3YA/reB74LPFDuD80LqASuxh6O2B/ohT1k8GDtDxfsAdwP3Bz6fFDKOFNRzksvrjkvVCyLUmIFuwF7pHJP7GGCuWjEesMvhj7rixReRokV7AFgIqlXrlRasSe3Xhf63FOs2DJRzksvzjnvjtgVJS+gCvgNMJvcV7CDtWJD9emhz5tRxpaNF3ASMA+LO9cV7GCNwC+Am0rZCyrnynkpxXGi+xfABRT2QYE9h30AsNALGBZZVFkkHrn8NFBPYRsH2P/5GuBfooorR8q5cl4ysRopeQGzgfuAPhE01wo8B5xT7B7QC+iBPad+EtF0BLuBM0KfxRG0lZFyfoByXiKxGSl5AXXAr4jmgwLrSU4B5kTUXiY+MJbo8t0LeCAxxC8a5bwT5bxEYlOUgEuBmojbrAW+F3GbnSR67G9T+DA8lQpsaH5ehG2mopx3UM5LpOshUZf9I3YuTFo3XQwTR3b+3fsfwb/+JmO7I72AE0OfJd0NMI1PYb1VVg3j4fyTYPgg2Ntmsf/8EWhqSbl4X+AbwP9GF2qSjDk/aiR84+LUf7t7Lry4Mm27TuR81GD43AwYczhU94DNO+DZ12D+8rRvKXvOAYYNsLjHDYPqKnj9PbhvPmzZmbHdYuc8MrEYKXkBA4FRuS4/b2nH16JVWRevBmZ1I7xsPomtzBlNmwjXzYYRg2DZanjl79C7BmoydxunFmt3Ipecb93ZOdfP/63jbxu3ZWzeiZxfNxumjIFN2+HVt2DoALjsrOSOrYuy5rx3T/jaRTB1HLy9Hlassc7shs/YUC6DYuc8MnEZKR2PTTTmNKy9f0FebdcAt3oBt+YfVnQumm6vwR/hzXU5v60G2OsFxYgou03bO+f6rKn2umYDvJX5lMOy57yqEgYkxiO/ego+2GwjkLFDYGB9xreWNedHDoP+dfDRdhtFA3z3Mhv1NRxpxTWNGuwM9h+WJNBuiEtRGkeOu0AAwbVQUWEbxx8WwrsbihhZBIYcZhtCSyucdwJcfwHsaIKnXs24K+Gcsz5mr/OWljWMnLTtg6eXwTnHw5XnwIdbYfTh8N4mWLq63NGl19pmr7W9YFC9/T/6JWbORg7KWJQAjixyeJGIxe4bVpCyjE6heQ+89jYsedPmByaNBv9CqI/qOEaR1PW2157VMKgfLPk7HFZnuxIfG1/e2HJ13BEwpD9s2wUvx+RUvaWrbcRxxFA4dRLs22e/a95T7sjSe3Md/P1924279Sr48dUd63e/7NP6sRiExCJIYCd2zU9G7cNZsOH5LVdab3L0KFj8RvGC666duzu+v+tJG9m17oUzp9rcwTKHe+52sxrsdf5y671dV9sLvvpZ6wh+9IDtvvkXwgWnwM4md0eo+/bDfz4EJ06AYQNtcvuoEXDy0Z3XozR2lSDEbotLUVoOmU/8qulhvcf2xuS/7ct+ytjdoc9VhQaXiRfwLHBGpmU277AjbH16Jv+tJXOv3QKMCX0i30H1Ahqwq/2zThiPGGij0j17YcFfc/4nyprzQfVWkPa2WSewtw3Wb7FR07ABGZt3IucvJTrZut7w2VPt+9fXZv0nXu5GeCUTl6K0Ajt5La2+feD7V8CqdbBlhx0uHVRvRWpV5g+rEbtdRbHMB6aTYU6sbR88vRRmnwJXfQJWr7ejcW37Ola+NBqLsXEkZM15u/ZR0kurYFf23hocyPn6LRZrXW+48SKbtJ820f7298yT9GXP+dcusth3t8AxY23dX/42vJH5AEmxcx6ZWMwphT57gMeBtDsGu3bDX163SeNTJ9t+9tK34CcPwa7mjM1XAX+KNODO7gP2ZlvosZfg8ZdttHfSUfBB4hyldz5M+5Y9ULyr13PJOUBdL5h2tH2fxwR32XO+Zy/c/idYucZGRidMsNMY7ptvc5Lp3oYDOV+3CSYMh1MmWcf1xMtwR/Yzp4qd88jE5to3L2AG8GeiPUu3DXg49Pl8hG0m8QIWAdPIYbI+D83AMaFP0WaclPMkynkJxGKklLAQu0dMa4RttgDfirC9dG7AVuioNAP3F3PjSFDOOyjnJRKbopS4wvkKLMFRaMTuLFj0Y1uJK8vvBJoiaG4/djTy+gjaykg5P0A5L6HYFCWAxK1JP0P3V7Qm4FHg9m4HlbtvAouxM9ML1X671nNDn8xXOkVEOVfOSy1WRQkg9HkGuxvfLgob4jYBvwMuD/3ME4pRCn1asSvMn8Z6r3w1A1uBmaHPsghDy0o5V85LKTYT3V0l7qZ3D3avmN5kL7C7sKMnV4R+Ua/yzijxNI3LgDuwmLOdb96GDeUfA64NfbYWN8L0lPPSi2vOuyO2RQkOrGzTga9jt6toJvnEsz3AWuDHwL2hX1CPGTkvoD9wJXAjMBiLvf1ymr2J12rshvc/DX2cuKJMOS+9OOe8ELEuSgfzAqqBKZC0Ig0MfbaUIaSceQFDgBOw21b0ALZht3JdFfrZL68pF+W89OKc81wdMkWpnRd0vhwl9CM9T0VSUM5L71DOeewmukXk0KaiJCJOUVESEaeoKImIU1SURMQpKkoi4hQVJRFxioqSiDhFRUlEnKKiJCJOUVESEaeoKImIU1SURMQpKkoi4hQVJRFxioqSiDhFRUlEnKKiJCJOUVESEaeoKImIUw6pBwd4AUOB9V1+XR367C1HPLnyAmqwJ1SMAqqwJ2ssD302lzOuXCjnpRfXnOcq9kXJCzgSuAG4HHvIYM8ui+wBFgH/ATzhyuNzEhvFhcBNwFTsWV77sGeP7ccePLgV+CVwZ+izrkyhJlHOSy+uOS9EbIuSF1AP/AyYg+2G1mR5y05gCzAn9Flc5PAy8gJmAb/FNoKuDxXsqjnxegfwT6F/4OeSU85LL845L1Qsi5IX0AA8ia1cvfJ8+27sKaLfC31K+p/3AqqAnwNXkP3R0V01ARuBWaHP6qhjy0Y5V85LJXYT3V7A8cACYBD5f1BgPeVNwG1RxpWNF1CJ9dSFbBwk3jMaeMkLGB9lbNko58p5KcWqKCWeBf8U1nN054mgtcA1XsDlkQSWm28Csyls42hXCfQH5nlBQStq3pRz5bzUYlWUgP/BEh2FWuAOL2BYRO2l5QVMBv6Z7m0c7SqBw4FbImgrF8q5cl5SsSlKif3r80k+6tAdPYEfRNheOrcTbdx9gK94ASMibDOJct6Jcl4iPcodQB5upMsHdXYDzJgMwwdCZSU8sggeXdTx9xMmwAWnwOB+sL0J5r8GT77Sqc1q4BIv4Kuhz45iBO0FjAGmc1AHkCnukYNgzsfhiKHQqwY+2gHfvitl0xXAPwDfKUbcCXnlfNpEOOM4GNofaqrho+0wbym8sKJTm87l/MQJMPsUGNAXKipg8w549jWYvzypaedy3q62F/zr5XBYHTS1wFfv6PTnouc8SrEYKXkBPYDPYye5HTDmcGhsgS27kt8zbhj83/NtRXv5TaiqgItPh48fm7ToXuCC4kQOwBfoMi+QKe4BfaFfLazdmLXdnsDVEcWYpJCcTxkDA+thxRp46wMYMQi+dA4cd0TSom7lvB4274RFq+CN92zjv+wsmDgyaVHnct7ui2dDXe+MzRc755GJRVECjsZODuvkrifhtgfhvU3JbzjvRKissF7l7rlw11z7/SdPSlq0DutVi+UsuvR8meJe/g78yz3w1NKc2u7vBQyIIsgU8s75vKXwrbvg/z0JwcPwRuLUw8mjkxZ1KudzX4Hb/wi/fQZ+9gisSywzqD5l207lHODUSdAwHh5/OWPbxc55ZOKy+zY13zeMHmyvazZ0fh1UD717wu6WA4tWANd6Add2N8gyqAE2e0G5wzBdN5qqRJe3NbmHdy7nY4fAyUfD4f1g5GD4YDMsezvlok7lfEBf+MIZMPfVjk4gjQrg1JIE1U1xKUqHkWes9YljLs2t9trS2vG3fn06FSUpgnMa4MjhsGErLPhruaPJbvhAmNVg3+/bZ7ugzUljFrdUAFd9wubA/vgijB+e9S39ih9V98WlKOV9Hc+OJpvf6FVtP/c86OT87U1RhSWpzD7FDjBs3AY/+YP7GzfAiyvhLythUD+45nw453jYtTvrLlFZ9e9r817vbYLrPg21iTmlmh5w/QXwq6dg5+5Ob4nF9XBxmVN6jxT72hnfkNiVGDs08TrEXjfv0CipWCqAS8+0grRmI/zoAdiys9xRZdcz0XHtBzZth3cTBxmG9C9bSDmpSEzljxoMx42D8YkzkXpU2c811UlvWVPC8AoWl5HSK6Q41X7GFJgwomP+qGG8zRktXQ1/XmIfzOyTYcRAmJSYbH1iSVLbrcAtoc+/FSNwL+Bu4Mpc4/5wi03GD0hcMlrXC758rvV4Dz6fMvba0Kc16S/dj3so8C5dJowzxT52CJw51XZ/3tvYcVBh4zY7xN4lbmdyfvEMO/Vi03Y4rLbjaOGK1JuwUzk/eG7rqJHwjYtTnhLQHveCqGMuhliMlEKfD4GPuv5+wgg4bbLtpoH1GKdNttfV6yF8wnrqaRNtQ3noBViQfO5JCzC/iOE/iV25nVPc9bX2/dGj7G+9auznEyakbPu1YmwcUFjO+9fZ7yorYcYxNkczqyFl7E7lfOVaGxVNn2zLvbvRjngtfiNl207lPA/FznlkYnOXAC/gRuD7RHPZwMHeA8YU60pqL6AnsInst8vI107g6tDngYjbPUA5T6Kcl0AsRkoJd2M35IpSI7YbUbQPKvRpwS55iHp6fTfwx4jb7Eo570w5L4HYFKXQZytwHZbgKLQBq7C7DBbbLVjPHZUm4NLQz2/yP1/KeSfKeYnEpigl/AZ4BuuxuqsRuCT0I++VkiTuXHgx0fTcjcCvQ5+nI2grF8q5cl5SsSpKieHnHOxexIWubPuwuYGzS3k3wdBnCXZ/6CYoeBjdCDwGfCWquLJRzpXzUotVUYIDPeB5wJ1YT5LPytYIrAROSqywJRX6zAVmAmvJb2Xbh/1f/x3bhShpr6ecK+elFJujb6l4AdOwCc3jsHOukk8Xsw9zF3by5a3Af5X7UTSJOxh+B7geO+cw3VGiFiz+hcD1oc/rpYkwPeW89OKa80LFuii18wImYsPdMxNfB7sTeAJ43LUPKXHo+rPAJ4DTgKHYbSt2Acuw80p+F/qsLU+E6XXJ+THYPaHbsEPPL6CcRy6u63m+DomidDAv6DzMDf1u3eNYxEmH8noeuzklETm0qSiJiFNUlETEKSpKIuIUFSURcYqKkog4RUVJRJyioiQiTlFREhGnqCiJiFNUlETEKSpKIuIUFSURcYqKkog4RUVJRJyioiQiTlFREhGnqCiJiFNUlETEKSpKIuIUFSURccoh8TQTL2AQ9ticGcCXuvz5ZuApYEniyaPO8AIqgNOxx+XMBMZgHcV27OmoC4E/hT47yhZkGl1yfiJQB7QCbwMLUM4jF9f1PF+xLkpewHjgh8CnsWeO1aZYrBV7QN/7wHeBB8r9oXkBlcDV2MMR+wO9sIcMHqz94YI9gPuBm0OfD0oZZyrKeenFNeeFimVRSqxgN2CPVO6JPUwwF41Yb/jF0Gd9kcLLKLGCPQBMJPXKlUor9uTW60Kfe4oVWybKeenFOefdEbui5AVUAb8BZpP7CnawVmyoPj30eTPK2LLxAk4C5mFx57qCHawR+AVwUyl7QeVcOS+lOE50/wK4gMI+KLDnsA8AFnoBwyKLKovEI5efBuopbOMA+z9fA/xLVHHlSDlXzksmViMlL2A2cB/QJ4LmWoHngHOK3QN6AT2w59RPIpqOYDdwRuizOIK2MlLOD1DOSyQ2IyUvoA74FdF8UGA9ySnAnIjay8QHxhJdvnsBDySG+EWjnHeinJdIbIoScClQE3GbtcD3Im6zk0SP/W0KH4anUoENzc+LsM1UlPMOynmJdD0k6rJ/xM6FOeDsBpgxGYYPhMpKeGQRPLrI/nbaZPjyucmN3HIvrNnY6VcjvYATQ58lRYr7U1hvlVPcAAP6wudmwOTR0LMatuyEPyyEV9/q1G5f4BvA/xYpbsgz57deBYPqkxt5Yx3c9mCnXzmV8x5Vlu+G8VDfBxqbYeVauH8BNLV0ate5nPeogtknw7SJ0K8WNm6zv3dZV6D4OY9MLEZKXsBAYFTX3485HBpbYMuu9O9dsQbmLe342tGUtEg1MCvCcLv6JLYyH5Ap7rpe8K05tpJ9uBVeXAkbt6fe2IFTi7U7UUjOF67onOvNidMPN25LWtSpnH/yJJjVAL1q4C+vw7791qldMjNl207lfM7H4fxp0LbPYu9XC9d8CsYlT20XO+eRictI6XhsorHTsPauJ+31utlpN1oWv2EbdgY1wK1ewK3dDzM3meI+uwH697WY756btakaYK8XRB5iWplif+ylju/resPHj7Xvn16W1IxTOR/cz15fWAEPPg9nToVLz4SBqdcpp3J+4gR7/fU8ePN9+GALfGEmnH8S/PyRTovWYGew/7DoAXdTXIrSOLoMx3N1yUy47CzrtRcsT7mBOOXoRD/ZrxZu86CqEv72ru1K7Goua2h5mXks1PSA19fC+x+VO5rMFiyHj42DGVNstHTsWGhphbmvlDuy7Frb7HX04fDOhzBqkP08clDKxY8sUVjdEovdN6wgVeTzhv377UNa8qZt1IcfBl84A04/phjhRadvb3udMAL++i7s3A2nTIIrzilrWHmpqoQzjrPv5y0tbyy5WL/F5pBqe1kxHdDX1p33N5c7suwef9leL5kJ/309TJ9iP/dLPcUfi0FILIIEdmLX/OTsL6/bV7sLp9uQ9oQJ8PzfIo4uQjt3w5D+Nj9z77Mwdgjc/H/gmDFQWWHzHa476Sg4rA42bIXl75Q7muwuP9vWi2dfg98/Z7vQn5sB15wPP7iv3NFltmA5rNkAU8bYz9sb4Uvn2HqUQobZV3fEpSgth/xO/BrcDzZtT/59mo367tDnqkICy8YLeBY4I9fl130ERw5P/n1rW8rYW4Axoc+GwiNMzQtowK7275tt2a7ObrDXLLvKzuR8+AB7fXeD5fmdD+3nYQNSLu5UzqsqLe53E9G0H3F+fW3KxV/uZoglEZeitAI7ea2TGVNsN2f0YPu5YbxNBC5dbUdTanvah9WnF0wdZ8u8tCqp7UbsdhXFMh+YzkFzYpninveq/X36FKjuAeMTR1EWvZ7ULkBjMTaOhLxzvmw1TBhuo7vG5owHGJzK+VvrYcQg+Nx0O2o1KTGv9/fU9wdwKueH1cLJR9uu5oiB1qE1tXQ+6NAeN8XNeWRiMacU+uwBHgf2Hfz7CSPs0G37UZJRg+3nUYNtI25tg+Mn2Pk+6z6yoxgpilIV8Kcihn8fsDfXuDdss6Mm67fAyROtMD2+GH7/fFK7e6B4V68XknPoGCW9sMImi9NwKue/fw6eWWbry2mTbII+zdFP53K+abvNhZ02yYrSa2/Dj+5PuZdQ7JxHJjbXvnkBM4A/E+1Zum3Aw6HP5yNsM4kXsAiYRp6T9Vk0A8eEPqsjbLMT5TyJcl4CsRgpJSzE7hGTvv/NXwvwrQjbS+cGbIWOSjNwfzE3jgTlvINyXiKxKUqJK5yvwBIchUbszoLFXslIXFl+J5B8Pnn+9mNHI6+PoK2MlPMDlPMSik1RAkjcmvQzdH9FawIeBW7vdlC5+yawGDszvVDtt2s9N/TZGUlUWSjnynmpxaooAYQ+z2B349tFYUPcJuB3wOWh33lCsZhCn1bsCvOnsd4rX83AVmBm6LMswtCyUs6V81KKzUR3V4m76d2D3SumN9kL7C7s6MkVoV/Uq7wzSjxN4zLgDizmbPfNacOG8o8B14Y+W4sbYXrKeenFNefdEduiBAdWtunA17HbVTRjR1uqsGF3K/ZBrgV+DNwb+gX1mJHzAvoDVwI3AoOx2Nsvp9mbeK3Gbnj/09DHiQs2lPPSi3POCxHronQwL6AamAIch50R2/4MsldDny3ljC0bL2AIcAJ224oewDbsVq6rQj+/y2tKSTkvvTjnPFeHTFESkUND7Ca6ReTQpqIkIk5RURIRp6goiYhTVJRExCkqSiLiFBUlEXGKipKIOEVFSUScoqIkIk5RURIRp6goiYhTVJRExCkqSiLiFBUlEXGKipKIOEVFSUScoqIkIk5RURIRp6goiYhTVJRExCkqSiLiFBUlEXGKipKIOEVFSUScoqIkIk5RURIRp6goiYhTVJRExCkqSiLiFBUlEXGKipKIOEVFSUScoqIkIk5RURIRp6goiYhTVJRExCkqSiLiFBUlEXGKipKIOOX/A1vgNx/4uRk0AAAAAElFTkSuQmCC\n",
          "text/plain": "<Figure size 360x360 with 1 Axes>"
         },
         "metadata": {},
         "output_type": "display_data"
        }
       ]
      }
     },
     "d13d895ea54f41eb9553d4f34188080a": {
      "model_module": "@jupyter-widgets/controls",
      "model_module_version": "1.5.0",
      "model_name": "HTMLModel",
      "state": {
       "layout": "IPY_MODEL_3e39963e48c04493b08e63fdfe62970f",
       "style": "IPY_MODEL_8e562acbd9004115b264312ab831cd83",
       "value": "<h5>0.0095</h5>"
      }
     },
     "d144894bfdbd45a3b4cc6ce465399567": {
      "model_module": "@jupyter-widgets/base",
      "model_module_version": "1.2.0",
      "model_name": "LayoutModel",
      "state": {
       "align_items": "center",
       "justify_content": "center",
       "margin": "0px 0px 0px 0px",
       "max_height": "250px",
       "max_width": "250px",
       "min_height": "250px",
       "min_width": "250px"
      }
     },
     "d190e2cd39b2425e84b951b52cca317e": {
      "model_module": "@jupyter-widgets/base",
      "model_module_version": "1.2.0",
      "model_name": "LayoutModel",
      "state": {
       "justify_content": "center",
       "max_width": "250px",
       "min_width": "250px"
      }
     },
     "d1bf264806a04131990dec56b5e04f9b": {
      "model_module": "@jupyter-widgets/base",
      "model_module_version": "1.2.0",
      "model_name": "LayoutModel",
      "state": {
       "max_width": "180px"
      }
     },
     "d1c8f7927aaa4e298b3eb0018d241fa7": {
      "model_module": "@jupyter-widgets/controls",
      "model_module_version": "1.5.0",
      "model_name": "HTMLModel",
      "state": {
       "layout": "IPY_MODEL_8e524074dc2b437e9c9715d3bc680d2b",
       "style": "IPY_MODEL_eae308352f70458dba056051e6f21645",
       "value": "<h5 style='color:#dc267f'>False</h5>"
      }
     },
     "d31d43fb291e4302abcc0bf65eaad1a7": {
      "model_module": "@jupyter-widgets/controls",
      "model_module_version": "1.5.0",
      "model_name": "HTMLModel",
      "state": {
       "layout": "IPY_MODEL_f4ec562425dd4b6782217feadaab546f",
       "style": "IPY_MODEL_396bd19ede0d4d01b1364b53ea25b1c4",
       "value": "<h5><b>7</b></h5>"
      }
     },
     "d34d9bed4cdb4a1d930f96fba6cbe577": {
      "model_module": "@jupyter-widgets/controls",
      "model_module_version": "1.5.0",
      "model_name": "DescriptionStyleModel",
      "state": {
       "description_width": ""
      }
     },
     "d3e1307b155147e69dadb5c759b6eb55": {
      "model_module": "@jupyter-widgets/controls",
      "model_module_version": "1.5.0",
      "model_name": "DescriptionStyleModel",
      "state": {
       "description_width": ""
      }
     },
     "d4d3b7fc9a10474eaec9fe8204bbdadd": {
      "model_module": "@jupyter-widgets/base",
      "model_module_version": "1.2.0",
      "model_name": "LayoutModel",
      "state": {
       "grid_template_areas": "\n                                       \". . . . right \"\n                                        ",
       "grid_template_columns": "20% 20% 20% 20% 20%",
       "width": "100%"
      }
     },
     "d4ee2b5be2264bde9b62f6fa5e969539": {
      "model_module": "@jupyter-widgets/controls",
      "model_module_version": "1.5.0",
      "model_name": "HTMLModel",
      "state": {
       "layout": "IPY_MODEL_38b99a99fa3645ab88e99b3865b63548",
       "style": "IPY_MODEL_c0e777b8bf1c4f50b5c02c10740875a5",
       "value": "<h5>0.0297</h5>"
      }
     },
     "d506460de097438da042966b7e2139b6": {
      "model_module": "@jupyter-widgets/controls",
      "model_module_version": "1.5.0",
      "model_name": "DescriptionStyleModel",
      "state": {
       "description_width": ""
      }
     },
     "d564ed0189db434f92daa5627ba75765": {
      "model_module": "@jupyter-widgets/controls",
      "model_module_version": "1.5.0",
      "model_name": "LabelModel",
      "state": {
       "layout": "IPY_MODEL_071f39abe4644d58a3dafd8c91da903f",
       "style": "IPY_MODEL_76261aae6aea4779835852b81f9cbeb1",
       "value": "Pending Jobs"
      }
     },
     "d5d930a9c0d6473b823a5cfc3af06c8d": {
      "model_module": "@jupyter-widgets/controls",
      "model_module_version": "1.5.0",
      "model_name": "LabelModel",
      "state": {
       "layout": "IPY_MODEL_5e7c5c7412cc4422ad8aba306b00a7b9",
       "style": "IPY_MODEL_b254bb2efcca47d995f472e82bf61213",
       "value": "Quantum Vol."
      }
     },
     "d5daa0bd7d2f477e91b7ff959dd11f3a": {
      "model_module": "@jupyter-widgets/controls",
      "model_module_version": "1.5.0",
      "model_name": "HTMLModel",
      "state": {
       "layout": "IPY_MODEL_87b7b6dd30984db1ad1043ca36d0b376",
       "style": "IPY_MODEL_7d671cbde5f54e99b80f580c1d368ba5",
       "value": "<h5 style='color:#34bc6e'>True</h5>"
      }
     },
     "d5fda20be2c54ee691fc3f21a8b63d41": {
      "model_module": "@jupyter-widgets/controls",
      "model_module_version": "1.5.0",
      "model_name": "HTMLModel",
      "state": {
       "layout": "IPY_MODEL_3baf16acb31f45e49057ec68ee23f875",
       "style": "IPY_MODEL_f2ac706636d449f28a9723acea624a18",
       "value": "<h5><b>5</b></h5>"
      }
     },
     "d6c12dbd9f824f8b919acf646d590e32": {
      "model_module": "@jupyter-widgets/base",
      "model_module_version": "1.2.0",
      "model_name": "LayoutModel",
      "state": {}
     },
     "d7153d56f35548fa87a0fbf0fa146286": {
      "model_module": "@jupyter-widgets/base",
      "model_module_version": "1.2.0",
      "model_name": "LayoutModel",
      "state": {
       "justify_content": "center"
      }
     },
     "d75419b5237d4dc7801fee74c070abbe": {
      "model_module": "@jupyter-widgets/controls",
      "model_module_version": "1.5.0",
      "model_name": "ProgressStyleModel",
      "state": {
       "bar_color": "#71cddd",
       "description_width": ""
      }
     },
     "d7d2e6156d194a11887d3cbb95153417": {
      "model_module": "@jupyter-widgets/controls",
      "model_module_version": "1.5.0",
      "model_name": "HTMLModel",
      "state": {
       "layout": "IPY_MODEL_e141442aa9d54518bdf1c42c2f4ecd3c",
       "style": "IPY_MODEL_fa77563754cc47d0b36e2a44720fe5f5",
       "value": "<table><style>\ntable {\n    border-collapse: collapse;\n    width: auto;\n}\n\nth, td {\n    text-align: left;\n    padding: 8px;\n}\n\ntr:nth-child(even) {background-color: #f6f6f6;}\n</style><tr><th></th><th>Frequency</th><th>T1</th><th>T2</th><th>U1</th><th>U2</th><th>U3</th><th>Readout error</th></tr><tr><td><font style='font-weight:bold'>Q0</font></td><td>4.66492 GHz</td><td>65.02615 µs</td><td>17.70905 µs</td><td>0</td><td>0.00075</td><td>0.00151</td><td>0.0334 </td><tr><td><font style='font-weight:bold'>Q1</font></td><td>4.76767 GHz</td><td>43.9688 µs</td><td>15.58758 µs</td><td>0</td><td>0.00068</td><td>0.00137</td><td>0.0867 </td><tr><td><font style='font-weight:bold'>Q2</font></td><td>4.61803 GHz</td><td>52.93976 µs</td><td>13.80566 µs</td><td>0</td><td>0.00087</td><td>0.00174</td><td>0.0926 </td><tr><td><font style='font-weight:bold'>Q3</font></td><td>5.02263 GHz</td><td>48.80939 µs</td><td>14.67257 µs</td><td>0</td><td>0.00088</td><td>0.00175</td><td>0.0765 </td><tr><td><font style='font-weight:bold'>Q4</font></td><td>4.65579 GHz</td><td>76.5053 µs</td><td>15.55758 µs</td><td>0</td><td>0.00074</td><td>0.00149</td><td>0.0681 </td><tr><td><font style='font-weight:bold'>Q5</font></td><td>4.74578 GHz</td><td>62.26546 µs</td><td>9.21099 µs</td><td>0</td><td>0.00101</td><td>0.00203</td><td>0.0701 </td><tr><td><font style='font-weight:bold'>Q6</font></td><td>4.83168 GHz</td><td>51.07522 µs</td><td>14.30637 µs</td><td>0</td><td>0.00131</td><td>0.00261</td><td>0.0672 </td><tr><td><font style='font-weight:bold'>Q7</font></td><td>4.70569 GHz</td><td>34.47778 µs</td><td>12.42501 µs</td><td>0</td><td>0.00097</td><td>0.00194</td><td>0.0175 </td><tr><td><font style='font-weight:bold'>Q8</font></td><td>4.8984 GHz</td><td>22.00524 µs</td><td>5.4628 µs</td><td>0</td><td>0.00185</td><td>0.0037</td><td>0.0902 </td><tr><td><font style='font-weight:bold'>Q9</font></td><td>4.7406 GHz</td><td>61.6795 µs</td><td>12.31188 µs</td><td>0</td><td>0.00098</td><td>0.00197</td><td>0.097 </td><tr><td><font style='font-weight:bold'>Q10</font></td><td>4.84131 GHz</td><td>39.29521 µs</td><td>8.29331 µs</td><td>0</td><td>0.0011</td><td>0.0022</td><td>0.0724 </td><tr><td><font style='font-weight:bold'>Q11</font></td><td>4.75709 GHz</td><td>71.76919 µs</td><td>13.57695 µs</td><td>0</td><td>0.00074</td><td>0.00147</td><td>0.1013 </td><tr><td><font style='font-weight:bold'>Q12</font></td><td>4.61986 GHz</td><td>82.39661 µs</td><td>17.04141 µs</td><td>0</td><td>0.00076</td><td>0.00153</td><td>0.0884 </td><tr><td><font style='font-weight:bold'>Q13</font></td><td>4.85395 GHz</td><td>51.26071 µs</td><td>12.95339 µs</td><td>0</td><td>0.0007</td><td>0.00141</td><td>0.0265 </td><tr><td><font style='font-weight:bold'>Q14</font></td><td>4.40127 GHz</td><td>35.98483 µs</td><td>12.06972 µs</td><td>0</td><td>0.00106</td><td>0.00212</td><td>0.1173 </td><tr><td><font style='font-weight:bold'>Q15</font></td><td>4.69354 GHz</td><td>56.86022 µs</td><td>17.28385 µs</td><td>0</td><td>0.00065</td><td>0.0013</td><td>0.0644 </td><tr><td><font style='font-weight:bold'>Q16</font></td><td>4.51267 GHz</td><td>69.36949 µs</td><td>15.96325 µs</td><td>0</td><td>0.00085</td><td>0.0017</td><td>0.1727 </td><tr><td><font style='font-weight:bold'>Q17</font></td><td>4.72421 GHz</td><td>44.24938 µs</td><td>14.42326 µs</td><td>0</td><td>0.00083</td><td>0.00165</td><td>0.0681 </td><tr><td><font style='font-weight:bold'>Q18</font></td><td>4.3351 GHz</td><td>62.35078 µs</td><td>14.96326 µs</td><td>0</td><td>0.00082</td><td>0.00164</td><td>0.1678 </td><tr><td><font style='font-weight:bold'>Q19</font></td><td>4.58623 GHz</td><td>78.6054 µs</td><td>20.57852 µs</td><td>0</td><td>0.00076</td><td>0.00153</td><td>0.1042 </td></table>"
      }
     },
     "d7f8ba48e1ac438f898d0a47a3ba100e": {
      "model_module": "@jupyter-widgets/controls",
      "model_module_version": "1.5.0",
      "model_name": "ButtonModel",
      "state": {
       "icon": "close",
       "layout": "IPY_MODEL_94901fdc552f4fbf8240e6017ac3d42c",
       "style": "IPY_MODEL_cbf50f7dd0db4cd89d9a1b277e3ba96c"
      }
     },
     "d820d02ca4064e03b65e02f2c385ccf8": {
      "model_module": "@jupyter-widgets/controls",
      "model_module_version": "1.5.0",
      "model_name": "DescriptionStyleModel",
      "state": {
       "description_width": ""
      }
     },
     "d86ac24e543e4bd489cffc04f7ef092e": {
      "model_module": "@jupyter-widgets/controls",
      "model_module_version": "1.5.0",
      "model_name": "VBoxModel",
      "state": {
       "children": [
        "IPY_MODEL_e7061d95d03c4b02a0f530a2b18b8873",
        "IPY_MODEL_0a57b786a5a040cd812830781b306430"
       ],
       "layout": "IPY_MODEL_19affc9f55a3427b92f127643d5c1416"
      }
     },
     "d8d94e7cfb084e03b6a86d83110b4303": {
      "model_module": "@jupyter-widgets/controls",
      "model_module_version": "1.5.0",
      "model_name": "DescriptionStyleModel",
      "state": {
       "description_width": ""
      }
     },
     "da462557a67e48f4b894f90fa44abae1": {
      "model_module": "@jupyter-widgets/controls",
      "model_module_version": "1.5.0",
      "model_name": "HTMLModel",
      "state": {
       "layout": "IPY_MODEL_62c8164281424f54946ed6838b2d0794",
       "style": "IPY_MODEL_93d22c6e42de4c0b965a3f827b2432f7",
       "value": "<div><font style='font-weight:bold'>last_update_date</font>: 2021-09-14 15:30:08+00:00</div>"
      }
     },
     "da547344a23f488b824fb67248208fd1": {
      "model_module": "@jupyter-widgets/controls",
      "model_module_version": "1.5.0",
      "model_name": "HTMLModel",
      "state": {
       "layout": "IPY_MODEL_b6a8a7955ebf4aff92b07d649c57d0ec",
       "style": "IPY_MODEL_4e92ea64833b4dfaa3052da97e266379",
       "value": "<h2 style ='color:#ffffff; background-color:#000000;padding-top: 1%; padding-bottom: 1%;padding-left: 1%;margin-top: 0px'>Backend Overview</h2>"
      }
     },
     "da98a5a5561c4a60b65c5dba05584b58": {
      "model_module": "@jupyter-widgets/controls",
      "model_module_version": "1.5.0",
      "model_name": "HTMLModel",
      "state": {
       "layout": "IPY_MODEL_30bf7b0b36f343a28c73fcca9f1aacac",
       "style": "IPY_MODEL_c3e80cea26dc4fafa5320076839ad4ec",
       "value": "<h5 style='color:#dc267f'>False</h5>"
      }
     },
     "db1f78bc6e9b4619ab4f165a5523c433": {
      "model_module": "@jupyter-widgets/controls",
      "model_module_version": "1.5.0",
      "model_name": "DescriptionStyleModel",
      "state": {
       "description_width": ""
      }
     },
     "db41e0308ae14b6c8227f4a6b4c3ced6": {
      "model_module": "@jupyter-widgets/controls",
      "model_module_version": "1.5.0",
      "model_name": "DescriptionStyleModel",
      "state": {
       "description_width": ""
      }
     },
     "dbdece8cfefa4627b316e092a87b9752": {
      "model_module": "@jupyter-widgets/controls",
      "model_module_version": "1.5.0",
      "model_name": "LabelModel",
      "state": {
       "layout": "IPY_MODEL_3d300a23974d4d7db91e11212854dde1",
       "style": "IPY_MODEL_1ca89d59031c4bd9a03ac2ff30835dae",
       "value": "3"
      }
     },
     "dbe89dd1343d4708952f23441780ce35": {
      "model_module": "@jupyter-widgets/controls",
      "model_module_version": "1.5.0",
      "model_name": "DescriptionStyleModel",
      "state": {
       "description_width": ""
      }
     },
     "dc0b343a81f04d4db619dfb5c24ebf5b": {
      "model_module": "@jupyter-widgets/base",
      "model_module_version": "1.2.0",
      "model_name": "LayoutModel",
      "state": {
       "min_width": "auto"
      }
     },
     "dc8ee73eb81442b9a55870d56b0ba216": {
      "model_module": "@jupyter-widgets/controls",
      "model_module_version": "1.5.0",
      "model_name": "DescriptionStyleModel",
      "state": {
       "description_width": ""
      }
     },
     "dcfdafff5a6a4fcfad97a82b72369d52": {
      "model_module": "@jupyter-widgets/controls",
      "model_module_version": "1.5.0",
      "model_name": "DescriptionStyleModel",
      "state": {
       "description_width": ""
      }
     },
     "dd42f40486f843919ac07507d8cd5538": {
      "model_module": "@jupyter-widgets/base",
      "model_module_version": "1.2.0",
      "model_name": "LayoutModel",
      "state": {
       "min_width": "auto"
      }
     },
     "dd65a24a0487406b8dd80470ec4fd23f": {
      "model_module": "@jupyter-widgets/controls",
      "model_module_version": "1.5.0",
      "model_name": "HTMLModel",
      "state": {
       "layout": "IPY_MODEL_62653b8144a34c8b88f967c07d63474e",
       "style": "IPY_MODEL_f9251c569cd94b6c83a234113217f0e7",
       "value": "<h5><b>5</b></h5>"
      }
     },
     "ddbde792a0b64cf58a0f45c2bccc5840": {
      "model_module": "@jupyter-widgets/controls",
      "model_module_version": "1.5.0",
      "model_name": "ButtonModel",
      "state": {
       "icon": "close",
       "layout": "IPY_MODEL_00ce9cf2a03647adadd163a967199fda",
       "style": "IPY_MODEL_bfae50b70cd14e51a734f294004ccfc6"
      }
     },
     "de18c0f8da3449a8b9121366ba3c5ca4": {
      "model_module": "@jupyter-widgets/controls",
      "model_module_version": "1.5.0",
      "model_name": "DescriptionStyleModel",
      "state": {
       "description_width": ""
      }
     },
     "de66adf984254579942f8cf1e1295cab": {
      "model_module": "@jupyter-widgets/controls",
      "model_module_version": "1.5.0",
      "model_name": "VBoxModel",
      "state": {
       "children": [
        "IPY_MODEL_086334e1b1544ec2b18768520f8a120a",
        "IPY_MODEL_198f81da97644997be80dd50bd639747"
       ],
       "layout": "IPY_MODEL_e9ff6800f6a340e5bebb05db16e6e398"
      }
     },
     "dea736986375442881481f69f91fcb91": {
      "model_module": "@jupyter-widgets/controls",
      "model_module_version": "1.5.0",
      "model_name": "LabelModel",
      "state": {
       "layout": "IPY_MODEL_5728110ebe0d48888cbd00c1b5c9620b",
       "style": "IPY_MODEL_a066df9cda2549ee9a1a3685d5613615",
       "value": "50"
      }
     },
     "dede705bd02e4ffb989e18d7a7f3f12d": {
      "model_module": "@jupyter-widgets/base",
      "model_module_version": "1.2.0",
      "model_name": "LayoutModel",
      "state": {
       "align_items": "center",
       "justify_content": "center",
       "margin": "0px 0px 0px 0px",
       "max_height": "250px",
       "max_width": "250px",
       "min_height": "250px",
       "min_width": "250px"
      }
     },
     "df0c543055824245956712242e1c672c": {
      "model_module": "@jupyter-widgets/controls",
      "model_module_version": "1.5.0",
      "model_name": "HTMLModel",
      "state": {
       "layout": "IPY_MODEL_21d3197d5b7e4de2b8a0f1343413872a",
       "style": "IPY_MODEL_5a159cc411c144ee94d74c25a4388199",
       "value": "<h5>0.0089</h5>"
      }
     },
     "dfe69206d9114928b0c248c39c128130": {
      "model_module": "@jupyter-widgets/controls",
      "model_module_version": "1.5.0",
      "model_name": "DescriptionStyleModel",
      "state": {
       "description_width": ""
      }
     },
     "e01a69fb650b4d4f984d96d4b63d5299": {
      "model_module": "@jupyter-widgets/controls",
      "model_module_version": "1.5.0",
      "model_name": "HTMLModel",
      "state": {
       "layout": "IPY_MODEL_966cbec09ea74f2aa7a67e59b3e6b49b",
       "style": "IPY_MODEL_f646f0a848b64654afd97975bc843b1d",
       "value": "<h5>0.016</h5>"
      }
     },
     "e032d5e4ec424bc399464209547f442a": {
      "model_module": "@jupyter-widgets/controls",
      "model_module_version": "1.5.0",
      "model_name": "DescriptionStyleModel",
      "state": {
       "description_width": ""
      }
     },
     "e0335576e9a6472ebff1a44a83f94298": {
      "model_module": "@jupyter-widgets/base",
      "model_module_version": "1.2.0",
      "model_name": "LayoutModel",
      "state": {}
     },
     "e06e9b35525d42419c5de0f9a365c7e9": {
      "model_module": "@jupyter-widgets/base",
      "model_module_version": "1.2.0",
      "model_name": "LayoutModel",
      "state": {
       "justify_content": "center"
      }
     },
     "e0bf15225fda4bd0937ef5dc3c2c6428": {
      "model_module": "@jupyter-widgets/output",
      "model_module_version": "1.0.0",
      "model_name": "OutputModel",
      "state": {
       "layout": "IPY_MODEL_af39e8cd1cce4f7dba4980075a16f985"
      }
     },
     "e141442aa9d54518bdf1c42c2f4ecd3c": {
      "model_module": "@jupyter-widgets/base",
      "model_module_version": "1.2.0",
      "model_name": "LayoutModel",
      "state": {}
     },
     "e15e3c2d3948429f83b48089ffa156f7": {
      "model_module": "@jupyter-widgets/base",
      "model_module_version": "1.2.0",
      "model_name": "LayoutModel",
      "state": {
       "grid_area": "left"
      }
     },
     "e1c078b100c541e985ec19f07f6ce3b6": {
      "model_module": "@jupyter-widgets/controls",
      "model_module_version": "1.5.0",
      "model_name": "HTMLModel",
      "state": {
       "layout": "IPY_MODEL_fe5ee8c0d1bc49bbbf2fefb8834c1194",
       "style": "IPY_MODEL_2c6cc2d1456549c9982035271cce542c",
       "value": "<table><style>\ntable {\n    border-collapse: collapse;\n    width: auto;\n}\n\nth, td {\n    text-align: left;\n    padding: 8px;\n}\n\ntr:nth-child(even) {background-color: #f6f6f6;};\n</style><tr><th></th><th>Type</th><th>Gate error</th></tr><tr><td><font style='font-weight:bold'>cx2_1</font></td><td>cx</td><td>0.00652</td></tr><tr><td><font style='font-weight:bold'>cx1_2</font></td><td>cx</td><td>0.00652</td></tr><tr><td><font style='font-weight:bold'>cx0_1</font></td><td>cx</td><td>0.00952</td></tr><tr><td><font style='font-weight:bold'>cx1_0</font></td><td>cx</td><td>0.00952</td></tr></table>"
      }
     },
     "e236f3bf480e4d21a1f57ff2d7c2c6f0": {
      "model_module": "@jupyter-widgets/controls",
      "model_module_version": "1.5.0",
      "model_name": "LabelModel",
      "state": {
       "layout": "IPY_MODEL_ee8a48ee97614f4b920d9d3d23329edf",
       "style": "IPY_MODEL_6dbb3e1f362344658213728e44638150",
       "value": "284"
      }
     },
     "e2b5081996e34bc2b4f41ede8d335cfb": {
      "model_module": "@jupyter-widgets/controls",
      "model_module_version": "1.5.0",
      "model_name": "DescriptionStyleModel",
      "state": {
       "description_width": ""
      }
     },
     "e2c146a9805b42ca8840f5c60d39f008": {
      "model_module": "@jupyter-widgets/controls",
      "model_module_version": "1.5.0",
      "model_name": "DescriptionStyleModel",
      "state": {
       "description_width": ""
      }
     },
     "e2c444bf92024820b21dbc348e1ca5a1": {
      "model_module": "@jupyter-widgets/output",
      "model_module_version": "1.0.0",
      "model_name": "OutputModel",
      "state": {
       "layout": "IPY_MODEL_a4c8aeede2674f709c04a01e66170cad",
       "outputs": [
        {
         "data": {
          "image/png": "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\n",
          "text/plain": "<Figure size 360x360 with 1 Axes>"
         },
         "metadata": {},
         "output_type": "display_data"
        }
       ]
      }
     },
     "e2c82523db3649498a10d74e33990adc": {
      "model_module": "@jupyter-widgets/controls",
      "model_module_version": "1.5.0",
      "model_name": "IntProgressModel",
      "state": {
       "layout": "IPY_MODEL_4194e477630e40daad53f79f1e27587c",
       "max": 112,
       "style": "IPY_MODEL_be45e0149e9247bdad18760c87fe8f00",
       "value": 29
      }
     },
     "e3b3af2cfd014b058411ada9e32131e9": {
      "model_module": "@jupyter-widgets/controls",
      "model_module_version": "1.5.0",
      "model_name": "HTMLModel",
      "state": {
       "layout": "IPY_MODEL_4918dd325fdd4b05824426e83a902473",
       "style": "IPY_MODEL_c43e0a982b0443208faf0481da956728",
       "value": "<h5><b>5</b></h5>"
      }
     },
     "e3d66d25059d4abc8c9d6496191ab351": {
      "model_module": "@jupyter-widgets/controls",
      "model_module_version": "1.5.0",
      "model_name": "DescriptionStyleModel",
      "state": {
       "description_width": ""
      }
     },
     "e3e8ae3aed4e4bf5ad3a6785b2c355bc": {
      "model_module": "@jupyter-widgets/controls",
      "model_module_version": "1.5.0",
      "model_name": "DescriptionStyleModel",
      "state": {
       "description_width": ""
      }
     },
     "e40ec54d84894068ba4e5293a4a24453": {
      "model_module": "@jupyter-widgets/controls",
      "model_module_version": "1.5.0",
      "model_name": "HTMLModel",
      "state": {
       "layout": "IPY_MODEL_198a7385f35c4a6c949640511ad49beb",
       "style": "IPY_MODEL_363869d920f649ef8ede43b77d3158dd",
       "value": "<h5>0.0106</h5>"
      }
     },
     "e443aba2d4f54f0a9f3aa9a1205721dc": {
      "model_module": "@jupyter-widgets/controls",
      "model_module_version": "1.5.0",
      "model_name": "DescriptionStyleModel",
      "state": {
       "description_width": ""
      }
     },
     "e46d5ed08947446f96dd94adf10cea64": {
      "model_module": "@jupyter-widgets/controls",
      "model_module_version": "1.5.0",
      "model_name": "DescriptionStyleModel",
      "state": {
       "description_width": ""
      }
     },
     "e546ebff0c0c490491025e59cb06196f": {
      "model_module": "@jupyter-widgets/controls",
      "model_module_version": "1.5.0",
      "model_name": "HBoxModel",
      "state": {
       "children": [
        "IPY_MODEL_355815f05cc44a7ab31a061afe82465c",
        "IPY_MODEL_8fecd45eb4f041c4866c7ca42527c57b",
        "IPY_MODEL_a439cf4367df4ccaada0f66309814f07"
       ],
       "layout": "IPY_MODEL_a3c3a5fd62914c64ba823fde032bc7da"
      }
     },
     "e5481e7651274cbc815b772e0b8b6819": {
      "model_module": "@jupyter-widgets/output",
      "model_module_version": "1.0.0",
      "model_name": "OutputModel",
      "state": {
       "layout": "IPY_MODEL_ea2335dfa7164b68a4bde734719f3325",
       "outputs": [
        {
         "data": {
          "image/png": "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\n",
          "text/plain": "<Figure size 360x360 with 1 Axes>"
         },
         "metadata": {},
         "output_type": "display_data"
        }
       ]
      }
     },
     "e5895fc4109945a19e4b13efef554a01": {
      "model_module": "@jupyter-widgets/controls",
      "model_module_version": "1.5.0",
      "model_name": "DescriptionStyleModel",
      "state": {
       "description_width": ""
      }
     },
     "e5e1e0f28a6c4b17a45d9a3af965eccc": {
      "model_module": "@jupyter-widgets/base",
      "model_module_version": "1.2.0",
      "model_name": "LayoutModel",
      "state": {}
     },
     "e5e3827a47e441ae92edd8ccb7ec898f": {
      "model_module": "@jupyter-widgets/controls",
      "model_module_version": "1.5.0",
      "model_name": "DescriptionStyleModel",
      "state": {
       "description_width": ""
      }
     },
     "e61c5014c87c46f1987279d3f00b601b": {
      "model_module": "@jupyter-widgets/controls",
      "model_module_version": "1.5.0",
      "model_name": "DescriptionStyleModel",
      "state": {
       "description_width": ""
      }
     },
     "e67244e593754abb9df223311de524f6": {
      "model_module": "@jupyter-widgets/controls",
      "model_module_version": "1.5.0",
      "model_name": "LabelModel",
      "state": {
       "layout": "IPY_MODEL_87a1a70ecd66447c8028c2f9373d4c73",
       "style": "IPY_MODEL_51caa5ace8b44a2a8560cde2eddba8b3",
       "value": "50"
      }
     },
     "e683ff9c1a0940f2bf3b60eb18f5d78b": {
      "model_module": "@jupyter-widgets/base",
      "model_module_version": "1.2.0",
      "model_name": "LayoutModel",
      "state": {
       "justify_content": "center"
      }
     },
     "e68804d3bdd245c7b3d11af662f54e64": {
      "model_module": "@jupyter-widgets/controls",
      "model_module_version": "1.5.0",
      "model_name": "DescriptionStyleModel",
      "state": {
       "description_width": ""
      }
     },
     "e69c5ebdb12c43d282a4dbd7041059c9": {
      "model_module": "@jupyter-widgets/base",
      "model_module_version": "1.2.0",
      "model_name": "LayoutModel",
      "state": {
       "justify_content": "center"
      }
     },
     "e6c4ee551f18447a8a872eac0d95a8ac": {
      "model_module": "@jupyter-widgets/controls",
      "model_module_version": "1.5.0",
      "model_name": "IntProgressModel",
      "state": {
       "layout": "IPY_MODEL_d1bf264806a04131990dec56b5e04f9b",
       "max": 247,
       "style": "IPY_MODEL_730d7f238b5942bea63d9c40cb3c0680",
       "value": 100
      }
     },
     "e6e4387279d042398ca455cda97eb8c7": {
      "model_module": "@jupyter-widgets/controls",
      "model_module_version": "1.5.0",
      "model_name": "HTMLModel",
      "state": {
       "layout": "IPY_MODEL_b96e1b263ff54d258b29715e8889fc05",
       "style": "IPY_MODEL_c94edc4d1485455c91760a0d7597c188",
       "value": "<h5>Backend</h5>"
      }
     },
     "e7061d95d03c4b02a0f530a2b18b8873": {
      "model_module": "@jupyter-widgets/controls",
      "model_module_version": "1.5.0",
      "model_name": "HTMLModel",
      "state": {
       "layout": "IPY_MODEL_9abf72854f644a3ba72aaa6edd7033dd",
       "style": "IPY_MODEL_ae2085312a164bfebf5f17d3861e4ec9",
       "value": "<h2 style ='color:#ffffff; background-color:#000000;padding-top: 1%; padding-bottom: 1%;padding-left: 1%;margin-top: 0px'>Backend Overview</h2>"
      }
     },
     "e74036839501481691f9e77c6de601d9": {
      "model_module": "@jupyter-widgets/controls",
      "model_module_version": "1.5.0",
      "model_name": "HTMLModel",
      "state": {
       "layout": "IPY_MODEL_62ed3e779a6b488b8914fc108a35ef6a",
       "style": "IPY_MODEL_275ec463c45d454798e2b81cfbe393df",
       "value": "<h5 style='color:#34bc6e'>True</h5>"
      }
     },
     "e7a468dbb3924d2daa4a28b315caf5e4": {
      "model_module": "@jupyter-widgets/controls",
      "model_module_version": "1.5.0",
      "model_name": "DescriptionStyleModel",
      "state": {
       "description_width": ""
      }
     },
     "e7fcb3a580914084bd6b27e448345c83": {
      "model_module": "@jupyter-widgets/controls",
      "model_module_version": "1.5.0",
      "model_name": "DescriptionStyleModel",
      "state": {
       "description_width": ""
      }
     },
     "e845d65acee6444bbdaa7a2e4d86cd6d": {
      "model_module": "@jupyter-widgets/controls",
      "model_module_version": "1.5.0",
      "model_name": "GridBoxModel",
      "state": {
       "children": [
        "IPY_MODEL_73d2da7147ba414d894a037d46842643",
        "IPY_MODEL_691b6e3b1ada4661939403634aff26ea",
        "IPY_MODEL_c958260ec86347ac9d8c68e35a655a3e",
        "IPY_MODEL_5678e06c35884667a08505bac03a5eb9",
        "IPY_MODEL_700e3ba5c2424484ab93b6a754871552",
        "IPY_MODEL_a40c8a102d00470293c9a15c38baacb0",
        "IPY_MODEL_2f1ea9c266324323a436c8f3d97a8d6f",
        "IPY_MODEL_9adcb0b0460f4222aa6e2f8570be8bca"
       ],
       "layout": "IPY_MODEL_ccfd056598664946ac386c712d64cfcf"
      }
     },
     "e9a5637edfbc4918bce5413f916e7bd8": {
      "model_module": "@jupyter-widgets/controls",
      "model_module_version": "1.5.0",
      "model_name": "DescriptionStyleModel",
      "state": {
       "description_width": ""
      }
     },
     "e9ff6800f6a340e5bebb05db16e6e398": {
      "model_module": "@jupyter-widgets/base",
      "model_module_version": "1.2.0",
      "model_name": "LayoutModel",
      "state": {}
     },
     "ea2335dfa7164b68a4bde734719f3325": {
      "model_module": "@jupyter-widgets/base",
      "model_module_version": "1.2.0",
      "model_name": "LayoutModel",
      "state": {
       "align_items": "center",
       "justify_content": "center",
       "margin": "0px 0px 0px 0px",
       "max_height": "250px",
       "max_width": "250px",
       "min_height": "250px",
       "min_width": "250px"
      }
     },
     "ea7378e0f44f434e895c73ebe91e1213": {
      "model_module": "@jupyter-widgets/base",
      "model_module_version": "1.2.0",
      "model_name": "LayoutModel",
      "state": {
       "grid_area": "right",
       "padding": "0px 0px 0px 0px",
       "width": "70px"
      }
     },
     "ea938264939a4bc2a06700c423c33a08": {
      "model_module": "@jupyter-widgets/base",
      "model_module_version": "1.2.0",
      "model_name": "LayoutModel",
      "state": {}
     },
     "ea9b999097a2400f8ce71a1068d05816": {
      "model_module": "@jupyter-widgets/base",
      "model_module_version": "1.2.0",
      "model_name": "LayoutModel",
      "state": {
       "max_width": "180px"
      }
     },
     "eabbec53e7454d6a98177a7aab187037": {
      "model_module": "@jupyter-widgets/base",
      "model_module_version": "1.2.0",
      "model_name": "LayoutModel",
      "state": {
       "align_items": "center",
       "display": "flex-inline"
      }
     },
     "eaddc629a69b4f249c23c8569b102935": {
      "model_module": "@jupyter-widgets/controls",
      "model_module_version": "1.5.0",
      "model_name": "HTMLModel",
      "state": {
       "layout": "IPY_MODEL_e5e1e0f28a6c4b17a45d9a3af965eccc",
       "style": "IPY_MODEL_25194dadcc3d4bcd9eb7d4e6bf27b095",
       "value": "<h4>ibmq_armonk</h4>"
      }
     },
     "eae308352f70458dba056051e6f21645": {
      "model_module": "@jupyter-widgets/controls",
      "model_module_version": "1.5.0",
      "model_name": "DescriptionStyleModel",
      "state": {
       "description_width": ""
      }
     },
     "eb7ec231a11f474f8685142dc2f41ece": {
      "model_module": "@jupyter-widgets/controls",
      "model_module_version": "1.5.0",
      "model_name": "DescriptionStyleModel",
      "state": {
       "description_width": ""
      }
     },
     "ebf47f22869b4f2280329ae9fd2b1138": {
      "model_module": "@jupyter-widgets/controls",
      "model_module_version": "1.5.0",
      "model_name": "IntProgressModel",
      "state": {
       "layout": "IPY_MODEL_94f44b0abef34cd980f7160abc25ba50",
       "max": 374,
       "style": "IPY_MODEL_d75419b5237d4dc7801fee74c070abbe",
       "value": 157
      }
     },
     "ec02a7b56fd74b9ba3919166a03d2501": {
      "model_module": "@jupyter-widgets/controls",
      "model_module_version": "1.5.0",
      "model_name": "LabelModel",
      "state": {
       "layout": "IPY_MODEL_84638079c76846ac9e5cd9cf7177c970",
       "style": "IPY_MODEL_289fbe683d9e44cfad37becdb9e897ee",
       "value": "Avg. Meas. Err."
      }
     },
     "ec1e7532a4ad47069686fa250667d29a": {
      "model_module": "@jupyter-widgets/controls",
      "model_module_version": "1.5.0",
      "model_name": "HTMLModel",
      "state": {
       "layout": "IPY_MODEL_e69c5ebdb12c43d282a4dbd7041059c9",
       "style": "IPY_MODEL_375f21e374104fc88e31e0a0f880386f",
       "value": "<h5>1</h5>"
      }
     },
     "ec90c18bb76b4cb8929cbf0cbe328425": {
      "model_module": "@jupyter-widgets/base",
      "model_module_version": "1.2.0",
      "model_name": "LayoutModel",
      "state": {
       "align_items": "center",
       "display": "flex-inline",
       "grid_area": "right",
       "max_height": "325px",
       "padding": "10px 10px 10px 10px",
       "width": "auto"
      }
     },
     "ec98e841ee1842a582a2d9705d4651bb": {
      "model_module": "@jupyter-widgets/controls",
      "model_module_version": "1.5.0",
      "model_name": "LabelModel",
      "state": {
       "layout": "IPY_MODEL_1a536fa150bc4999bf1eefed5b058f71",
       "style": "IPY_MODEL_599bb5aab2d7401d95e26ae9835921cd",
       "value": "3"
      }
     },
     "ecb7792bc8ec45beb19b454f470b2ea2": {
      "model_module": "@jupyter-widgets/base",
      "model_module_version": "1.2.0",
      "model_name": "LayoutModel",
      "state": {
       "max_width": "180px"
      }
     },
     "ece59f5e937d480dbe5c80266c8b3e16": {
      "model_module": "@jupyter-widgets/controls",
      "model_module_version": "1.5.0",
      "model_name": "HTMLModel",
      "state": {
       "layout": "IPY_MODEL_f06dc9553c3c4f3fa7cb4ed764ebdb47",
       "style": "IPY_MODEL_e46d5ed08947446f96dd94adf10cea64",
       "value": "<h5 style='color:#34bc6e'>True</h5>"
      }
     },
     "ecf7fe8719964ebbb4536a4479bacf35": {
      "model_module": "@jupyter-widgets/controls",
      "model_module_version": "1.5.0",
      "model_name": "VBoxModel",
      "state": {
       "children": [
        "IPY_MODEL_7627e03af0354834a468461aeb6404e0",
        "IPY_MODEL_b3cb5b78943d481999f3ff4b3da43fac",
        "IPY_MODEL_f5d51ec226244f26991ca18f3f3ddc2b",
        "IPY_MODEL_4afeab278fc9452db518e7080922a666",
        "IPY_MODEL_66c8fa3bfb3646b9a61931733d02c4d0",
        "IPY_MODEL_6827d68b010c408fb3e01f03edf780f1",
        "IPY_MODEL_84ceebc9ae024fadae4b5b5e0d9b77ad",
        "IPY_MODEL_ec02a7b56fd74b9ba3919166a03d2501"
       ],
       "layout": "IPY_MODEL_ad9d229fd7b64210810b5d1a3ebaefee"
      }
     },
     "ed20173d7711433f92494300f508b246": {
      "model_module": "@jupyter-widgets/controls",
      "model_module_version": "1.5.0",
      "model_name": "ProgressStyleModel",
      "state": {
       "bar_color": "#71cddd",
       "description_width": ""
      }
     },
     "ed679e3cf2f348deb966d9bfb5e33eb3": {
      "model_module": "@jupyter-widgets/base",
      "model_module_version": "1.2.0",
      "model_name": "LayoutModel",
      "state": {
       "min_width": "auto"
      }
     },
     "ed8f18dc635949a695849f5470799d6e": {
      "model_module": "@jupyter-widgets/base",
      "model_module_version": "1.2.0",
      "model_name": "LayoutModel",
      "state": {
       "justify_content": "center"
      }
     },
     "ee07ff004b374a61b7d16b4f0f63f4fc": {
      "model_module": "@jupyter-widgets/controls",
      "model_module_version": "1.5.0",
      "model_name": "ProgressStyleModel",
      "state": {
       "bar_color": "#71cddd",
       "description_width": ""
      }
     },
     "ee8a48ee97614f4b920d9d3d23329edf": {
      "model_module": "@jupyter-widgets/base",
      "model_module_version": "1.2.0",
      "model_name": "LayoutModel",
      "state": {
       "min_width": "auto"
      }
     },
     "eeb4f48fbeb34229b05888d02ca1bfc4": {
      "model_module": "@jupyter-widgets/controls",
      "model_module_version": "1.5.0",
      "model_name": "HTMLModel",
      "state": {
       "layout": "IPY_MODEL_ea938264939a4bc2a06700c423c33a08",
       "style": "IPY_MODEL_3352720c7fa64dd5a0c8f375f41b6a31",
       "value": "<h5>83.1 / 75.9 us</h5>"
      }
     },
     "ef10a4e74e6a4373ae7c8bef9d938b2b": {
      "model_module": "@jupyter-widgets/base",
      "model_module_version": "1.2.0",
      "model_name": "LayoutModel",
      "state": {
       "width": "145px"
      }
     },
     "ef12ecdf175e4652b594027497cbd372": {
      "model_module": "@jupyter-widgets/base",
      "model_module_version": "1.2.0",
      "model_name": "LayoutModel",
      "state": {
       "align_items": "center",
       "display": "flex-inline",
       "min_height": "400px"
      }
     },
     "ef442ad5d3f44043bbf4efca29ec334c": {
      "model_module": "@jupyter-widgets/base",
      "model_module_version": "1.2.0",
      "model_name": "LayoutModel",
      "state": {
       "justify_content": "center"
      }
     },
     "efd5ea9f20c14434af5c231999e03a3a": {
      "model_module": "@jupyter-widgets/controls",
      "model_module_version": "1.5.0",
      "model_name": "LabelModel",
      "state": {
       "layout": "IPY_MODEL_dd42f40486f843919ac07507d8cd5538",
       "style": "IPY_MODEL_e9a5637edfbc4918bce5413f916e7bd8",
       "value": "157"
      }
     },
     "f002b5eee5af453abfe116d821fffcbd": {
      "model_module": "@jupyter-widgets/controls",
      "model_module_version": "1.5.0",
      "model_name": "DescriptionStyleModel",
      "state": {
       "description_width": ""
      }
     },
     "f00dace3a6d743fa8736427882992d44": {
      "model_module": "@jupyter-widgets/base",
      "model_module_version": "1.2.0",
      "model_name": "LayoutModel",
      "state": {
       "justify_content": "center"
      }
     },
     "f06dc9553c3c4f3fa7cb4ed764ebdb47": {
      "model_module": "@jupyter-widgets/base",
      "model_module_version": "1.2.0",
      "model_name": "LayoutModel",
      "state": {
       "justify_content": "center"
      }
     },
     "f0814579c6bc4fe5b1e5864af4d1b915": {
      "model_module": "@jupyter-widgets/controls",
      "model_module_version": "1.5.0",
      "model_name": "IntProgressModel",
      "state": {
       "layout": "IPY_MODEL_9bba981a744e456fb14983f8d6e5a147",
       "max": 50,
       "style": "IPY_MODEL_755b2103aa604c28bac94371e7aa6d0e",
       "value": 3
      }
     },
     "f22607de8f6a4806a1c78e405c8fa56b": {
      "model_module": "@jupyter-widgets/controls",
      "model_module_version": "1.5.0",
      "model_name": "TabModel",
      "state": {
       "_titles": {
        "0": "Configuration",
        "1": "Qubit Properties",
        "2": "Multi-Qubit Gates",
        "3": "Error Map",
        "4": "Job History"
       },
       "children": [
        "IPY_MODEL_5c64cbf2f577410a97dbde87451324d5",
        "IPY_MODEL_7ef14a3f40e244a18e7553a972cd6705",
        "IPY_MODEL_02dfab5a97124535b0de4eb77a810377",
        "IPY_MODEL_2c51051fe0db4587be4c8474a4134ff0",
        "IPY_MODEL_98ff513679f0410da2bbf1b68da81d60"
       ],
       "layout": "IPY_MODEL_877763410e184cd49252988a1e33e5dc"
      }
     },
     "f28e584f6b954211a2d2ed297171d5b1": {
      "model_module": "@jupyter-widgets/controls",
      "model_module_version": "1.5.0",
      "model_name": "DescriptionStyleModel",
      "state": {
       "description_width": ""
      }
     },
     "f2ac706636d449f28a9723acea624a18": {
      "model_module": "@jupyter-widgets/controls",
      "model_module_version": "1.5.0",
      "model_name": "DescriptionStyleModel",
      "state": {
       "description_width": ""
      }
     },
     "f2bebeeb38e44bd18d75a732153aaaaf": {
      "model_module": "@jupyter-widgets/base",
      "model_module_version": "1.2.0",
      "model_name": "LayoutModel",
      "state": {
       "justify_content": "center",
       "max_width": "250px",
       "min_width": "250px"
      }
     },
     "f2d5e30c841e41d19bb754b0fe9f6c14": {
      "model_module": "@jupyter-widgets/controls",
      "model_module_version": "1.5.0",
      "model_name": "HTMLModel",
      "state": {
       "layout": "IPY_MODEL_8ef09ea2c4fc417c9faa41f73555d2a1",
       "style": "IPY_MODEL_84d0e1f233dd426eb5ebb03277e7ee54",
       "value": "<font style='color:#34BC6E'>DONE</font>"
      }
     },
     "f2f2d304bd2c4e65a94163a7cb3734cc": {
      "model_module": "@jupyter-widgets/base",
      "model_module_version": "1.2.0",
      "model_name": "LayoutModel",
      "state": {}
     },
     "f31c35e72d944d56a0cb6e0dd57a2562": {
      "model_module": "@jupyter-widgets/controls",
      "model_module_version": "1.5.0",
      "model_name": "HBoxModel",
      "state": {
       "children": [
        "IPY_MODEL_dbdece8cfefa4627b316e092a87b9752",
        "IPY_MODEL_fb6eb6b34f80402f8251dbe66b4677fa",
        "IPY_MODEL_272caa2b7abc43419c91775431b0652a"
       ],
       "layout": "IPY_MODEL_ac92779afdbf428db915ec2bc36b9226"
      }
     },
     "f333924493ce4463a994cdf3fd82c5b5": {
      "model_module": "@jupyter-widgets/controls",
      "model_module_version": "1.5.0",
      "model_name": "DescriptionStyleModel",
      "state": {
       "description_width": ""
      }
     },
     "f36980b360f340cfb6bbc982e5df0993": {
      "model_module": "@jupyter-widgets/base",
      "model_module_version": "1.2.0",
      "model_name": "LayoutModel",
      "state": {
       "align_items": "center",
       "display": "inline-flex",
       "flex_flow": "column"
      }
     },
     "f438b658273046a28c8a9315b153f210": {
      "model_module": "@jupyter-widgets/base",
      "model_module_version": "1.2.0",
      "model_name": "LayoutModel",
      "state": {
       "justify_content": "center"
      }
     },
     "f4ec562425dd4b6782217feadaab546f": {
      "model_module": "@jupyter-widgets/base",
      "model_module_version": "1.2.0",
      "model_name": "LayoutModel",
      "state": {
       "justify_content": "center"
      }
     },
     "f50a4b95ab9e4232bc8beeb0097ab02b": {
      "model_module": "@jupyter-widgets/controls",
      "model_module_version": "1.5.0",
      "model_name": "DescriptionStyleModel",
      "state": {
       "description_width": ""
      }
     },
     "f56aea65962a4796be4e7b75c5671570": {
      "model_module": "@jupyter-widgets/base",
      "model_module_version": "1.2.0",
      "model_name": "LayoutModel",
      "state": {}
     },
     "f59a093a690c43c7ad3cd67ca1003303": {
      "model_module": "@jupyter-widgets/controls",
      "model_module_version": "1.5.0",
      "model_name": "DescriptionStyleModel",
      "state": {
       "description_width": ""
      }
     },
     "f5d51ec226244f26991ca18f3f3ddc2b": {
      "model_module": "@jupyter-widgets/controls",
      "model_module_version": "1.5.0",
      "model_name": "LabelModel",
      "state": {
       "layout": "IPY_MODEL_6fadf89fff80438cae04a6658bda4104",
       "style": "IPY_MODEL_a36b572089164928b8697bdafd5ca369",
       "value": "Pending Jobs"
      }
     },
     "f5f97b9f4f94452596005be8e35c230a": {
      "model_module": "@jupyter-widgets/base",
      "model_module_version": "1.2.0",
      "model_name": "LayoutModel",
      "state": {
       "min_width": "auto"
      }
     },
     "f639f7a224c7426c9ec1175d26f93a35": {
      "model_module": "@jupyter-widgets/output",
      "model_module_version": "1.0.0",
      "model_name": "OutputModel",
      "state": {
       "layout": "IPY_MODEL_5775732519e34ca39a4da3608f096ba9",
       "outputs": [
        {
         "data": {
          "image/png": "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\n",
          "text/plain": "<Figure size 360x360 with 1 Axes>"
         },
         "metadata": {},
         "output_type": "display_data"
        }
       ]
      }
     },
     "f646f0a848b64654afd97975bc843b1d": {
      "model_module": "@jupyter-widgets/controls",
      "model_module_version": "1.5.0",
      "model_name": "DescriptionStyleModel",
      "state": {
       "description_width": ""
      }
     },
     "f647817f29514a769d319c9d0d022548": {
      "model_module": "@jupyter-widgets/base",
      "model_module_version": "1.2.0",
      "model_name": "LayoutModel",
      "state": {
       "align_items": "center",
       "justify_content": "center",
       "margin": "0px 0px 0px 0px",
       "max_height": "250px",
       "max_width": "250px",
       "min_height": "250px",
       "min_width": "250px"
      }
     },
     "f72f4b4d569647cf8adf3043dcdc2386": {
      "model_module": "@jupyter-widgets/base",
      "model_module_version": "1.2.0",
      "model_name": "LayoutModel",
      "state": {
       "align_items": "center",
       "justify_content": "center",
       "margin": "0px 0px 0px 0px",
       "max_height": "250px",
       "max_width": "250px",
       "min_height": "250px",
       "min_width": "250px"
      }
     },
     "f8261b94e11040ea9f03832ba0bbdd5b": {
      "model_module": "@jupyter-widgets/controls",
      "model_module_version": "1.5.0",
      "model_name": "HTMLModel",
      "state": {
       "layout": "IPY_MODEL_a0ec4ed0826d4262a284e0a8d34bcb3f",
       "style": "IPY_MODEL_06f6c680eac74c8ba6786a50b9f36b54",
       "value": "<h5>8</h5>"
      }
     },
     "f84ffae452fb4c78b775b97808ee6e66": {
      "model_module": "@jupyter-widgets/controls",
      "model_module_version": "1.5.0",
      "model_name": "HTMLModel",
      "state": {
       "layout": "IPY_MODEL_015365d64aba4b45a2d0e31b60f98c14",
       "style": "IPY_MODEL_cd90edc5204245c2bf276f4c685d15db",
       "value": "<h5 style='color:#dc267f'>False</h5>"
      }
     },
     "f879d67dc54645228817450042679f34": {
      "model_module": "@jupyter-widgets/controls",
      "model_module_version": "1.5.0",
      "model_name": "LabelModel",
      "state": {
       "layout": "IPY_MODEL_c99c739f5c184ade99a2885e39c27d2b",
       "style": "IPY_MODEL_0ea04972acd340588dafb09b8d7b5838",
       "value": "100"
      }
     },
     "f89a642879ac42e3a6c66ade4747f3df": {
      "model_module": "@jupyter-widgets/base",
      "model_module_version": "1.2.0",
      "model_name": "LayoutModel",
      "state": {
       "justify_content": "center"
      }
     },
     "f8f47a72943f4665abfd85b7f6864d8e": {
      "model_module": "@jupyter-widgets/base",
      "model_module_version": "1.2.0",
      "model_name": "LayoutModel",
      "state": {
       "margin": "10px 0px 0px 0px"
      }
     },
     "f9251c569cd94b6c83a234113217f0e7": {
      "model_module": "@jupyter-widgets/controls",
      "model_module_version": "1.5.0",
      "model_name": "DescriptionStyleModel",
      "state": {
       "description_width": ""
      }
     },
     "f950eabe183644b4b482e3bf9a6743f8": {
      "model_module": "@jupyter-widgets/base",
      "model_module_version": "1.2.0",
      "model_name": "LayoutModel",
      "state": {
       "min_width": "auto"
      }
     },
     "fa628264277b4c9a881178cd4b6ca20d": {
      "model_module": "@jupyter-widgets/base",
      "model_module_version": "1.2.0",
      "model_name": "LayoutModel",
      "state": {
       "max_height": "620px"
      }
     },
     "fa6e8788af634f27a1a7c9b9e00fe9f8": {
      "model_module": "@jupyter-widgets/base",
      "model_module_version": "1.2.0",
      "model_name": "LayoutModel",
      "state": {
       "justify_content": "center"
      }
     },
     "fa77563754cc47d0b36e2a44720fe5f5": {
      "model_module": "@jupyter-widgets/controls",
      "model_module_version": "1.5.0",
      "model_name": "DescriptionStyleModel",
      "state": {
       "description_width": ""
      }
     },
     "fb6eb6b34f80402f8251dbe66b4677fa": {
      "model_module": "@jupyter-widgets/controls",
      "model_module_version": "1.5.0",
      "model_name": "IntProgressModel",
      "state": {
       "layout": "IPY_MODEL_7dab3bd377c44ec781b4f185efd01897",
       "max": 291,
       "style": "IPY_MODEL_9ce02f0d3ea84d49a880a90bee552719",
       "value": 3
      }
     },
     "fbc0bfe4ff7544efaec69955b19ef02e": {
      "model_module": "@jupyter-widgets/controls",
      "model_module_version": "1.5.0",
      "model_name": "DescriptionStyleModel",
      "state": {
       "description_width": ""
      }
     },
     "fbeacc5a1a0d497aa0b1cf2b43a3e1dc": {
      "model_module": "@jupyter-widgets/controls",
      "model_module_version": "1.5.0",
      "model_name": "HBoxModel",
      "state": {
       "children": [
        "IPY_MODEL_8132c6a7e8c04a48b714ca8ab990f675",
        "IPY_MODEL_c8ab5374d0c04cb397f2a35a07843da5",
        "IPY_MODEL_dea736986375442881481f69f91fcb91"
       ],
       "layout": "IPY_MODEL_99463f114c75476ebef3d3aa86c0ace9"
      }
     },
     "fd1cec4f85e845b79d51c97c0f34a2f7": {
      "model_module": "@jupyter-widgets/base",
      "model_module_version": "1.2.0",
      "model_name": "LayoutModel",
      "state": {}
     },
     "fe277ac878584a7c8094c5b6cdfd06cd": {
      "model_module": "@jupyter-widgets/base",
      "model_module_version": "1.2.0",
      "model_name": "LayoutModel",
      "state": {
       "justify_content": "center"
      }
     },
     "fe5480cf468d4f828d22fb99fbfead61": {
      "model_module": "@jupyter-widgets/base",
      "model_module_version": "1.2.0",
      "model_name": "LayoutModel",
      "state": {
       "min_width": "auto"
      }
     },
     "fe58203381734eb5a1e0b662af900b56": {
      "model_module": "@jupyter-widgets/controls",
      "model_module_version": "1.5.0",
      "model_name": "HTMLModel",
      "state": {
       "layout": "IPY_MODEL_1484329051e14bf7b618b875e244bff3",
       "style": "IPY_MODEL_77ed84f395d64e518030a39ea5f58c5d",
       "value": "-"
      }
     },
     "fe5ee8c0d1bc49bbbf2fefb8834c1194": {
      "model_module": "@jupyter-widgets/base",
      "model_module_version": "1.2.0",
      "model_name": "LayoutModel",
      "state": {
       "grid_area": "right"
      }
     },
     "fe6367a38915479c83ff39049935579e": {
      "model_module": "@jupyter-widgets/base",
      "model_module_version": "1.2.0",
      "model_name": "LayoutModel",
      "state": {
       "justify_content": "center"
      }
     },
     "fef816b30ca14c21be7df1a1afa2b6c5": {
      "model_module": "@jupyter-widgets/controls",
      "model_module_version": "1.5.0",
      "model_name": "DescriptionStyleModel",
      "state": {
       "description_width": ""
      }
     },
     "ffa3d80daa084f36aa9a8d091c02450f": {
      "model_module": "@jupyter-widgets/controls",
      "model_module_version": "1.5.0",
      "model_name": "DescriptionStyleModel",
      "state": {
       "description_width": ""
      }
     },
     "ffa75ad5c9514205bc06a7bd0c8496fa": {
      "model_module": "@jupyter-widgets/controls",
      "model_module_version": "1.5.0",
      "model_name": "DescriptionStyleModel",
      "state": {
       "description_width": ""
      }
     },
     "ffdaf18fe107414c8fd13e4bfed8e925": {
      "model_module": "@jupyter-widgets/controls",
      "model_module_version": "1.5.0",
      "model_name": "LabelModel",
      "state": {
       "layout": "IPY_MODEL_44f28d7f8cc94c2eae5de07b0957d8d0",
       "style": "IPY_MODEL_aab3f72902f940e6a72735213341188a",
       "value": "3"
      }
     },
     "fff9b3500cd940e1a9d5de46ecde2c84": {
      "model_module": "@jupyter-widgets/controls",
      "model_module_version": "1.5.0",
      "model_name": "VBoxModel",
      "state": {
       "children": [
        "IPY_MODEL_7d2ef2a88309466bb714fe484ca23a8f",
        "IPY_MODEL_82490e44fd0d4deab68e5b03518f60f9",
        "IPY_MODEL_8779e41a35ca41c7a0fbb64eb75fb118",
        "IPY_MODEL_bcdb648e56704980aec625ca5e9dfef6",
        "IPY_MODEL_e546ebff0c0c490491025e59cb06196f",
        "IPY_MODEL_bc425f30bac14d84a9e83ed5b9e89c7e",
        "IPY_MODEL_871ffb16fbea414096820c1e77d356f9",
        "IPY_MODEL_4f790dddf410469bbafcbc7bbe58e74a",
        "IPY_MODEL_df0c543055824245956712242e1c672c",
        "IPY_MODEL_cd64409c215242428febbdccb5edbbd6"
       ],
       "layout": "IPY_MODEL_127bd321af274b28aac6ee73b38ac769"
      }
     }
    },
    "version_major": 2,
    "version_minor": 0
   }
  }
 },
 "nbformat": 4,
 "nbformat_minor": 4
}
